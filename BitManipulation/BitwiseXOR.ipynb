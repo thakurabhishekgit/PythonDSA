{
 "cells": [
  {
   "cell_type": "markdown",
   "id": "6760b78a",
   "metadata": {},
   "source": [
    "| Expression                  | Result      | Why It’s Useful                   |\n",
    "| --------------------------- | ----------- | --------------------------------- |\n",
    "| `a ^ 0 = a`                 | Identity    | XOR with 0 keeps number unchanged |\n",
    "| `a ^ a = 0`                 | Self-cancel | XOR with itself becomes 0         |\n",
    "| `a ^ b = b ^ a`             | Commutative | Order doesn't matter              |\n",
    "| `(a ^ b) ^ c = a ^ (b ^ c)` | Associative | Grouping doesn't matter           |\n",
    "| `a ^ b ^ a = b`             | Magic trick | Used in many DSA problems         |\n"
   ]
  },
  {
   "cell_type": "markdown",
   "id": "b55503ea",
   "metadata": {},
   "source": [
    "| Problem                              | Level  | Concept            |\n",
    "| ------------------------------------ | ------ | ------------------ |\n",
    "| 136. Single Number                   | Easy   | Basic XOR          |\n",
    "| 268. Missing Number                  | Easy   | XOR with index     |\n",
    "| 260. Single Number III               | Medium | Divide by bit      |\n",
    "| 137. Single Number II                | Medium | Bitmask simulation |\n",
    "| 201. Bitwise AND of Range            | Medium | Bit trick          |\n",
    "| 421. Max XOR of Two Numbers in Array | Hard   | Trie + XOR         |\n",
    "| 1938. Maximum Genetic Difference     | Hard   | XOR Trie in Tree   |\n"
   ]
  },
  {
   "cell_type": "markdown",
   "id": "561ac399",
   "metadata": {},
   "source": [
    "| Use Case                            | Trick                |\n",
    "| ----------------------------------- | -------------------- |\n",
    "| Cancel out duplicates               | `a ^ a = 0`          |\n",
    "| Identity                            | `a ^ 0 = a`          |\n",
    "| Toggle a bit                        | `n ^ (1 << i)`       |\n",
    "| Swap numbers                        | XOR swap trick       |\n",
    "| One unique among pairs              | Full array XOR       |\n",
    "| Two unique among pairs              | XOR → split by 1 bit |\n",
    "| Count appearing once among triplets | Bitmask counters     |\n",
    "| XOR from 0 to n                     | Pattern of 4         |\n"
   ]
  },
  {
   "cell_type": "markdown",
   "id": "fedea0b5",
   "metadata": {},
   "source": [
    "| A | B | A ^ B |\n",
    "| - | - | ----- |\n",
    "| 0 | 0 | 0     |\n",
    "| 0 | 1 | 1     |\n",
    "| 1 | 0 | 1     |\n",
    "| 1 | 1 | 0     |\n"
   ]
  },
  {
   "cell_type": "markdown",
   "id": "e5cbf0fb",
   "metadata": {},
   "source": [
    "5 in binary: 0101\n",
    "3 in binary: 0011\n",
    "-----------------\n",
    "XOR result : 0110  (which is 6)\n"
   ]
  },
  {
   "cell_type": "code",
   "execution_count": 1,
   "id": "8ee1c409",
   "metadata": {},
   "outputs": [
    {
     "name": "stdout",
     "output_type": "stream",
     "text": [
      "4\n"
     ]
    }
   ],
   "source": [
    "arr = [2, 3, 2, 4, 3 ]\n",
    "res = 0\n",
    "for num in arr:\n",
    "    res ^= num\n",
    "\n",
    "    # print(res , num)\n",
    "print(res)  # Output: 4\n"
   ]
  },
  {
   "cell_type": "markdown",
   "id": "25d3cda9",
   "metadata": {},
   "source": [
    "| Iteration | num | res before | Operation             | res after |\n",
    "| --------- | --- | ---------- | --------------------- | --------- |\n",
    "| 1         | 2   | 0          | `0 ^ 2`               | 2         |\n",
    "| 2         | 3   | 2          | `2 ^ 3 = 0010 ^ 0011` | 1         |\n",
    "| 3         | 2   | 1          | `1 ^ 2 = 0001 ^ 0010` | 3         |\n",
    "| 4         | 4   | 3          | `3 ^ 4 = 0011 ^ 0100` | 7         |\n",
    "| 5         | 3   | 7          | `7 ^ 3 = 0111 ^ 0011` | 4 ✅       |\n"
   ]
  },
  {
   "cell_type": "code",
   "execution_count": 2,
   "id": "2fac0e8b",
   "metadata": {},
   "outputs": [
    {
     "name": "stdout",
     "output_type": "stream",
     "text": [
      "20 10\n"
     ]
    }
   ],
   "source": [
    "#swaping two numbers \n",
    "a = 10\n",
    "b = 20\n",
    "a ^= b # a = 10 ^ 20 = 30\n",
    "b ^= a # b = 30 ^ 10 = 20\n",
    "a ^= b # a = 20 ^ 30 = 10\n",
    "print(a,b)"
   ]
  },
  {
   "cell_type": "code",
   "execution_count": 3,
   "id": "956ae50c",
   "metadata": {},
   "outputs": [
    {
     "name": "stdout",
     "output_type": "stream",
     "text": [
      "1\n"
     ]
    }
   ],
   "source": [
    "def xorUpto(n):\n",
    "    if n % 4 == 0: return n\n",
    "    if n % 4 == 1: return 1\n",
    "    if n % 4 == 2: return n + 1\n",
    "    return 0\n",
    "print(xorUpto(5))"
   ]
  },
  {
   "cell_type": "markdown",
   "id": "bc96659e",
   "metadata": {},
   "source": [
    "1720. Decode XORed Array\n",
    "Solved\n",
    "Easy\n",
    "Topics\n",
    "premium lock icon\n",
    "Companies\n",
    "Hint\n",
    "There is a hidden integer array arr that consists of n non-negative integers.\n",
    "\n",
    "It was encoded into another integer array encoded of length n - 1, such that encoded[i] = arr[i] XOR arr[i + 1]. For example, if arr = [1,0,2,1], then encoded = [1,2,3].\n",
    "\n",
    "You are given the encoded array. You are also given an integer first, that is the first element of arr, i.e. arr[0].\n",
    "\n",
    "Return the original array arr. It can be proved that the answer exists and is unique.\n",
    "\n",
    " \n",
    "\n",
    "Example 1:\n",
    "\n",
    "Input: encoded = [1,2,3], first = 1\n",
    "Output: [1,0,2,1]\n",
    "Explanation: If arr = [1,0,2,1], then first = 1 and encoded = [1 XOR 0, 0 XOR 2, 2 XOR 1] = [1,2,3]\n",
    "Example 2:\n",
    "\n",
    "Input: encoded = [6,2,7,3], first = 4\n",
    "Output: [4,2,0,7,4]\n",
    " \n",
    "\n",
    "Constraints:\n",
    "\n",
    "2 <= n <= 104\n",
    "encoded.length == n - 1\n",
    "0 <= encoded[i] <= 105\n",
    "0 <= first <= 105"
   ]
  },
  {
   "cell_type": "code",
   "execution_count": 4,
   "id": "b0a25f29",
   "metadata": {},
   "outputs": [
    {
     "name": "stdout",
     "output_type": "stream",
     "text": [
      "[4, 2, 0, 7, 4]\n"
     ]
    }
   ],
   "source": [
    "encoded = [6,2,7,3]\n",
    "first = 4\n",
    "\n",
    "arr = [first]\n",
    "for i in range(len(encoded)):\n",
    "    arr.append(encoded[i] ^ arr[i])\n",
    "print(arr)\n",
    "\n",
    "\n"
   ]
  },
  {
   "cell_type": "code",
   "execution_count": 5,
   "id": "20d82906",
   "metadata": {},
   "outputs": [
    {
     "name": "stdout",
     "output_type": "stream",
     "text": [
      "[3, 5]\n"
     ]
    }
   ],
   "source": [
    "from collections import Counter\n",
    "nums = [1,2,1,3,2,5]\n",
    "hashmap = Counter(nums)\n",
    "res = []\n",
    "for key, value in hashmap.items():\n",
    "    if value == 1:\n",
    "        res.append(key)\n",
    "print(res)\n",
    "        "
   ]
  },
  {
   "cell_type": "code",
   "execution_count": 6,
   "id": "9cfdd74e",
   "metadata": {},
   "outputs": [
    {
     "name": "stdout",
     "output_type": "stream",
     "text": [
      "[3, 5]\n"
     ]
    }
   ],
   "source": [
    "# 260. Single Number III\n",
    "# Solved\n",
    "# Medium\n",
    "# Topics\n",
    "# premium lock icon\n",
    "# Companies\n",
    "# Given an integer array nums, in which exactly two elements appear only once and all the other elements appear exactly twice. Find the two elements that appear only once. You can return the answer in any order.\n",
    "\n",
    "# You must write an algorithm that runs in linear runtime complexity and uses only constant extra space.\n",
    "\n",
    " \n",
    "\n",
    "# Example 1:\n",
    "\n",
    "# Input: nums = [1,2,1,3,2,5]\n",
    "# Output: [3,5]\n",
    "# Explanation:  [5, 3] is also a valid answer.\n",
    "# Example 2:\n",
    "\n",
    "# Input: nums = [-1,0]\n",
    "# Output: [-1,0]\n",
    "# Example 3:\n",
    "\n",
    "# Input: nums = [0,1]\n",
    "# Output: [1,0]\n",
    " \n",
    "\n",
    "# Constraints:\n",
    "\n",
    "# 2 <= nums.length <= 3 * 104\n",
    "# -231 <= nums[i] <= 231 - 1\n",
    "# Each integer in nums will appear twice, only two integers will appear once.\n",
    "\n",
    "from typing import List\n",
    "class Solution:\n",
    "    def singleNumber(self, nums: List[int]) -> List[int]:\n",
    "        xor = 0\n",
    "        for num in nums:\n",
    "            xor ^= num\n",
    "        \n",
    "        # Get rightmost set bit (difference between a and b)\n",
    "        diff_bit = xor & -xor\n",
    "        \n",
    "        a = 0\n",
    "        b = 0\n",
    "        for num in nums:\n",
    "            if num & diff_bit:\n",
    "                a ^= num\n",
    "            else:\n",
    "                b ^= num\n",
    "        \n",
    "        return [a, b]\n",
    "print(Solution().singleNumber([1,2,1,3,2,5]))    \n"
   ]
  },
  {
   "cell_type": "code",
   "execution_count": 7,
   "id": "d558f7c5",
   "metadata": {},
   "outputs": [],
   "source": [
    "# 371. Sum of Two Integers\n",
    "# Solved\n",
    "# Medium\n",
    "# Topics\n",
    "# premium lock icon\n",
    "# Companies\n",
    "# Given two integers a and b, return the sum of the two integers without using the operators + and -.\n",
    "\n",
    " \n",
    "\n",
    "# Example 1:\n",
    "\n",
    "# Input: a = 1, b = 2\n",
    "# Output: 3\n",
    "# Example 2:\n",
    "\n",
    "# Input: a = 2, b = 3\n",
    "# Output: 5\n",
    "\n",
    "def getSum(a: int, b: int) -> int:\n",
    "    MASK = 0xFFFFFFFF  # 32 bits\n",
    "    MAX_INT = 0x7FFFFFFF\n",
    "\n",
    "    while b != 0:\n",
    "        # sum without carry\n",
    "        xor = (a ^ b) & MASK\n",
    "        # carry\n",
    "        carry = ((a & b) << 1) & MASK\n",
    "        a = xor\n",
    "        b = carry\n",
    "\n",
    "\n",
    "    # Handle negative numbers\n",
    "    return a if a <= MAX_INT else ~(a ^ MASK)\n",
    "\n",
    " "
   ]
  },
  {
   "cell_type": "markdown",
   "id": "0e9fc5bd",
   "metadata": {},
   "source": [
    "| Step | a (3) | b (5) | a ^ b (no carry) | a & b (carry) | (carry << 1) |\n",
    "| ---- | ----- | ----- | ---------------- | ------------- | ------------ |\n",
    "| 1    | 011   | 101   | 110              | 001           | 010          |\n",
    "| 2    | 110   | 010   | 100              | 010           | 100          |\n",
    "| 3    | 100   | 100   | 000              | 100           | 1000         |\n",
    "| 4    | 000   | 1000  | 1000             | 000           | 000          |\n"
   ]
  },
  {
   "cell_type": "code",
   "execution_count": 4,
   "id": "d79e6d3d",
   "metadata": {},
   "outputs": [
    {
     "name": "stdout",
     "output_type": "stream",
     "text": [
      "2\n",
      "2\n"
     ]
    }
   ],
   "source": [
    "# 268. Missing Number\n",
    "# Solved\n",
    "# Easy\n",
    "# Topics\n",
    "# premium lock icon\n",
    "# Companies\n",
    "# Given an array nums containing n distinct numbers in the range [0, n], return the only number in the range that is missing from the array.\n",
    "\n",
    " \n",
    "\n",
    "# Example 1:\n",
    "\n",
    "# Input: nums = [3,0,1]\n",
    "\n",
    "# Output: 2\n",
    "\n",
    "# Explanation:\n",
    "\n",
    "# n = 3 since there are 3 numbers, so all numbers are in the range [0,3]. 2 is the missing number in the range since it does not appear in nums.\n",
    "\n",
    "# Example 2:\n",
    "\n",
    "# Input: nums = [0,1]\n",
    "\n",
    "# Output: 2\n",
    "\n",
    "# Explanation:\n",
    "\n",
    "# n = 2 since there are 2 numbers, so all numbers are in the range [0,2]. 2 is the missing number in the range since it does not appear in nums.\n",
    "\n",
    "# Example 3:\n",
    "\n",
    "# Input: nums = [9,6,4,2,3,5,7,0,1]\n",
    "\n",
    "# Output: 8\n",
    "\n",
    "# Explanation:\n",
    "\n",
    "# n = 9 since there are 9 numbers, so all numbers are in the range [0,9]. 8 is the missing number in the range since it does not appear in nums.\n",
    "\n",
    "\n",
    "# math formula \n",
    "nums = [3,0,1]\n",
    "n = len(nums)\n",
    "expected = n * (n + 1) // 2\n",
    "actual = sum(nums)\n",
    "missing = expected - actual\n",
    "print(missing)\n",
    "\n",
    "\n",
    "def missingNumber(nums):\n",
    "    n = len(nums)\n",
    "    xor_all = 0\n",
    "    xor_arr = 0\n",
    "\n",
    "    for i in range(n + 1):\n",
    "        xor_all ^= i\n",
    "    for num in nums:\n",
    "        xor_arr ^= num\n",
    "\n",
    "    return xor_all ^ xor_arr\n",
    "\n",
    "print(missingNumber([0,1,]))"
   ]
  },
  {
   "cell_type": "code",
   "execution_count": 3,
   "id": "011c20a5",
   "metadata": {},
   "outputs": [
    {
     "name": "stdout",
     "output_type": "stream",
     "text": [
      "['3', '32', '324', '3242', '32424', '324241', '3242415', '2', '24', '242', '2424', '24241', '242415', '4', '42', '424', '4241', '42415', '2', '24', '241', '2415', '4', '41', '415', '1', '15', '5']\n"
     ]
    }
   ],
   "source": [
    "s = \"3242415\"\n",
    "substrings = []\n",
    "for i in range(len(s)):\n",
    "    for j in range(i + 1, len(s) + 1):\n",
    "        substrings.append(s[i:j])\n",
    "print(substrings)"
   ]
  }
 ],
 "metadata": {
  "kernelspec": {
   "display_name": "Python 3",
   "language": "python",
   "name": "python3"
  },
  "language_info": {
   "codemirror_mode": {
    "name": "ipython",
    "version": 3
   },
   "file_extension": ".py",
   "mimetype": "text/x-python",
   "name": "python",
   "nbconvert_exporter": "python",
   "pygments_lexer": "ipython3",
   "version": "3.11.5"
  }
 },
 "nbformat": 4,
 "nbformat_minor": 5
}
