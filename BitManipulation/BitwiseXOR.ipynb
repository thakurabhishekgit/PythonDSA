{
 "cells": [
  {
   "cell_type": "markdown",
   "id": "6760b78a",
   "metadata": {},
   "source": [
    "| Expression                  | Result      | Why It’s Useful                   |\n",
    "| --------------------------- | ----------- | --------------------------------- |\n",
    "| `a ^ 0 = a`                 | Identity    | XOR with 0 keeps number unchanged |\n",
    "| `a ^ a = 0`                 | Self-cancel | XOR with itself becomes 0         |\n",
    "| `a ^ b = b ^ a`             | Commutative | Order doesn't matter              |\n",
    "| `(a ^ b) ^ c = a ^ (b ^ c)` | Associative | Grouping doesn't matter           |\n",
    "| `a ^ b ^ a = b`             | Magic trick | Used in many DSA problems         |\n"
   ]
  },
  {
   "cell_type": "markdown",
   "id": "b55503ea",
   "metadata": {},
   "source": [
    "| Problem                              | Level  | Concept            |\n",
    "| ------------------------------------ | ------ | ------------------ |\n",
    "| 136. Single Number                   | Easy   | Basic XOR          |\n",
    "| 268. Missing Number                  | Easy   | XOR with index     |\n",
    "| 260. Single Number III               | Medium | Divide by bit      |\n",
    "| 137. Single Number II                | Medium | Bitmask simulation |\n",
    "| 201. Bitwise AND of Range            | Medium | Bit trick          |\n",
    "| 421. Max XOR of Two Numbers in Array | Hard   | Trie + XOR         |\n",
    "| 1938. Maximum Genetic Difference     | Hard   | XOR Trie in Tree   |\n"
   ]
  },
  {
   "cell_type": "markdown",
   "id": "561ac399",
   "metadata": {},
   "source": [
    "| Use Case                            | Trick                |\n",
    "| ----------------------------------- | -------------------- |\n",
    "| Cancel out duplicates               | `a ^ a = 0`          |\n",
    "| Identity                            | `a ^ 0 = a`          |\n",
    "| Toggle a bit                        | `n ^ (1 << i)`       |\n",
    "| Swap numbers                        | XOR swap trick       |\n",
    "| One unique among pairs              | Full array XOR       |\n",
    "| Two unique among pairs              | XOR → split by 1 bit |\n",
    "| Count appearing once among triplets | Bitmask counters     |\n",
    "| XOR from 0 to n                     | Pattern of 4         |\n"
   ]
  },
  {
   "cell_type": "markdown",
   "id": "fedea0b5",
   "metadata": {},
   "source": [
    "| A | B | A ^ B |\n",
    "| - | - | ----- |\n",
    "| 0 | 0 | 0     |\n",
    "| 0 | 1 | 1     |\n",
    "| 1 | 0 | 1     |\n",
    "| 1 | 1 | 0     |\n"
   ]
  },
  {
   "cell_type": "markdown",
   "id": "e5cbf0fb",
   "metadata": {},
   "source": [
    "5 in binary: 0101\n",
    "3 in binary: 0011\n",
    "-----------------\n",
    "XOR result : 0110  (which is 6)\n"
   ]
  },
  {
   "cell_type": "code",
   "execution_count": null,
   "id": "8ee1c409",
   "metadata": {},
   "outputs": [],
   "source": []
  }
 ],
 "metadata": {
  "kernelspec": {
   "display_name": "Python 3",
   "language": "python",
   "name": "python3"
  },
  "language_info": {
   "codemirror_mode": {
    "name": "ipython",
    "version": 3
   },
   "file_extension": ".py",
   "mimetype": "text/x-python",
   "name": "python",
   "nbconvert_exporter": "python",
   "pygments_lexer": "ipython3",
   "version": "3.11.5"
  }
 },
 "nbformat": 4,
 "nbformat_minor": 5
}
