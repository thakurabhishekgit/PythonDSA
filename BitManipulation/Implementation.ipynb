{
 "cells": [
  {
   "cell_type": "code",
   "execution_count": 6,
   "id": "6be159cb",
   "metadata": {},
   "outputs": [
    {
     "name": "stdout",
     "output_type": "stream",
     "text": [
      "8\n",
      "0\n",
      "2\n",
      "0b1001\n"
     ]
    }
   ],
   "source": [
    "def countSetBits(n):\n",
    "    count = 0\n",
    "    while n:\n",
    "        n  = n & (n-1)\n",
    "        print(n)\n",
    "        count += 1\n",
    "    return count\n",
    "\n",
    "n = 9\n",
    "print(countSetBits(n))\n",
    "print(bin(9))\n",
    "# print(bin(8) , bin(7))\n",
    "# print(8 & 7)\n"
   ]
  },
  {
   "cell_type": "code",
   "execution_count": 8,
   "id": "b61beebd",
   "metadata": {},
   "outputs": [
    {
     "name": "stdout",
     "output_type": "stream",
     "text": [
      "110\n"
     ]
    }
   ],
   "source": [
    "n = 6\n",
    "# 7 % 2 = 1\n",
    "# 3 % 2 = 1\n",
    "# 1 % 2 = 1\n",
    "res = \"\"\n",
    "while n:\n",
    "    res += str(n % 2)\n",
    "    n = n // 2\n",
    "\n",
    "print(res[::-1])\n",
    "    "
   ]
  },
  {
   "cell_type": "code",
   "execution_count": null,
   "id": "e9daefa6",
   "metadata": {},
   "outputs": [
    {
     "name": "stdout",
     "output_type": "stream",
     "text": [
      "1\n"
     ]
    }
   ],
   "source": [
    "# Input: 70 3\n",
    "# Output: 1 70 66\n",
    "# Explanation: Bit at the 3rd position from LSB is 1. (1 0 0 0 1 1 0) .The value of the given number after setting the 3rd bit is 70. The value of the given number after clearing 3rd bit is 66. (1 0 0 0 0 1 0)\n",
    "# Input: 8 1\n",
    "# Output: 0 9 8\n",
    "# Explanation: Bit at the first position from LSB is 0. (1 0 0 0)  .The value of the given number after setting the 1st bit is 9. (1 0 0 1).  The value of the given number after clearing 1st bit is 8. (1 0 0 0)\n",
    "\n",
    "# 70 = 1  0  0  0 1 1 0\n",
    "#      64 32 16 8 4 2 0\n",
    "# 8 = 1000\n",
    "# 9 = 1001\n",
    "# print(bin(70)[2:])\n",
    "# print(int('1010010',2))\n",
    "\n",
    "n = 70\n",
    "pos = 3\n",
    "bit = (n >> (pos - 1)) & 1\n",
    "set_bit = n | (1 << (pos - 1))\n",
    "clear_bit = n & ~(1 << (pos - 1))\n",
    "\n",
    "\n",
    "\n"
   ]
  },
  {
   "cell_type": "markdown",
   "id": "ff530dce",
   "metadata": {},
   "source": [
    "| Task             | Code                     |            |\n",
    "| ---------------- | ------------------------ | ---------- |\n",
    "| Get ith bit      | `(n >> i) & 1`           |            |\n",
    "| Set ith bit      | \\`n                      | (1 << i)\\` |\n",
    "| Clear ith bit    | `n & ~(1 << i)`          |            |\n",
    "| Toggle ith bit   | `n ^ (1 << i)`           |            |\n",
    "| Check power of 2 | `n > 0 and n & (n-1)==0` |            |\n",
    "| Count 1s         | `while n: n &= n-1`      |            |\n"
   ]
  },
  {
   "cell_type": "code",
   "execution_count": 6,
   "id": "bc6c4445",
   "metadata": {},
   "outputs": [
    {
     "name": "stdout",
     "output_type": "stream",
     "text": [
      "2\n"
     ]
    }
   ],
   "source": [
    "\n",
    "# 476. Number Complement\n",
    "# Solved\n",
    "# Easy\n",
    "# Topics\n",
    "# premium lock icon\n",
    "# Companies\n",
    "# The complement of an integer is the integer you get when you flip all the 0's to 1's and all the 1's to 0's in its binary representation.\n",
    "\n",
    "# For example, The integer 5 is \"101\" in binary and its complement is \"010\" which is the integer 2.\n",
    "# Given an integer num, return its complement.\n",
    "\n",
    " \n",
    "\n",
    "# Example 1:\n",
    "\n",
    "# Input: num = 5\n",
    "# Output: 2\n",
    "# Explanation: The binary representation of 5 is 101 (no leading zero bits), and its complement is 010. So you need to output 2.\n",
    "# Example 2:\n",
    "\n",
    "# Input: num = 1\n",
    "# Output: 0\n",
    "# Explanation: The binary representation of 1 is 1 (no leading zero bits), and its complement is 0. So you need to output 0.\n",
    "\n",
    "\n",
    "class Solution:\n",
    "    def findComplement(self, num: int) -> int:\n",
    "        bit_len = num.bit_length()\n",
    "        mask = (1 << bit_len) - 1\n",
    "        return num ^ mask\n",
    "\n",
    "sol = Solution()\n",
    "print(sol.findComplement(5))"
   ]
  },
  {
   "cell_type": "markdown",
   "id": "007ed440",
   "metadata": {},
   "source": [
    "| Operation        | Code                | Meaning                         |                    |\n",
    "| ---------------- | ------------------- | ------------------------------- | ------------------ |\n",
    "| Get ith bit      | `(n >> i) & 1`      | Check if ith bit is 1           |                    |\n",
    "| Set ith bit      | \\`n                 | (1 << i)\\`                      | Force ith bit to 1 |\n",
    "| Clear ith bit    | `n & ~(1 << i)`     | Force ith bit to 0              |                    |\n",
    "| Toggle ith bit   | `n ^ (1 << i)`      | Flip ith bit                    |                    |\n",
    "| Count 1s         | `while n: n &= n-1` | Fastest way to count 1s         |                    |\n",
    "| Check power of 2 | `n & (n - 1) == 0`  | Only powers of 2 have 1 set bit |                    |\n"
   ]
  }
 ],
 "metadata": {
  "kernelspec": {
   "display_name": "Python 3",
   "language": "python",
   "name": "python3"
  },
  "language_info": {
   "codemirror_mode": {
    "name": "ipython",
    "version": 3
   },
   "file_extension": ".py",
   "mimetype": "text/x-python",
   "name": "python",
   "nbconvert_exporter": "python",
   "pygments_lexer": "ipython3",
   "version": "3.11.5"
  }
 },
 "nbformat": 4,
 "nbformat_minor": 5
}
