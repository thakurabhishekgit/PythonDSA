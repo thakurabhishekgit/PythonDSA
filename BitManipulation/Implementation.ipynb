{
 "cells": [
  {
   "cell_type": "code",
   "execution_count": 6,
   "id": "6be159cb",
   "metadata": {},
   "outputs": [
    {
     "name": "stdout",
     "output_type": "stream",
     "text": [
      "8\n",
      "0\n",
      "2\n",
      "0b1001\n"
     ]
    }
   ],
   "source": [
    "def countSetBits(n):\n",
    "    count = 0\n",
    "    while n:\n",
    "        n  = n & (n-1)\n",
    "        print(n)\n",
    "        count += 1\n",
    "    return count\n",
    "\n",
    "n = 9\n",
    "print(countSetBits(n))\n",
    "print(bin(9))\n",
    "# print(bin(8) , bin(7))\n",
    "# print(8 & 7)\n"
   ]
  }
 ],
 "metadata": {
  "kernelspec": {
   "display_name": "Python 3",
   "language": "python",
   "name": "python3"
  },
  "language_info": {
   "codemirror_mode": {
    "name": "ipython",
    "version": 3
   },
   "file_extension": ".py",
   "mimetype": "text/x-python",
   "name": "python",
   "nbconvert_exporter": "python",
   "pygments_lexer": "ipython3",
   "version": "3.11.5"
  }
 },
 "nbformat": 4,
 "nbformat_minor": 5
}
