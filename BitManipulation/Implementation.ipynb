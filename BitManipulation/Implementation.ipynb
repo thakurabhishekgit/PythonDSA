{
 "cells": [
  {
   "cell_type": "code",
   "execution_count": 6,
   "id": "6be159cb",
   "metadata": {},
   "outputs": [
    {
     "name": "stdout",
     "output_type": "stream",
     "text": [
      "8\n",
      "0\n",
      "2\n",
      "0b1001\n"
     ]
    }
   ],
   "source": [
    "def countSetBits(n):\n",
    "    count = 0\n",
    "    while n:\n",
    "        n  = n & (n-1)\n",
    "        print(n)\n",
    "        count += 1\n",
    "    return count\n",
    "\n",
    "n = 9\n",
    "print(countSetBits(n))\n",
    "print(bin(9))\n",
    "# print(bin(8) , bin(7))\n",
    "# print(8 & 7)\n"
   ]
  },
  {
   "cell_type": "code",
   "execution_count": 1,
   "id": "2b7cc0de",
   "metadata": {},
   "outputs": [
    {
     "name": "stdout",
     "output_type": "stream",
     "text": [
      "\n",
      "=== Bitwise Operations on n = 70 (binary: 1000110) ===\n",
      "\n",
      "1. Get 2th bit           : (n >> i) & 1       = 1\n",
      "2. Set 2th bit to 1      : n | (1 << i)       = 70 (binary: 1000110)\n",
      "3. Clear 2th bit to 0    : n & ~(1 << i)      = 66 (binary: 1000010)\n",
      "4. Toggle 2th bit        : n ^ (1 << i)       = 66 (binary: 1000010)\n",
      "5. Is power of 2           : n & (n-1) == 0     = False\n",
      "6. Count set bits          : while n: n &= n-1  = 3\n",
      "7. Remove last set bit     : n & (n - 1)        = 68 (binary: 1000100)\n",
      "8. Get only last set bit   : n & -n             = 2 (binary: 10)\n",
      "9. Turn on lowest 0 bit    : n | (n + 1)        = 71 (binary: 1000111)\n",
      "10. Bitwise complement     : n ^ ((1<<bits)-1)  = 57 (binary: 111001)\n"
     ]
    }
   ],
   "source": [
    "def bit_operations_demo(n, i):\n",
    "    print(f\"\\n=== Bitwise Operations on n = {n} (binary: {bin(n)[2:]}) ===\\n\")\n",
    "\n",
    "    # 1. Get ith bit\n",
    "    get_bit = (n >> i) & 1\n",
    "    print(f\"1. Get {i}th bit           : (n >> i) & 1       = {get_bit}\")\n",
    "\n",
    "    # 2. Set ith bit to 1\n",
    "    set_bit = n | (1 << i)\n",
    "    print(f\"2. Set {i}th bit to 1      : n | (1 << i)       = {set_bit} (binary: {bin(set_bit)[2:]})\")\n",
    "\n",
    "    # 3. Clear ith bit (set to 0)\n",
    "    clear_bit = n & ~(1 << i)\n",
    "    print(f\"3. Clear {i}th bit to 0    : n & ~(1 << i)      = {clear_bit} (binary: {bin(clear_bit)[2:]})\")\n",
    "\n",
    "    # 4. Toggle ith bit\n",
    "    toggle_bit = n ^ (1 << i)\n",
    "    print(f\"4. Toggle {i}th bit        : n ^ (1 << i)       = {toggle_bit} (binary: {bin(toggle_bit)[2:]})\")\n",
    "\n",
    "    # 5. Check if n is power of 2 (only 1 bit set)\n",
    "    is_power_of_2 = n > 0 and (n & (n - 1)) == 0\n",
    "    print(f\"5. Is power of 2           : n & (n-1) == 0     = {is_power_of_2}\")\n",
    "\n",
    "    # 6. Count number of set bits (Brian Kernighan's algo)\n",
    "    count = 0\n",
    "    temp = n\n",
    "    while temp:\n",
    "        temp = temp & (temp - 1)\n",
    "        count += 1\n",
    "    print(f\"6. Count set bits          : while n: n &= n-1  = {count}\")\n",
    "\n",
    "    # 7. Remove the last set bit\n",
    "    remove_last = n & (n - 1)\n",
    "    print(f\"7. Remove last set bit     : n & (n - 1)        = {remove_last} (binary: {bin(remove_last)[2:]})\")\n",
    "\n",
    "    # 8. Get only the last set bit\n",
    "    last_set = n & -n\n",
    "    print(f\"8. Get only last set bit   : n & -n             = {last_set} (binary: {bin(last_set)[2:]})\")\n",
    "\n",
    "    # 9. Turn ON lowest 0 bit\n",
    "    turn_on_lowest_0 = n | (n + 1)\n",
    "    print(f\"9. Turn on lowest 0 bit    : n | (n + 1)        = {turn_on_lowest_0} (binary: {bin(turn_on_lowest_0)[2:]})\")\n",
    "\n",
    "    # 10. Complement bits in range\n",
    "    bit_len = n.bit_length()\n",
    "    mask = (1 << bit_len) - 1\n",
    "    complement = n ^ mask\n",
    "    print(f\"10. Bitwise complement     : n ^ ((1<<bits)-1)  = {complement} (binary: {bin(complement)[2:]})\")\n",
    "\n",
    "\n",
    "# Run the demo for a sample number\n",
    "bit_operations_demo(70, 2)\n"
   ]
  },
  {
   "cell_type": "markdown",
   "id": "3b1b581d",
   "metadata": {},
   "source": [
    "📌 1. Why Bit Manipulation?\n",
    "Bit manipulation uses bitwise operators to perform operations at the bit level, enabling:\n",
    "\n",
    "🔸 Constant-time operations (very fast)\n",
    "\n",
    "🔸 Space-efficient coding\n",
    "\n",
    "🔸 Solving problems related to sets, power-of-2, parity, etc\n",
    "\n",
    "\n",
    "| Operator    | Symbol | Meaning                           | Example (a=5, b=3) |     |         |\n",
    "| ----------- | ------ | --------------------------------- | ------------------ | --- | ------- |\n",
    "| AND         | `&`    | 1 if both bits are 1              | `5 & 3 = 1`        |     |         |\n",
    "| OR          | \\`     | \\`                                | 1 if any bit is 1  | \\`5 | 3 = 7\\` |\n",
    "| XOR         | `^`    | 1 if bits are different           | `5 ^ 3 = 6`        |     |         |\n",
    "| NOT         | `~`    | Flip all bits (1's comp.)         | `~5 = -6`          |     |         |\n",
    "| LEFT SHIFT  | `<<`   | Shift bits left (multiply by 2^n) | `5 << 1 = 10`      |     |         |\n",
    "| RIGHT SHIFT | `>>`   | Shift bits right (divide by 2^n)  | `5 >> 1 = 2`       |     |         |\n"
   ]
  },
  {
   "cell_type": "code",
   "execution_count": 8,
   "id": "b61beebd",
   "metadata": {},
   "outputs": [
    {
     "name": "stdout",
     "output_type": "stream",
     "text": [
      "110\n"
     ]
    }
   ],
   "source": [
    "n = 6\n",
    "# 7 % 2 = 1\n",
    "# 3 % 2 = 1\n",
    "# 1 % 2 = 1\n",
    "res = \"\"\n",
    "while n:\n",
    "    res += str(n % 2)\n",
    "    n = n // 2\n",
    "\n",
    "print(res[::-1])\n",
    "    "
   ]
  },
  {
   "cell_type": "code",
   "execution_count": null,
   "id": "e9daefa6",
   "metadata": {},
   "outputs": [
    {
     "name": "stdout",
     "output_type": "stream",
     "text": [
      "1\n"
     ]
    }
   ],
   "source": [
    "# Input: 70 3\n",
    "# Output: 1 70 66\n",
    "# Explanation: Bit at the 3rd position from LSB is 1. (1 0 0 0 1 1 0) .The value of the given number after setting the 3rd bit is 70. The value of the given number after clearing 3rd bit is 66. (1 0 0 0 0 1 0)\n",
    "# Input: 8 1\n",
    "# Output: 0 9 8\n",
    "# Explanation: Bit at the first position from LSB is 0. (1 0 0 0)  .The value of the given number after setting the 1st bit is 9. (1 0 0 1).  The value of the given number after clearing 1st bit is 8. (1 0 0 0)\n",
    "\n",
    "# 70 = 1  0  0  0 1 1 0\n",
    "#      64 32 16 8 4 2 0\n",
    "# 8 = 1000\n",
    "# 9 = 1001\n",
    "# print(bin(70)[2:])\n",
    "# print(int('1010010',2))\n",
    "\n",
    "n = 70\n",
    "pos = 3\n",
    "bit = (n >> (pos - 1)) & 1\n",
    "set_bit = n | (1 << (pos - 1))\n",
    "clear_bit = n & ~(1 << (pos - 1))\n",
    "\n",
    "\n",
    "\n"
   ]
  },
  {
   "cell_type": "markdown",
   "id": "ff530dce",
   "metadata": {},
   "source": [
    "| Task             | Code                     |            |\n",
    "| ---------------- | ------------------------ | ---------- |\n",
    "| Get ith bit      | `(n >> i) & 1`           |            |\n",
    "| Set ith bit      | \\`n                      | (1 << i)\\` |\n",
    "| Clear ith bit    | `n & ~(1 << i)`          |            |\n",
    "| Toggle ith bit   | `n ^ (1 << i)`           |            |\n",
    "| Check power of 2 | `n > 0 and n & (n-1)==0` |            |\n",
    "| Count 1s         | `while n: n &= n-1`      |            |\n"
   ]
  },
  {
   "cell_type": "code",
   "execution_count": 6,
   "id": "bc6c4445",
   "metadata": {},
   "outputs": [
    {
     "name": "stdout",
     "output_type": "stream",
     "text": [
      "2\n"
     ]
    }
   ],
   "source": [
    "\n",
    "# 476. Number Complement\n",
    "# Solved\n",
    "# Easy\n",
    "# Topics\n",
    "# premium lock icon\n",
    "# Companies\n",
    "# The complement of an integer is the integer you get when you flip all the 0's to 1's and all the 1's to 0's in its binary representation.\n",
    "\n",
    "# For example, The integer 5 is \"101\" in binary and its complement is \"010\" which is the integer 2.\n",
    "# Given an integer num, return its complement.\n",
    "\n",
    " \n",
    "\n",
    "# Example 1:\n",
    "\n",
    "# Input: num = 5\n",
    "# Output: 2\n",
    "# Explanation: The binary representation of 5 is 101 (no leading zero bits), and its complement is 010. So you need to output 2.\n",
    "# Example 2:\n",
    "\n",
    "# Input: num = 1\n",
    "# Output: 0\n",
    "# Explanation: The binary representation of 1 is 1 (no leading zero bits), and its complement is 0. So you need to output 0.\n",
    "\n",
    "\n",
    "class Solution:\n",
    "    def findComplement(self, num: int) -> int:\n",
    "        bit_len = num.bit_length()\n",
    "        mask = (1 << bit_len) - 1\n",
    "        return num ^ mask\n",
    "\n",
    "sol = Solution()\n",
    "print(sol.findComplement(5))"
   ]
  },
  {
   "cell_type": "markdown",
   "id": "6b1aa930",
   "metadata": {},
   "source": [
    "| Task                        | Shortcut                          |           |\n",
    "| --------------------------- | --------------------------------- | --------- |\n",
    "| Power of 2                  | `n > 0 and n & (n - 1) == 0`      |           |\n",
    "| Remove last set bit         | `n & (n - 1)`                     |           |\n",
    "| Get last set bit            | `n & (-n)`                        |           |\n",
    "| Turn on lowest unset bit    | \\`n                               | (n + 1)\\` |\n",
    "| Check ith bit is set        | `n & (1 << i)`                    |           |\n",
    "| Flip all bits in used range | `n ^ ((1 << n.bit_length()) - 1)` |           |\n"
   ]
  },
  {
   "cell_type": "markdown",
   "id": "007ed440",
   "metadata": {},
   "source": [
    "| Operation        | Code                | Meaning                         |                    |\n",
    "| ---------------- | ------------------- | ------------------------------- | ------------------ |\n",
    "| Get ith bit      | `(n >> i) & 1`      | Check if ith bit is 1           |                    |\n",
    "| Set ith bit      | \\`n                 | (1 << i)\\`                      | Force ith bit to 1 |\n",
    "| Clear ith bit    | `n & ~(1 << i)`     | Force ith bit to 0              |                    |\n",
    "| Toggle ith bit   | `n ^ (1 << i)`      | Flip ith bit                    |                    |\n",
    "| Count 1s         | `while n: n &= n-1` | Fastest way to count 1s         |                    |\n",
    "| Check power of 2 | `n & (n - 1) == 0`  | Only powers of 2 have 1 set bit |                    |\n"
   ]
  },
  {
   "cell_type": "markdown",
   "id": "1a8ae987",
   "metadata": {},
   "source": [
    "| Trick                             | Code                                            | Use Case                        |\n",
    "| --------------------------------- | ----------------------------------------------- | ------------------------------- |\n",
    "| **Check if number is power of 2** | `n & (n - 1) == 0`                              | Only 1 bit is set in power of 2 |\n",
    "| **Count set bits**                | `bin(n).count('1')` or `Brian Kernighan’s Algo` | Count how many bits are 1       |\n",
    "| **Remove rightmost set bit**      | `n & (n - 1)`                                   | Useful in loops                 |\n",
    "| **Get rightmost set bit**         | `n & (-n)`                                      | Isolate the last `1`            |\n",
    "| **Swap two numbers without temp** | `a ^= b; b ^= a; a ^= b`                        | Space-saving trick              |\n",
    "| **Clear LSB upto i-th bit**       | `n & (~((1 << (i+1)) - 1))`                     | Clear bits from 0 to i          |\n",
    "| **Clear MSB from i-th bit**       | `n & ((1 << i) - 1)`                            | Keep only lower i bits          |\n"
   ]
  },
  {
   "cell_type": "code",
   "execution_count": 5,
   "id": "30b26340",
   "metadata": {},
   "outputs": [
    {
     "name": "stdout",
     "output_type": "stream",
     "text": [
      "1\n",
      "70\n",
      "66\n"
     ]
    }
   ],
   "source": [
    "print((70 >> 1) & 1)\n",
    "\n",
    "print(70 | (1 << 2))\n",
    "\n",
    "print(70 & ~(1 << 2))"
   ]
  },
  {
   "cell_type": "code",
   "execution_count": 7,
   "id": "f12973e7",
   "metadata": {},
   "outputs": [
    {
     "name": "stdout",
     "output_type": "stream",
     "text": [
      "1\n"
     ]
    }
   ],
   "source": [
    "#kth bit is set or not \n",
    "n = 4\n",
    "k = 2\n",
    "print ((n >> k) & 1)"
   ]
  },
  {
   "cell_type": "markdown",
   "id": "cadeffb3",
   "metadata": {},
   "source": [
    "1000110\n",
    "0000001  ← 1 is mask for last bit\n",
    "-------\n",
    "0000000 → result is 0 → even\n",
    "\n",
    "1000111\n",
    "0000001\n",
    "-------\n",
    "0000001 → result is 1 → odd\n"
   ]
  },
  {
   "cell_type": "code",
   "execution_count": 16,
   "id": "faa8d105",
   "metadata": {},
   "outputs": [
    {
     "name": "stdout",
     "output_type": "stream",
     "text": [
      "False\n"
     ]
    }
   ],
   "source": [
    "#odd or even without using %2\n",
    "class Solution:\n",
    "    def isEven (self, n):\n",
    "        return False if (n & 1) else True\n",
    "        # code here \n",
    "print(Solution.isEven(Solution, 3))        "
   ]
  },
  {
   "cell_type": "code",
   "execution_count": 30,
   "id": "6e107a2e",
   "metadata": {},
   "outputs": [
    {
     "name": "stdout",
     "output_type": "stream",
     "text": [
      "7\n"
     ]
    }
   ],
   "source": [
    "# set right most bit to 1 \n",
    "#n = 6 The binary representation of 6 is 110. After setting right most bit it becomes 111 which is 7.\n",
    "n = 6\n",
    "print (n | n + 1)"
   ]
  },
  {
   "cell_type": "code",
   "execution_count": 32,
   "id": "20828f9e",
   "metadata": {},
   "outputs": [
    {
     "name": "stdout",
     "output_type": "stream",
     "text": [
      "2\n"
     ]
    }
   ],
   "source": [
    "# 476. Number Complement\n",
    "# Solved\n",
    "# Easy\n",
    "# Topics\n",
    "# premium lock icon\n",
    "# Companies\n",
    "# The complement of an integer is the integer you get when you flip all the 0's to 1's and all the 1's to 0's in its binary representation.\n",
    "\n",
    "# For example, The integer 5 is \"101\" in binary and its complement is \"010\" which is the integer 2.\n",
    "# Given an integer num, return its complement.\n",
    "\n",
    " \n",
    "\n",
    "# Example 1:\n",
    "\n",
    "# Input: num = 5\n",
    "# Output: 2\n",
    "# Explanation: The binary representation of 5 is 101 (no leading zero bits), and its complement is 010. So you need to output 2.\n",
    "# Example 2:\n",
    "\n",
    "# Input: num = 1\n",
    "# Output: 0\n",
    "# Explanation: The binary representation of 1 is 1 (no leading zero bits), and its complement is 0. So you need to output 0.\n",
    " \n",
    "\n",
    "num = 5\n",
    "print (num ^ (1 << num.bit_length()) - 1)"
   ]
  },
  {
   "cell_type": "code",
   "execution_count": 36,
   "id": "eba665d9",
   "metadata": {},
   "outputs": [
    {
     "name": "stdout",
     "output_type": "stream",
     "text": [
      "3\n"
     ]
    },
    {
     "data": {
      "text/plain": [
       "3"
      ]
     },
     "execution_count": 36,
     "metadata": {},
     "output_type": "execute_result"
    }
   ],
   "source": [
    "# 191. Number of 1 Bits\n",
    "# Easy\n",
    "# Topics\n",
    "# premium lock icon\n",
    "# Companies\n",
    "# Given a positive integer n, write a function that returns the number of set bits in its binary representation (also known as the Hamming weight).\n",
    "\n",
    " \n",
    "\n",
    "# Example 1:\n",
    "\n",
    "# Input: n = 11\n",
    "\n",
    "# Output: 3\n",
    "\n",
    "# Explanation:\n",
    "\n",
    "# The input binary string 1011 has a total of three set bits.\n",
    "\n",
    "# Example 2:\n",
    "\n",
    "# Input: n = 128\n",
    "\n",
    "# Output: 1\n",
    "\n",
    "# Explanation:\n",
    "\n",
    "# The input binary string 10000000 has a total of one set bit.\n",
    "\n",
    "# Example 3:\n",
    "\n",
    "# Input: n = 2147483645\n",
    "\n",
    "# Output: 30\n",
    "\n",
    "# Explanation:\n",
    "\n",
    "# The input binary string 1111111111111111111111111111101 has a total of thirty set bits.\n",
    "\n",
    " \n",
    "\n",
    "n = 11\n",
    "# 1011 ans = 0100\n",
    "print(bin(n)[2:].count('1'))\n",
    "\n",
    "# using Brian Kernighan's Algorithm\n",
    "count  = 0\n",
    "while n : \n",
    "    n &= n - 1\n",
    "    count += 1\n",
    "count \n"
   ]
  },
  {
   "cell_type": "code",
   "execution_count": 50,
   "id": "edc28dc5",
   "metadata": {},
   "outputs": [
    {
     "data": {
      "text/plain": [
       "[0, 1, 1, 2, 1, 2]"
      ]
     },
     "execution_count": 50,
     "metadata": {},
     "output_type": "execute_result"
    }
   ],
   "source": [
    "# 338. Counting Bits\n",
    "# Easy\n",
    "# Topics\n",
    "# premium lock icon\n",
    "# Companies\n",
    "# Hint\n",
    "# Given an integer n, return an array ans of length n + 1 such that for each i (0 <= i <= n), ans[i] is the number of 1's in the binary representation of i.\n",
    "\n",
    " \n",
    "\n",
    "# Example 1:\n",
    "\n",
    "# Input: n = 2\n",
    "# Output: [0,1,1]\n",
    "# Explanation:\n",
    "# 0 --> 0\n",
    "# 1 --> 1\n",
    "# 2 --> 10\n",
    "# Example 2:\n",
    "\n",
    "# Input: n = 5\n",
    "# Output: [0,1,1,2,1,2]\n",
    "# Explanation:\n",
    "# 0 --> 0\n",
    "# 1 --> 1\n",
    "# 2 --> 10\n",
    "# 3 --> 11\n",
    "# 4 --> 100\n",
    "# 5 --> 101\n",
    " \n",
    "\n",
    "# Constraints:\n",
    "\n",
    "# 0 <= n <= 105\n",
    " \n",
    "\n",
    "n = 5\n",
    "res = []\n",
    "for i in range(n + 1):\n",
    "    res.append(bin(i)[2:].count('1'))\n",
    "res    "
   ]
  },
  {
   "cell_type": "code",
   "execution_count": 3,
   "id": "3677ecc2",
   "metadata": {},
   "outputs": [
    {
     "data": {
      "text/plain": [
       "4"
      ]
     },
     "execution_count": 3,
     "metadata": {},
     "output_type": "execute_result"
    }
   ],
   "source": [
    "# Input: n = 4\n",
    "# Output: 5\n",
    "# Explanation: For numbers from 1 to 4. For 1: 0 0 1 = 1 set bits For 2: 0 1 0 = 1 set bits For 3: 0 1 1 = 2 set bits For 4: 1 0 0 = 1 set bits Therefore, the total set bits is 5.\n",
    "\n",
    "# n = 4\n",
    "# res = []\n",
    "# for i in range(n + 1):\n",
    "#     res.append(bin(i)[2:].count('1'))\n",
    "# sum(res)    \n",
    "\n",
    "n = 4\n",
    "n\n"
   ]
  },
  {
   "cell_type": "code",
   "execution_count": 1,
   "id": "05449ad8",
   "metadata": {},
   "outputs": [
    {
     "name": "stdout",
     "output_type": "stream",
     "text": [
      "964176192\n"
     ]
    }
   ],
   "source": [
    "# 190. Reverse Bits\n",
    "# Easy\n",
    "# Topics\n",
    "# premium lock icon\n",
    "# Companies\n",
    "# Reverse bits of a given 32 bits unsigned integer.\n",
    "\n",
    "# Note:\n",
    "\n",
    "# Note that in some languages, such as Java, there is no unsigned integer type. In this case, both input and output will be given as a signed integer type. They should not affect your implementation, as the integer's internal binary representation is the same, whether it is signed or unsigned.\n",
    "# In Java, the compiler represents the signed integers using 2's complement notation. Therefore, in Example 2 above, the input represents the signed integer -3 and the output represents the signed integer -1073741825.\n",
    " \n",
    "\n",
    "# Example 1:\n",
    "\n",
    "# Input: n = 00000010100101000001111010011100\n",
    "# Output:    964176192 (00111001011110000010100101000000)\n",
    "# Explanation: The input binary string 00000010100101000001111010011100 represents the unsigned integer 43261596, so return 964176192 which its binary representation is 00111001011110000010100101000000.\n",
    "# Example 2:\n",
    "\n",
    "# Input: n = 11111111111111111111111111111101\n",
    "# Output:   3221225471 (10111111111111111111111111111111)\n",
    "# Explanation: The input binary string 11111111111111111111111111111101 represents the unsigned integer 4294967293, so return 3221225471 which its binary representation is 10111111111111111111111111111111.\n",
    "\n",
    "\n",
    "\n",
    "class Solution:\n",
    "    def reverseBits(self, n: int) -> int:\n",
    "        res = 0\n",
    "        for _ in range(32):\n",
    "            last_bit = n & 1            # get last bit\n",
    "            res = (res << 1) | last_bit # shift result and add last_bit\n",
    "            n >>= 1                     # shift n right\n",
    "        return res\n",
    "\n",
    "sol = Solution()\n",
    "print(sol.reverseBits(43261596))"
   ]
  },
  {
   "cell_type": "code",
   "execution_count": 10,
   "id": "5d5d78d8",
   "metadata": {},
   "outputs": [
    {
     "name": "stdout",
     "output_type": "stream",
     "text": [
      "5\n"
     ]
    }
   ],
   "source": [
    "from collections import Counter\n",
    "s = \"213123\"\n",
    "substrings = []\n",
    "maxx = 1\n",
    "for i in range(len(s)):\n",
    "    for j in range(i + 1, len(s) + 1):\n",
    "        substrings.append(s[i:j])\n",
    "        hashmap = Counter(s[i:j])\n",
    "        for item , val in hashmap.items():\n",
    "             values = list(hashmap.values())\n",
    "             ones = values.count(1)\n",
    "             others = [v for v in values if v != 1]\n",
    "             if ones == 1 and len(set(others)) == 1:\n",
    "                maxx = max(len(s[i:j]) , maxx)\n",
    "print(maxx)\n"
   ]
  }
 ],
 "metadata": {
  "kernelspec": {
   "display_name": "Python 3",
   "language": "python",
   "name": "python3"
  },
  "language_info": {
   "codemirror_mode": {
    "name": "ipython",
    "version": 3
   },
   "file_extension": ".py",
   "mimetype": "text/x-python",
   "name": "python",
   "nbconvert_exporter": "python",
   "pygments_lexer": "ipython3",
   "version": "3.11.5"
  }
 },
 "nbformat": 4,
 "nbformat_minor": 5
}
