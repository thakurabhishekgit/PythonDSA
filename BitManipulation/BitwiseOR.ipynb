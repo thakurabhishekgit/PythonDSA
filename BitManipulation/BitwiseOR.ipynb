{
 "cells": [
  {
   "cell_type": "code",
   "execution_count": null,
   "id": "65081da6",
   "metadata": {},
   "outputs": [
    {
     "name": "stdout",
     "output_type": "stream",
     "text": [
      "2\n"
     ]
    }
   ],
   "source": [
    "# 3097. Shortest Subarray With OR at Least K II\n",
    "# Medium\n",
    "# Topics\n",
    "# premium lock icon\n",
    "# Companies\n",
    "# Hint\n",
    "# You are given an array nums of non-negative integers and an integer k.\n",
    "\n",
    "# An array is called special if the bitwise OR of all of its elements is at least k.\n",
    "\n",
    "# Return the length of the shortest special non-empty subarray of nums, or return -1 if no special subarray exists.\n",
    "\n",
    " \n",
    "\n",
    "# Example 1:\n",
    "\n",
    "# Input: nums = [1,2,3], k = 2\n",
    "\n",
    "# Output: 1\n",
    "\n",
    "# Explanation:\n",
    "\n",
    "# The subarray [3] has OR value of 3. Hence, we return 1.\n",
    "\n",
    "# Example 2:\n",
    "\n",
    "# Input: nums = [2,1,8], k = 10\n",
    "\n",
    "# Output: 3\n",
    "\n",
    "# Explanation:\n",
    "\n",
    "# The subarray [2,1,8] has OR value of 11. Hence, we return 3.\n",
    "\n",
    "# Example 3:\n",
    "\n",
    "# Input: nums = [1,2], k = 0\n",
    "\n",
    "# Output: 1\n",
    "\n",
    "# Explanation:\n",
    "\n"
   ]
  }
 ],
 "metadata": {
  "kernelspec": {
   "display_name": "Python 3",
   "language": "python",
   "name": "python3"
  },
  "language_info": {
   "codemirror_mode": {
    "name": "ipython",
    "version": 3
   },
   "file_extension": ".py",
   "mimetype": "text/x-python",
   "name": "python",
   "nbconvert_exporter": "python",
   "pygments_lexer": "ipython3",
   "version": "3.11.5"
  }
 },
 "nbformat": 4,
 "nbformat_minor": 5
}
