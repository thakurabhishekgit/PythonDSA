{
 "cells": [
  {
   "cell_type": "code",
   "execution_count": null,
   "id": "65081da6",
   "metadata": {},
   "outputs": [],
   "source": [
    "print(3 | 3)"
   ]
  }
 ],
 "metadata": {
  "kernelspec": {
   "display_name": "Python 3",
   "language": "python",
   "name": "python3"
  },
  "language_info": {
   "name": "python",
   "version": "3.11.5"
  }
 },
 "nbformat": 4,
 "nbformat_minor": 5
}
