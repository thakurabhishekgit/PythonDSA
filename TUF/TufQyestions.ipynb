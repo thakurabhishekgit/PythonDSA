{
 "cells": [
  {
   "cell_type": "code",
   "execution_count": 2,
   "id": "875d341f",
   "metadata": {},
   "outputs": [
    {
     "name": "stdout",
     "output_type": "stream",
     "text": [
      "2\n"
     ]
    }
   ],
   "source": [
    "\n",
    "from collections import Counter\n",
    "nums = [2,2,1,1,1,2,2]\n",
    "hash = Counter(nums)\n",
    "for key, value in hash.items():\n",
    "    if value > len(nums) // 2:\n",
    "        print(key)\n",
    "        break"
   ]
  },
  {
   "cell_type": "code",
   "execution_count": null,
   "id": "9ad2d63d",
   "metadata": {},
   "outputs": [],
   "source": [
    "class Solution:\n",
    "    def maxSubArray(self, nums: List[int]) -> int:\n",
    "        sum = 0\n",
    "        maxx = nums[0]\n",
    "        for i in nums:\n",
    "            if sum < 0:\n",
    "                sum = 0\n",
    "            sum += i\n",
    "            maxx = max(sum , maxx)\n",
    "        return maxx    "
   ]
  },
  {
   "cell_type": "code",
   "execution_count": null,
   "id": "3e429c10",
   "metadata": {},
   "outputs": [
    {
     "name": "stdout",
     "output_type": "stream",
     "text": [
      "[3, -2, 1, -5, 2, -4]\n"
     ]
    }
   ],
   "source": [
    "nums = [3,1,-2,-5,2,-4]\n",
    "positive = [num for num in nums if num > 0]\n",
    "negative = [num for num in nums if num < 0]\n",
    "res = []\n",
    "for i in range(len(nums) // 2):\n",
    "    res.append(positive[i])\n",
    "    res.append(negative[i])\n",
    "print(res)\n"
   ]
  },
  {
   "cell_type": "code",
   "execution_count": 15,
   "id": "9c85e2c7",
   "metadata": {},
   "outputs": [
    {
     "name": "stdout",
     "output_type": "stream",
     "text": [
      "[-1, 0, 1, 3, 4, 5, 6, 7, 8, 9]\n",
      "9\n"
     ]
    }
   ],
   "source": [
    "num = [9,1,4,7,3,-1,0,5,8,-1,6]\n",
    "uq = set(num)\n",
    "nums = []\n",
    "for i in uq:\n",
    "    nums.append(i)\n",
    "nums.sort()\n",
    "print(nums)\n",
    "masSeq = 0\n",
    "for i in range(len(nums) - 1):\n",
    "    if nums[i + 1] - nums[i] == 1:\n",
    "        masSeq += 1\n",
    "\n",
    "print(masSeq + 1)  # +1 to include the first element of the sequence"
   ]
  },
  {
   "cell_type": "code",
   "execution_count": 12,
   "id": "af0bc068",
   "metadata": {},
   "outputs": [
    {
     "name": "stdout",
     "output_type": "stream",
     "text": [
      "1\n"
     ]
    }
   ],
   "source": [
    "print(abs(-1))"
   ]
  }
 ],
 "metadata": {
  "kernelspec": {
   "display_name": "Python 3",
   "language": "python",
   "name": "python3"
  },
  "language_info": {
   "codemirror_mode": {
    "name": "ipython",
    "version": 3
   },
   "file_extension": ".py",
   "mimetype": "text/x-python",
   "name": "python",
   "nbconvert_exporter": "python",
   "pygments_lexer": "ipython3",
   "version": "3.11.5"
  }
 },
 "nbformat": 4,
 "nbformat_minor": 5
}
