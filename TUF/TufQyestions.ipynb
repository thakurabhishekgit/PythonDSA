{
 "cells": [
  {
   "cell_type": "code",
   "execution_count": 2,
   "id": "875d341f",
   "metadata": {},
   "outputs": [
    {
     "name": "stdout",
     "output_type": "stream",
     "text": [
      "2\n"
     ]
    }
   ],
   "source": [
    "\n",
    "from collections import Counter\n",
    "nums = [2,2,1,1,1,2,2]\n",
    "hash = Counter(nums)\n",
    "for key, value in hash.items():\n",
    "    if value > len(nums) // 2:\n",
    "        print(key)\n",
    "        break"
   ]
  }
 ],
 "metadata": {
  "kernelspec": {
   "display_name": "Python 3",
   "language": "python",
   "name": "python3"
  },
  "language_info": {
   "codemirror_mode": {
    "name": "ipython",
    "version": 3
   },
   "file_extension": ".py",
   "mimetype": "text/x-python",
   "name": "python",
   "nbconvert_exporter": "python",
   "pygments_lexer": "ipython3",
   "version": "3.11.5"
  }
 },
 "nbformat": 4,
 "nbformat_minor": 5
}
