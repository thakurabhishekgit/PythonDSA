{
 "cells": [
  {
   "cell_type": "code",
   "execution_count": 3,
   "id": "875d341f",
   "metadata": {},
   "outputs": [
    {
     "name": "stdout",
     "output_type": "stream",
     "text": [
      "2\n"
     ]
    }
   ],
   "source": [
    "\n",
    "from collections import Counter\n",
    "nums = [2,2,1,1,1,2,2]\n",
    "hash = Counter(nums)\n",
    "for key, value in hash.items():\n",
    "    if value > len(nums) // 2:\n",
    "        print(key)\n",
    "        break"
   ]
  },
  {
   "cell_type": "code",
   "execution_count": 4,
   "id": "9ad2d63d",
   "metadata": {},
   "outputs": [
    {
     "name": "stdout",
     "output_type": "stream",
     "text": [
      "6\n",
      "1\n",
      "23\n"
     ]
    }
   ],
   "source": [
    "from typing import List\n",
    "\n",
    "\n",
    "class Solution:\n",
    "    def maxSubArray(self, nums: List[int]) -> int:\n",
    "        sum = 0\n",
    "        maxx = nums[0]\n",
    "        for i in nums:\n",
    "            if sum < 0:\n",
    "                sum = 0\n",
    "            sum += i\n",
    "            maxx = max(sum , maxx)\n",
    "        return maxx    \n",
    "    \n",
    "if __name__ == \"__main__\":\n",
    "    solution = Solution()\n",
    "    print(solution.maxSubArray([-2,1,-3,4,-1,2,1,-5,4]))\n",
    "    print(solution.maxSubArray([1]))\n",
    "    print(solution.maxSubArray([5,4,-1,7,8]))"
   ]
  },
  {
   "cell_type": "code",
   "execution_count": 5,
   "id": "3e429c10",
   "metadata": {},
   "outputs": [
    {
     "name": "stdout",
     "output_type": "stream",
     "text": [
      "[3, -2, 1, -5, 2, -4]\n"
     ]
    }
   ],
   "source": [
    "nums = [3,1,-2,-5,2,-4]\n",
    "positive = [num for num in nums if num > 0]\n",
    "negative = [num for num in nums if num < 0]\n",
    "res = []\n",
    "for i in range(len(nums) // 2):\n",
    "    res.append(positive[i])\n",
    "    res.append(negative[i])\n",
    "print(res)\n"
   ]
  },
  {
   "cell_type": "code",
   "execution_count": 6,
   "id": "9c85e2c7",
   "metadata": {},
   "outputs": [
    {
     "name": "stdout",
     "output_type": "stream",
     "text": [
      "[-1, 0, 1, 3, 4, 5, 6, 7, 8, 9]\n",
      "9\n"
     ]
    }
   ],
   "source": [
    "num = [9,1,4,7,3,-1,0,5,8,-1,6]\n",
    "uq = set(num)\n",
    "nums = []\n",
    "for i in uq:\n",
    "    nums.append(i)\n",
    "nums.sort()\n",
    "print(nums)\n",
    "masSeq = 0\n",
    "for i in range(len(nums) - 1):\n",
    "    if nums[i + 1] - nums[i] == 1:\n",
    "        masSeq += 1\n",
    "\n",
    "print(masSeq + 1)  # +1 to include the first element of the sequence"
   ]
  },
  {
   "cell_type": "code",
   "execution_count": null,
   "id": "af0bc068",
   "metadata": {},
   "outputs": [],
   "source": [
    "s = \"babad\"\n",
    "def longest_palindrome(s: str) -> str:\n",
    "    def expand_around_center(left: int, right: int) -> str:\n",
    "        while left >= 0 and right < len(s) and s[left] == s[right]:\n",
    "            left -= 1\n",
    "            right += 1\n",
    "        return s[left + 1:right]\n",
    "\n",
    "    longest = \"\"\n",
    "    for i in range(len(s)):\n",
    "        # Odd length palindromes\n",
    "        odd_palindrome = expand_around_center(i, i)\n",
    "        if len(odd_palindrome) > len(longest):\n",
    "            longest = odd_palindrome\n",
    "        # Even length palindromes\n",
    "        even_palindrome = expand_around_center(i, i + 1)\n",
    "        if len(even_palindrome) > len(longest):\n",
    "            longest = even_palindrome\n",
    "\n",
    "    return longest"
   ]
  },
  {
   "cell_type": "code",
   "execution_count": null,
   "id": "04a01d0c",
   "metadata": {},
   "outputs": [
    {
     "name": "stdout",
     "output_type": "stream",
     "text": [
      "a\n",
      "['', 'a', '', 'b', '']\n"
     ]
    }
   ],
   "source": []
  }
 ],
 "metadata": {
  "kernelspec": {
   "display_name": "Python 3",
   "language": "python",
   "name": "python3"
  },
  "language_info": {
   "codemirror_mode": {
    "name": "ipython",
    "version": 3
   },
   "file_extension": ".py",
   "mimetype": "text/x-python",
   "name": "python",
   "nbconvert_exporter": "python",
   "pygments_lexer": "ipython3",
   "version": "3.11.5"
  }
 },
 "nbformat": 4,
 "nbformat_minor": 5
}
