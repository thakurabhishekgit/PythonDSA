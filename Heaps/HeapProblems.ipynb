{
 "cells": [
  {
   "cell_type": "code",
   "execution_count": 7,
   "id": "c7d0c3ad",
   "metadata": {},
   "outputs": [
    {
     "name": "stdout",
     "output_type": "stream",
     "text": [
      "24\n",
      "[-16, -5, -8, -4, -2, -2, -6]\n"
     ]
    }
   ],
   "source": [
    "# Implementation of Priority Queue using Binary Heap\n",
    "# Difficulty: EasyAccuracy: 67.41%Submissions: 16K+Points: 2Average Time: 30m\n",
    "# Given a binary heap implementation of Priority Queue. Extract the maximum element from the queue i.e. remove it from the Queue and return it's value. \n",
    "\n",
    "# Examples :\n",
    "\n",
    "# Input: 4 2 8 16 24 2 6 5\n",
    "# Output: 24\n",
    "# Priority Queue after extracting maximum: 16 8 6 5 2 2 4\n",
    "# Input: 64 12 8 48 5\n",
    "# Output: 64\n",
    "# Priority Queue after extracting maximum: 48 12 8 5\n",
    "\n",
    "import heapq\n",
    "nums = [4 ,2 ,8, 16, 24, 2, 6, 5]\n",
    "for i in range(len(nums)):\n",
    "    nums[i] = -nums[i]  \n",
    "heapq.heapify(nums) \n",
    "\n",
    "print(-heapq.heappop(nums))\n",
    "print(nums) "
   ]
  },
  {
   "cell_type": "code",
   "execution_count": 14,
   "id": "2eda42b5",
   "metadata": {},
   "outputs": [
    {
     "data": {
      "text/plain": [
       "[1, 3, 4, 7, 9]"
      ]
     },
     "execution_count": 14,
     "metadata": {},
     "output_type": "execute_result"
    }
   ],
   "source": [
    "arr = [4, 1, 3, 9, 7]\n",
    "heapq.heapify(arr)\n",
    "sorted_arr = []\n",
    "while arr:\n",
    "    sorted_arr.append(heapq.heappop(arr))\n",
    "sorted_arr    "
   ]
  },
  {
   "cell_type": "markdown",
   "id": "af967faa",
   "metadata": {},
   "source": [
    "506. Relative Ranks\n",
    "Easy\n",
    "Topics\n",
    "premium lock icon\n",
    "Companies\n",
    "You are given an integer array score of size n, where score[i] is the score of the ith athlete in a competition. All the scores are guaranteed to be unique.\n",
    "\n",
    "The athletes are placed based on their scores, where the 1st place athlete has the highest score, the 2nd place athlete has the 2nd highest score, and so on. The placement of each athlete determines their rank:\n",
    "\n",
    "The 1st place athlete's rank is \"Gold Medal\".\n",
    "The 2nd place athlete's rank is \"Silver Medal\".\n",
    "The 3rd place athlete's rank is \"Bronze Medal\".\n",
    "For the 4th place to the nth place athlete, their rank is their placement number (i.e., the xth place athlete's rank is \"x\").\n",
    "Return an array answer of size n where answer[i] is the rank of the ith athlete.\n",
    "\n",
    " \n",
    "\n",
    "Example 1:\n",
    "\n",
    "Input: score = [5,4,3,2,1]\n",
    "Output: [\"Gold Medal\",\"Silver Medal\",\"Bronze Medal\",\"4\",\"5\"]\n",
    "Explanation: The placements are [1st, 2nd, 3rd, 4th, 5th].\n",
    "Example 2:\n",
    "\n",
    "Input: score = [10,3,8,9,4]\n",
    "Output: [\"Gold Medal\",\"5\",\"Bronze Medal\",\"Silver Medal\",\"4\"]\n",
    "Explanation: The placements are [1st, 5th, 3rd, 2nd, 4th].\n",
    "\n",
    " \n",
    "\n",
    "Constraints:\n",
    "\n",
    "n == score.length\n",
    "1 <= n <= 104\n",
    "0 <= score[i] <= 106\n",
    "All the values in score are unique.\n"
   ]
  },
  {
   "cell_type": "code",
   "execution_count": null,
   "id": "c964ddf0",
   "metadata": {},
   "outputs": [
    {
     "name": "stdout",
     "output_type": "stream",
     "text": [
      "[(-10, 0), (-9, 3), (-8, 2), (-3, 1), (-4, 4)]\n",
      "['Gold Medal', '5', 'Bronze Medal', 'Silver Medal', '4']\n"
     ]
    }
   ],
   "source": [
    "class Solution:\n",
    "    def findRelativeRanks(self, score: List[int]) -> List[str]:\n",
    "        n = len(score)\n",
    "        result = [\"\"] * n\n",
    "        max_heap = []\n",
    "\n",
    "        for i, s in enumerate(score):\n",
    "            heapq.heappush(max_heap, (-s, i))\n",
    "        print(max_heap)    \n",
    "        rank = 1\n",
    "        while max_heap:\n",
    "            s, idx = heapq.heappop(max_heap)\n",
    "            if rank == 1:\n",
    "                result[idx] = \"Gold Medal\"\n",
    "            elif rank == 2:\n",
    "                result[idx] = \"Silver Medal\"\n",
    "            elif rank == 3:\n",
    "                result[idx] = \"Bronze Medal\"\n",
    "            else:\n",
    "                result[idx] = str(rank)\n",
    "            rank += 1\n",
    "        return result    \n",
    "    \n",
    "s = Solution()\n",
    "scores = [5, 4, 3, 2, 1]\n",
    "print(s.findRelativeRanks(scores))    "
   ]
  },
  {
   "cell_type": "code",
   "execution_count": null,
   "id": "1a61d62e",
   "metadata": {},
   "outputs": [
    {
     "name": "stdout",
     "output_type": "stream",
     "text": [
      "3\n"
     ]
    }
   ],
   "source": [
    "import math\n",
    "\n",
    "\n",
    "gifts = [25, 64, 9, 4, 100]\n",
    "k = 4\n",
    "# [25, 64, 9, 4, 10]\n",
    "# [25, 8, 9, 4, 10]\n",
    "# [5, 8, 9, 4, 10]\n",
    "# [5, 8, 9, 4, 3]\n",
    "# print(round(math.sqrt(10) ))\n",
    "for i in range(len(gifts)):\n",
    "    while k:\n",
    "        heapq.heapify(gifts)"
   ]
  },
  {
   "cell_type": "markdown",
   "id": "f0eff581",
   "metadata": {},
   "source": [
    "2558. Take Gifts From the Richest Pile\n",
    "Solved\n",
    "Easy\n",
    "Topics\n",
    "premium lock icon\n",
    "Companies\n",
    "Hint\n",
    "You are given an integer array gifts denoting the number of gifts in various piles. Every second, you do the following:\n",
    "\n",
    "Choose the pile with the maximum number of gifts.\n",
    "If there is more than one pile with the maximum number of gifts, choose any.\n",
    "Reduce the number of gifts in the pile to the floor of the square root of the original number of gifts in the pile.\n",
    "Return the number of gifts remaining after k seconds.\n",
    "\n",
    " \n",
    "\n",
    "Example 1:\n",
    "\n",
    "Input: gifts = [25,64,9,4,100], k = 4\n",
    "Output: 29\n",
    "Explanation: \n",
    "The gifts are taken in the following way:\n",
    "- In the first second, the last pile is chosen and 10 gifts are left behind.\n",
    "- Then the second pile is chosen and 8 gifts are left behind.\n",
    "- After that the first pile is chosen and 5 gifts are left behind.\n",
    "- Finally, the last pile is chosen again and 3 gifts are left behind.\n",
    "The final remaining gifts are [5,8,9,4,3], so the total number of gifts remaining is 29.\n",
    "Example 2:\n",
    "\n",
    "Input: gifts = [1,1,1,1], k = 4\n",
    "Output: 4\n",
    "Explanation: \n",
    "In this case, regardless which pile you choose, you have to leave behind 1 gift in each pile. \n",
    "That is, you can't take any pile with you. \n",
    "So, the total gifts remaining are 4."
   ]
  },
  {
   "cell_type": "code",
   "execution_count": null,
   "id": "eb33ec2a",
   "metadata": {},
   "outputs": [
    {
     "name": "stdout",
     "output_type": "stream",
     "text": [
      "Remaining gifts: 29\n"
     ]
    }
   ],
   "source": [
    "class Solution:\n",
    "    def pickGifts(self, gifts: List[int], k: int) -> int:\n",
    "        max_heap = [-x for x in gifts]\n",
    "        heapq.heapify(max_heap)\n",
    "        for _ in range(k):\n",
    "            max_gift = -heapq.heappop(max_heap) \n",
    "            new_gift = math.isqrt(max_gift)      \n",
    "            heapq.heappush(max_heap, -new_gift) \n",
    "        remaining = -sum(max_heap)\n",
    "        return remaining \n",
    "s = Solution()\n",
    "gifts = [25, 64, 9, 4, 100]"
   ]
  },
  {
   "cell_type": "markdown",
   "id": "ca1c00b5",
   "metadata": {},
   "source": [
    "347. Top K Frequent Elements\n",
    "Attempted\n",
    "Medium\n",
    "Topics\n",
    "premium lock icon\n",
    "Companies\n",
    "Given an integer array nums and an integer k, return the k most frequent elements. You may return the answer in any order.\n",
    "\n",
    " \n",
    "\n",
    "Example 1:\n",
    "\n",
    "Input: nums = [1,1,1,2,2,3], k = 2\n",
    "Output: [1,2]\n",
    "Example 2:\n",
    "\n",
    "Input: nums = [1], k = 1\n",
    "Output: [1]"
   ]
  },
  {
   "cell_type": "code",
   "execution_count": null,
   "id": "79c8955b",
   "metadata": {},
   "outputs": [
    {
     "name": "stdout",
     "output_type": "stream",
     "text": [
      "[1, 2]\n"
     ]
    }
   ],
   "source": [
    "#hashmap method to find k most frequent elements\n",
    "from collections import Counter\n",
    "nums = [1,1,1,2,2,3]\n",
    "k = 2\n",
    "hash = Counter(nums)\n",
    "res = []\n",
    "while k:\n",
    "    max_key = max(hash, key=hash.get)\n",
    "    res.append(max_key)\n",
    "    del hash[max_key]\n",
    "    k -= 1\n",
    "print(res)"
   ]
  },
  {
   "cell_type": "code",
   "execution_count": null,
   "id": "34026177",
   "metadata": {},
   "outputs": [
    {
     "name": "stdout",
     "output_type": "stream",
     "text": [
      "[(-3, 1), (-2, 2), (-1, 3)]\n",
      "[1, 2]\n"
     ]
    }
   ],
   "source": [
    "#using maxheap and hashmap to find k most frequent elements\n",
    "\n",
    "from collections import Counter\n",
    "import heapq\n",
    "nums = [1,1,1,2,2,3]\n",
    "k = 2\n",
    "hash = Counter(nums)\n",
    "max_heap = [(-count, num) for num, count in hash.items()]\n",
    "res = []\n",
    "heapq.heapify(max_heap)\n",
    "print(max_heap)\n",
    "while k:\n",
    "    count, num = heapq.heappop(max_heap)\n",
    "    res.append(num)\n",
    "    k -= 1\n",
    "print(res)"
   ]
  },
  {
   "cell_type": "code",
   "execution_count": 24,
   "id": "73643d85",
   "metadata": {},
   "outputs": [
    {
     "name": "stdout",
     "output_type": "stream",
     "text": [
      "5\n"
     ]
    }
   ],
   "source": [
    "from typing import List\n",
    "\n",
    "\n",
    "class Solution:\n",
    "    def findKthLargest(self, nums: List[int], k: int) -> int:\n",
    "        min_heap = []\n",
    "    \n",
    "        for num in nums:\n",
    "            heapq.heappush(min_heap, num)\n",
    "            if len(min_heap) > k:\n",
    "                heapq.heappop(min_heap)\n",
    "        \n",
    "        return min_heap[0]\n",
    "\n",
    "s = Solution()\n",
    "nums = [3, 2, 1, 5, 6, 4]\n",
    "k = 2\n",
    "print(s.findKthLargest(nums, k))  # Output: 5            "
   ]
  },
  {
   "cell_type": "code",
   "execution_count": null,
   "id": "183c67da",
   "metadata": {},
   "outputs": [
    {
     "name": "stdout",
     "output_type": "stream",
     "text": [
      "[-1, 3, 4]\n"
     ]
    }
   ],
   "source": [
    "class Solution:\n",
    "    def maxSubsequence(self, nums: List[int], k: int) -> List[int]:\n",
    "        temp = []\n",
    "        for i in range(len(nums)):\n",
    "            temp.append((nums[i], i))\n",
    "        temp.sort(reverse=True)  # Sorts by first element (value) by default\n",
    "        top_k = temp[:k]\n",
    "        top_k.sort(key=lambda x: x[1])  # This one line uses lambda (needed to sort by index)\n",
    "        result = []\n",
    "        for item in top_k:\n",
    "            result.append(item[0])\n",
    "        \n",
    "        return result\n"
   ]
  },
  {
   "cell_type": "code",
   "execution_count": 4,
   "id": "fb973526",
   "metadata": {},
   "outputs": [
    {
     "name": "stdout",
     "output_type": "stream",
     "text": [
      "Counter({'i': 2, 'love': 2, 'leetcode': 1, 'coding': 1})\n",
      "[(-2, 'i'), (-2, 'love'), (-1, 'leetcode'), (-1, 'coding')]\n",
      "2 i\n",
      "2 love\n",
      "['i', 'love']\n"
     ]
    }
   ],
   "source": [
    "from collections import Counter\n",
    "import heapq\n",
    "from typing import List\n",
    "words = [\"i\",\"love\",\"leetcode\",\"i\",\"love\",\"coding\"]\n",
    "k = 2\n",
    "class Solution:\n",
    "    def topKFrequent(self, words: List[str], k: int) -> List[str]:\n",
    "        count = Counter(words)\n",
    "        print(count)\n",
    "        max_heap = [(-freq, word) for word, freq in count.items()]\n",
    "        heapq.heapify(max_heap)\n",
    "        print(max_heap)\n",
    "        result = []\n",
    "        while k > 0:\n",
    "            freq, word = heapq.heappop(max_heap)\n",
    "            freq,c = count[word], word\n",
    "            print(freq, c)\n",
    "            result.append(word)\n",
    "            k -= 1\n",
    "        \n",
    "        return result\n",
    "s = Solution()\n",
    "print(s.topKFrequent(words, k))  # Output: ['i', 'love"
   ]
  },
  {
   "cell_type": "code",
   "execution_count": null,
   "id": "048bde48",
   "metadata": {},
   "outputs": [
    {
     "data": {
      "text/plain": [
       "['i', 'love']"
      ]
     },
     "execution_count": 13,
     "metadata": {},
     "output_type": "execute_result"
    }
   ],
   "source": [
    "from collections import Counter\n",
    "\n",
    "words = [\"i\",\"love\",\"leetcode\",\"i\",\"love\",\"coding\"]\n",
    "k= 2\n",
    "\n",
    "count = Counter(words)\n",
    "res = []\n",
    "while k:\n",
    "    max_key = max(count, key=count.get)\n",
    "    res.append(max_key)\n",
    "    del count[max_key]\n",
    "    k -= 1\n",
    "res\n"
   ]
  },
  {
   "cell_type": "code",
   "execution_count": null,
   "id": "120ec5fd",
   "metadata": {},
   "outputs": [
    {
     "name": "stdout",
     "output_type": "stream",
     "text": [
      "[1, 2, 3, 4]\n"
     ]
    }
   ],
   "source": [
    "import heapq\n",
    "\n",
    "class Solution:\n",
    "    def findClosestElements(self, arr: List[int], k: int, x: int) -> List[int]:\n",
    "        max_heap = []\n",
    "\n",
    "        for num in arr:\n",
    "            dist = abs(num - x)\n",
    "            heapq.heappush(max_heap, (-dist, -num))  # max heap with (distance, value)\n",
    "            if len(max_heap) > k:\n",
    "                heapq.heappop(max_heap)\n",
    "        result = [-num for dist, num in max_heap]\n",
    "        result.sort()\n",
    "        return result\n",
    "\n",
    "s = Solution()\n",
    "arr = [1, 2, 3, 4, 5]\n",
    "k = 4\n",
    "x = 3\n",
    "print(s.findClosestElements(arr, k, x))"
   ]
  },
  {
   "cell_type": "code",
   "execution_count": null,
   "id": "1267726f",
   "metadata": {},
   "outputs": [
    {
     "name": "stdout",
     "output_type": "stream",
     "text": [
      "2\n"
     ]
    }
   ],
   "source": [
    "class Solution:\n",
    "    def kthLargestNumber(self, nums: List[str], k: int) -> str:\n",
    "        max_heap = []\n",
    "        for num in nums:\n",
    "            heapq.heappush(max_heap, (-int(num), num))\n",
    "        max_heap.sort()\n",
    "        print(max_heap[k-1])\n",
    "        return str(-max_heap[k-1][0])\n",
    "        "
   ]
  },
  {
   "cell_type": "code",
   "execution_count": null,
   "id": "9346ec7f",
   "metadata": {},
   "outputs": [],
   "source": [
    "class Solution:\n",
    "    def kthLargestNumber(self, nums: List[str], k: int) -> str:\n",
    "        nums.sort(key=int,reverse=True)\n",
    "        return nums[k-1]\n",
    "        "
   ]
  },
  {
   "cell_type": "code",
   "execution_count": null,
   "id": "4b9b21fc",
   "metadata": {},
   "outputs": [],
   "source": [
    "import heapq\n",
    "\n",
    "class Solution:\n",
    "    def nthUglyNumber(self, n: int) -> int:\n",
    "        heap = [1]\n",
    "        seen = set([1])\n",
    "        primes = [2, 3, 5]\n",
    "\n",
    "        for _ in range(n):\n",
    "            curr = heapq.heappop(heap)\n",
    "            for p in primes:\n",
    "                new_val = curr * p\n",
    "                if new_val not in seen:\n",
    "                    seen.add(new_val)\n",
    "                    heapq.heappush(heap, new_val)\n",
    "\n",
    "        return curr\n"
   ]
  },
  {
   "cell_type": "markdown",
   "id": "afb83b6b",
   "metadata": {},
   "source": [
    "451. Sort Characters By Frequency\n",
    "Solved\n",
    "Medium\n",
    "Topics\n",
    "premium lock icon\n",
    "Companies\n",
    "Given a string s, sort it in decreasing order based on the frequency of the characters. The frequency of a character is the number of times it appears in the string.\n",
    "\n",
    "Return the sorted string. If there are multiple answers, return any of them.\n",
    "\n",
    " \n",
    "\n",
    "Example 1:\n",
    "\n",
    "Input: s = \"tree\"\n",
    "Output: \"eert\"\n",
    "Explanation: 'e' appears twice while 'r' and 't' both appear once.\n",
    "So 'e' must appear before both 'r' and 't'. Therefore \"eetr\" is also a valid answer.\n",
    "Example 2:\n",
    "\n",
    "Input: s = \"cccaaa\"\n",
    "Output: \"aaaccc\"\n",
    "Explanation: Both 'c' and 'a' appear three times, so both \"cccaaa\" and \"aaaccc\" are valid answers.\n",
    "Note that \"cacaca\" is incorrect, as the same characters must be together.\n",
    "Example 3:\n",
    "\n",
    "Input: s = \"Aabb\"\n",
    "Output: \"bbAa\"\n",
    "Explanation: \"bbaA\" is also a valid answer, but \"Aabb\" is incorrect.\n",
    "Note that 'A' and 'a' are treated as two different characters.\n",
    " "
   ]
  },
  {
   "cell_type": "code",
   "execution_count": null,
   "id": "fb23fd88",
   "metadata": {},
   "outputs": [
    {
     "name": "stdout",
     "output_type": "stream",
     "text": [
      "eert\n"
     ]
    }
   ],
   "source": [
    "class Solution:\n",
    "    def frequencySort(self, s: str) -> str:\n",
    "        hash = Counter(s)\n",
    "        max_heap = [(-count, char) for char, count in hash.items()]\n",
    "        res = \"\"\n",
    "        heapq.heapify(max_heap)\n",
    "        while max_heap:\n",
    "            count, char = heapq.heappop(max_heap)\n",
    "            res += char * -count\n",
    "        return res    \n",
    "        "
   ]
  },
  {
   "cell_type": "markdown",
   "id": "7e20914d",
   "metadata": {},
   "source": [
    "1338. Reduce Array Size to The Half\n",
    "Attempted\n",
    "Medium\n",
    "Topics\n",
    "premium lock icon\n",
    "Companies\n",
    "Hint\n",
    "You are given an integer array arr. You can choose a set of integers and remove all the occurrences of these integers in the array.\n",
    "\n",
    "Return the minimum size of the set so that at least half of the integers of the array are removed.\n",
    "\n",
    " \n",
    "\n",
    "Example 1:\n",
    "\n",
    "Input: arr = [3,3,3,3,5,5,5,2,2,7]\n",
    "Output: 2\n",
    "Explanation: Choosing {3,7} will make the new array [5,5,5,2,2] which has size 5 (i.e equal to half of the size of the old array).\n",
    "Possible sets of size 2 are {3,5},{3,2},{5,2}.\n",
    "Choosing set {2,7} is not possible as it will make the new array [3,3,3,3,5,5,5] which has a size greater than half of the size of the old array.\n",
    "Example 2:\n",
    "\n",
    "Input: arr = [7,7,7,7,7,7]\n",
    "Output: 1\n",
    "Explanation: The only possible set you can choose is {7}. This will make the new array empty.\n",
    " "
   ]
  },
  {
   "cell_type": "code",
   "execution_count": null,
   "id": "1946e822",
   "metadata": {},
   "outputs": [
    {
     "name": "stdout",
     "output_type": "stream",
     "text": [
      "Counter({3: 4, 5: 3, 2: 2, 7: 1})\n"
     ]
    },
    {
     "data": {
      "text/plain": [
       "[5, 2]"
      ]
     },
     "execution_count": 13,
     "metadata": {},
     "output_type": "execute_result"
    }
   ],
   "source": [
    "class Solution:\n",
    "    def minSetSize(self, arr: List[int]) -> int:\n",
    "        freq = sorted(Counter(arr).values(), reverse=True)\n",
    "        removed = 0\n",
    "        count = 0\n",
    "        half = len(arr) // 2\n",
    "\n",
    "        for f in freq:\n",
    "            removed += f\n",
    "            count += 1\n",
    "            if removed >= half:\n",
    "                return count"
   ]
  },
  {
   "cell_type": "code",
   "execution_count": 7,
   "id": "6fb1c552",
   "metadata": {},
   "outputs": [
    {
     "data": {
      "text/plain": [
       "[1, 2]"
      ]
     },
     "execution_count": 7,
     "metadata": {},
     "output_type": "execute_result"
    }
   ],
   "source": [
    "positive_feedback = [\"smart\", \"brilliant\", \"studious\"]\n",
    "negative_feedback = [\"not\"]\n",
    "report = [\"this student is studious\", \"the student is smart\"]\n",
    "student_id = [1, 2]\n",
    "k = 2\n",
    "\n",
    "res = []\n",
    "for i in range(len(report)):\n",
    "    pos_count = sum(word in report[i] for word in positive_feedback)\n",
    "    neg_count = sum(word in report[i] for word in negative_feedback)\n",
    "    res.append((pos_count, neg_count, student_id[i]))\n",
    "res.sort(key=lambda x: (-x[0], x[1], x[2]))\n",
    "final = [res[i][2] for i in range(k)]\n",
    "final"
   ]
  }
 ],
 "metadata": {
  "kernelspec": {
   "display_name": "Python 3",
   "language": "python",
   "name": "python3"
  },
  "language_info": {
   "codemirror_mode": {
    "name": "ipython",
    "version": 3
   },
   "file_extension": ".py",
   "mimetype": "text/x-python",
   "name": "python",
   "nbconvert_exporter": "python",
   "pygments_lexer": "ipython3",
   "version": "3.11.5"
  }
 },
 "nbformat": 4,
 "nbformat_minor": 5
}
