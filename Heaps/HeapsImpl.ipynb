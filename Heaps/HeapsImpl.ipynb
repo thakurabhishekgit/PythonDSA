{
 "cells": [
  {
   "cell_type": "code",
   "execution_count": 2,
   "id": "315ef845",
   "metadata": {},
   "outputs": [
    {
     "data": {
      "text/plain": [
       "[-4, -3, 0, -1, 1, 5, 2, 3, 6, 10]"
      ]
     },
     "execution_count": 2,
     "metadata": {},
     "output_type": "execute_result"
    }
   ],
   "source": [
    "import heapq\n",
    "\n",
    "nums = [-4 , -1, 0, 3, 10 , 5, 2, -3, 6, 1]\n",
    "\n",
    "heapq.heapify(nums)\n",
    "nums"
   ]
  },
  {
   "cell_type": "code",
   "execution_count": 3,
   "id": "154af7a3",
   "metadata": {},
   "outputs": [
    {
     "data": {
      "text/plain": [
       "[-4, -3, 0, -1, 1, 5, 2, 3, 6, 10, 4]"
      ]
     },
     "execution_count": 3,
     "metadata": {},
     "output_type": "execute_result"
    }
   ],
   "source": [
    "heapq.heappush(nums, 4)\n",
    "nums"
   ]
  },
  {
   "cell_type": "code",
   "execution_count": 4,
   "id": "030313d0",
   "metadata": {},
   "outputs": [
    {
     "data": {
      "text/plain": [
       "-4"
      ]
     },
     "execution_count": 4,
     "metadata": {},
     "output_type": "execute_result"
    }
   ],
   "source": [
    "a = heapq.heappop(nums)\n",
    "a"
   ]
  },
  {
   "cell_type": "code",
   "execution_count": 5,
   "id": "adbcd02e",
   "metadata": {},
   "outputs": [
    {
     "data": {
      "text/plain": [
       "[-4, -3, -1, 0, 1, 2, 3, 5, 6, 10]"
      ]
     },
     "execution_count": 5,
     "metadata": {},
     "output_type": "execute_result"
    }
   ],
   "source": [
    "def heapSort(nums):\n",
    "    heapq.heapify(nums)\n",
    "    sorted_nums = []\n",
    "    while nums:\n",
    "        sorted_nums.append(heapq.heappop(nums))\n",
    "    return sorted_nums\n",
    "sorted_nums = heapSort([10 , -4 , -1, 0, 3, 5, 2, -3, 6, 1])\n",
    "sorted_nums    "
   ]
  }
 ],
 "metadata": {
  "kernelspec": {
   "display_name": "Python 3",
   "language": "python",
   "name": "python3"
  },
  "language_info": {
   "codemirror_mode": {
    "name": "ipython",
    "version": 3
   },
   "file_extension": ".py",
   "mimetype": "text/x-python",
   "name": "python",
   "nbconvert_exporter": "python",
   "pygments_lexer": "ipython3",
   "version": "3.11.5"
  }
 },
 "nbformat": 4,
 "nbformat_minor": 5
}
