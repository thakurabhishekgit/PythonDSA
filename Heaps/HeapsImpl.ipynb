{
 "cells": [
  {
   "cell_type": "markdown",
   "id": "217ddcbf",
   "metadata": {},
   "source": [
    "| Operation      | Time Complexity |\n",
    "| -------------- | --------------- |\n",
    "| Insert (push)  | O(log N)        |\n",
    "| Delete (pop)   | O(log N)        |\n",
    "| Peek (min/max) | O(1)            |\n",
    "| Build heap     | O(N)            |\n",
    "\n",
    "\n",
    "💡 5. Common Use Cases in DSA\n",
    "Top K elements\n",
    "\n",
    "Kth smallest/largest element\n",
    "\n",
    "Merge K sorted lists/arrays\n",
    "\n",
    "Median in a stream\n",
    "\n",
    "Scheduling problems\n",
    "\n",
    "Greedy algorithms (e.g., Huffman coding)\n",
    "\n",
    "\n",
    "\n",
    "\n",
    "| Problem                                                                                                                          | Type               |\n",
    "| -------------------------------------------------------------------------------------------------------------------------------- | ------------------ |\n",
    "| 🔹 [Top K Frequent Elements](https://leetcode.com/problems/top-k-frequent-elements/)                                             | Min-Heap           |\n",
    "| 🔹 [Kth Largest Element in Array](https://leetcode.com/problems/kth-largest-element-in-an-array/)                                | Min-Heap           |\n",
    "| 🔹 [Merge K Sorted Lists](https://leetcode.com/problems/merge-k-sorted-lists/)                                                   | Min-Heap           |\n",
    "| 🔹 [Find Median from Data Stream](https://leetcode.com/problems/find-median-from-data-stream/)                                   | Two Heaps          |\n",
    "| 🔹 [Reorganize String](https://leetcode.com/problems/reorganize-string/)                                                         | Max-Heap           |\n",
    "| 🔹 [Task Scheduler](https://leetcode.com/problems/task-scheduler/)                                                               | Max-Heap           |\n",
    "| 🔹 [Last Stone Weight](https://leetcode.com/problems/last-stone-weight/)                                                         | Max-Heap           |\n",
    "| 🔹 [Smallest Range Covering Elements from K Lists](https://leetcode.com/problems/smallest-range-covering-elements-from-k-lists/) | Heap with pointers |\n"
   ]
  },
  {
   "cell_type": "code",
   "execution_count": 12,
   "id": "315ef845",
   "metadata": {},
   "outputs": [
    {
     "data": {
      "text/plain": [
       "[-4, -3, 0, -1, 1, 5, 2, 3, 6, 10]"
      ]
     },
     "execution_count": 12,
     "metadata": {},
     "output_type": "execute_result"
    }
   ],
   "source": [
    "import heapq\n",
    "\n",
    "nums = [-4 , -1, 0, 3, 10 , 5, 2, -3, 6, 1]\n",
    "\n",
    "heapq.heapify(nums)\n",
    "nums"
   ]
  },
  {
   "cell_type": "markdown",
   "id": "93b59935",
   "metadata": {},
   "source": [
    "📌 1. What is a Heap?\n",
    "A heap is a special tree-based data structure that satisfies the heap property:\n",
    "\n",
    "Max-Heap: Parent node ≥ child nodes\n",
    "\n",
    "Min-Heap: Parent node ≤ child nodes\n",
    "\n",
    "✅ It's always a complete binary tree, meaning all levels are filled except possibly the last, and it is filled from left to right.\n",
    "\n",
    "🛠️ 2. Heap Implementations\n",
    "In most coding languages (like Python), heaps are implemented using arrays/lists.\n",
    "\n",
    "Index relationships:\n",
    "\n",
    "Left child: 2 * i + 1\n",
    "\n",
    "Right child: 2 * i + 2\n",
    "\n",
    "Parent: (i - 1) // 2\n",
    "\n"
   ]
  },
  {
   "cell_type": "code",
   "execution_count": 13,
   "id": "154af7a3",
   "metadata": {},
   "outputs": [
    {
     "data": {
      "text/plain": [
       "[-4, -3, 0, -1, 1, 5, 2, 3, 6, 10, 4]"
      ]
     },
     "execution_count": 13,
     "metadata": {},
     "output_type": "execute_result"
    }
   ],
   "source": [
    "heapq.heappush(nums, 4)\n",
    "nums"
   ]
  },
  {
   "cell_type": "code",
   "execution_count": 14,
   "id": "030313d0",
   "metadata": {},
   "outputs": [],
   "source": [
    "a = heapq.heappop(nums)\n"
   ]
  },
  {
   "cell_type": "code",
   "execution_count": 15,
   "id": "adbcd02e",
   "metadata": {},
   "outputs": [
    {
     "data": {
      "text/plain": [
       "[-4, -3, -1, 0, 1, 2, 3, 5, 6, 10]"
      ]
     },
     "execution_count": 15,
     "metadata": {},
     "output_type": "execute_result"
    }
   ],
   "source": [
    "def heapSort(nums):\n",
    "    heapq.heapify(nums)\n",
    "    sorted_nums = []\n",
    "    while nums:\n",
    "        sorted_nums.append(heapq.heappop(nums))\n",
    "    return sorted_nums\n",
    "sorted_nums = heapSort([10 , -4 , -1, 0, 3, 5, 2, -3, 6, 1])\n",
    "sorted_nums    "
   ]
  },
  {
   "cell_type": "code",
   "execution_count": 18,
   "id": "3ec3bfc9",
   "metadata": {},
   "outputs": [
    {
     "data": {
      "text/plain": [
       "[-4, -3, 0, -1, 1, 5, 2, 3, 6, 10]"
      ]
     },
     "execution_count": 18,
     "metadata": {},
     "output_type": "execute_result"
    }
   ],
   "source": [
    "arr = [-4 , -1, 0, 3, 10 , 5, 2, -3, 6, 1]\n",
    "\n",
    "heapq.heapify(arr)\n",
    "arr"
   ]
  },
  {
   "cell_type": "code",
   "execution_count": 19,
   "id": "1b399c6b",
   "metadata": {},
   "outputs": [
    {
     "data": {
      "text/plain": [
       "[-1, 1, 0, 3, 10, 5, 2, 4, 6, 40]"
      ]
     },
     "execution_count": 19,
     "metadata": {},
     "output_type": "execute_result"
    }
   ],
   "source": [
    "heapq.heappushpop(nums, 40)  # Push 4 and pop the smallest element\n",
    "nums"
   ]
  },
  {
   "cell_type": "code",
   "execution_count": 25,
   "id": "6fb39b46",
   "metadata": {},
   "outputs": [
    {
     "data": {
      "text/plain": [
       "[-10, -6, -5, -3, -1, 0, -2, 3, 4, 1]"
      ]
     },
     "execution_count": 25,
     "metadata": {},
     "output_type": "execute_result"
    }
   ],
   "source": [
    "#max heap\n",
    "\n",
    "arr = [-4 , -1, 0, 3, 10 , 5, 2, -3, 6, 1]\n",
    "for i in range(len(arr)):\n",
    "    arr[i] = -arr[i]\n",
    "heapq.heapify(arr)\n",
    "arr    "
   ]
  },
  {
   "cell_type": "code",
   "execution_count": 24,
   "id": "8655fc61",
   "metadata": {},
   "outputs": [
    {
     "data": {
      "text/plain": [
       "20"
      ]
     },
     "execution_count": 24,
     "metadata": {},
     "output_type": "execute_result"
    }
   ],
   "source": [
    "a = -heapq.heappop(arr)\n",
    "a"
   ]
  },
  {
   "cell_type": "code",
   "execution_count": 23,
   "id": "0c79c807",
   "metadata": {},
   "outputs": [
    {
     "data": {
      "text/plain": [
       "[-20, -20, -5, 1, -6, 0, -2, 3, 4, -1, -3]"
      ]
     },
     "execution_count": 23,
     "metadata": {},
     "output_type": "execute_result"
    }
   ],
   "source": [
    "heapq.heappush(arr , -20)\n",
    "arr"
   ]
  },
  {
   "cell_type": "code",
   "execution_count": 29,
   "id": "d698f858",
   "metadata": {},
   "outputs": [
    {
     "data": {
      "text/plain": [
       "[-4, -3, -1, 0, 1, 5, 2, 10, 6, 3]"
      ]
     },
     "execution_count": 29,
     "metadata": {},
     "output_type": "execute_result"
    }
   ],
   "source": [
    "num = [10 , -4 , -1, 0, 3, 5, 2, -3, 6, 1]\n",
    "heapq.heapify(num)\n",
    "num"
   ]
  }
 ],
 "metadata": {
  "kernelspec": {
   "display_name": "Python 3",
   "language": "python",
   "name": "python3"
  },
  "language_info": {
   "codemirror_mode": {
    "name": "ipython",
    "version": 3
   },
   "file_extension": ".py",
   "mimetype": "text/x-python",
   "name": "python",
   "nbconvert_exporter": "python",
   "pygments_lexer": "ipython3",
   "version": "3.11.5"
  }
 },
 "nbformat": 4,
 "nbformat_minor": 5
}
