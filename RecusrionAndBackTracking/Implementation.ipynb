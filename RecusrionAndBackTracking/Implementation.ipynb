{
 "cells": [
  {
   "cell_type": "markdown",
   "id": "e6e1ad67",
   "metadata": {},
   "source": [
    "def recursiveFunction(params):\n",
    "    if base_case_condition:\n",
    "        return base_case_value\n",
    "    return recursiveFunction(smaller_problem)\n",
    "\n",
    "\n",
    "markdown of recursion\n",
    "\n",
    "\n",
    "\n",
    "🧠 Key Concepts You Must Master\n",
    "1. Base Case\n",
    "The stopping condition that prevents infinite recursion.\n",
    "\n",
    "Tip: Always write the base case first.\n",
    "\n",
    "2. Recursive Case\n",
    "The part where the function calls itself with a smaller or simpler input.\n",
    "\n",
    "3. Stack Space\n",
    "Every recursive call adds a frame to the call stack.\n",
    "\n",
    "Deep recursion without a proper base case can cause stack overflow.\n",
    "\n",
    "\n",
    "\n",
    "\n",
    "| Type                   | Description                                                         | Example                              |\n",
    "| ---------------------- | ------------------------------------------------------------------- | ------------------------------------ |\n",
    "| **Tail Recursion**     | Last operation is the recursive call                                | Not supported by Python optimization |\n",
    "| **Head Recursion**     | Recursive call happens before any operation                         | Classic factorial                    |\n",
    "| **Tree Recursion**     | Function calls itself more than once                                | Fibonacci                            |\n",
    "| **Indirect Recursion** | Function calls another function that eventually calls the first one | Rare in DSA                          |\n",
    "\n",
    "\n",
    "\n",
    "\n",
    "\n",
    "| Topic                   | Problem                           |\n",
    "| ----------------------- | --------------------------------- |\n",
    "| Factorial               | `factorial(n)`                    |\n",
    "| Fibonacci               | `fib(n)`                          |\n",
    "| Subsets                 | `subsets([1,2,3])`                |\n",
    "| Permutations            | `permute([1,2,3])`                |\n",
    "| Combination Sum         | `combinationSum([2,3,6,7], 7)`    |\n",
    "| Generate Parentheses    | `generateParenthesis(n)`          |\n",
    "| Binary Tree Traversal   | `inorder, preorder, postorder`    |\n",
    "| N-Queens                | `solveNQueens(n)`                 |\n",
    "| Palindrome Partitioning | `partition(\"aab\")`                |\n",
    "| Word Break              | `wordBreak(\"leetcode\", wordDict)` |\n",
    "\n",
    "\n",
    "\n",
    "| Feature   | Recursion               | Backtracking                  | Dynamic Programming                        |\n",
    "| --------- | ----------------------- | ----------------------------- | ------------------------------------------ |\n",
    "| Base idea | Function calling itself | Recursion + constraints       | Recursion + memoization                    |\n",
    "| Use case  | Simple problems         | All combinations with pruning | Optimal solutions, overlapping subproblems |\n",
    "| Memory    | High                    | High                          | Optimized with memo                        |\n",
    "\n"
   ]
  },
  {
   "cell_type": "code",
   "execution_count": null,
   "id": "191efe19",
   "metadata": {},
   "outputs": [
    {
     "name": "stdout",
     "output_type": "stream",
     "text": [
      "False\n"
     ]
    }
   ],
   "source": [
    "# //power of 2\n",
    "# 2^0 = 1 \n",
    "# 2^1 = 2\n",
    "# 2^2 = 4 2^3 = 8 2^4 = 16 2^5 = 32 2^6 = 64 ......\n",
    "\n",
    "n = 17\n",
    "def powerOfTwo(n):\n",
    "    if n <= 0:\n",
    "        return False\n",
    "    if n == 1:\n",
    "        return True\n",
    "    if n % 2 != 0:\n",
    "        return False\n",
    "    return powerOfTwo(n // 2)\n",
    "\n",
    "print(powerOfTwo(n))    \n"
   ]
  },
  {
   "cell_type": "code",
   "execution_count": 4,
   "id": "0322b54f",
   "metadata": {},
   "outputs": [
    {
     "name": "stdout",
     "output_type": "stream",
     "text": [
      "False\n"
     ]
    }
   ],
   "source": [
    "#optimal approach \n",
    "def isPowerOfTwo(n: int) -> bool:\n",
    "    return n > 0 and (n & (n - 1)) == 0\n",
    "\n",
    "print(isPowerOfTwo(n))"
   ]
  },
  {
   "cell_type": "code",
   "execution_count": null,
   "id": "05574cbb",
   "metadata": {},
   "outputs": [
    {
     "name": "stdout",
     "output_type": "stream",
     "text": [
      "False\n"
     ]
    }
   ],
   "source": [
    "#power of 3 \n",
    "class Solution:\n",
    "    def isPowerOfThree(self, n: int) -> bool:\n",
    "        if n <= 0:\n",
    "            return False\n",
    "        if n == 1:\n",
    "            return True\n",
    "        if n % 3 != 0:\n",
    "            return False\n",
    "        return self.isPowerOfThree(n // 3)\n",
    "\n",
    "print(Solution().isPowerOfThree(n))"
   ]
  }
 ],
 "metadata": {
  "kernelspec": {
   "display_name": "Python 3",
   "language": "python",
   "name": "python3"
  },
  "language_info": {
   "codemirror_mode": {
    "name": "ipython",
    "version": 3
   },
   "file_extension": ".py",
   "mimetype": "text/x-python",
   "name": "python",
   "nbconvert_exporter": "python",
   "pygments_lexer": "ipython3",
   "version": "3.11.5"
  }
 },
 "nbformat": 4,
 "nbformat_minor": 5
}
