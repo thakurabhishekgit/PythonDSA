{
 "cells": [
  {
   "cell_type": "markdown",
   "id": "e6e1ad67",
   "metadata": {},
   "source": [
    "def recursiveFunction(params):\n",
    "    if base_case_condition:\n",
    "        return base_case_value\n",
    "    return recursiveFunction(smaller_problem)\n",
    "\n",
    "\n",
    "markdown of recursion\n",
    "\n",
    "\n",
    "\n",
    "🧠 Key Concepts You Must Master\n",
    "1. Base Case\n",
    "The stopping condition that prevents infinite recursion.\n",
    "\n",
    "Tip: Always write the base case first.\n",
    "\n",
    "2. Recursive Case\n",
    "The part where the function calls itself with a smaller or simpler input.\n",
    "\n",
    "3. Stack Space\n",
    "Every recursive call adds a frame to the call stack.\n",
    "\n",
    "Deep recursion without a proper base case can cause stack overflow.\n",
    "\n",
    "\n",
    "\n",
    "\n",
    "| Type                   | Description                                                         | Example                              |\n",
    "| ---------------------- | ------------------------------------------------------------------- | ------------------------------------ |\n",
    "| **Tail Recursion**     | Last operation is the recursive call                                | Not supported by Python optimization |\n",
    "| **Head Recursion**     | Recursive call happens before any operation                         | Classic factorial                    |\n",
    "| **Tree Recursion**     | Function calls itself more than once                                | Fibonacci                            |\n",
    "| **Indirect Recursion** | Function calls another function that eventually calls the first one | Rare in DSA                          |\n",
    "\n",
    "\n",
    "\n",
    "\n",
    "\n",
    "| Topic                   | Problem                           |\n",
    "| ----------------------- | --------------------------------- |\n",
    "| Factorial               | `factorial(n)`                    |\n",
    "| Fibonacci               | `fib(n)`                          |\n",
    "| Subsets                 | `subsets([1,2,3])`                |\n",
    "| Permutations            | `permute([1,2,3])`                |\n",
    "| Combination Sum         | `combinationSum([2,3,6,7], 7)`    |\n",
    "| Generate Parentheses    | `generateParenthesis(n)`          |\n",
    "| Binary Tree Traversal   | `inorder, preorder, postorder`    |\n",
    "| N-Queens                | `solveNQueens(n)`                 |\n",
    "| Palindrome Partitioning | `partition(\"aab\")`                |\n",
    "| Word Break              | `wordBreak(\"leetcode\", wordDict)` |\n",
    "\n",
    "\n",
    "\n",
    "| Feature   | Recursion               | Backtracking                  | Dynamic Programming                        |\n",
    "| --------- | ----------------------- | ----------------------------- | ------------------------------------------ |\n",
    "| Base idea | Function calling itself | Recursion + constraints       | Recursion + memoization                    |\n",
    "| Use case  | Simple problems         | All combinations with pruning | Optimal solutions, overlapping subproblems |\n",
    "| Memory    | High                    | High                          | Optimized with memo                        |\n",
    "\n"
   ]
  },
  {
   "cell_type": "code",
   "execution_count": null,
   "id": "191efe19",
   "metadata": {},
   "outputs": [
    {
     "name": "stdout",
     "output_type": "stream",
     "text": [
      "False\n"
     ]
    }
   ],
   "source": [
    "# //power of 2\n",
    "# 2^0 = 1 \n",
    "# 2^1 = 2\n",
    "# 2^2 = 4 2^3 = 8 2^4 = 16 2^5 = 32 2^6 = 64 ......\n",
    "\n",
    "n = 17\n",
    "def powerOfTwo(n):\n",
    "    if n <= 0:\n",
    "        return False\n",
    "    if n == 1:\n",
    "        return True\n",
    "    if n % 2 != 0:\n",
    "        return False\n",
    "    return powerOfTwo(n // 2)\n",
    "\n",
    "print(powerOfTwo(n))    \n"
   ]
  },
  {
   "cell_type": "code",
   "execution_count": 4,
   "id": "0322b54f",
   "metadata": {},
   "outputs": [
    {
     "name": "stdout",
     "output_type": "stream",
     "text": [
      "False\n"
     ]
    }
   ],
   "source": [
    "#optimal approach \n",
    "def isPowerOfTwo(n: int) -> bool:\n",
    "    return n > 0 and (n & (n - 1)) == 0\n",
    "\n",
    "print(isPowerOfTwo(n))"
   ]
  },
  {
   "cell_type": "code",
   "execution_count": 8,
   "id": "05574cbb",
   "metadata": {},
   "outputs": [
    {
     "name": "stdout",
     "output_type": "stream",
     "text": [
      "True\n"
     ]
    }
   ],
   "source": [
    "#power of 3 \n",
    "class Solution:\n",
    "    def isPowerOfThree(self, n: int) -> bool:\n",
    "        if n <= 0:\n",
    "            return False\n",
    "        if n == 1:\n",
    "            return True\n",
    "        if n % 3 != 0:\n",
    "            return False\n",
    "        return self.isPowerOfThree(n // 3)\n",
    "\n",
    "print(Solution().isPowerOfThree(27))"
   ]
  },
  {
   "cell_type": "code",
   "execution_count": null,
   "id": "0f38b26b",
   "metadata": {},
   "outputs": [],
   "source": [
    "#power of four\n",
    "\n",
    "class Solution:\n",
    "    def isPowerOfFour(self, n: int) -> bool:\n",
    "        if n <= 0:\n",
    "            return False\n",
    "        if n == 1:\n",
    "            return True\n",
    "        if n % 4 != 0:\n",
    "            return False\n",
    "        return self.isPowerOfFour(n // 4)\n",
    "\n",
    "print(Solution().isPowerOfFour(16))\n"
   ]
  },
  {
   "cell_type": "code",
   "execution_count": 12,
   "id": "b70a0bea",
   "metadata": {},
   "outputs": [
    {
     "name": "stdout",
     "output_type": "stream",
     "text": [
      "13\n",
      "0\n",
      "1\n",
      "1\n",
      "2\n",
      "3\n",
      "5\n",
      "8\n",
      "13\n",
      "21\n",
      "34\n"
     ]
    }
   ],
   "source": [
    "#fibonaci series\n",
    "# 0 1 1 2 3 5 8 13 21 34 55 89 144\n",
    "def FibonaciSeries(n):\n",
    "    if n == 0:\n",
    "        return 0\n",
    "    if n == 1:\n",
    "        return 1\n",
    "    \n",
    "    return FibonaciSeries(n - 1) + FibonaciSeries(n - 2)\n",
    "\n",
    "print(FibonaciSeries(7))\n",
    "#printing series\n",
    "for i in range(10):\n",
    "    print(FibonaciSeries(i))"
   ]
  },
  {
   "cell_type": "code",
   "execution_count": 13,
   "id": "88e66499",
   "metadata": {},
   "outputs": [
    {
     "name": "stdout",
     "output_type": "stream",
     "text": [
      "3\n"
     ]
    }
   ],
   "source": [
    "def fib(n):\n",
    "    if n == 0:\n",
    "        return 0\n",
    "    if n == 1:\n",
    "        return 1\n",
    "    return fib(n - 1) + fib(n - 2)\n",
    "\n",
    "print(fib(4))"
   ]
  },
  {
   "cell_type": "code",
   "execution_count": null,
   "id": "d54c278a",
   "metadata": {},
   "outputs": [
    {
     "name": "stdout",
     "output_type": "stream",
     "text": [
      "32\n"
     ]
    }
   ],
   "source": [
    "# \n",
    "print(pow(2 , 5))"
   ]
  },
  {
   "cell_type": "code",
   "execution_count": 19,
   "id": "eb7a86b2",
   "metadata": {},
   "outputs": [
    {
     "name": "stdout",
     "output_type": "stream",
     "text": [
      "64\n"
     ]
    }
   ],
   "source": [
    "def power(x , y):\n",
    "    if y == 0:\n",
    "        return 1\n",
    "    if y == 1:\n",
    "        return x\n",
    "    return x * power(x , y - 1)\n",
    "\n",
    "print(power(2 , 6))"
   ]
  },
  {
   "cell_type": "code",
   "execution_count": null,
   "id": "7574b276",
   "metadata": {},
   "outputs": [],
   "source": [
    "class Solution:\n",
    "    def myPow(self, x: float, n: int) -> float:\n",
    "        if n == 0:\n",
    "            return 1\n",
    "        if n < 0:\n",
    "            return 1 / self.myPow(x, -n)\n",
    "        \n",
    "        half = self.myPow(x, n // 2)\n",
    "        \n",
    "        if n % 2 == 0:\n",
    "            return half * half\n",
    "        else:\n",
    "            return x * half * half\n",
    "\n",
    "print(Solution().myPow(2 , 6))"
   ]
  },
  {
   "cell_type": "markdown",
   "id": "a60ea08b",
   "metadata": {},
   "source": [
    "| Question                                                         | Implication                  |\n",
    "| ---------------------------------------------------------------- | ---------------------------- |\n",
    "| Can I solve this problem by solving a smaller version of itself? | ✅ Use recursion              |\n",
    "| Do I need to explore multiple options/branches at each step?     | ✅ Use recursion/backtracking |\n",
    "| Is the number of steps or depth dynamic/unknown?                 | ✅ Recursion helps            |\n",
    "| Do I repeat a simple operation a fixed number of times?          | ✅ Use a loop                 |\n",
    "\n",
    "\n",
    "\n",
    "\n",
    "| Problem                | Loop or Recursion?                | Why                                          |\n",
    "| ---------------------- | --------------------------------- | -------------------------------------------- |\n",
    "| Print 1 to N           | Loop                              | Simple, fixed repetition                     |\n",
    "| Factorial              | Recursion / Loop                  | Smaller subproblem repeatedly                |\n",
    "| Fibonacci              | Recursion with memo               | Defined recursively, overlapping subproblems |\n",
    "| Binary Tree Traversal  | Recursion                         | Tree structure is recursive                  |\n",
    "| Permutations of string | Recursion                         | Need to explore all arrangements             |\n",
    "| Matrix traversal       | Loop (2D)                         | Bounded, regular steps                       |\n",
    "| Maze path finding      | Recursion + Backtracking          | Try all paths                                |\n",
    "| Checking palindrome    | Loop (2-pointer) or Recursion     | Both work, recursion is elegant              |\n",
    "| Implement `pow(x, n)`  | Recursion with divide and conquer | Divide into half every step                  |\n",
    "| File system crawler    | Recursion                         | Nested structure, unknown depth              |\n"
   ]
  },
  {
   "cell_type": "code",
   "execution_count": null,
   "id": "b1d70047",
   "metadata": {},
   "outputs": [],
   "source": [
    "# 1922. Count Good Numbers\n",
    "# Solved\n",
    "# Medium\n",
    "# Topics\n",
    "# premium lock icon\n",
    "# Companies\n",
    "# Hint\n",
    "# A digit string is good if the digits (0-indexed) at even indices are even and the digits at odd indices are prime (2, 3, 5, or 7).\n",
    "\n",
    "# For example, \"2582\" is good because the digits (2 and 8) at even positions are even and the digits (5 and 2) at odd positions are prime. However, \"3245\" is not good because 3 is at an even index but is not even.\n",
    "# Given an integer n, return the total number of good digit strings of length n. Since the answer may be large, return it modulo 109 + 7.\n",
    "\n",
    "# A digit string is a string consisting of digits 0 through 9 that may contain leading zeros.\n",
    "\n",
    " \n",
    "\n",
    "# Example 1:\n",
    "\n",
    "# Input: n = 1\n",
    "# Output: 5\n",
    "# Explanation: The good numbers of length 1 are \"0\", \"2\", \"4\", \"6\", \"8\".\n",
    "# Example 2:\n",
    "\n",
    "# Input: n = 4\n",
    "# Output: 400\n",
    "# Example 3:\n",
    "\n",
    "# Input: n = 50\n",
    "# Output: 564908303\n",
    "\n",
    "\n",
    "\n",
    "\n",
    "\n",
    "\n",
    "\n",
    "class Solution:\n",
    "    def countGoodNumbers(self, n: int) -> int:\n",
    "        MOD = 10**9 + 7\n",
    "\n",
    "        def power(x, y):\n",
    "            if y == 0:\n",
    "                return 1\n",
    "            half = power(x, y // 2)\n",
    "            half = (half * half) % MOD\n",
    "            if y % 2 == 0:\n",
    "                return half\n",
    "            else:\n",
    "                return (x * half) % MOD\n",
    "\n",
    "        even_positions = (n + 1) // 2\n",
    "        odd_positions = n // 2\n",
    "\n",
    "        return (power(5, even_positions) * power(4, odd_positions)) % MOD\n"
   ]
  },
  {
   "cell_type": "code",
   "execution_count": 3,
   "id": "2d3ff929",
   "metadata": {},
   "outputs": [
    {
     "name": "stdout",
     "output_type": "stream",
     "text": [
      "True\n"
     ]
    }
   ],
   "source": [
    "def primeNumber(n):\n",
    "    if n <= 1:\n",
    "        return False\n",
    "    for i in range(2 , n):\n",
    "        if n % i == 0:\n",
    "            return False\n",
    "    return True\n",
    "print(primeNumber(5))"
   ]
  }
 ],
 "metadata": {
  "kernelspec": {
   "display_name": "Python 3",
   "language": "python",
   "name": "python3"
  },
  "language_info": {
   "codemirror_mode": {
    "name": "ipython",
    "version": 3
   },
   "file_extension": ".py",
   "mimetype": "text/x-python",
   "name": "python",
   "nbconvert_exporter": "python",
   "pygments_lexer": "ipython3",
   "version": "3.11.5"
  }
 },
 "nbformat": 4,
 "nbformat_minor": 5
}
