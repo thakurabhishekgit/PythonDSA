{
 "cells": [
  {
   "cell_type": "markdown",
   "id": "e6e1ad67",
   "metadata": {},
   "source": [
    "def recursiveFunction(params):\n",
    "    if base_case_condition:\n",
    "        return base_case_value\n",
    "    return recursiveFunction(smaller_problem)\n",
    "\n",
    "\n",
    "markdown of recursion\n",
    "\n",
    "\n",
    "\n",
    "🧠 Key Concepts You Must Master\n",
    "1. Base Case\n",
    "The stopping condition that prevents infinite recursion.\n",
    "\n",
    "Tip: Always write the base case first.\n",
    "\n",
    "2. Recursive Case\n",
    "The part where the function calls itself with a smaller or simpler input.\n",
    "\n",
    "3. Stack Space\n",
    "Every recursive call adds a frame to the call stack.\n",
    "\n",
    "Deep recursion without a proper base case can cause stack overflow.\n",
    "\n",
    "\n",
    "\n",
    "\n",
    "| Type                   | Description                                                         | Example                              |\n",
    "| ---------------------- | ------------------------------------------------------------------- | ------------------------------------ |\n",
    "| **Tail Recursion**     | Last operation is the recursive call                                | Not supported by Python optimization |\n",
    "| **Head Recursion**     | Recursive call happens before any operation                         | Classic factorial                    |\n",
    "| **Tree Recursion**     | Function calls itself more than once                                | Fibonacci                            |\n",
    "| **Indirect Recursion** | Function calls another function that eventually calls the first one | Rare in DSA                          |\n",
    "\n",
    "\n",
    "\n",
    "\n",
    "\n",
    "| Topic                   | Problem                           |\n",
    "| ----------------------- | --------------------------------- |\n",
    "| Factorial               | `factorial(n)`                    |\n",
    "| Fibonacci               | `fib(n)`                          |\n",
    "| Subsets                 | `subsets([1,2,3])`                |\n",
    "| Permutations            | `permute([1,2,3])`                |\n",
    "| Combination Sum         | `combinationSum([2,3,6,7], 7)`    |\n",
    "| Generate Parentheses    | `generateParenthesis(n)`          |\n",
    "| Binary Tree Traversal   | `inorder, preorder, postorder`    |\n",
    "| N-Queens                | `solveNQueens(n)`                 |\n",
    "| Palindrome Partitioning | `partition(\"aab\")`                |\n",
    "| Word Break              | `wordBreak(\"leetcode\", wordDict)` |\n"
   ]
  }
 ],
 "metadata": {
  "language_info": {
   "name": "python"
  }
 },
 "nbformat": 4,
 "nbformat_minor": 5
}
