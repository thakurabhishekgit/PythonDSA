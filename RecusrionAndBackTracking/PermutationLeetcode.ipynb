{
 "cells": [
  {
   "cell_type": "code",
   "execution_count": 1,
   "id": "53dcf2f6",
   "metadata": {},
   "outputs": [
    {
     "name": "stdout",
     "output_type": "stream",
     "text": [
      "[[1, 2, 3], [1, 3, 2], [2, 1, 3], [2, 3, 1], [3, 2, 1], [3, 1, 2]]\n"
     ]
    }
   ],
   "source": [
    "nums = [1,2,3]\n",
    "def permutation(nums):\n",
    "    res = []\n",
    "    def backtrack(first = 0):\n",
    "        if first == len(nums):\n",
    "            res.append(nums[:])\n",
    "        for i in range(first, len(nums)):\n",
    "            nums[first], nums[i] = nums[i], nums[first]\n",
    "            backtrack(first + 1)\n",
    "            nums[first], nums[i] = nums[i], nums[first]\n",
    "    backtrack()\n",
    "    return res\n",
    "\n",
    "print(permutation(nums))"
   ]
  },
  {
   "cell_type": "code",
   "execution_count": 3,
   "id": "d46138c2",
   "metadata": {},
   "outputs": [
    {
     "name": "stdout",
     "output_type": "stream",
     "text": [
      "[[1, 2, 3], [1, 3, 2], [2, 1, 3], [2, 3, 1], [3, 1, 2], [3, 2, 1]]\n"
     ]
    }
   ],
   "source": [
    "from itertools import permutations\n",
    "\n",
    "\n",
    "list_perms = [list(p) for p in permutations(nums)]\n",
    "print(list_perms)\n"
   ]
  },
  {
   "cell_type": "markdown",
   "id": "bd6f6947",
   "metadata": {},
   "source": [
    "| Depth | Array State | Swap (first, i) | Notes                    |\n",
    "| ----- | ----------- | --------------- | ------------------------ |\n",
    "| 0     | \\[1, 2, 3]  | (0, 0)          | Start                    |\n",
    "| 1     | \\[1, 2, 3]  | (1, 1)          |                          |\n",
    "| 2     | \\[1, 2, 3]  | (2, 2)          | Found → `[1, 2, 3]`      |\n",
    "| 2     | \\[1, 3, 2]  | (2, 2)          | Backtrack and swap (2,2) |\n",
    "| 1     | \\[1, 3, 2]  | (1, 2)          | Swap 2 and 3             |\n",
    "| 2     | \\[1, 3, 2]  | (2, 2)          | Found → `[1, 3, 2]`      |\n",
    "| 0     | \\[2, 1, 3]  | (0, 1)          | Swap 1 and 2             |\n",
    "| 1     | \\[2, 1, 3]  | (1, 1)          |                          |\n",
    "| 2     | \\[2, 1, 3]  | (2, 2)          | Found → `[2, 1, 3]`      |\n",
    "| 1     | \\[2, 3, 1]  | (1, 2)          |                          |\n",
    "| 2     | \\[2, 3, 1]  | (2, 2)          | Found → `[2, 3, 1]`      |\n",
    "| 0     | \\[3, 2, 1]  | (0, 2)          |                          |\n",
    "| 1     | \\[3, 2, 1]  | (1, 1)          |                          |\n",
    "| 2     | \\[3, 2, 1]  | (2, 2)          | Found → `[3, 2, 1]`      |\n",
    "| 1     | \\[3, 1, 2]  | (1, 2)          |                          |\n",
    "| 2     | \\[3, 1, 2]  | (2, 2)          | Found → `[3, 1, 2]`      |\n"
   ]
  },
  {
   "cell_type": "code",
   "execution_count": 4,
   "id": "cbcf8230",
   "metadata": {},
   "outputs": [
    {
     "name": "stdout",
     "output_type": "stream",
     "text": [
      "123549876\n"
     ]
    }
   ],
   "source": [
    "# 2375. Construct Smallest Number From DI String\n",
    "# Solved\n",
    "# Medium\n",
    "# Topics\n",
    "# premium lock icon\n",
    "# Companies\n",
    "# Hint\n",
    "# You are given a 0-indexed string pattern of length n consisting of the characters 'I' meaning increasing and 'D' meaning decreasing.\n",
    "\n",
    "# A 0-indexed string num of length n + 1 is created using the following conditions:\n",
    "\n",
    "# num consists of the digits '1' to '9', where each digit is used at most once.\n",
    "# If pattern[i] == 'I', then num[i] < num[i + 1].\n",
    "# If pattern[i] == 'D', then num[i] > num[i + 1].\n",
    "# Return the lexicographically smallest possible string num that meets the conditions.\n",
    "\n",
    " \n",
    "\n",
    "# Example 1:\n",
    "\n",
    "# Input: pattern = \"IIIDIDDD\"\n",
    "# Output: \"123549876\"\n",
    "# Explanation:\n",
    "# At indices 0, 1, 2, and 4 we must have that num[i] < num[i+1].\n",
    "# At indices 3, 5, 6, and 7 we must have that num[i] > num[i+1].\n",
    "# Some possible values of num are \"245639871\", \"135749862\", and \"123849765\".\n",
    "# It can be proven that \"123549876\" is the smallest possible num that meets the conditions.\n",
    "# Note that \"123414321\" is not possible because the digit '1' is used more than once.\n",
    "# Example 2:\n",
    "\n",
    "# Input: pattern = \"DDD\"\n",
    "# Output: \"4321\"\n",
    "# Explanation:\n",
    "# Some possible values of num are \"9876\", \"7321\", and \"8742\".\n",
    "# It can be proven that \"4321\" is the smallest possible num that meets the conditions.\n",
    " \n",
    "\n",
    "\n",
    "class Solution:\n",
    "    def smallestNumber(self, pattern: str) -> str:\n",
    "        stack = []\n",
    "        res = []\n",
    "        for i in range(len(pattern) + 1):\n",
    "            stack.append(i + 1)\n",
    "            if i == len(pattern) or pattern[i] == 'I':\n",
    "                while stack:\n",
    "                    res.append(stack.pop())\n",
    "        return ''.join(map(str, res))\n",
    "\n",
    "print(Solution.smallestNumber(Solution, \"IIIDIDDD\"))"
   ]
  },
  {
   "cell_type": "markdown",
   "id": "45f1ff3f",
   "metadata": {},
   "source": [
    "| i | pattern\\[i] | push | stack         | pattern triggers pop? | result                       |\n",
    "| - | ----------- | ---- | ------------- | --------------------- | ---------------------------- |\n",
    "| 0 | 'I'         | 1    | \\[1]          | ✅ (I)                 | \\[1]                         |\n",
    "| 1 | 'I'         | 2    | \\[2]          | ✅ (I)                 | \\[1, 2]                      |\n",
    "| 2 | 'I'         | 3    | \\[3]          | ✅ (I)                 | \\[1, 2, 3]                   |\n",
    "| 3 | 'D'         | 4    | \\[4]          | ❌                     | \\[1, 2, 3]                   |\n",
    "| 4 | 'I'         | 5    | \\[4, 5]       | ✅ (I)                 | \\[1, 2, 3, 5, 4]             |\n",
    "| 5 | 'D'         | 6    | \\[6]          | ❌                     | \\[1, 2, 3, 5, 4]             |\n",
    "| 6 | 'D'         | 7    | \\[6, 7]       | ❌                     | \\[1, 2, 3, 5, 4]             |\n",
    "| 7 | 'D'         | 8    | \\[6, 7, 8]    | ❌                     | \\[1, 2, 3, 5, 4]             |\n",
    "| 8 | -           | 9    | \\[6, 7, 8, 9] | ✅ (end of pattern)    | \\[1, 2, 3, 5, 4, 9, 8, 7, 6] |\n"
   ]
  },
  {
   "cell_type": "code",
   "execution_count": null,
   "id": "89acb052",
   "metadata": {},
   "outputs": [],
   "source": []
  }
 ],
 "metadata": {
  "kernelspec": {
   "display_name": "Python 3",
   "language": "python",
   "name": "python3"
  },
  "language_info": {
   "codemirror_mode": {
    "name": "ipython",
    "version": 3
   },
   "file_extension": ".py",
   "mimetype": "text/x-python",
   "name": "python",
   "nbconvert_exporter": "python",
   "pygments_lexer": "ipython3",
   "version": "3.11.5"
  }
 },
 "nbformat": 4,
 "nbformat_minor": 5
}
