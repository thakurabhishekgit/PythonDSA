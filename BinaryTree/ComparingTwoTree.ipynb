{
 "cells": [
  {
   "cell_type": "markdown",
   "id": "c7547f48",
   "metadata": {},
   "source": [
    "| Task        | What You Check                              |\n",
    "| ----------- | ------------------------------------------- |\n",
    "| Same Tree   | Structure and values of both trees match    |\n",
    "| Mirror Tree | One tree is a mirror of the other           |\n",
    "| Subtree     | One tree exists as a subtree inside another |\n",
    "| Merging     | Combine values and structure of both trees  |\n"
   ]
  },
  {
   "cell_type": "code",
   "execution_count": null,
   "id": "d3ee5c28",
   "metadata": {},
   "outputs": [],
   "source": [
    "# 100. Same Tree\n",
    "# Solved\n",
    "# Easy\n",
    "# Topics\n",
    "# premium lock icon\n",
    "# Companies\n",
    "# Given the roots of two binary trees p and q, write a function to check if they are the same or not.\n",
    "\n",
    "# Two binary trees are considered the same if they are structurally identical, and the nodes have the same value.\n",
    "\n",
    " \n",
    "\n",
    "# Example 1:\n",
    "\n",
    "\n",
    "# Input: p = [1,2,3], q = [1,2,3]\n",
    "# Output: true\n",
    "# Example 2:\n",
    "\n",
    "\n",
    "# Input: p = [1,2], q = [1,null,2]\n",
    "# Output: false\n",
    "# Example 3:\n",
    "\n",
    "\n",
    "# Input: p = [1,2,1], q = [1,1,2]\n",
    "# Output: false\n",
    " \n",
    "\n",
    "# Constraints:\n",
    "\n",
    "# The number of nodes in both trees is in the range [0, 100].\n",
    "# -104 <= Node.val <= 104\n",
    "\n",
    "\n",
    "# Definition for a binary tree node.\n",
    "class TreeNode:\n",
    "    def __init__(self, val=0, left=None, right=None):\n",
    "        self.val = val\n",
    "        self.left = left\n",
    "        self.right = right\n",
    "class Solution:\n",
    "    def isSameTree(self, p: Optional[TreeNode], q: Optional[TreeNode]) -> bool:\n",
    "        if not p and not q:\n",
    "            return True\n",
    "        if not p or not q or p.val != q.val:\n",
    "            return False\n",
    "        return self.isSameTree(p.left , q.left) and  self.isSameTree(p.right , q.right)\n",
    "\n",
    "    \n",
    "        \n"
   ]
  }
 ],
 "metadata": {
  "kernelspec": {
   "display_name": "Python 3",
   "language": "python",
   "name": "python3"
  },
  "language_info": {
   "name": "python",
   "version": "3.11.5"
  }
 },
 "nbformat": 4,
 "nbformat_minor": 5
}
