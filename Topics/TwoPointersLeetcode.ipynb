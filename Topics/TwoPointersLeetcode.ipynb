{
 "cells": [
  {
   "cell_type": "code",
   "execution_count": null,
   "id": "768b0df4",
   "metadata": {},
   "outputs": [
    {
     "data": {
      "text/plain": [
       "[[1, 6], [2, 3], [3, 2], [4, 6]]"
      ]
     },
     "execution_count": 17,
     "metadata": {},
     "output_type": "execute_result"
    }
   ],
   "source": [
    "#my normal approach\n",
    "nums1 = [[1,2],[2,3],[4,5]]\n",
    "nums2 = [[1,4],[3,2],[4,1]]\n",
    "\n",
    "a = []\n",
    "\n",
    "for i in range (len(nums1)):\n",
    "    if nums1[i][0] == nums2[i][0]:\n",
    "        summ = nums1[i][1] + nums2[i][1]\n",
    "        a.append([nums1[i][0], summ])\n",
    "    else :\n",
    "        minn = min([nums1[i][0],nums1[i][1]],[nums2[i][0],nums2[i][1]]) \n",
    "        a.append(minn)  \n",
    "        a.append([nums2[i][0],nums2[i][1]])\n",
    "\n",
    "min_len = min(len(nums1), len(nums2))        \n",
    "if len(nums1) > len(nums2):\n",
    "    a.extend(nums1[min_len:])\n",
    "\n",
    "# If nums2 has extra elements, append them to 'a'\n",
    "if len(nums2) > len(nums1):\n",
    "    a.extend(nums2[min_len:])    \n",
    "a        "
   ]
  },
  {
   "cell_type": "code",
   "execution_count": null,
   "id": "0fc8a668",
   "metadata": {},
   "outputs": [],
   "source": [
    "\n",
    "#leetcode 2750 Merge Two 2D Arrays by Summing Values\n",
    "#two pointer approach\n",
    "nums1 = [[1, 2], [2, 3], [4, 5]]\n",
    "nums2 = [[1, 4], [3, 2], [4, 1], [6, 7]]  # nums2 has an extra pair\n",
    "\n",
    "a = []\n",
    "i, j = 0, 0  # Pointers for nums1 and nums2\n",
    "\n",
    "while i < len(nums1) and j < len(nums2):\n",
    "    if nums1[i][0] == nums2[j][0]:\n",
    "        # If the keys are the same, sum the values\n",
    "        summ = nums1[i][1] + nums2[j][1]\n",
    "        a.append([nums1[i][0], summ])\n",
    "        i += 1\n",
    "        j += 1\n",
    "    else:\n",
    "        # Add the pair with the smaller key first\n",
    "        if nums1[i][0] < nums2[j][0]:\n",
    "            a.append(nums1[i])\n",
    "            i += 1\n",
    "        else:\n",
    "            a.append(nums2[j])\n",
    "            j += 1\n",
    "\n",
    "# If there are remaining elements in nums1\n",
    "while i < len(nums1):\n",
    "    a.append(nums1[i])\n",
    "    i += 1\n",
    "\n",
    "# If there are remaining elements in nums2\n",
    "while j < len(nums2):\n",
    "    a.append(nums2[j])\n",
    "    j += 1\n",
    "\n",
    "# Result\n",
    "print(a)\n"
   ]
  },
  {
   "cell_type": "code",
   "execution_count": 22,
   "id": "343a18ce",
   "metadata": {},
   "outputs": [
    {
     "name": "stdout",
     "output_type": "stream",
     "text": [
      "Counter({1: 6, 4: 6, 2: 3, 3: 2})\n",
      "[[1, 6], [2, 3], [3, 2], [4, 6]]\n"
     ]
    }
   ],
   "source": [
    "#using Hashmap\n",
    "from collections import Counter\n",
    "\n",
    "nums1 = [[1, 2], [2, 3], [4, 5]]\n",
    "nums2 = [[1, 4], [3, 2], [4, 1]]\n",
    "\n",
    "final = nums1 + nums2\n",
    "\n",
    "# Create a hashmap using Counter\n",
    "hashmap = Counter()\n",
    "\n",
    "for key, value in final:\n",
    "    hashmap[key] += value\n",
    "\n",
    "# Optional: Convert to sorted list of [key, value] pairs\n",
    "result = sorted([[key, value] for key, value in hashmap.items()])\n",
    "\n",
    "print(hashmap)\n",
    "print(result)\n"
   ]
  },
  {
   "cell_type": "code",
   "execution_count": null,
   "id": "af1bf260",
   "metadata": {},
   "outputs": [],
   "source": []
  },
  {
   "cell_type": "code",
   "execution_count": 24,
   "id": "2e93414b",
   "metadata": {},
   "outputs": [
    {
     "name": "stdout",
     "output_type": "stream",
     "text": [
      "Counter({1: 11, 2: 3})\n"
     ]
    }
   ],
   "source": [
    "from collections import Counter\n",
    "\n",
    "final = [(1, 2), (2, 3), (1, 4), (1, 5)]\n",
    "hashmap = Counter()\n",
    "\n",
    "for key, value in final:\n",
    "    hashmap[key] += value  # Instead of summing, we increment the count\n",
    "\n",
    "print(hashmap)\n"
   ]
  },
  {
   "cell_type": "code",
   "execution_count": null,
   "id": "80e19a7d",
   "metadata": {},
   "outputs": [
    {
     "name": "stdout",
     "output_type": "stream",
     "text": [
      "[1, 2, 2, 3, 5, 6]\n"
     ]
    }
   ],
   "source": [
    "#merge sorted array\n",
    "\n",
    "from typing import List\n",
    "\n",
    "\n",
    "class Solution:\n",
    "    def merge(self, nums1: List[int], m: int, nums2: List[int], n: int) -> None:\n",
    "        # Pointer for the last element in the merged array\n",
    "        i, j, k = m - 1, n - 1, m + n - 1\n",
    "        \n",
    "        # Merge in reverse order\n",
    "        while i >= 0 and j >= 0:\n",
    "            if nums1[i] > nums2[j]:\n",
    "                nums1[k] = nums1[i]\n",
    "                i -= 1\n",
    "            else:\n",
    "                nums1[k] = nums2[j]\n",
    "                j -= 1\n",
    "            k -= 1\n",
    "        \n",
    "        # If nums2 still has elements left, copy them\n",
    "        while j >= 0:\n",
    "            nums1[k] = nums2[j]\n",
    "            j -= 1\n",
    "            k -= 1\n",
    "\n",
    "\n",
    "s = Solution()\n",
    "nums1 = [1,2,3,0,0,0]\n",
    "m = 3\n",
    "nums2 = [2,5,6]\n",
    "n = 3\n",
    "s.merge(nums1, m, nums2, n)\n",
    "print(nums1)"
   ]
  },
  {
   "cell_type": "code",
   "execution_count": null,
   "id": "f675733b",
   "metadata": {},
   "outputs": [
    {
     "name": "stdout",
     "output_type": "stream",
     "text": [
      "[3, -2, 1, -5, 2, -4]\n"
     ]
    }
   ],
   "source": [
    "# reagrrange array elements by sign\n",
    "nums = [3,1,-2,-5,2,-4]\n",
    "positive = [num for num in nums if num > 0]\n",
    "negative = [num for num in nums if num < 0]\n",
    "result = []\n",
    "\n",
    "for i in range(len(positive)):\n",
    "    result.append(positive[i])\n",
    "    \n",
    "    result.append(negative[i])\n",
    "print(result)"
   ]
  },
  {
   "cell_type": "code",
   "execution_count": 45,
   "id": "e1ea8311",
   "metadata": {},
   "outputs": [
    {
     "name": "stdout",
     "output_type": "stream",
     "text": [
      "[0, 1, 2, 3, 4, 2, 2, 3, 3, 4]\n"
     ]
    }
   ],
   "source": [
    "class Solution:\n",
    "    def removeDuplicates(self, nums: List[int]) -> int:\n",
    "        if not nums:\n",
    "            return 0\n",
    "        \n",
    "        i = 0  # slow pointer\n",
    "        for j in range(1, len(nums)):  # fast pointer\n",
    "            if nums[j] != nums[i]:\n",
    "                i += 1\n",
    "                nums[i] = nums[j]\n",
    "        \n",
    "        return i + 1\n",
    "    \n",
    "s = Solution()\n",
    "nums = [0,0,1,1,1,2,2,3,3,4]\n",
    "s.removeDuplicates(nums)\n",
    "print(nums)    "
   ]
  },
  {
   "cell_type": "code",
   "execution_count": null,
   "id": "7b30bf6c",
   "metadata": {},
   "outputs": [],
   "source": [
    "nums = [1,2,3,4,5,6,7]\n",
    "k = 3\n",
    "\n",
    "def rotate(nums, k):\n",
    "    n = len(nums)\n",
    "    k = k % n\n",
    "    nums[:] = nums[n-k:] + nums[:n-k]\n",
    "    return nums\n",
    "\n",
    "rotate(nums, k)"
   ]
  },
  {
   "cell_type": "code",
   "execution_count": 8,
   "id": "31bd4157",
   "metadata": {},
   "outputs": [
    {
     "name": "stdout",
     "output_type": "stream",
     "text": [
      "[-2, -1, 0, 0, 1, 1, 2, 2, 2, 3, 3, 4, 4, 5, 6]\n",
      "{0, 1, 2, 3, 4, 5, 6, -1, -2}\n"
     ]
    }
   ],
   "source": [
    "nums = [2,2,2,2,2]\n",
    "key = 2\n",
    "k = 2\n",
    "result = []\n",
    "j = [i for i in range(len(nums)) if nums[i] == key] #2,5\n",
    "\n",
    "for i in j:\n",
    "    result.append(i - k)\n",
    "    result.append(i + k)\n",
    "    result.append(i)\n",
    "\n",
    "print(sorted(result))\n",
    "print(set(result))"
   ]
  },
  {
   "cell_type": "code",
   "execution_count": 21,
   "id": "a3a4c5d5",
   "metadata": {},
   "outputs": [
    {
     "name": "stdout",
     "output_type": "stream",
     "text": [
      "2\n"
     ]
    }
   ],
   "source": [
    "plants = [2,2,3,3]\n",
    "capacityA = 5\n",
    "capacityB = 5\n",
    "capA = capacityA\n",
    "capB = capacityB\n",
    "alic , bob  = 0 , len(plants) - 1\n",
    "res = 0\n",
    "while alic <= bob:\n",
    "    if plants[alic] < capA:\n",
    "        capA -= plants[alic]\n",
    "        alic += 1\n",
    "    else:\n",
    "        res +=1 \n",
    "        capA += capacityA\n",
    "    \n",
    "    if plants[bob] < capB:\n",
    "        capB -= plants[bob]\n",
    "        bob -= 1\n",
    "    else:\n",
    "        res +=1 \n",
    "        capB += capacityB\n",
    "    \n",
    "\n",
    "\n",
    "print(res)\n",
    "    # elif plants[bob] < capacityB:\n",
    "    #     capacityB -= plants[bob]\n",
    "    #     bob -= 1    "
   ]
  },
  {
   "cell_type": "code",
   "execution_count": null,
   "id": "8ca3e59a",
   "metadata": {},
   "outputs": [],
   "source": []
  }
 ],
 "metadata": {
  "kernelspec": {
   "display_name": "Python 3",
   "language": "python",
   "name": "python3"
  },
  "language_info": {
   "codemirror_mode": {
    "name": "ipython",
    "version": 3
   },
   "file_extension": ".py",
   "mimetype": "text/x-python",
   "name": "python",
   "nbconvert_exporter": "python",
   "pygments_lexer": "ipython3",
   "version": "3.11.5"
  }
 },
 "nbformat": 4,
 "nbformat_minor": 5
}
