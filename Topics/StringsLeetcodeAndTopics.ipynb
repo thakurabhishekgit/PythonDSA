{
 "cells": [
  {
   "cell_type": "code",
   "execution_count": 38,
   "id": "ce1ef2d1",
   "metadata": {},
   "outputs": [
    {
     "data": {
      "text/plain": [
       "['h', 'e', 'l', 'l', 'o']"
      ]
     },
     "execution_count": 38,
     "metadata": {},
     "output_type": "execute_result"
    }
   ],
   "source": [
    "s = \"hello world\"\n",
    "# Output: \"olleh dlrow\"\n",
    "' '.join(word[::-1] for word in s.split())\n",
    "\n",
    "\n",
    "s = \"hello world\"\n",
    "# Output: \"world hello\"\n",
    "' '.join(s.split()[::-1])\n",
    "\n",
    "\n",
    "s = \"hello world\"\n",
    "# Output: \"dlrow olleh\"\n",
    "s[::-1]\n",
    "\n",
    "\n",
    "s = \"h e l l o\"\n",
    "# Output: \"hello\"\n",
    "s.replace(\" \", \"\")\n",
    "\n",
    "\n",
    "s = \"  hello   world  \"\n",
    "# Output: \"hello world\"\n",
    "' '.join(s.split())\n",
    "\n",
    "\n",
    "import re\n",
    "s = \"A man, a plan, a canal: Panama\"\n",
    "# Output: True\n",
    "s = re.sub(r'[^a-z0-9]', '', s.lower())\n",
    "s == s[::-1]\n",
    "\n",
    "\n",
    "from collections import Counter\n",
    "s = \"programming\"\n",
    "# Output: Counter({'g':2, 'r':2, ...})\n",
    "Counter(s)\n",
    "\n",
    "from collections import Counter\n",
    "s1, s2 = \"listen\", \"silent\"\n",
    "# Output: True\n",
    "Counter(s1) == Counter(s2)\n",
    "\n",
    "\n",
    "s = \"hello\"\n",
    "# Output: \"h*ll*\"\n",
    "''.join('*' if ch in 'aeiou' else ch for ch in s)\n",
    "\n",
    "\n",
    "lst = ['h', 'e', 'l', 'l', 'o']\n",
    "''.join(lst)  # → \"hello\"\n",
    "list(\"hello\")  # → ['h', 'e', 'l', 'l', 'o']\n",
    "\n",
    "\n",
    "\n"
   ]
  },
  {
   "cell_type": "code",
   "execution_count": 39,
   "id": "f8ae32eb",
   "metadata": {},
   "outputs": [
    {
     "data": {
      "text/plain": [
       "True"
      ]
     },
     "execution_count": 39,
     "metadata": {},
     "output_type": "execute_result"
    }
   ],
   "source": [
    "# 125. Valid Palindrome\n",
    "# Solved\n",
    "# Easy\n",
    "# Topics\n",
    "# Companies\n",
    "# A phrase is a palindrome if, after converting all uppercase letters into lowercase letters and removing all non-alphanumeric characters, it reads the same forward and backward. Alphanumeric characters include letters and numbers.\n",
    "\n",
    "# Given a string s, return true if it is a palindrome, or false otherwise.\n",
    "\n",
    " \n",
    "\n",
    "# Example 1:\n",
    "\n",
    "# Input: s = \"A man, a plan, a canal: Panama\"\n",
    "# Output: true\n",
    "# Explanation: \"amanaplanacanalpanama\" is a palindrome.\n",
    "# Example 2:\n",
    "\n",
    "# Input: s = \"race a car\"\n",
    "# Output: false\n",
    "# Explanation: \"raceacar\" is not a palindrome.\n",
    "\n",
    "\n",
    "import re\n",
    "class Solution:\n",
    "    def isPalindrome(self, s: str) -> bool:\n",
    "        s = re.sub(r'[^a-z0-9]' , '' , s.lower())\n",
    "        if s == s[::-1]:\n",
    "            return True\n",
    "        else:\n",
    "            return False    \n",
    "        \n",
    "s = Solution()\n",
    "s.isPalindrome(\"A man, a plan, a canal: Panama\")        "
   ]
  },
  {
   "cell_type": "code",
   "execution_count": 40,
   "id": "3c133d19",
   "metadata": {},
   "outputs": [
    {
     "name": "stdout",
     "output_type": "stream",
     "text": [
      "['o', 'l', 'l', 'e', 'h']\n"
     ]
    }
   ],
   "source": [
    "import re\n",
    "\n",
    "s = [\"H\", \"e\", \"L\", \"L\", \"o\", \"!\", \"1\"]\n",
    "s = ''.join(s)\n",
    "s = re.sub(r'[^a-z]', '', s.lower())\n",
    "\n",
    "result = list(reversed(s))\n",
    "\n",
    "print(result) \n"
   ]
  },
  {
   "cell_type": "code",
   "execution_count": 41,
   "id": "d7534b83",
   "metadata": {},
   "outputs": [],
   "source": [
    "# 344. Reverse String\n",
    "# Solved\n",
    "# Easy\n",
    "# Topics\n",
    "# Companies\n",
    "# Hint\n",
    "# Write a function that reverses a string. The input string is given as an array of characters s.\n",
    "\n",
    "# You must do this by modifying the input array in-place with O(1) extra memory.\n",
    "\n",
    " \n",
    "\n",
    "# Example 1:\n",
    "\n",
    "# Input: s = [\"h\",\"e\",\"l\",\"l\",\"o\"]\n",
    "# Output: [\"o\",\"l\",\"l\",\"e\",\"h\"]\n",
    "# Example 2:\n",
    "\n",
    "# Input: s = [\"H\",\"a\",\"n\",\"n\",\"a\",\"h\"]\n",
    "# Output: [\"h\",\"a\",\"n\",\"n\",\"a\",\"H\"]\n",
    " \n",
    "from typing import List\n",
    "class Solution:\n",
    "    def reverseString(self, s: List[str]) -> None:\n",
    "        left , right = 0 , len(s) - 1\n",
    "        while left  < right:\n",
    "            s[left] , s[right] = s[right] , s[left]\n",
    "            left += 1\n",
    "            right -= 1\n",
    "        \n",
    "s = Solution()\n",
    "s.reverseString([\"h\",\"e\",\"l\",\"l\",\"o\"])        "
   ]
  },
  {
   "cell_type": "code",
   "execution_count": 51,
   "id": "a942bd60",
   "metadata": {},
   "outputs": [
    {
     "data": {
      "text/plain": [
       "'fedcbadb'"
      ]
     },
     "execution_count": 51,
     "metadata": {},
     "output_type": "execute_result"
    }
   ],
   "source": [
    "# 2000. Reverse Prefix of Word\n",
    "# Easy\n",
    "# Topics\n",
    "# Companies\n",
    "# Hint\n",
    "# Given a 0-indexed string word and a character ch, reverse the segment of word that starts at index 0 and ends at the index of the first occurrence of ch (inclusive). If the character ch does not exist in word, do nothing.\n",
    "\n",
    "# For example, if word = \"abcdefd\" and ch = \"d\", then you should reverse the segment that starts at 0 and ends at 3 (inclusive). The resulting string will be \"dcbaefd\".\n",
    "# Return the resulting string.\n",
    "\n",
    " \n",
    "\n",
    "# Example 1:\n",
    "\n",
    "# Input: word = \"abcdefd\", ch = \"d\"\n",
    "# Output: \"dcbaefd\"\n",
    "# Explanation: The first occurrence of \"d\" is at index 3. \n",
    "# Reverse the part of word from 0 to 3 (inclusive), the resulting string is \"dcbaefd\".\n",
    "# Example 2:\n",
    "\n",
    "# Input: word = \"xyxzxe\", ch = \"z\"\n",
    "# Output: \"zxyxxe\"\n",
    "# Explanation: The first and only occurrence of \"z\" is at index 3.\n",
    "# Reverse the part of word from 0 to 3 (inclusive), the resulting string is \"zxyxxe\".\n",
    "# Example 3:\n",
    "\n",
    "# Input: word = \"abcd\", ch = \"z\"\n",
    "# Output: \"abcd\"\n",
    "# Explanation: \"z\" does not exist in word.\n",
    "# You should not do any reverse operation, the resulting string is \"abcd\".\n",
    " \n",
    "word = \"abcdefdb\"\n",
    "ch = \"f\"\n",
    "\n",
    "class Solution:\n",
    "    def reversePrefix(self, word: str, ch: str) -> str:\n",
    "        if ch not in word:\n",
    "            return word\n",
    "        return \"\".join(reversed(word[:word.index(ch)+1])) + word[word.index(ch)+1:]\n",
    "s = Solution()\n",
    "s.reversePrefix(word , ch)    "
   ]
  },
  {
   "cell_type": "code",
   "execution_count": 43,
   "id": "dc93154c",
   "metadata": {},
   "outputs": [
    {
     "name": "stdout",
     "output_type": "stream",
     "text": [
      "AceCreIm\n"
     ]
    }
   ],
   "source": [
    "# 345. Reverse Vowels of a String\n",
    "# Solved\n",
    "# Easy\n",
    "# Topics\n",
    "# Companies\n",
    "# Given a string s, reverse only all the vowels in the string and return it.\n",
    "\n",
    "# The vowels are 'a', 'e', 'i', 'o', and 'u', and they can appear in both lower and upper cases, more than once.\n",
    "\n",
    " \n",
    "\n",
    "# Example 1:\n",
    "\n",
    "# Input: s = \"IceCreAm\"\n",
    "\n",
    "# Output: \"AceCreIm\"\n",
    "\n",
    "# Explanation:\n",
    "\n",
    "# The vowels in s are ['I', 'e', 'e', 'A']. On reversing the vowels, s becomes \"AceCreIm\".\n",
    "\n",
    "# Example 2:\n",
    "\n",
    "# Input: s = \"leetcode\"\n",
    "\n",
    "# Output: \"leotcede\"\n",
    "\n",
    " \n",
    "\n",
    "# Constraints:\n",
    "\n",
    "# 1 <= s.length <= 3 * 105\n",
    "# s consist of printable ASCII characters.\n",
    "\n",
    "s = \"IceCreAm\"\n",
    "def reverseVowels(s: str) -> str:\n",
    "    vowels = set('aeiouAEIOU')\n",
    "    s = list(s)\n",
    "    left, right = 0, len(s) - 1\n",
    "\n",
    "    while left < right:\n",
    "        while left < right and s[left] not in vowels:\n",
    "            left += 1\n",
    "        while left < right and s[right] not in vowels:\n",
    "            right -= 1\n",
    "        s[left], s[right] = s[right], s[left]\n",
    "        left += 1\n",
    "        right -= 1\n",
    "\n",
    "    return ''.join(s)\n",
    "\n",
    "print(reverseVowels(\"IceCreAm\"))  \n",
    "\n"
   ]
  },
  {
   "cell_type": "code",
   "execution_count": 44,
   "id": "c5db7dda",
   "metadata": {},
   "outputs": [
    {
     "name": "stdout",
     "output_type": "stream",
     "text": [
      "blue is sky the\n",
      "blue is sky the\n"
     ]
    }
   ],
   "source": [
    "s = \"the sky is blue\"\n",
    "\n",
    "\n",
    "words = s.split()  # ['the', 'sky', 'is', 'blue']\n",
    "reversed_words = words[::-1]  # ['blue', 'is', 'sky', 'the']\n",
    "result = ' '.join(reversed_words)\n",
    "\n",
    "print(result)  # Output: 'blue is sky the'\n",
    "\n",
    "print(' '.join(s.split()[::-1]))\n",
    "\n",
    "\n",
    "\n"
   ]
  },
  {
   "cell_type": "code",
   "execution_count": 45,
   "id": "64ee2b02",
   "metadata": {},
   "outputs": [
    {
     "data": {
      "text/plain": [
       "'blue is sky the'"
      ]
     },
     "execution_count": 45,
     "metadata": {},
     "output_type": "execute_result"
    }
   ],
   "source": [
    "# 151. Reverse Words in a String\n",
    "# Solved\n",
    "# Medium\n",
    "# Topics\n",
    "# Companies\n",
    "# Given an input string s, reverse the order of the words.\n",
    "\n",
    "# A word is defined as a sequence of non-space characters. The words in s will be separated by at least one space.\n",
    "\n",
    "# Return a string of the words in reverse order concatenated by a single space.\n",
    "\n",
    "# Note that s may contain leading or trailing spaces or multiple spaces between two words. The returned string should only have a single space separating the words. Do not include any extra spaces.\n",
    "\n",
    " \n",
    "\n",
    "# Example 1:\n",
    "\n",
    "# Input: s = \"the sky is blue\"\n",
    "# Output: \"blue is sky the\"\n",
    "# Example 2:\n",
    "\n",
    "# Input: s = \"  hello world  \"\n",
    "# Output: \"world hello\"\n",
    "# Explanation: Your reversed string should not contain leading or trailing spaces.\n",
    "# Example 3:\n",
    "\n",
    "# Input: s = \"a good   example\"\n",
    "# Output: \"example good a\"\n",
    "# Explanation: You need to reduce multiple spaces between two words to a single space in the reversed string.\n",
    "\n",
    "class Solution:\n",
    "    def reverseWords(self, s: str) -> str:\n",
    "        return ' '.join(s.split()[::-1])\n",
    "        \n",
    "s = Solution()\n",
    "s.reverseWords(\"the sky is blue\")"
   ]
  },
  {
   "cell_type": "code",
   "execution_count": 52,
   "id": "cd8b07ce",
   "metadata": {},
   "outputs": [
    {
     "name": "stdout",
     "output_type": "stream",
     "text": [
      "rM gniD\n"
     ]
    }
   ],
   "source": [
    "s = \"Mr Ding\"\n",
    "result = []\n",
    "\n",
    "\n",
    "\n",
    "s = s.split()\n",
    "for ch in s:\n",
    "    ch = ch[::-1]\n",
    "    result.append(ch)\n",
    "\n",
    "print(' '.join(result))\n",
    "\n",
    "\n"
   ]
  },
  {
   "cell_type": "code",
   "execution_count": 53,
   "id": "cd7db18b",
   "metadata": {},
   "outputs": [
    {
     "data": {
      "text/plain": [
       "\"s'teL ekat edoCteeL tsetnoc\""
      ]
     },
     "execution_count": 53,
     "metadata": {},
     "output_type": "execute_result"
    }
   ],
   "source": [
    "# 557. Reverse Words in a String III\n",
    "# Solved\n",
    "# Easy\n",
    "# Topics\n",
    "# Companies\n",
    "# Given a string s, reverse the order of characters in each word within a sentence while still preserving whitespace and initial word order.\n",
    "\n",
    " \n",
    "\n",
    "# Example 1:\n",
    "\n",
    "# Input: s = \"Let's take LeetCode contest\"\n",
    "# Output: \"s'teL ekat edoCteeL tsetnoc\"\n",
    "# Example 2:\n",
    "\n",
    "# Input: s = \"Mr Ding\"\n",
    "# Output: \"rM gniD\"\n",
    "s = \"Let's take LeetCode contest\"\n",
    "def reverseWords( s: str ) -> str:\n",
    "    return ' '.join(word[::-1] for word in s.split())\n",
    " \n",
    "reverseWords(s)"
   ]
  }
 ],
 "metadata": {
  "kernelspec": {
   "display_name": "Python 3",
   "language": "python",
   "name": "python3"
  },
  "language_info": {
   "codemirror_mode": {
    "name": "ipython",
    "version": 3
   },
   "file_extension": ".py",
   "mimetype": "text/x-python",
   "name": "python",
   "nbconvert_exporter": "python",
   "pygments_lexer": "ipython3",
   "version": "3.11.5"
  }
 },
 "nbformat": 4,
 "nbformat_minor": 5
}
