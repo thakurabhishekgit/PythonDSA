{
 "cells": [
  {
   "cell_type": "code",
   "execution_count": 1,
   "id": "09fffa66",
   "metadata": {},
   "outputs": [
    {
     "name": "stdout",
     "output_type": "stream",
     "text": [
      "[[1], [1, 2], [1, 2, 3], [2], [2, 3], [3]]\n"
     ]
    }
   ],
   "source": [
    "arr = [1, 2, 3]\n",
    "subarrays = []\n",
    "\n",
    "for i in range(len(arr)):\n",
    "    for j in range(i, len(arr)):\n",
    "        subarrays.append(arr[i:j+1])\n",
    "\n",
    "print(subarrays)  # Output: [[1], [1, 2], [1, 2, 3], [2], [2, 3], [3]]\n"
   ]
  },
  {
   "cell_type": "code",
   "execution_count": null,
   "id": "10e18e13",
   "metadata": {},
   "outputs": [
    {
     "name": "stdout",
     "output_type": "stream",
     "text": [
      "[[1, 3, -1], [3, -1, -3], [-1, -3, 5], [-3, 5, 3], [5, 3, 6], [3, 6, 7]]\n"
     ]
    }
   ],
   "source": [
    "nums = [1,3,-1,-3,5,3,6,7]\n",
    "k = 3\n",
    "b = []\n",
    "for i in range(0,len(nums)-2):\n",
    "    m = nums[i:k]\n",
    "    b.append(m)\n",
    "    k = k + 1\n",
    "print(b) #[[1, 3, -1], [3, -1, -3], [-1, -3, 5], [-3, 5, 3], [5, 3, 6], [3, 6, 7]]"
   ]
  },
  {
   "cell_type": "code",
   "execution_count": 8,
   "id": "0ff5e237",
   "metadata": {},
   "outputs": [
    {
     "name": "stdout",
     "output_type": "stream",
     "text": [
      "15\n"
     ]
    }
   ],
   "source": [
    "nums = [1, 2, 3, 4, 5, 6]\n",
    "k = 3\n",
    "b = []\n",
    "for i in range(0,len(nums)-2):\n",
    "    m = nums[i:k]\n",
    "    b.append(m)\n",
    "    \n",
    "    k = k + 1\n",
    "print(sum(max(b)))    "
   ]
  },
  {
   "cell_type": "code",
   "execution_count": null,
   "id": "616f93c5",
   "metadata": {},
   "outputs": [
    {
     "name": "stdout",
     "output_type": "stream",
     "text": [
      "15\n"
     ]
    }
   ],
   "source": [
    "nums = [1, 2, 3, 4, 5, 6]\n",
    "k = 3\n",
    "\n",
    "\n",
    "# Sum of the first window (first 3 elements)\n",
    "window_sum = sum(nums[:k])  # window_sum = sum([1, 2, 3]) = 6\n",
    "max_sum = window_sum  # max_sum is initially set to the sum of the first window, which is 6\n",
    "\n",
    "# Now start sliding the window and updating the sum for the new window\n",
    "for i in range(k, len(nums)):  # start from index 3 and iterate until the end of the array\n",
    "    window_sum += nums[i] - nums[i - k]  # slide the window by adding the new element and removing the old one\n",
    "    max_sum = max(max_sum, window_sum)  # update the max_sum if the current window's sum is greater\n",
    "\n",
    "print(max_sum)  # Output the maximum sum of any subarray of size k\n"
   ]
  }
 ],
 "metadata": {
  "kernelspec": {
   "display_name": "Python 3",
   "language": "python",
   "name": "python3"
  },
  "language_info": {
   "codemirror_mode": {
    "name": "ipython",
    "version": 3
   },
   "file_extension": ".py",
   "mimetype": "text/x-python",
   "name": "python",
   "nbconvert_exporter": "python",
   "pygments_lexer": "ipython3",
   "version": "3.11.5"
  }
 },
 "nbformat": 4,
 "nbformat_minor": 5
}
