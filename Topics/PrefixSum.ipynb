{
 "cells": [
  {
   "cell_type": "code",
   "execution_count": null,
   "id": "93924106",
   "metadata": {},
   "outputs": [
    {
     "name": "stdout",
     "output_type": "stream",
     "text": [
      "[-2, 0, 3, -5, 2, -1]\n",
      "[0, -2, -2, 1, -4, -2, -3]\n"
     ]
    }
   ],
   "source": [
    "# finding prefixsum and suffixsum\n",
    "# finding non_increasing and non_decreasing \n",
    "#https://chatgpt.com/share/681c8184-bac8-800a-a225-cdb87c58e232"
   ]
  },
  {
   "cell_type": "code",
   "execution_count": null,
   "id": "ba64c4b9",
   "metadata": {},
   "outputs": [],
   "source": [
    "nums = [-2, 0, 3, -5, 2, -1]\n",
    "print(nums)\n",
    "prefix = [0] * (len(nums) + 1)\n",
    "for i in range(len(nums)):\n",
    "    prefix[i + 1] = prefix[i] + nums[i]\n",
    "print(prefix)"
   ]
  },
  {
   "cell_type": "code",
   "execution_count": 27,
   "id": "dc1bc65f",
   "metadata": {},
   "outputs": [
    {
     "name": "stdout",
     "output_type": "stream",
     "text": [
      "Right Prefix Sum (rightSum): [15, 11, 3, 0]\n"
     ]
    }
   ],
   "source": [
    "nums = [10, 4, 8, 3]\n",
    "n = len(nums)\n",
    "\n",
    "rightSum = [0] * n  # result array\n",
    "\n",
    "# Start from second-last element, move backward\n",
    "for i in range(n - 2, -1, -1):\n",
    "    rightSum[i] = rightSum[i + 1] + nums[i + 1]\n",
    "\n",
    "print(\"Right Prefix Sum (rightSum):\", rightSum)\n"
   ]
  },
  {
   "cell_type": "code",
   "execution_count": null,
   "id": "573b3b7b",
   "metadata": {},
   "outputs": [
    {
     "name": "stdout",
     "output_type": "stream",
     "text": [
      "[0, 1, 3]\n"
     ]
    }
   ],
   "source": [
    "# Input: nums = [2,3,5]\n",
    "# Output: [4,3,5]\n",
    "# Explanation: Assuming the arrays are 0-indexed, then\n",
    "# result[0] = |2-2| + |2-3| + |2-5| = 0 + 1 + 3 = 4,\n",
    "# result[1] = |3-2| + |3-3| + |3-5| = 1 + 0 + 2 = 3,\n",
    "# result[2] = |5-2| + |5-3| + |5-5| = 3 + 2 + 0 = 5.\n",
    "\n",
    "nums = [2,3,5]\n",
    "result = []\n",
    "prefix = [0]*len(nums)\n",
    "for i in range(len(nums)):\n",
    "    prefix[i] = nums[i] - nums[0]\n",
    "print(prefix)\n",
    "    "
   ]
  },
  {
   "cell_type": "code",
   "execution_count": null,
   "id": "d37b0dd8",
   "metadata": {},
   "outputs": [
    {
     "name": "stdout",
     "output_type": "stream",
     "text": [
      "[1, 2, 3, 4]\n",
      "[1, 1, 2, 6]\n",
      "[24, 12, 4, 1]\n",
      "[24, 12, 8, 6]\n"
     ]
    }
   ],
   "source": [
    "# 238. Product of Array Except Self\n",
    "# Medium\n",
    "# Topics\n",
    "# Companies\n",
    "# Hint\n",
    "# Given an integer array nums, return an array answer such that answer[i] is equal to the product of all the elements of nums except nums[i].\n",
    "\n",
    "# The product of any prefix or suffix of nums is guaranteed to fit in a 32-bit integer.\n",
    "\n",
    "# You must write an algorithm that runs in O(n) time and without using the division operation.\n",
    "\n",
    " \n",
    "\n",
    "# Example 1:\n",
    "\n",
    "# Input: nums = [1,2,3,4] leftsum = [1,2,6,24] rightsum = [24, 12, 4 ,1] \n",
    "# Output: [24,12,8,6]  result = righsum[i] * leftsum[i]\n",
    "# Example 2:                \n",
    "# left = [1, 1, 2, 6]\n",
    "# right = [24, 12, 4, 1]\n",
    "# [24, 12, 8, 6]\n",
    "# Input: nums = [-1,1,0,-3,3]\n",
    "# Output: [0,0,9,0,0]\n",
    " \n",
    "\n",
    "\n",
    "\n",
    "nums = [1,2,3,4]\n",
    "result = []\n",
    "print(nums)\n",
    "leftPrefix = [1] * len(nums)\n",
    "rightPrefix = [1] * len(nums)\n",
    "\n",
    "for i in range(1, len(nums)):\n",
    "    leftPrefix[i] = leftPrefix[i - 1] * nums[i - 1]\n",
    "\n",
    "for i in range(len(nums) - 2, -1, -1):\n",
    "    rightPrefix[i] = rightPrefix[i + 1] * nums[i + 1]\n",
    "\n",
    "for i in range(len(nums)):\n",
    "    result.append(leftPrefix[i] * rightPrefix[i])\n",
    "\n",
    "print(leftPrefix)\n",
    "print(rightPrefix)\n",
    "print(result)\n",
    "\n",
    "\n",
    "\n"
   ]
  },
  {
   "cell_type": "code",
   "execution_count": 2,
   "id": "e044ddc8",
   "metadata": {},
   "outputs": [
    {
     "data": {
      "text/plain": [
       "4"
      ]
     },
     "execution_count": 2,
     "metadata": {},
     "output_type": "execute_result"
    }
   ],
   "source": [
    "# Beans\n",
    "# Solved\n",
    "# Medium\n",
    "# Topics\n",
    "# Companies\n",
    "# Hint\n",
    "# You are given an array of positive integers beans, where each integer represents the number of magic beans found in a particular magic bag.\n",
    "\n",
    "# Remove any number of beans (possibly none) from each bag such that the number of beans in each remaining non-empty bag (still containing at least one bean) is equal. Once a bean has been removed from a bag, you are not allowed to return it to any of the bags.\n",
    "\n",
    "# Return the minimum number of magic beans that you have to remove.\n",
    "\n",
    " \n",
    "\n",
    "# Example 1:\n",
    "\n",
    "# Input: beans = [4,1,6,5]\n",
    "# Output: 4\n",
    "# Explanation: \n",
    "# - We remove 1 bean from the bag with only 1 bean.\n",
    "#   This results in the remaining bags: [4,0,6,5]\n",
    "# - Then we remove 2 beans from the bag with 6 beans.\n",
    "#   This results in the remaining bags: [4,0,4,5]\n",
    "# - Then we remove 1 bean from the bag with 5 beans.\n",
    "#   This results in the remaining bags: [4,0,4,4]\n",
    "# We removed a total of 1 + 2 + 1 = 4 beans to make the remaining non-empty bags have an equal number of beans.\n",
    "# There are no other solutions that remove 4 beans or fewer.\n",
    "# Example 2:\n",
    "\n",
    "# Input: beans = [2,10,3,2]\n",
    "# Output: 7\n",
    "# Explanation:\n",
    "# - We remove 2 beans from one of the bags with 2 beans.\n",
    "#   This results in the remaining bags: [0,10,3,2]\n",
    "# - Then we remove 2 beans from the other bag with 2 beans.\n",
    "#   This results in the remaining bags: [0,10,3,0]\n",
    "# - Then we remove 3 beans from the bag with 3 beans. \n",
    "#   This results in the remaining bags: [0,10,0,0]\n",
    "# We removed a total of 2 + 2 + 3 = 7 beans to make the remaining non-empty bags have an equal number of beans.\n",
    "# There are no other solutions that removes 7 beans or fewer\n",
    "\n",
    "\n",
    "\n",
    "class Solution:\n",
    "    def minimumRemoval(self, beans: List[int]) -> int:\n",
    "        beans.sort()\n",
    "        total = sum(beans)\n",
    "        min_removed = float('inf')\n",
    "        \n",
    "        for i in range(len(beans)):\n",
    "            kept = beans[i] * (len(beans) - i)\n",
    "            removed = total - kept\n",
    "            min_removed = min(min_removed , removed)\n",
    "        return min_removed    \n",
    "        \n",
    "s = Solution()\n",
    "s.minimumRemoval([4,1,6,5])        "
   ]
  },
  {
   "cell_type": "code",
   "execution_count": 19,
   "id": "d8e034b9",
   "metadata": {},
   "outputs": [
    {
     "name": "stdout",
     "output_type": "stream",
     "text": [
      "[2, 1, 1, 1, 3, 4, 1]\n",
      "[1, 2, 3, 4, 1, 1, 2]\n",
      "[1, 5, 4, 3, 2, 1, 1]\n",
      "[2, 3]\n"
     ]
    }
   ],
   "source": [
    "# *******\n",
    "def goodIndices(nums, k):\n",
    "    n = len(nums)\n",
    "    non_increasing = [1] * n\n",
    "    non_decreasing = [1] * n\n",
    "    print(nums)\n",
    "\n",
    "    for i in range(1, n):\n",
    "        if nums[i] <= nums[i - 1]:\n",
    "            non_increasing[i] = non_increasing[i - 1] + 1\n",
    "        else:\n",
    "            non_increasing[i] = 1\n",
    "    print(non_increasing)\n",
    "\n",
    "    for i in range(n - 2, -1, -1):\n",
    "        if nums[i] <= nums[i + 1]:\n",
    "            non_decreasing[i] = non_decreasing[i + 1] + 1\n",
    "        else:\n",
    "            non_decreasing[i] = 1\n",
    "    print(non_decreasing)\n",
    "    result = []\n",
    "    for i in range(k, n - k):\n",
    "        if non_increasing[i - 1] >= k and non_decreasing[i + 1] >= k:\n",
    "            result.append(i)\n",
    "\n",
    "    return result\n",
    "\n",
    "# Example test\n",
    "nums = [2,1,1,1,3,4,1]#[878724,201541,179099,98437,35765,327555,475851,598885,849470,943442]\n",
    "k = 2\n",
    "print(goodIndices(nums, k))  # Output: [4, 5]\n"
   ]
  },
  {
   "cell_type": "code",
   "execution_count": null,
   "id": "3e2e1fbd",
   "metadata": {},
   "outputs": [
    {
     "name": "stdout",
     "output_type": "stream",
     "text": [
      "[5, 3, 3, 3, 5, 6, 2]\n",
      "[0, 1, 2, 3, 0, 0, 1]\n",
      "[0, 4, 3, 2, 1, 0, 0]\n",
      "[2, 3]\n"
     ]
    }
   ],
   "source": [
    "#*****\n",
    "from typing import List\n",
    "class Solution:\n",
    "    def goodDaysToRobBank(self, security: List[int], time: int) -> List[int]:\n",
    "        n = len(security)\n",
    "        if n == 0 or time == 0:\n",
    "            return list(range(n))\n",
    "        print(security)\n",
    "        # Step 1: Compute non-increasing days ending at each index\n",
    "        non_inc = [0] * n\n",
    "        for i in range(1, n):\n",
    "            if security[i] <= security[i - 1]:\n",
    "                non_inc[i] = non_inc[i - 1] + 1\n",
    "        print(non_inc)\n",
    "        # Step 2: Compute non-decreasing days starting at each index\n",
    "        non_dec = [0] * n\n",
    "        for i in range(n - 2, -1, -1):\n",
    "            if security[i] <= security[i + 1]:\n",
    "                non_dec[i] = non_dec[i + 1] + 1\n",
    "        print(non_dec)\n",
    "        # Step 3: Collect valid indices\n",
    "        result = []\n",
    "        for i in range(time, n - time):\n",
    "            if non_inc[i] >= time and non_dec[i] >= time:\n",
    "                result.append(i)\n",
    "\n",
    "        return result\n",
    "    \n",
    "s = Solution()\n",
    "print(s.goodDaysToRobBank( [5,3,3,3,5,6,2], 2))    "
   ]
  }
 ],
 "metadata": {
  "kernelspec": {
   "display_name": "Python 3",
   "language": "python",
   "name": "python3"
  },
  "language_info": {
   "codemirror_mode": {
    "name": "ipython",
    "version": 3
   },
   "file_extension": ".py",
   "mimetype": "text/x-python",
   "name": "python",
   "nbconvert_exporter": "python",
   "pygments_lexer": "ipython3",
   "version": "3.11.5"
  }
 },
 "nbformat": 4,
 "nbformat_minor": 5
}
