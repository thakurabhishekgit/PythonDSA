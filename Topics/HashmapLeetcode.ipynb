{
 "cells": [
  {
   "cell_type": "code",
   "execution_count": 51,
   "id": "a347f2b7",
   "metadata": {},
   "outputs": [
    {
     "name": "stdout",
     "output_type": "stream",
     "text": [
      "[3, 4]\n"
     ]
    }
   ],
   "source": [
    "#2956. Find Common Elements Between Two Arrays\n",
    "from collections import Counter\n",
    "nums1 =[4,3,2,3,1]\n",
    "nums2 = [2,2,5,2,3,6]\n",
    "n1 = Counter(nums1)\n",
    "n2 = Counter(nums2)\n",
    "result = []\n",
    "countn1 = 0\n",
    "countn2 = 0\n",
    "for index, count in n1.items():\n",
    "    if index in n2:\n",
    "        countn1 += n1[index]\n",
    "result.append(countn1)        \n",
    "for index, count in n2.items():\n",
    "    if index in n1:\n",
    "        countn2 += n2[index]\n",
    "result.append(countn2)\n",
    "\n",
    "print(result)"
   ]
  },
  {
   "cell_type": "code",
   "execution_count": 52,
   "id": "2dc1546b",
   "metadata": {},
   "outputs": [
    {
     "name": "stdout",
     "output_type": "stream",
     "text": [
      "{1, 2, 3, 4} {2, 3, 5, 6}\n",
      "[3, 4]\n"
     ]
    }
   ],
   "source": [
    "def find_common_counts(nums1, nums2):\n",
    "    set1 = set(nums1)\n",
    "    set2 = set(nums2)\n",
    "    print(set1,set2)\n",
    "    answer1 = sum(1 for num in nums1 if num in set2)\n",
    "    answer2 = sum(1 for num in nums2 if num in set1)\n",
    "\n",
    "    return [answer1, answer2]\n",
    "\n",
    "# Example usage\n",
    "nums1 = [4, 3, 2, 3, 1]\n",
    "nums2 = [2, 2, 5, 2, 3, 6]\n",
    "print(find_common_counts(nums1, nums2))  # Output: [3, 4]\n"
   ]
  },
  {
   "cell_type": "code",
   "execution_count": 1,
   "id": "bc35e96a",
   "metadata": {},
   "outputs": [
    {
     "name": "stdout",
     "output_type": "stream",
     "text": [
      "True\n"
     ]
    }
   ],
   "source": [
    "from collections import Counter\n",
    "from typing import List\n",
    "class Solution:\n",
    "    def uniqueOccurrences(self, arr: List[int]) -> bool:\n",
    "        freq = Counter(arr)                # Count frequencies of elements\n",
    "        occurrences = list(freq.values())  # Extract just the frequency values\n",
    "        return len(occurrences) == len(set(occurrences))  # Check if all frequencies are unique\n",
    "\n",
    "s = Solution()\n",
    "print(s.uniqueOccurrences([1,2,2,1,1,3]))"
   ]
  },
  {
   "cell_type": "code",
   "execution_count": 2,
   "id": "71f5d260",
   "metadata": {},
   "outputs": [
    {
     "name": "stdout",
     "output_type": "stream",
     "text": [
      "{1: 0, 2: 1, 4: 2, 6: 3}\n",
      "[3, 2, 7, 1]\n"
     ]
    }
   ],
   "source": [
    "from typing import List\n",
    "class Solution:\n",
    "    def arrayChange(self, nums: List[int], operations: List[List[int]]) -> List[int]:\n",
    "        \n",
    "        value_to_index = {num: i for i, num in enumerate(nums)}\n",
    "        print(value_to_index)\n",
    "        for old, new in operations:\n",
    "            index = value_to_index[old]\n",
    "            nums[index] = new\n",
    "            \n",
    "            del value_to_index[old]\n",
    "            value_to_index[new] = index\n",
    "            \n",
    "        return nums\n",
    "\n",
    "s = Solution()\n",
    "print(s.arrayChange([1,2,4,6], [[1,3],[4,7],[6,1]]))"
   ]
  },
  {
   "cell_type": "code",
   "execution_count": 55,
   "id": "b50b3e35",
   "metadata": {},
   "outputs": [
    {
     "name": "stdout",
     "output_type": "stream",
     "text": [
      "['Mary', 'Emma', 'John']\n"
     ]
    }
   ],
   "source": [
    "names = [\"Mary\", \"John\", \"Emma\"]\n",
    "heights = [180, 165, 170]\n",
    "\n",
    "combined = list(zip(heights, names))      \n",
    "combined.sort(reverse=True)               \n",
    "\n",
    "sorted_names = [name for height, name in combined] \n",
    "\n",
    "print(sorted_names)\n"
   ]
  },
  {
   "cell_type": "code",
   "execution_count": 56,
   "id": "eb557edd",
   "metadata": {},
   "outputs": [
    {
     "name": "stdout",
     "output_type": "stream",
     "text": [
      "{'Mary': 180, 'John': 165, 'Emma': 170}\n",
      "['Mary', 'Emma', 'John']\n"
     ]
    }
   ],
   "source": [
    "names = [\"Mary\", \"John\", \"Emma\"]\n",
    "heights = [180, 165, 170]\n",
    "\n",
    "hashmap = dict(zip(names, heights))\n",
    "print(hashmap)\n",
    "sorted_names = [name for height, name in sorted(zip(heights, names), reverse=True)] \n",
    "\n",
    "print(sorted_names)"
   ]
  },
  {
   "cell_type": "code",
   "execution_count": 57,
   "id": "17c7c4ea",
   "metadata": {},
   "outputs": [
    {
     "name": "stdout",
     "output_type": "stream",
     "text": [
      "12\n"
     ]
    }
   ],
   "source": [
    "class Solution:\n",
    "    def minNumber(self, nums1: List[int], nums2: List[int]) -> int:\n",
    "        common = set(nums1) & set(nums2)\n",
    "        if common:\n",
    "            return min(common)  \n",
    "        a = min(nums1)\n",
    "        b = min(nums2)\n",
    "        return min(a * 10 + b, b * 10 + a)\n",
    "\n",
    "s = Solution()\n",
    "print(s.minNumber([1,3,5],[2,4,6]))"
   ]
  },
  {
   "cell_type": "code",
   "execution_count": 58,
   "id": "ca87220e",
   "metadata": {},
   "outputs": [],
   "source": [
    "from collections import Counter\n",
    "items1 = [[1,1],[4,5],[3,8]]\n",
    "items2 = [[3,1],[1,5]]\n",
    "\n",
    "hashmap = {}\n",
    "result = []\n",
    "for item in items1:\n",
    "    if item[0] in hashmap:\n",
    "        hashmap[item[0]] += item[1]\n",
    "    else:\n",
    "        hashmap[item[0]] = item[1]\n",
    "\n",
    "for item in items2:\n",
    "    if item[0] in hashmap:\n",
    "        hashmap[item[0]] += item[1]\n",
    "    else:\n",
    "        hashmap[item[0]] = item[1]\n",
    "\n",
    "for key in sorted(hashmap.keys()):\n",
    "    result.append([key, hashmap[key]])\n",
    "  "
   ]
  },
  {
   "cell_type": "code",
   "execution_count": null,
   "id": "14636b60",
   "metadata": {},
   "outputs": [
    {
     "name": "stdout",
     "output_type": "stream",
     "text": [
      "dict_items([(3, 2), (2, 1)])\n",
      "dict_keys([3, 2])\n",
      "dict_values([2, 1])\n"
     ]
    }
   ],
   "source": [
    "from collections import Counter\n",
    "nums = [3,2,3]\n",
    "hashmap = Counter(nums)\n",
    "\n",
    "print(hashmap.items())\n",
    "print(hashmap.keys())\n",
    "print(hashmap.values())"
   ]
  }
 ],
 "metadata": {
  "kernelspec": {
   "display_name": "Python 3",
   "language": "python",
   "name": "python3"
  },
  "language_info": {
   "codemirror_mode": {
    "name": "ipython",
    "version": 3
   },
   "file_extension": ".py",
   "mimetype": "text/x-python",
   "name": "python",
   "nbconvert_exporter": "python",
   "pygments_lexer": "ipython3",
   "version": "3.11.5"
  }
 },
 "nbformat": 4,
 "nbformat_minor": 5
}
