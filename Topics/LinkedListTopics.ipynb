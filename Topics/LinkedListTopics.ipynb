{
 "cells": [
  {
   "cell_type": "code",
   "execution_count": 2,
   "id": "a3b19576",
   "metadata": {},
   "outputs": [
    {
     "ename": "TypeError",
     "evalue": "Node.__init__() takes 1 positional argument but 2 were given",
     "output_type": "error",
     "traceback": [
      "\u001b[1;31m---------------------------------------------------------------------------\u001b[0m",
      "\u001b[1;31mTypeError\u001b[0m                                 Traceback (most recent call last)",
      "Cell \u001b[1;32mIn[2], line 62\u001b[0m\n\u001b[0;32m     59\u001b[0m         \u001b[38;5;28;01mreturn\u001b[39;00m count\n\u001b[0;32m     61\u001b[0m l \u001b[38;5;241m=\u001b[39m Node()\n\u001b[1;32m---> 62\u001b[0m \u001b[43ml\u001b[49m\u001b[38;5;241;43m.\u001b[39;49m\u001b[43mInsertAtEnd\u001b[49m\u001b[43m(\u001b[49m\u001b[38;5;241;43m10\u001b[39;49m\u001b[43m)\u001b[49m\n\u001b[0;32m     63\u001b[0m l\u001b[38;5;241m.\u001b[39mInsertAtEnd(\u001b[38;5;241m20\u001b[39m)\n\u001b[0;32m     64\u001b[0m l\u001b[38;5;241m.\u001b[39mInsertAtEnd(\u001b[38;5;241m30\u001b[39m)\n",
      "Cell \u001b[1;32mIn[2], line 13\u001b[0m, in \u001b[0;36mNode.InsertAtEnd\u001b[1;34m(self, data)\u001b[0m\n\u001b[0;32m     11\u001b[0m \u001b[38;5;28;01mdef\u001b[39;00m \u001b[38;5;21mInsertAtEnd\u001b[39m(\u001b[38;5;28mself\u001b[39m,data):\n\u001b[0;32m     12\u001b[0m     \u001b[38;5;28;01mif\u001b[39;00m \u001b[38;5;28mself\u001b[39m\u001b[38;5;241m.\u001b[39mhead \u001b[38;5;129;01mis\u001b[39;00m \u001b[38;5;28;01mNone\u001b[39;00m:\n\u001b[1;32m---> 13\u001b[0m         \u001b[38;5;28mself\u001b[39m\u001b[38;5;241m.\u001b[39mhead \u001b[38;5;241m=\u001b[39m \u001b[43mNode\u001b[49m\u001b[43m(\u001b[49m\u001b[43mdata\u001b[49m\u001b[43m)\u001b[49m\n\u001b[0;32m     14\u001b[0m     \u001b[38;5;28;01melse\u001b[39;00m:\n\u001b[0;32m     15\u001b[0m         t \u001b[38;5;241m=\u001b[39m \u001b[38;5;28mself\u001b[39m\u001b[38;5;241m.\u001b[39mhead\n",
      "\u001b[1;31mTypeError\u001b[0m: Node.__init__() takes 1 positional argument but 2 were given"
     ]
    }
   ],
   "source": [
    "class Node:\n",
    "    def __init__(self):\n",
    "        self.head = None\n",
    "\n",
    "    def Display(self):\n",
    "        t = self.head\n",
    "        while (t!= None):\n",
    "            print(t.data,\"->\",end=' ')\n",
    "            t = t.next\n",
    "        print()\n",
    "    def InsertAtEnd(self,data):\n",
    "        if self.head is None:\n",
    "            self.head = Node(data)\n",
    "        else:\n",
    "            t = self.head\n",
    "            while t.next is not None:\n",
    "                t = t.next\n",
    "            t.next = Node(data)\n",
    "        return self\n",
    "\n",
    "    def InsertAtBegin(self,data):\n",
    "        new_node = Node(data)\n",
    "        new_node.next = self.head\n",
    "        self.head = new_node\n",
    "        return self\n",
    "\n",
    "    def InsertAtPosition(self,data,pos):\n",
    "        new_node = Node(data)\n",
    "        t = self.head\n",
    "        for i in range(pos-1):\n",
    "            t = t.next\n",
    "        new_node.next = t.next\n",
    "        t.next = new_node\n",
    "        return self\n",
    "\n",
    "    def DeleteAtPosition(self,pos):\n",
    "        t = self.head\n",
    "        for i in range(pos-1):\n",
    "            t = t.next\n",
    "        t.next = t.next.next\n",
    "\n",
    "        return self\n",
    "\n",
    "\n",
    "    def Search(self,data):\n",
    "        t = self.head\n",
    "        while t is not None:\n",
    "            if t.data == data:\n",
    "                return True\n",
    "            t = t.next\n",
    "        return False\n",
    "\n",
    "    def Count(self):\n",
    "        t = self.head\n",
    "        count = 0\n",
    "        while t is not None:\n",
    "            count = count + 1\n",
    "            t = t.next\n",
    "        return count\n",
    "\n",
    "l = Node()\n",
    "l.InsertAtEnd(10)\n",
    "l.InsertAtEnd(20)\n",
    "l.InsertAtEnd(30)\n",
    "l.InsertAtEnd(40)\n",
    "l.InsertAtEnd(50)\n",
    "l.InsertAtEnd(60)\n",
    "l.InsertAtEnd(70)\n",
    "l.InsertAtEnd(80)\n",
    "l.Display()        \n",
    "\n"
   ]
  }
 ],
 "metadata": {
  "kernelspec": {
   "display_name": "Python 3",
   "language": "python",
   "name": "python3"
  },
  "language_info": {
   "codemirror_mode": {
    "name": "ipython",
    "version": 3
   },
   "file_extension": ".py",
   "mimetype": "text/x-python",
   "name": "python",
   "nbconvert_exporter": "python",
   "pygments_lexer": "ipython3",
   "version": "3.11.5"
  }
 },
 "nbformat": 4,
 "nbformat_minor": 5
}
