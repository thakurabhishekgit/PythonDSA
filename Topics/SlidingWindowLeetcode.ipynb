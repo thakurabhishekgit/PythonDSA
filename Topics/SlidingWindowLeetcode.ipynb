{
 "cells": [
  {
   "cell_type": "code",
   "execution_count": null,
   "id": "e68db1bf",
   "metadata": {},
   "outputs": [
    {
     "name": "stdout",
     "output_type": "stream",
     "text": [
      "16\n"
     ]
    }
   ],
   "source": [
    "#finding max sum general code \n",
    "arr = [1, 3, -1, -3, 5, 3, 6, 7]\n",
    "k = 3\n",
    "window_sum = sum(arr[:k])\n",
    "max_sum = window_sum\n",
    "\n",
    "for i in range(k, len(arr)):\n",
    "    window_sum += arr[i] - arr[i - k]\n",
    "    max_sum = max(max_sum, window_sum)\n",
    "print(max_sum)"
   ]
  },
  {
   "cell_type": "code",
   "execution_count": null,
   "id": "458db8fe",
   "metadata": {},
   "outputs": [
    {
     "name": "stdout",
     "output_type": "stream",
     "text": [
      "12.75\n"
     ]
    }
   ],
   "source": [
    "#finding max average \n",
    "from typing import List\n",
    "\n",
    "\n",
    "class Solution:\n",
    "    def findMaxAverage(self, nums: List[int], k: int) -> float:\n",
    "        window_sum = sum(nums[:k])\n",
    "        max_sum = window_sum\n",
    "        for i in  range(k , len(nums)):\n",
    "            window_sum += nums[i] - nums[i - k]\n",
    "            max_sum = max(max_sum , window_sum)\n",
    "        return max_sum/k    \n",
    "\n",
    "s = Solution()\n",
    "print(s.findMaxAverage([1,12,-5,-6,50,3],4))"
   ]
  }
 ],
 "metadata": {
  "kernelspec": {
   "display_name": "Python 3",
   "language": "python",
   "name": "python3"
  },
  "language_info": {
   "codemirror_mode": {
    "name": "ipython",
    "version": 3
   },
   "file_extension": ".py",
   "mimetype": "text/x-python",
   "name": "python",
   "nbconvert_exporter": "python",
   "pygments_lexer": "ipython3",
   "version": "3.11.5"
  }
 },
 "nbformat": 4,
 "nbformat_minor": 5
}
