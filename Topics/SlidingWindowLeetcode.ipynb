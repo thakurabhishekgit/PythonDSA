{
 "cells": [
  {
   "cell_type": "code",
   "execution_count": 6,
   "id": "e68db1bf",
   "metadata": {},
   "outputs": [
    {
     "name": "stdout",
     "output_type": "stream",
     "text": [
      "16\n"
     ]
    }
   ],
   "source": [
    "#finding max sum general code \n",
    "arr = [1, 3, -1, -3, 5, 3, 6, 7]\n",
    "k = 3\n",
    "window_sum = sum(arr[:k])\n",
    "max_sum = window_sum\n",
    "\n",
    "for i in range(k, len(arr)):\n",
    "    window_sum += arr[i] - arr[i - k]\n",
    "    max_sum = max(max_sum, window_sum)\n",
    "print(max_sum)"
   ]
  },
  {
   "cell_type": "code",
   "execution_count": null,
   "id": "cc4ca50f",
   "metadata": {},
   "outputs": [],
   "source": []
  },
  {
   "cell_type": "code",
   "execution_count": null,
   "id": "458db8fe",
   "metadata": {},
   "outputs": [
    {
     "name": "stdout",
     "output_type": "stream",
     "text": [
      "12.75\n"
     ]
    }
   ],
   "source": [
    "#finding max average \n",
    "from typing import List\n",
    "\n",
    "\n",
    "class Solution:\n",
    "    def findMaxAverage(self, nums: List[int], k: int) -> float:\n",
    "        window_sum = sum(nums[:k])\n",
    "        max_sum = window_sum\n",
    "        for i in  range(k , len(nums)):\n",
    "            window_sum += nums[i] - nums[i - k]\n",
    "            max_sum = max(max_sum , window_sum)\n",
    "        return max_sum/k    \n",
    "\n",
    "s = Solution()\n",
    "print(s.findMaxAverage([1,12,-5,-6,50,3],4))"
   ]
  },
  {
   "cell_type": "code",
   "execution_count": 4,
   "id": "79762c9a",
   "metadata": {},
   "outputs": [
    {
     "name": "stdout",
     "output_type": "stream",
     "text": [
      "6\n"
     ]
    }
   ],
   "source": [
    "class Solution:\n",
    "    def longestOnes(self, nums: List[int], k: int) -> int:\n",
    "        left = 0\n",
    "        max_len = 0\n",
    "        zero_count = 0\n",
    "\n",
    "        for right in range(len(nums)):\n",
    "            if nums[right] == 0:\n",
    "                zero_count += 1\n",
    "\n",
    "            while zero_count > k:\n",
    "                if nums[left] == 0:\n",
    "                    zero_count -= 1\n",
    "                left += 1\n",
    "\n",
    "            max_len = max(max_len, right - left + 1)\n",
    "\n",
    "        return max_len\n",
    "\n",
    "s = Solution()\n",
    "print(s.longestOnes([1,1,1,0,0,0,1,1,1,1,0],2))"
   ]
  },
  {
   "cell_type": "code",
   "execution_count": 5,
   "id": "ad0f1037",
   "metadata": {},
   "outputs": [
    {
     "name": "stdout",
     "output_type": "stream",
     "text": [
      "6\n"
     ]
    }
   ],
   "source": [
    "# 1343. Number of Sub-arrays of Size K and Average Greater than or Equal to Threshold\n",
    "# Medium\n",
    "# Topics\n",
    "# Companies\n",
    "# Hint\n",
    "# Given an array of integers arr and two integers k and threshold, return the number of sub-arrays of size k and average greater than or equal to threshold.\n",
    "\n",
    " \n",
    "\n",
    "# Example 1:\n",
    "\n",
    "# Input: arr = [2,2,2,2,5,5,5,8], k = 3, threshold = 4\n",
    "# Output: 3\n",
    "# Explanation: Sub-arrays [2,5,5],[5,5,5] and [5,5,8] have averages 4, 5 and 6 respectively. All other sub-arrays of size 3 have averages less than 4 (the threshold).\n",
    "# Example 2:\n",
    "\n",
    "# Input: arr = [11,13,17,23,29,31,7,5,2,3], k = 3, threshold = 5\n",
    "# Output: 6\n",
    "# Explanation: The first 6 sub-arrays of size 3 have averages greater than 5. Note that averages are not integers.\n",
    " \n",
    "\n",
    "# Constraints:\n",
    "\n",
    "# 1 <= arr.length <= 105\n",
    "# 1 <= arr[i] <= 104\n",
    "# 1 <= k <= arr.length\n",
    "# 0 <= threshold <= 104\n",
    "\n",
    "nums = [11,13,17,23,29,31,7,5,2,3]\n",
    "k = 3\n",
    "threshold = 5\n",
    "count = 0\n",
    "window_sum = sum(nums[0 : k])\n",
    "\n",
    "if (window_sum // k) >= k:\n",
    "    count += 1\n",
    "\n",
    "for i in range(k, len(nums)):  \n",
    "    window_sum += nums[i] - nums[i - k]\n",
    "    if (window_sum // k) >= threshold:\n",
    "        count += 1\n",
    "print(count)\n"
   ]
  },
  {
   "cell_type": "code",
   "execution_count": null,
   "id": "df1d7c24",
   "metadata": {},
   "outputs": [
    {
     "name": "stdout",
     "output_type": "stream",
     "text": [
      "[-1, -1, -1, 5, 4, 4, -1, -1, -1]\n"
     ]
    }
   ],
   "source": [
    "# 2090. K Radius Subarray Averages\n",
    "# Medium\n",
    "# Topics\n",
    "# Companies\n",
    "# Hint\n",
    "# You are given a 0-indexed array nums of n integers, and an integer k.\n",
    "\n",
    "# The k-radius average for a subarray of nums centered at some index i with the radius k is the average of all elements in nums between the indices i - k and i + k (inclusive). If there are less than k elements before or after the index i, then the k-radius average is -1.\n",
    "\n",
    "# Build and return an array avgs of length n where avgs[i] is the k-radius average for the subarray centered at index i.\n",
    "\n",
    "# The average of x elements is the sum of the x elements divided by x, using integer division. The integer division truncates toward zero, which means losing its fractional part.\n",
    "\n",
    "# For example, the average of four elements 2, 3, 1, and 5 is (2 + 3 + 1 + 5) / 4 = 11 / 4 = 2.75, which truncates to 2.\n",
    " \n",
    "\n",
    "# Example 1:\n",
    "\n",
    "\n",
    "# Input: nums = [7,4,3,9,1,8,5,2,6], k = 3\n",
    "# Output: [-1,-1,-1,5,4,4,-1,-1,-1]\n",
    "# Explanation:\n",
    "# - avg[0], avg[1], and avg[2] are -1 because there are less than k elements before each index.\n",
    "# - The sum of the subarray centered at index 3 with radius 3 is: 7 + 4 + 3 + 9 + 1 + 8 + 5 = 37.\n",
    "#   Using integer division, avg[3] = 37 / 7 = 5.\n",
    "# - For the subarray centered at index 4, avg[4] = (4 + 3 + 9 + 1 + 8 + 5 + 2) / 7 = 4.\n",
    "# - For the subarray centered at index 5, avg[5] = (3 + 9 + 1 + 8 + 5 + 2 + 6) / 7 = 4.\n",
    "# - avg[6], avg[7], and avg[8] are -1 because there are less than k elements after each index.\n",
    "# Example 2:\n",
    "\n",
    "# Input: nums = [100000], k = 0\n",
    "# Output: [100000]\n",
    "# Explanation:\n",
    "# - The sum of the subarray centered at index 0 with radius 0 is: 100000.\n",
    "#   avg[0] = 100000 / 1 = 100000.\n",
    "# Example 3:\n",
    "\n",
    "# Input: nums = [8], k = 100000\n",
    "# Output: [-1]\n",
    "# Explanation: \n",
    "# - avg[0] is -1 because there are less than k elements before and after index 0.\n",
    " \n",
    "\n",
    "# Constraints:\n",
    "\n",
    "# n == nums.length\n",
    "# 1 <= n <= 105\n",
    "# 0 <= nums[i], k <= 105\n",
    "\n",
    "\n",
    "# | Index `i` | Window Range    | Elements in Window     | Sum | Average (//) | Output\\[i] |\n",
    "# | --------- | --------------- | ---------------------- | --- | ------------ | ---------- |\n",
    "# | 0         | n/a (too small) | —                      | —   | -1           | -1         |\n",
    "# | 1         | n/a (too small) | —                      | —   | -1           | -1         |\n",
    "# | 2         | n/a (too small) | —                      | —   | -1           | -1         |\n",
    "# | 3         | \\[0‒6]          | \\[7, 4, 3, 9, 1, 8, 5] | 37  | 37 // 7 = 5  | 5          |\n",
    "# | 4         | \\[1‒7]          | \\[4, 3, 9, 1, 8, 5, 2] | 32  | 32 // 7 = 4  | 4          |\n",
    "# | 5         | \\[2‒8]          | \\[3, 9, 1, 8, 5, 2, 6] | 34  | 34 // 7 = 4  | 4          |\n",
    "# | 6         | n/a (too far)   | —                      | —   | -1           | -1         |\n",
    "# | 7         | n/a (too far)   | —                      | —   | -1           | -1         |\n",
    "# | 8         | n/a (too far)   | —                      | —   | -1           | -1         |\n",
    "\n",
    "\n",
    "from typing import List\n",
    "class Solution:\n",
    "    def getAverages(self, nums: List[int], k: int) -> List[int]:\n",
    "\n",
    "        n = len(nums)\n",
    "        result = [-1] * n  \n",
    "\n",
    "        if k == 0:\n",
    "            return nums\n",
    "\n",
    "        window_size = 2 * k + 1\n",
    "        if n < window_size:\n",
    "            return result  \n",
    "\n",
    "        window_sum = sum(nums[0:window_size])\n",
    "        result[k] = window_sum // window_size\n",
    "\n",
    "        for i in range(k + 1, n - k):\n",
    "            window_sum += nums[i + k] - nums[i - k - 1]\n",
    "            result[i] = window_sum // window_size\n",
    "\n",
    "        return result\n",
    "s = Solution()\n",
    "print(s.getAverages([7,4,3,9,1,8,5,2,6],3))\n",
    "    "
   ]
  }
 ],
 "metadata": {
  "kernelspec": {
   "display_name": "Python 3",
   "language": "python",
   "name": "python3"
  },
  "language_info": {
   "codemirror_mode": {
    "name": "ipython",
    "version": 3
   },
   "file_extension": ".py",
   "mimetype": "text/x-python",
   "name": "python",
   "nbconvert_exporter": "python",
   "pygments_lexer": "ipython3",
   "version": "3.11.5"
  }
 },
 "nbformat": 4,
 "nbformat_minor": 5
}
