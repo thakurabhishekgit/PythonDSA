{
 "cells": [
  {
   "cell_type": "code",
   "execution_count": 6,
   "id": "e68db1bf",
   "metadata": {},
   "outputs": [
    {
     "name": "stdout",
     "output_type": "stream",
     "text": [
      "16\n"
     ]
    }
   ],
   "source": [
    "#finding max sum general code \n",
    "arr = [1, 3, -1, -3, 5, 3, 6, 7]\n",
    "k = 3\n",
    "window_sum = sum(arr[:k])\n",
    "max_sum = window_sum\n",
    "\n",
    "for i in range(k, len(arr)):\n",
    "    window_sum += arr[i] - arr[i - k]\n",
    "    max_sum = max(max_sum, window_sum)\n",
    "print(max_sum)"
   ]
  },
  {
   "cell_type": "code",
   "execution_count": null,
   "id": "cc4ca50f",
   "metadata": {},
   "outputs": [],
   "source": []
  },
  {
   "cell_type": "code",
   "execution_count": null,
   "id": "458db8fe",
   "metadata": {},
   "outputs": [
    {
     "name": "stdout",
     "output_type": "stream",
     "text": [
      "12.75\n"
     ]
    }
   ],
   "source": [
    "#finding max average \n",
    "from typing import List\n",
    "\n",
    "\n",
    "class Solution:\n",
    "    def findMaxAverage(self, nums: List[int], k: int) -> float:\n",
    "        window_sum = sum(nums[:k])\n",
    "        max_sum = window_sum\n",
    "        for i in  range(k , len(nums)):\n",
    "            window_sum += nums[i] - nums[i - k]\n",
    "            max_sum = max(max_sum , window_sum)\n",
    "        return max_sum/k    \n",
    "\n",
    "s = Solution()\n",
    "print(s.findMaxAverage([1,12,-5,-6,50,3],4))"
   ]
  },
  {
   "cell_type": "code",
   "execution_count": 4,
   "id": "79762c9a",
   "metadata": {},
   "outputs": [
    {
     "name": "stdout",
     "output_type": "stream",
     "text": [
      "6\n"
     ]
    }
   ],
   "source": [
    "class Solution:\n",
    "    def longestOnes(self, nums: List[int], k: int) -> int:\n",
    "        left = 0\n",
    "        max_len = 0\n",
    "        zero_count = 0\n",
    "\n",
    "        for right in range(len(nums)):\n",
    "            if nums[right] == 0:\n",
    "                zero_count += 1\n",
    "\n",
    "            while zero_count > k:\n",
    "                if nums[left] == 0:\n",
    "                    zero_count -= 1\n",
    "                left += 1\n",
    "\n",
    "            max_len = max(max_len, right - left + 1)\n",
    "\n",
    "        return max_len\n",
    "\n",
    "s = Solution()\n",
    "print(s.longestOnes([1,1,1,0,0,0,1,1,1,1,0],2))"
   ]
  },
  {
   "cell_type": "code",
   "execution_count": 9,
   "id": "ad0f1037",
   "metadata": {},
   "outputs": [
    {
     "ename": "TypeError",
     "evalue": "'int' object is not iterable",
     "output_type": "error",
     "traceback": [
      "\u001b[1;31m---------------------------------------------------------------------------\u001b[0m",
      "\u001b[1;31mTypeError\u001b[0m                                 Traceback (most recent call last)",
      "Cell \u001b[1;32mIn[9], line 9\u001b[0m\n\u001b[0;32m      6\u001b[0m max_num\u001b[38;5;241m.\u001b[39mappend(\u001b[38;5;28mmax\u001b[39m(window))\n\u001b[0;32m      8\u001b[0m \u001b[38;5;28;01mfor\u001b[39;00m i \u001b[38;5;129;01min\u001b[39;00m \u001b[38;5;28mrange\u001b[39m(k, \u001b[38;5;28mlen\u001b[39m(arr)):\n\u001b[1;32m----> 9\u001b[0m     \u001b[43mwindow\u001b[49m\u001b[43m \u001b[49m\u001b[38;5;241;43m+\u001b[39;49m\u001b[38;5;241;43m=\u001b[39;49m\u001b[43m \u001b[49m\u001b[43marr\u001b[49m\u001b[43m[\u001b[49m\u001b[43mi\u001b[49m\u001b[43m]\u001b[49m\u001b[43m \u001b[49m\u001b[38;5;241;43m-\u001b[39;49m\u001b[43m \u001b[49m\u001b[43marr\u001b[49m\u001b[43m[\u001b[49m\u001b[43mi\u001b[49m\u001b[43m \u001b[49m\u001b[38;5;241;43m-\u001b[39;49m\u001b[43m \u001b[49m\u001b[43mk\u001b[49m\u001b[43m]\u001b[49m\n\u001b[0;32m     10\u001b[0m     max_num\u001b[38;5;241m.\u001b[39mappend(\u001b[38;5;28mmax\u001b[39m(window))\n\u001b[0;32m     11\u001b[0m \u001b[38;5;28mprint\u001b[39m(max_num)\n",
      "\u001b[1;31mTypeError\u001b[0m: 'int' object is not iterable"
     ]
    }
   ],
   "source": [
    "#finding max sum general code \n",
    "arr = [1, 3, -1, -3, 5, 3, 6, 7]\n",
    "k = 3\n",
    "window = arr[:k]\n",
    "max_num = []\n",
    "max_num.append(max(window))\n",
    "\n",
    "for i in range(k, len(arr)):\n",
    "    window += arr[i] - arr[i - k]\n",
    "    max_num.append(max(window))\n",
    "print(max_num)"
   ]
  }
 ],
 "metadata": {
  "kernelspec": {
   "display_name": "Python 3",
   "language": "python",
   "name": "python3"
  },
  "language_info": {
   "codemirror_mode": {
    "name": "ipython",
    "version": 3
   },
   "file_extension": ".py",
   "mimetype": "text/x-python",
   "name": "python",
   "nbconvert_exporter": "python",
   "pygments_lexer": "ipython3",
   "version": "3.11.5"
  }
 },
 "nbformat": 4,
 "nbformat_minor": 5
}
