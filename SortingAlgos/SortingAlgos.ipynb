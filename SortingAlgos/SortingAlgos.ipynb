{
 "cells": [
  {
   "cell_type": "code",
   "execution_count": 1,
   "id": "6e3dfb3d",
   "metadata": {},
   "outputs": [
    {
     "name": "stdout",
     "output_type": "stream",
     "text": [
      "Sorted array is: [11, 12, 22, 25, 34, 64, 90]\n"
     ]
    }
   ],
   "source": [
    "#buble sort\n",
    "def bubble_sort(arr):\n",
    "    for i in range (len(arr)):\n",
    "        for j in range(0, len(arr)-i-1):\n",
    "            if arr[j] > arr[j+1]:\n",
    "                arr[j], arr[j+1] = arr[j+1], arr[j]\n",
    "    return arr\n",
    "# Example usage\n",
    "if __name__ == \"__main__\":\n",
    "    sample_array = [64, 34, 25, 12, 22, 11, 90]\n",
    "    sorted_array = bubble_sort(sample_array)\n",
    "    print(\"Sorted array is:\", sorted_array)"
   ]
  },
  {
   "cell_type": "markdown",
   "id": "18b70037",
   "metadata": {},
   "source": [
    "| Case    | Complexity               |\n",
    "| ------- | ------------------------ |\n",
    "| Best    | O(n) (if already sorted) |\n",
    "| Average | O(n²)                    |\n",
    "| Worst   | O(n²)                    |\n",
    "\n",
    "\n",
    "🔹 Space Complexity\n",
    "\n",
    "O(1) (In-place sort)\n",
    "\n",
    "🔹 When to Use\n",
    "\n",
    "✅ For small data sets or when simplicity matters.\n",
    "❌ Not suitable for large datasets."
   ]
  },
  {
   "cell_type": "code",
   "execution_count": 2,
   "id": "e1a62c08",
   "metadata": {},
   "outputs": [
    {
     "name": "stdout",
     "output_type": "stream",
     "text": [
      "Sorted array is: [11, 12, 22, 25, 64]\n"
     ]
    }
   ],
   "source": [
    "def selection_sort(arr):\n",
    "    for i in range(len(arr)):\n",
    "        min_idx = i\n",
    "        for j in range(i+1, len(arr)):\n",
    "            if arr[j] < arr[min_idx]:\n",
    "                min_idx = j\n",
    "        arr[i], arr[min_idx] = arr[min_idx], arr[i]\n",
    "    return arr\n",
    "# Example usage\n",
    "if __name__ == \"__main__\":\n",
    "    sample_array = [64, 25, 12, 22, 11]\n",
    "    sorted_array = selection_sort(sample_array)\n",
    "    print(\"Sorted array is:\", sorted_array)\n",
    "    "
   ]
  },
  {
   "cell_type": "markdown",
   "id": "5f1eec3d",
   "metadata": {},
   "source": [
    "| Case    | Complexity |\n",
    "| ------- | ---------- |\n",
    "| Best    | O(n²)      |\n",
    "| Average | O(n²)      |\n",
    "| Worst   | O(n²)      |\n",
    "🔹 Space Complexity\n",
    "\n",
    "O(1)\n",
    "\n",
    "🔹 When to Use\n",
    "\n",
    "✅ Easy to implement\n",
    "❌ Inefficient for large lists"
   ]
  },
  {
   "cell_type": "code",
   "execution_count": 3,
   "id": "4503edf2",
   "metadata": {},
   "outputs": [
    {
     "name": "stdout",
     "output_type": "stream",
     "text": [
      "Sorted array is: [5, 6, 11, 12, 13]\n"
     ]
    }
   ],
   "source": [
    "def insertion_sort(arr):\n",
    "    for i in range(1, len(arr)):\n",
    "        key = arr[i]\n",
    "        j = i - 1\n",
    "        while j >= 0 and key < arr[j]:\n",
    "            arr[j + 1] = arr[j]\n",
    "            j -= 1\n",
    "        arr[j + 1] = key\n",
    "    return arr\n",
    "# Example usage\n",
    "if __name__ == \"__main__\":\n",
    "    sample_array = [12, 11, 13, 5, 6]\n",
    "    sorted_array = insertion_sort(sample_array)\n",
    "    print(\"Sorted array is:\", sorted_array)"
   ]
  },
  {
   "cell_type": "markdown",
   "id": "31d58762",
   "metadata": {},
   "source": [
    "| Case    | Complexity |\n",
    "| ------- | ---------- |\n",
    "| Best    | O(n)       |\n",
    "| Average | O(n²)      |\n",
    "| Worst   | O(n²)      |\n",
    "\n",
    "🔹 When to Use\n",
    "\n",
    "✅ Good for small datasets or nearly sorted data.\n",
    "Used in hybrid algorithms like Tim Sort (Java’s default sorting)."
   ]
  },
  {
   "cell_type": "code",
   "execution_count": 4,
   "id": "efe71949",
   "metadata": {},
   "outputs": [
    {
     "name": "stdout",
     "output_type": "stream",
     "text": [
      "Sorted array is: [3, 9, 10, 27, 38, 43, 82]\n"
     ]
    }
   ],
   "source": [
    "def mergeSort(arr, left, right):\n",
    "    if (left < right):\n",
    "        mid = (left + right) // 2\n",
    "        mergeSort(arr, left, mid)\n",
    "        mergeSort(arr, mid + 1, right)\n",
    "        merge(arr, left, mid, right)\n",
    "\n",
    "def merge(arr, left, mid, right):\n",
    "    n1 = mid - left + 1\n",
    "    n2 = right - mid\n",
    "    L = [0] * (n1)\n",
    "    R = [0] * (n2)\n",
    "    for i in range(0, n1):\n",
    "        L[i] = arr[left + i]\n",
    "    for j in range(0, n2):\n",
    "        R[j] = arr[mid + 1 + j]\n",
    "    i = 0\n",
    "    j = 0\n",
    "    k = left\n",
    "    while i < n1 and j < n2:\n",
    "        if L[i] <= R[j]:\n",
    "            arr[k] = L[i]\n",
    "            i += 1\n",
    "        else:\n",
    "            arr[k] = R[j]\n",
    "            j += 1\n",
    "        k += 1\n",
    "    while i < n1:\n",
    "        arr[k] = L[i]\n",
    "        i += 1\n",
    "        k += 1\n",
    "    while j < n2:\n",
    "        arr[k] = R[j]\n",
    "        j += 1\n",
    "        k += 1\n",
    "\n",
    "# Example usage\n",
    "if __name__ == \"__main__\":\n",
    "    sample_array = [38, 27, 43, 3, 9, 82, 10]\n",
    "    mergeSort(sample_array, 0, len(sample_array) - 1)\n",
    "    print(\"Sorted array is:\", sample_array)"
   ]
  },
  {
   "cell_type": "markdown",
   "id": "61279895",
   "metadata": {},
   "source": [
    "| Case    | Complexity |\n",
    "| ------- | ---------- |\n",
    "| Best    | O(n log n) |\n",
    "| Average | O(n log n) |\n",
    "| Worst   | O(n log n) |\n",
    "\n",
    "🔹 Space Complexity\n",
    "\n",
    "O(n)\n",
    "\n",
    "🔹 When to Use\n",
    "\n",
    "✅ Stable and efficient for large datasets.\n",
    "❌ Needs extra memory."
   ]
  },
  {
   "cell_type": "code",
   "execution_count": 5,
   "id": "7c71277d",
   "metadata": {},
   "outputs": [
    {
     "name": "stdout",
     "output_type": "stream",
     "text": [
      "Sorted array is: [3, 9, 10, 27, 38, 43, 82]\n"
     ]
    }
   ],
   "source": [
    "def quickSort(arr, low, high):\n",
    "    if low < high:\n",
    "        pi = partition(arr, low, high)\n",
    "        quickSort(arr, low, pi - 1)\n",
    "        quickSort(arr, pi + 1, high)\n",
    "\n",
    "def partition(arr, low, high):\n",
    "    pivot = arr[high]\n",
    "    i = low - 1\n",
    "    for j in range(low, high):\n",
    "        if arr[j] < pivot:\n",
    "            i += 1\n",
    "            arr[i], arr[j] = arr[j], arr[i]\n",
    "    arr[i + 1], arr[high] = arr[high], arr[i + 1]\n",
    "    return i + 1\n",
    "\n",
    "# Example usage\n",
    "if __name__ == \"__main__\":\n",
    "    sample_array = [38, 27, 43, 3, 9, 82, 10]\n",
    "    quickSort(sample_array, 0, len(sample_array) - 1)\n",
    "    print(\"Sorted array is:\", sample_array)"
   ]
  },
  {
   "cell_type": "markdown",
   "id": "ab935e0b",
   "metadata": {},
   "source": [
    "| Case    | Complexity              |\n",
    "| ------- | ----------------------- |\n",
    "| Best    | O(n log n)              |\n",
    "| Average | O(n log n)              |\n",
    "| Worst   | O(n²) (if pivot is bad) |\n",
    "\n",
    "🔹 When to Use\n",
    "\n",
    "✅ In-place and fast in practice.\n",
    "⚠️ Worst case happens with already sorted data (use random pivot to avoid)."
   ]
  },
  {
   "cell_type": "code",
   "execution_count": 6,
   "id": "f7b37569",
   "metadata": {},
   "outputs": [
    {
     "name": "stdout",
     "output_type": "stream",
     "text": [
      "Sorted array is: [3, 9, 10, 27, 38, 43, 82]\n"
     ]
    }
   ],
   "source": [
    "import heapq\n",
    "\n",
    "def heapSort(arr):\n",
    "    heapq.heapify(arr)\n",
    "    sorted_arr = []\n",
    "    while arr:\n",
    "        sorted_arr.append(heapq.heappop(arr))\n",
    "    return sorted_arr\n",
    "\n",
    "# Example usage\n",
    "if __name__ == \"__main__\":\n",
    "    sample_array = [38, 27, 43, 3, 9, 82, 10]\n",
    "    sorted_array = heapSort(sample_array)\n",
    "    print(\"Sorted array is:\", sorted_array)"
   ]
  },
  {
   "cell_type": "markdown",
   "id": "8f4d3681",
   "metadata": {},
   "source": [
    "| Case    | Complexity |\n",
    "| ------- | ---------- |\n",
    "| Best    | O(n log n) |\n",
    "| Average | O(n log n) |\n",
    "| Worst   | O(n log n) |\n",
    "\n",
    "🔹 Space Complexity\n",
    "\n",
    "O(1)"
   ]
  }
 ],
 "metadata": {
  "kernelspec": {
   "display_name": "Python 3",
   "language": "python",
   "name": "python3"
  },
  "language_info": {
   "codemirror_mode": {
    "name": "ipython",
    "version": 3
   },
   "file_extension": ".py",
   "mimetype": "text/x-python",
   "name": "python",
   "nbconvert_exporter": "python",
   "pygments_lexer": "ipython3",
   "version": "3.11.5"
  }
 },
 "nbformat": 4,
 "nbformat_minor": 5
}
