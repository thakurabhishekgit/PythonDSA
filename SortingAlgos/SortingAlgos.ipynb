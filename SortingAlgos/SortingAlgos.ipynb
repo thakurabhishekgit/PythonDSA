{
 "cells": [
  {
   "cell_type": "code",
   "execution_count": 1,
   "id": "6e3dfb3d",
   "metadata": {},
   "outputs": [
    {
     "name": "stdout",
     "output_type": "stream",
     "text": [
      "Sorted array is: [11, 12, 22, 25, 34, 64, 90]\n"
     ]
    }
   ],
   "source": [
    "#buble sort\n",
    "def bubble_sort(arr):\n",
    "    for i in range (len(arr)):\n",
    "        for j in range(0, len(arr)-i-1):\n",
    "            if arr[j] > arr[j+1]:\n",
    "                arr[j], arr[j+1] = arr[j+1], arr[j]\n",
    "    return arr\n",
    "# Example usage\n",
    "if __name__ == \"__main__\":\n",
    "    sample_array = [64, 34, 25, 12, 22, 11, 90]\n",
    "    sorted_array = bubble_sort(sample_array)\n",
    "    print(\"Sorted array is:\", sorted_array)"
   ]
  },
  {
   "cell_type": "markdown",
   "id": "18b70037",
   "metadata": {},
   "source": [
    "| Case    | Complexity               |\n",
    "| ------- | ------------------------ |\n",
    "| Best    | O(n) (if already sorted) |\n",
    "| Average | O(n²)                    |\n",
    "| Worst   | O(n²)                    |\n",
    "\n",
    "\n",
    "🔹 Space Complexity\n",
    "\n",
    "O(1) (In-place sort)\n",
    "\n",
    "🔹 When to Use\n",
    "\n",
    "✅ For small data sets or when simplicity matters.\n",
    "❌ Not suitable for large datasets."
   ]
  },
  {
   "cell_type": "code",
   "execution_count": 2,
   "id": "e1a62c08",
   "metadata": {},
   "outputs": [
    {
     "name": "stdout",
     "output_type": "stream",
     "text": [
      "Sorted array is: [11, 12, 22, 25, 64]\n"
     ]
    }
   ],
   "source": [
    "def selection_sort(arr):\n",
    "    for i in range(len(arr)):\n",
    "        min_idx = i\n",
    "        for j in range(i+1, len(arr)):\n",
    "            if arr[j] < arr[min_idx]:\n",
    "                min_idx = j\n",
    "        arr[i], arr[min_idx] = arr[min_idx], arr[i]\n",
    "    return arr\n",
    "# Example usage\n",
    "if __name__ == \"__main__\":\n",
    "    sample_array = [64, 25, 12, 22, 11]\n",
    "    sorted_array = selection_sort(sample_array)\n",
    "    print(\"Sorted array is:\", sorted_array)\n",
    "    "
   ]
  }
 ],
 "metadata": {
  "kernelspec": {
   "display_name": "Python 3",
   "language": "python",
   "name": "python3"
  },
  "language_info": {
   "codemirror_mode": {
    "name": "ipython",
    "version": 3
   },
   "file_extension": ".py",
   "mimetype": "text/x-python",
   "name": "python",
   "nbconvert_exporter": "python",
   "pygments_lexer": "ipython3",
   "version": "3.11.5"
  }
 },
 "nbformat": 4,
 "nbformat_minor": 5
}
