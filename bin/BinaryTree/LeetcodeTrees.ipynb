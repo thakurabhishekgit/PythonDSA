{
 "cells": [
  {
   "cell_type": "code",
   "execution_count": null,
   "id": "5f8ff2f2",
   "metadata": {},
   "outputs": [
    {
     "name": "stdout",
     "output_type": "stream",
     "text": [
      "Inorder before deletion:\n",
      "2 5 7 \n",
      "Inorder after deletion of 5:\n",
      "2 5 7 "
     ]
    }
   ],
   "source": [
    "class Node:\n",
    "    def __init__(self, val):\n",
    "        self.val = val\n",
    "        self.left = self.right = None\n",
    "\n",
    "class Solution:\n",
    "    def RemoveHalfNodes(self, node):\n",
    "        # Base case\n",
    "        if node is None:\n",
    "            return None\n",
    "\n",
    "        # Recursively fix left and right subtrees\n",
    "        node.left = self.RemoveHalfNodes(node.left)\n",
    "        node.right = self.RemoveHalfNodes(node.right)\n",
    "\n",
    "        # If current node is a half node with only right child\n",
    "        if node.left is None and node.right is not None:\n",
    "            return node.right\n",
    "        \n",
    "        # If current node is a half node with only left child\n",
    "        if node.right is None and node.left is not None:\n",
    "            return node.left\n",
    "\n",
    "        # If node has both children or is a leaf, return the node\n",
    "        return node\n"
   ]
  },
  {
   "cell_type": "markdown",
   "id": "f2ff75fa",
   "metadata": {},
   "source": [
    "Input: tree = 5\n",
    "            /   \\\n",
    "          7     8\n",
    "        / \n",
    "      2\n",
    "Output: 2 5 8\n",
    "Explanation: In the above tree, the node 7 has only single child. After removing the node the tree becomes  2<-5->8. Hence, the answer is 2 5 8 & it is in inorder traversal."
   ]
  },
  {
   "cell_type": "markdown",
   "id": "908cb595",
   "metadata": {},
   "source": [
    "| Call Stack Depth | Function Call        | Action                                                   |\n",
    "| ---------------- | -------------------- | -------------------------------------------------------- |\n",
    "| 1                | `RemoveHalfNodes(5)` | root = 5, go to left: call `RemoveHalfNodes(7)`          |\n",
    "| 2                | `RemoveHalfNodes(7)` | root = 7, go to left: call `RemoveHalfNodes(2)`          |\n",
    "| 3                | `RemoveHalfNodes(2)` | root = 2, go to left: `None` → returns None              |\n",
    "| 3                | `RemoveHalfNodes(2)` | go to right: `None` → returns None                       |\n",
    "| 3                | `RemoveHalfNodes(2)` | node 2 is a leaf → return 2                              |\n",
    "| 2                | `RemoveHalfNodes(7)` | left = 2, right = None → **half node** → return left (2) |\n",
    "| 1                | `RemoveHalfNodes(5)` | left = 2, now go to right: call `RemoveHalfNodes(8)`     |\n",
    "| 2                | `RemoveHalfNodes(8)` | left = None, right = None → leaf → return 8              |\n",
    "| 1                | `RemoveHalfNodes(5)` | left = 2, right = 8 → valid node → return 5              |\n"
   ]
  }
 ],
 "metadata": {
  "kernelspec": {
   "display_name": "Python 3",
   "language": "python",
   "name": "python3"
  },
  "language_info": {
   "codemirror_mode": {
    "name": "ipython",
    "version": 3
   },
   "file_extension": ".py",
   "mimetype": "text/x-python",
   "name": "python",
   "nbconvert_exporter": "python",
   "pygments_lexer": "ipython3",
   "version": "3.11.5"
  }
 },
 "nbformat": 4,
 "nbformat_minor": 5
}
