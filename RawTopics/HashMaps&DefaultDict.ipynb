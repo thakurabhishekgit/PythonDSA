{
 "cells": [
  {
   "cell_type": "code",
   "execution_count": 4,
   "id": "2dfb7005",
   "metadata": {},
   "outputs": [
    {
     "data": {
      "text/plain": [
       "[0, 1, 4, 9, 16, 25, 36, 49, 64, 81]"
      ]
     },
     "execution_count": 4,
     "metadata": {},
     "output_type": "execute_result"
    }
   ],
   "source": [
    "new_list = [i*i for i in range(10)]\n",
    "new_list"
   ]
  },
  {
   "cell_type": "code",
   "execution_count": 8,
   "id": "1f3109a7",
   "metadata": {},
   "outputs": [
    {
     "data": {
      "text/plain": [
       "['even', 'not even', 'even', 'not even', 'even']"
      ]
     },
     "execution_count": 8,
     "metadata": {},
     "output_type": "execute_result"
    }
   ],
   "source": [
    "\n",
    "new = [\"even\" if i%2 == 0 else \"not even\" for i in range(5) ]\n",
    "new\n"
   ]
  },
  {
   "cell_type": "code",
   "execution_count": 10,
   "id": "bca95de9",
   "metadata": {},
   "outputs": [
    {
     "data": {
      "text/plain": [
       "[(1, 4), (2, 5), (3, 6)]"
      ]
     },
     "execution_count": 10,
     "metadata": {},
     "output_type": "execute_result"
    }
   ],
   "source": [
    "a = [1,2,3]\n",
    "b = [4,5,6]\n",
    "z = list(zip(a,b))  # [(1,4), (2,5), (3,6)]\n",
    "z\n"
   ]
  },
  {
   "cell_type": "code",
   "execution_count": 3,
   "id": "d07ffa78",
   "metadata": {},
   "outputs": [
    {
     "name": "stdout",
     "output_type": "stream",
     "text": [
      "1 2\n",
      "2 2\n",
      "3 2\n",
      "4 2\n",
      "44 1\n"
     ]
    }
   ],
   "source": [
    "from collections import Counter\n",
    "a = [1,2,3,4,1,2,3,4,44]\n",
    "hashmap = Counter(a)\n",
    "\n",
    "for index, count in hashmap.items():\n",
    "    print(index, count)\n",
    "    # print(hashmap[index])"
   ]
  },
  {
   "cell_type": "code",
   "execution_count": null,
   "id": "dd29963c",
   "metadata": {},
   "outputs": [],
   "source": [
    "names = [\"Mary\", \"John\", \"Emma\"]\n",
    "heights = [180, 165, 170]\n",
    "\n",
    "hashmap = dict(zip(names, heights))\n",
    "print(hashmap)\n"
   ]
  },
  {
   "cell_type": "code",
   "execution_count": 20,
   "id": "4824f0fb",
   "metadata": {},
   "outputs": [
    {
     "name": "stdout",
     "output_type": "stream",
     "text": [
      "0 1\n"
     ]
    }
   ],
   "source": [
    "arr = [2, 7, 11, 15]\n",
    "target = 9\n",
    "\n",
    "map = {}\n",
    "\n",
    "for idx, num in enumerate(arr):\n",
    "    complement = target - num\n",
    "    if complement in map:\n",
    "        print(map[complement], idx)\n",
    "    map[num] = idx\n"
   ]
  },
  {
   "cell_type": "code",
   "execution_count": null,
   "id": "f4c4426c",
   "metadata": {},
   "outputs": [
    {
     "name": "stdout",
     "output_type": "stream",
     "text": [
      "0 1\n",
      "2 3\n",
      "0 4\n"
     ]
    }
   ],
   "source": [
    "from collections import defaultdict\n",
    "\n",
    "arr = [1, 5, 7, -1, 5]\n",
    "target = 6\n",
    "\n",
    "map = defaultdict(list)\n",
    "\n",
    "for idx, num in enumerate(arr):\n",
    "    complement = target - num\n",
    "    if complement in map:\n",
    "        for comp_idx in map[complement]:\n",
    "            print(comp_idx, idx)\n",
    "    map[num].append(idx)\n",
    "\n",
    "{\n",
    "    1: [0],\n",
    "    5: [1, 4],\n",
    "    7: [2],\n",
    "    -1: [3]\n",
    "}\n"
   ]
  },
  {
   "cell_type": "code",
   "execution_count": 3,
   "id": "37b15f5d",
   "metadata": {},
   "outputs": [
    {
     "name": "stdout",
     "output_type": "stream",
     "text": [
      "defaultdict(<class 'list'>, {'a': [1, 2], 'b': [5]})\n",
      "[1, 2]\n",
      "[5]\n",
      "[]\n"
     ]
    }
   ],
   "source": [
    "from collections import defaultdict\n",
    "\n",
    "d = defaultdict(list)\n",
    "\n",
    "d['a'].append(1)\n",
    "d['a'].append(2)\n",
    "\n",
    "d['b'].append(5)\n",
    "\n",
    "print(d)\n",
    "# Output: defaultdict(<class 'list'>, {'a': [1, 2], 'b': [5]})\n",
    "\n",
    "print(d['a'])  # [1,2]\n",
    "print(d['b'])  # [5]\n",
    "print(d['c'])  # [] --> no KeyError, gives empty list\n"
   ]
  },
  {
   "cell_type": "code",
   "execution_count": 7,
   "id": "5595048a",
   "metadata": {},
   "outputs": [
    {
     "name": "stdout",
     "output_type": "stream",
     "text": [
      "1 [0, 2, 5]\n",
      "2 [1, 4]\n",
      "3 [3]\n",
      "1 [0, 2, 5]\n",
      "2 [1, 4]\n",
      "3 [3]\n"
     ]
    }
   ],
   "source": [
    "# Suppose need to store all indices of each number\n",
    "from collections import defaultdict\n",
    "arr = [1,2,1,3,2,1]\n",
    "\n",
    "d = defaultdict(list)\n",
    "\n",
    "for idx, num in enumerate(arr):\n",
    "    d[num].append(idx)\n",
    "\n",
    "for keys in d:\n",
    "    print(keys, d[keys])\n",
    "\n",
    "for key, value_list in d.items():\n",
    "    print(key, value_list)    \n"
   ]
  },
  {
   "cell_type": "code",
   "execution_count": 24,
   "id": "0c560371",
   "metadata": {},
   "outputs": [
    {
     "name": "stdout",
     "output_type": "stream",
     "text": [
      "defaultdict(<class 'list'>, {'abt': ['bat', 'tab'], 'act': ['cat', 'act', 'tac'], 'art': ['rat']})\n"
     ]
    }
   ],
   "source": [
    "words = [\"bat\", \"tab\", \"cat\", \"act\", \"tac\", \"rat\"]\n",
    "\n",
    "anagrams = defaultdict(list)\n",
    "\n",
    "for word in words:\n",
    "    sorted_word = ''.join(sorted(word))\n",
    "    anagrams[sorted_word].append(word)\n",
    "\n",
    "print(anagrams)\n",
    "# {'abt': ['bat', 'tab'], 'act': ['cat', 'act', 'tac'], 'art': ['rat']}\n"
   ]
  }
 ],
 "metadata": {
  "kernelspec": {
   "display_name": "Python 3",
   "language": "python",
   "name": "python3"
  },
  "language_info": {
   "codemirror_mode": {
    "name": "ipython",
    "version": 3
   },
   "file_extension": ".py",
   "mimetype": "text/x-python",
   "name": "python",
   "nbconvert_exporter": "python",
   "pygments_lexer": "ipython3",
   "version": "3.11.5"
  }
 },
 "nbformat": 4,
 "nbformat_minor": 5
}
