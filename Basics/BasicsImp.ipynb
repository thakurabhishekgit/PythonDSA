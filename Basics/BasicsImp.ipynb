{
 "cells": [
  {
   "cell_type": "code",
   "execution_count": 6,
   "id": "44e22cf8",
   "metadata": {},
   "outputs": [
    {
     "name": "stdout",
     "output_type": "stream",
     "text": [
      "[30, 20, 20, 10]\n"
     ]
    }
   ],
   "source": [
    "#taking inout \n",
    "# nums = list(map(int, input().split()))\n",
    "\n",
    "num = [10,20,20,30]\n",
    "print(sorted(num , reverse=True))"
   ]
  },
  {
   "cell_type": "code",
   "execution_count": null,
   "id": "b3481175",
   "metadata": {},
   "outputs": [
    {
     "data": {
      "text/plain": [
       "[('a', 'b', 'c'),\n",
       " ('a', 'c', 'b'),\n",
       " ('b', 'a', 'c'),\n",
       " ('b', 'c', 'a'),\n",
       " ('c', 'a', 'b'),\n",
       " ('c', 'b', 'a')]"
      ]
     },
     "execution_count": 10,
     "metadata": {},
     "output_type": "execute_result"
    }
   ],
   "source": [
    "import itertools\n",
    "list(itertools.permutations(\"abc\" ))\n"
   ]
  },
  {
   "cell_type": "code",
   "execution_count": 20,
   "id": "3e5c737a",
   "metadata": {},
   "outputs": [
    {
     "name": "stdout",
     "output_type": "stream",
     "text": [
      "False\n",
      "3.0\n",
      "3.778\n",
      "2.4\n",
      "47688\n"
     ]
    }
   ],
   "source": [
    "import math\n",
    "\n",
    "\n",
    "def is_prime(n):\n",
    "    if n <= 1:\n",
    "        return False\n",
    "    for i in range(2, int(math.sqrt(n)) + 1):\n",
    "        if n % i == 0:\n",
    "            return False\n",
    "    return True\n",
    "\n",
    "print(is_prime(27))  # True\n",
    "\n",
    "\n",
    "print(float(3))\n",
    "\n",
    "print(f\"{3.77777:.3f}\")\n",
    "print(round(2.44 , 1))\n",
    "print(abs(20202-67890))"
   ]
  },
  {
   "cell_type": "code",
   "execution_count": null,
   "id": "4539c43b",
   "metadata": {},
   "outputs": [
    {
     "name": "stdout",
     "output_type": "stream",
     "text": [
      "[1, 3, 4, 99]\n"
     ]
    }
   ],
   "source": [
    "arr = [1, 2, 3, 4]\n",
    "\n",
    "arr.append(5)          # Add at end\n",
    "arr.pop()              # Remove from end\n",
    "arr.pop(1)             # Remove index 1\n",
    "arr.insert(2, 99)      # Insert 99 at index 2\n",
    "# arr.remove(2)          # Remove first occurrence of 2\n",
    "arr.sort()             # In-place sort\n",
    "arr.reverse()          # In-place reverse\n",
    "arr.index(3)           # Find index of value 3\n",
    "len(arr)               # Length of list\n",
    "sum(arr)               # Sum of elements\n",
    "min(arr), max(arr)     # Min and max\n",
    "arr.count(1)           # Count of 1 in list\n",
    "sorted(arr)            # Returns new sorted list\n",
    "arr[::-1]              # Reversed copy\n",
    "\n",
    "# List comprehension\n",
    "squares = [x*x for x in arr]\n",
    "\n",
    "# Nested list\n",
    "\n"
   ]
  },
  {
   "cell_type": "code",
   "execution_count": 41,
   "id": "c5dcfc8a",
   "metadata": {},
   "outputs": [
    {
     "name": "stdout",
     "output_type": "stream",
     "text": [
      "12\n",
      "15\n",
      "18\n",
      "6\n",
      "15\n",
      "24\n",
      "[[1, 2, 3], [22, 3], [22]]\n"
     ]
    }
   ],
   "source": [
    "arr = [[1, 2, 3  ] , \n",
    "       [4, 5, 6],\n",
    "    [7, 8, 9]]\n",
    "# print(len(arr))\n",
    "#verticle sum\n",
    "for i in range(len(arr[0])):\n",
    "    sum = 0\n",
    "    for j in range(len(arr)):\n",
    "        sum += arr[j][i]\n",
    "    print(sum)\n",
    "# horizontal sum\n",
    "for i in range(len(arr[0])):\n",
    "    sum = 0\n",
    "    for j in range( len(arr)):\n",
    "        sum += arr[i][j]    \n",
    "    print(sum)\n",
    "\n",
    "#taking inpout\n",
    "rows = int(input(\"Enter number of rows: \"))\n",
    "cols = int(input(\"Enter number of columns: \"))\n",
    "\n",
    "matrix = []\n",
    "for i in range(rows):\n",
    "    row = list(map(int, input(f\"Enter row {i+1} elements: \").split()))\n",
    "    matrix.append(row)\n",
    "\n",
    "print(matrix)\n"
   ]
  },
  {
   "cell_type": "code",
   "execution_count": null,
   "id": "ee5c70b9",
   "metadata": {},
   "outputs": [],
   "source": [
    "s = \"hello world\"\n",
    "\n",
    "s.upper(), s.lower()\n",
    "s.strip()               # remove leading/trailing spaces\n",
    "s.split()               # ['hello', 'world']\n",
    "'-'.join([\"a\", \"b\"])    # a-b\n",
    "s.replace(\"l\", \"x\")     # hexxo worxd\n",
    "s.find(\"o\")             # index of first o\n",
    "s.count(\"l\")            # count of l\n",
    "s[::-1]                 # reverse\n",
    "[]"
   ]
  },
  {
   "cell_type": "code",
   "execution_count": null,
   "id": "f0d6a4b7",
   "metadata": {},
   "outputs": [],
   "source": [
    "# Single integer\n",
    "n = int(input())\n",
    "\n",
    "# List of integers\n",
    "arr = list(map(int, input().split()))\n",
    "\n",
    "# 2D list input\n",
    "matrix = [list(map(int, input().split())) for _ in range(n)]\n"
   ]
  },
  {
   "cell_type": "code",
   "execution_count": 48,
   "id": "49623f6b",
   "metadata": {},
   "outputs": [
    {
     "name": "stdout",
     "output_type": "stream",
     "text": [
      "Counter({4: 3, 2: 2, 1: 1, 3: 1})\n",
      "4\n"
     ]
    }
   ],
   "source": [
    "from collections import Counter\n",
    "nums = [1, 2, 2, 3, 4, 4, 4]\n",
    "count = Counter(nums)\n",
    "print(count)  # Counter({4: 3, 2: 2, 1: 1, 3: 1})\n",
    "max_freq_element = max(count, key=count.get)\n",
    "print(max_freq_element)  # 2\n"
   ]
  },
  {
   "cell_type": "code",
   "execution_count": null,
   "id": "8100c0c8",
   "metadata": {},
   "outputs": [
    {
     "name": "stdout",
     "output_type": "stream",
     "text": [
      "Vowels: ['a', 'i', 'e']\n",
      "Consonants: ['b', 'c', 'd']\n"
     ]
    }
   ],
   "source": [
    "s = \"bacide\"\n",
    "vow = set(\"aeiou\")\n",
    "vowarr = []\n",
    "constarr = []\n",
    "res = []\n",
    "for i in s:\n",
    "    if i in vow:\n",
    "        vowarr.append(i)\n",
    "    else:\n",
    "        constarr.append(i)\n",
    "print(\"Vowels:\", vowarr)\n",
    "print(\"Consonants:\", constarr) \n",
    "for i in range(len(s)):\n",
    "    res.append(vowarr[i])\n",
    "    \n"
   ]
  },
  {
   "cell_type": "code",
   "execution_count": 19,
   "id": "9526602f",
   "metadata": {},
   "outputs": [
    {
     "name": "stdout",
     "output_type": "stream",
     "text": [
      "False\n"
     ]
    }
   ],
   "source": [
    "print(len(sorted(\"thequickbrownfoxjumpsoverthelazydog\")) == 26)"
   ]
  },
  {
   "cell_type": "code",
   "execution_count": 16,
   "id": "c47d6a44",
   "metadata": {},
   "outputs": [
    {
     "name": "stdout",
     "output_type": "stream",
     "text": [
      "19\n",
      "abcd\n",
      "1\n"
     ]
    }
   ],
   "source": [
    "price = 10\n",
    "s = \"aabcda\"\n",
    "nums  = []\n",
    "res = \"\"\n",
    "maxPrice = 0\n",
    "s = s.lower()  # Convert to lowercase to handle case insensitivity\n",
    "res = \"\"\n",
    "price = [5, 4, 4, 5, 1, 1, 1, 1, 1, 1]\n",
    "\n",
    "for i in s:\n",
    "    if i not in res:\n",
    "        res += i\n",
    "        nums.append(price[ord(i) - ord('a')])\n",
    "        maxPrice += price[ord(i) - ord('a')]\n",
    "    else:\n",
    "        maxPrice -= min(nums)\n",
    "        nums.remove(min(nums))\n",
    "        nums.append(price[ord(i) - ord('a')])\n",
    "        maxPrice += price[ord(i) - ord('a')]\n",
    "\n",
    "print(maxPrice)  # Output the maximum price calculated\n",
    "print(res)  # Output the unique characters in the order they were first encountered\n",
    "\n",
    "print(ord('b') - ord('a'))  # 97\n"
   ]
  },
  {
   "cell_type": "code",
   "execution_count": 27,
   "id": "7c7280d8",
   "metadata": {},
   "outputs": [
    {
     "name": "stdout",
     "output_type": "stream",
     "text": [
      "a\n"
     ]
    }
   ],
   "source": [
    "from collections import Counter\n",
    "s = \"cdadcdac\"\n",
    "hash = {}\n",
    "for i in s:\n",
    "    if i not in hash:\n",
    "        hash[i] = 1\n",
    "    else:\n",
    "        hash[i] += 1\n",
    "minn = min(hash.keys())        \n",
    "for item , val in hash.items():\n",
    "    if val == hash[minn]:\n",
    "        print(item)\n",
    "        break\n"
   ]
  },
  {
   "cell_type": "code",
   "execution_count": null,
   "id": "2f84390a",
   "metadata": {},
   "outputs": [
    {
     "name": "stdout",
     "output_type": "stream",
     "text": [
      "[80, 11, 41, 1, 11, 27, 31, 10, 11, 51, 16, 97]\n"
     ]
    },
    {
     "data": {
      "text/plain": [
       "''"
      ]
     },
     "execution_count": 45,
     "metadata": {},
     "output_type": "execute_result"
    }
   ],
   "source": [
    "s = \"796115110113721110141108\"\n",
    "reversed_s = s[::-1]\n",
    "\n",
    "\n",
    "\n",
    "res    "
   ]
  },
  {
   "cell_type": "code",
   "execution_count": 51,
   "id": "6d147dcb",
   "metadata": {},
   "outputs": [
    {
     "name": "stdout",
     "output_type": "stream",
     "text": [
      "80\n",
      "114\n",
      "101\n",
      "112\n",
      "73\n",
      "110\n",
      "115\n",
      "116\n",
      "97\n",
      "PrepInsta\n"
     ]
    }
   ],
   "source": [
    "s = \"796115110113721110141108\"\n",
    "\n",
    "# Step 1: Reverse the string\n",
    "s = s[::-1]\n",
    "\n",
    "# Step 2: Decode ASCII values\n",
    "result = ''\n",
    "i = 0\n",
    "while i < len(s):\n",
    "    # Try 3 digits first (most ASCII letters fall in 3-digit range like 80, 114)\n",
    "\n",
    "    if i+3 <= len(s) and 65 <= int(s[i:i+3]) <= 122:\n",
    "        print(int(s[i:i+3]))\n",
    "        result += chr(int(s[i:i+3]))\n",
    "        i += 3\n",
    "    else:\n",
    "        # Fall back to 2 digits if 3-digit value is invalid\n",
    "        result += chr(int(s[i:i+2]))\n",
    "        print(int(s[i:i+2]))\n",
    "        i += 2\n",
    "\n",
    "print(result)  # Output: PrepInsta\n"
   ]
  }
 ],
 "metadata": {
  "kernelspec": {
   "display_name": "Python 3",
   "language": "python",
   "name": "python3"
  },
  "language_info": {
   "codemirror_mode": {
    "name": "ipython",
    "version": 3
   },
   "file_extension": ".py",
   "mimetype": "text/x-python",
   "name": "python",
   "nbconvert_exporter": "python",
   "pygments_lexer": "ipython3",
   "version": "3.11.5"
  }
 },
 "nbformat": 4,
 "nbformat_minor": 5
}
