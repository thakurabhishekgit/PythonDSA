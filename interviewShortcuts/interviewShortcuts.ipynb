{
 "cells": [
  {
   "cell_type": "code",
   "execution_count": null,
   "id": "c22f9a98",
   "metadata": {},
   "outputs": [],
   "source": [
    "class Solution:\n",
    "    def isPowerOfFour(self, n: int) -> bool:\n",
    "        return n > 0 and (n & (n - 1)) == 0 and n % 3 == 1\n"
   ]
  },
  {
   "cell_type": "code",
   "execution_count": null,
   "id": "11e58636",
   "metadata": {},
   "outputs": [],
   "source": [
    "def is_power_of_k(n: int, k: int) -> bool:\n",
    "    if n < 1 or k < 2:\n",
    "        return False\n",
    "    while n % k == 0:\n",
    "        n //= k\n",
    "    return n == 1\n"
   ]
  },
  {
   "cell_type": "code",
   "execution_count": null,
   "id": "139e2f0e",
   "metadata": {},
   "outputs": [],
   "source": [
    "import math\n",
    "\n",
    "def is_power_of_k_math(n: int, k: int) -> bool:\n",
    "    if n < 1 or k < 2:\n",
    "        return False\n",
    "    exp = math.log(n, k)\n",
    "    return abs(round(exp) - exp) < 1e-10\n"
   ]
  },
  {
   "cell_type": "code",
   "execution_count": null,
   "id": "275235b4",
   "metadata": {},
   "outputs": [
    {
     "name": "stdout",
     "output_type": "stream",
     "text": [
      "['dog', 'cat', 'cat', 'dog']\n",
      "2 2\n"
     ]
    }
   ],
   "source": [
    "pattern = \"abba\"\n",
    "s = \"dog cat cat dog\"\n",
    "s = s.split()\n",
    "print(s)\n",
    "print(len(set(pattern)) == len(set(s)))"
   ]
  },
  {
   "cell_type": "code",
   "execution_count": 25,
   "id": "8e6f8ebf",
   "metadata": {},
   "outputs": [
    {
     "ename": "AttributeError",
     "evalue": "'Solution' object has no attribute 'split'",
     "output_type": "error",
     "traceback": [
      "\u001b[1;31m---------------------------------------------------------------------------\u001b[0m",
      "\u001b[1;31mAttributeError\u001b[0m                            Traceback (most recent call last)",
      "Cell \u001b[1;32mIn[25], line 17\u001b[0m\n\u001b[0;32m     15\u001b[0m         \u001b[38;5;28;01mreturn\u001b[39;00m \u001b[38;5;28;01mTrue\u001b[39;00m        \n\u001b[0;32m     16\u001b[0m s \u001b[38;5;241m=\u001b[39m Solution()\n\u001b[1;32m---> 17\u001b[0m \u001b[38;5;28mprint\u001b[39m(\u001b[43ms\u001b[49m\u001b[38;5;241;43m.\u001b[39;49m\u001b[43mwordPattern\u001b[49m\u001b[43m(\u001b[49m\u001b[43mpattern\u001b[49m\u001b[43m,\u001b[49m\u001b[43m \u001b[49m\u001b[43ms\u001b[49m\u001b[43m)\u001b[49m)\n",
      "Cell \u001b[1;32mIn[25], line 8\u001b[0m, in \u001b[0;36mSolution.wordPattern\u001b[1;34m(self, pattern, s)\u001b[0m\n\u001b[0;32m      5\u001b[0m \u001b[38;5;28;01mdef\u001b[39;00m \u001b[38;5;21mwordPattern\u001b[39m(\u001b[38;5;28mself\u001b[39m, pattern: \u001b[38;5;28mstr\u001b[39m, s: \u001b[38;5;28mstr\u001b[39m) \u001b[38;5;241m-\u001b[39m\u001b[38;5;241m>\u001b[39m \u001b[38;5;28mbool\u001b[39m:\n\u001b[0;32m      6\u001b[0m     mapping \u001b[38;5;241m=\u001b[39m defaultdict(\u001b[38;5;28mlist\u001b[39m)\n\u001b[1;32m----> 8\u001b[0m     \u001b[38;5;28;01mfor\u001b[39;00m p, w \u001b[38;5;129;01min\u001b[39;00m \u001b[38;5;28mzip\u001b[39m(pattern, \u001b[43ms\u001b[49m\u001b[38;5;241;43m.\u001b[39;49m\u001b[43msplit\u001b[49m()):\n\u001b[0;32m      9\u001b[0m         mapping[p]\u001b[38;5;241m.\u001b[39mappend(w)\n\u001b[0;32m     11\u001b[0m     \u001b[38;5;28;01mfor\u001b[39;00m item, words \u001b[38;5;129;01min\u001b[39;00m mapping\u001b[38;5;241m.\u001b[39mitems():\n",
      "\u001b[1;31mAttributeError\u001b[0m: 'Solution' object has no attribute 'split'"
     ]
    }
   ],
   "source": [
    "from collections import defaultdict\n",
    "\n",
    "\n",
    "class Solution:\n",
    "    def wordPattern(self, pattern: str, s: str) -> bool:\n",
    "        mapping = defaultdict(list)\n",
    "\n",
    "        for p, w in zip(pattern, s.split()):\n",
    "            mapping[p].append(w)\n",
    "\n",
    "        for item, words in mapping.items():\n",
    "            if len(set(pattern)) > 1 and len(set(words)) > 1:\n",
    "                return (False)\n",
    "                break\n",
    "        return True        \n",
    "s = Solution()\n",
    "print(s.wordPattern(pattern, s))"
   ]
  },
  {
   "cell_type": "code",
   "execution_count": null,
   "id": "50e98ac4",
   "metadata": {},
   "outputs": [],
   "source": [
    "class Solution:\n",
    "    def wordPattern(self, pattern: str, s: str) -> bool:\n",
    "        words = s.split()\n",
    "        if len(words) != len(pattern):\n",
    "            return False\n",
    "\n",
    "        char_to_word = {}\n",
    "        word_to_char = {}\n",
    "\n",
    "        for ch, word in zip(pattern, words):\n",
    "            if ch in char_to_word and char_to_word[ch] != word:\n",
    "                return False\n",
    "            if word in word_to_char and word_to_char[word] != ch:\n",
    "                return False\n",
    "            char_to_word[ch] = word\n",
    "            word_to_char[word] = ch\n",
    "        \n",
    "        return True\n"
   ]
  }
 ],
 "metadata": {
  "kernelspec": {
   "display_name": "Python 3",
   "language": "python",
   "name": "python3"
  },
  "language_info": {
   "codemirror_mode": {
    "name": "ipython",
    "version": 3
   },
   "file_extension": ".py",
   "mimetype": "text/x-python",
   "name": "python",
   "nbconvert_exporter": "python",
   "pygments_lexer": "ipython3",
   "version": "3.11.5"
  }
 },
 "nbformat": 4,
 "nbformat_minor": 5
}
