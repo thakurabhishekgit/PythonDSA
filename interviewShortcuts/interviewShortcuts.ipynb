{
 "cells": [
  {
   "cell_type": "code",
   "execution_count": null,
   "id": "c22f9a98",
   "metadata": {},
   "outputs": [],
   "source": [
    "class Solution:\n",
    "    def isPowerOfFour(self, n: int) -> bool:\n",
    "        return n > 0 and (n & (n - 1)) == 0 and n % 3 == 1\n"
   ]
  },
  {
   "cell_type": "code",
   "execution_count": null,
   "id": "11e58636",
   "metadata": {},
   "outputs": [],
   "source": [
    "def is_power_of_k(n: int, k: int) -> bool:\n",
    "    if n < 1 or k < 2:\n",
    "        return False\n",
    "    while n % k == 0:\n",
    "        n //= k\n",
    "    return n == 1\n"
   ]
  },
  {
   "cell_type": "code",
   "execution_count": null,
   "id": "139e2f0e",
   "metadata": {},
   "outputs": [],
   "source": [
    "import math\n",
    "\n",
    "def is_power_of_k_math(n: int, k: int) -> bool:\n",
    "    if n < 1 or k < 2:\n",
    "        return False\n",
    "    exp = math.log(n, k)\n",
    "    return abs(round(exp) - exp) < 1e-10\n"
   ]
  },
  {
   "cell_type": "code",
   "execution_count": null,
   "id": "275235b4",
   "metadata": {},
   "outputs": [
    {
     "name": "stdout",
     "output_type": "stream",
     "text": [
      "['dog', 'cat', 'cat', 'dog']\n",
      "2 2\n"
     ]
    }
   ],
   "source": [
    "pattern = \"abba\"\n",
    "s = \"dog cat cat dog\"\n",
    "s = s.split()\n",
    "print(s)\n",
    "print(len(set(pattern)) == len(set(s)))"
   ]
  },
  {
   "cell_type": "code",
   "execution_count": 1,
   "id": "8e6f8ebf",
   "metadata": {},
   "outputs": [
    {
     "name": "stdout",
     "output_type": "stream",
     "text": [
      "True\n"
     ]
    }
   ],
   "source": [
    "from collections import defaultdict\n",
    "\n",
    "\n",
    "class Solution:\n",
    "    def wordPattern(self, pattern: str, s: str) -> bool:\n",
    "        mapping = defaultdict(list)\n",
    "\n",
    "        for p, w in zip(pattern, s.split()):\n",
    "            mapping[p].append(w)\n",
    "\n",
    "        for item, words in mapping.items():\n",
    "            if len(set(pattern)) > 1 and len(set(words)) > 1:\n",
    "                return (False)\n",
    "                break\n",
    "        return True        \n",
    "s = Solution()\n",
    "print(s.wordPattern(\"abba\" , \"dog cat cat dog\"))"
   ]
  },
  {
   "cell_type": "code",
   "execution_count": null,
   "id": "50e98ac4",
   "metadata": {},
   "outputs": [],
   "source": [
    "class Solution:\n",
    "    def wordPattern(self, pattern: str, s: str) -> bool:\n",
    "        words = s.split()\n",
    "        if len(words) != len(pattern):\n",
    "            return False\n",
    "\n",
    "        char_to_word = {}\n",
    "        word_to_char = {}\n",
    "\n",
    "        for ch, word in zip(pattern, words):\n",
    "            if ch in char_to_word and char_to_word[ch] != word:\n",
    "                return False\n",
    "            if word in word_to_char and word_to_char[word] != ch:\n",
    "                return False\n",
    "            char_to_word[ch] = word\n",
    "            word_to_char[word] = ch\n",
    "        \n",
    "        return True\n"
   ]
  },
  {
   "cell_type": "code",
   "execution_count": null,
   "id": "21b18359",
   "metadata": {},
   "outputs": [
    {
     "name": "stdout",
     "output_type": "stream",
     "text": [
      "bef 9669\n",
      "aft 6669\n",
      "bef 9669\n",
      "aft 9669\n",
      "bef 9969\n",
      "aft 9969\n",
      "bef 9969\n",
      "aft 6969\n"
     ]
    }
   ],
   "source": [
    "class Solution:\n",
    "    def maximum69Number (self, num: int) -> int:\n",
    "        num_str = list(str(num))\n",
    "        \n",
    "        for i in range(len(num_str)):\n",
    "            if num_str[i] == '6':\n",
    "                num_str[i] = '9'\n",
    "                break\n",
    "        return int(\"\".join(num_str))\n"
   ]
  },
  {
   "cell_type": "code",
   "execution_count": 17,
   "id": "5d2c6964",
   "metadata": {},
   "outputs": [
    {
     "name": "stdout",
     "output_type": "stream",
     "text": [
      "2\n",
      "6\n",
      "6\n"
     ]
    },
    {
     "data": {
      "text/plain": [
       "6"
      ]
     },
     "execution_count": 17,
     "metadata": {},
     "output_type": "execute_result"
    }
   ],
   "source": [
    "from typing import List\n",
    "\n",
    "class Solution:\n",
    "    def findSpecialInteger(self, arr: List[int]) -> int:\n",
    "        n = len(arr)\n",
    "        span = n // 4\n",
    "        print(span)\n",
    "        for i in range(n - span):\n",
    "            if arr[i] == arr[i + span]:\n",
    "                print(arr[i])\n",
    "                print(arr[i + span])\n",
    "                return arr[i]\n",
    "        return -1  \n",
    "\n",
    "s = Solution()\n",
    "s.findSpecialInteger([1,2,2,6,6,6,6,7,10])"
   ]
  },
  {
   "cell_type": "code",
   "execution_count": null,
   "id": "ccc66835",
   "metadata": {},
   "outputs": [
    {
     "name": "stdout",
     "output_type": "stream",
     "text": [
      "Course 1 has prerequisite: 0\n",
      "0 1\n",
      "2\n",
      "False\n"
     ]
    }
   ],
   "source": [
    "from typing import Optional\n",
    "\n",
    "# Definition for a binary tree node.\n",
    "# class TreeNode:\n",
    "#     def __init__(self, val=0, left=None, right=None):\n",
    "#         self.val = val\n",
    "#         self.left = left\n",
    "#         self.right = right\n",
    "\n",
    "class Solution:\n",
    "    def maxPathSum(self, root: Optional[TreeNode]) -> int:\n",
    "        self.max_sum = float(\"-inf\")\n",
    "\n",
    "        def dfs(node):\n",
    "            if not node:\n",
    "                return 0\n",
    "\n",
    "            # Only take positive contributions\n",
    "            left_gain = max(dfs(node.left), 0)\n",
    "            right_gain = max(dfs(node.right), 0)\n",
    "\n",
    "            # Path passing through this node\n",
    "            current_max = node.val + left_gain + right_gain\n",
    "\n",
    "            # Update global max\n",
    "            self.max_sum = max(self.max_sum, current_max)\n",
    "\n",
    "            # Return max path sum that can extend to parent\n",
    "            return node.val + max(left_gain, right_gain)\n",
    "\n",
    "        dfs(root)\n",
    "        return self.max_sum\n"
   ]
  },
  {
   "cell_type": "code",
   "execution_count": 3,
   "id": "896173c3",
   "metadata": {},
   "outputs": [],
   "source": [
    "# You are given a string s representing an attendance record for a student where each character signifies whether the student was absent, late, or present on that day. The record only contains the following three characters:\n",
    "\n",
    "# 'A': Absent.\n",
    "# 'L': Late.\n",
    "# 'P': Present.\n",
    "# The student is eligible for an attendance award if they meet both of the following criteria:\n",
    "\n",
    "# The student was absent ('A') for strictly fewer than 2 days total.\n",
    "# The student was never late ('L') for 3 or more consecutive days.\n",
    "# Return true if the student is eligible for an attendance award, or false otherwise.\n",
    "\n",
    " \n",
    "\n",
    "# Example 1:\n",
    "\n",
    "# Input: s = \"PPALLP\"\n",
    "# Output: true\n",
    "# Explanation: The student has fewer than 2 absences and was never late 3 or more consecutive days.\n",
    "# Example 2:\n",
    "\n",
    "# Input: s = \"PPALLL\"\n",
    "# Output: false\n",
    "# Explanation: The student was late 3 consecutive days in the last 3 days, so is not eligible for the award.\n",
    " \n",
    "\n",
    "\n",
    "\n",
    "from collections import Counter\n",
    "\n",
    "\n",
    "class Solution:\n",
    "    def checkRecord(self, s: str) -> bool:\n",
    "        count = Counter(s)\n",
    "        print(count)\n",
    "        count_L = 0\n",
    "        if count['A'] >= 2:\n",
    "            return (False)\n",
    "        for i in range(len(s)):\n",
    "            if s[i] == 'L':\n",
    "                count_L += 1\n",
    "            else:\n",
    "                count_L = 0\n",
    "            if count_L >= 3:\n",
    "                print(count_L)\n",
    "                return (False)\n",
    "        return True\n",
    "        "
   ]
  },
  {
   "cell_type": "code",
   "execution_count": null,
   "id": "6b40fc23",
   "metadata": {},
   "outputs": [],
   "source": [
    "import heapq\n",
    "from typing import List\n",
    "\n",
    "class Solution:\n",
    "    def networkDelayTime(self, times: List[List[int]], n: int, k: int) -> int:\n",
    "        # Step 1: Build adjacency list\n",
    "        graph = {i: [] for i in range(1, n+1)}\n",
    "        for u, v, w in times:\n",
    "            graph[u].append((v, w))\n",
    "\n",
    "        heap = [(0, k)]\n",
    "        dist = {}\n",
    "        \n",
    "        # Step 3: Dijkstra’s algorithm\n",
    "        while heap:\n",
    "            time, node = heapq.heappop(heap)\n",
    "            if node in dist:   # already processed shortest path\n",
    "                continue\n",
    "            dist[node] = time\n",
    "            for nei, w in graph[node]:\n",
    "                if nei not in dist:\n",
    "                    heapq.heappush(heap, (time + w, nei))\n",
    "        \n",
    "        # Step 4: Check if all nodes are reached\n",
    "        if len(dist) != n:\n",
    "            return -1\n",
    "        \n",
    "        return max(dist.values())\n"
   ]
  },
  {
   "cell_type": "code",
   "execution_count": 5,
   "id": "2263e483",
   "metadata": {},
   "outputs": [
    {
     "name": "stdout",
     "output_type": "stream",
     "text": [
      "[0]\n",
      "[0, 0]\n",
      "[0, 0, 0]\n",
      "[0, 0, 0, 2]\n",
      "[0, 0, 0, 2, 0]\n",
      "[0, 0, 0, 2, 0, 0]\n",
      "[0]\n",
      "[0, 0]\n",
      "[0, 0, 2]\n",
      "[0, 0, 2, 0]\n",
      "[0, 0, 2, 0, 0]\n",
      "[0]\n",
      "[0, 2]\n",
      "[0, 2, 0]\n",
      "[0, 2, 0, 0]\n",
      "[2]\n",
      "[2, 0]\n",
      "[2, 0, 0]\n",
      "[0]\n",
      "[0, 0]\n",
      "[0]\n",
      "9\n"
     ]
    }
   ],
   "source": [
    "nums = [0,0,0,2,0,0]\n",
    "count = 0\n",
    "for i in range(len(nums)):\n",
    "    for j in range(i + 1 , len(nums) + 1):\n",
    "        print(nums[i : j])\n",
    "        if set(nums[i : j]) == {0}:\n",
    "            count += 1\n",
    "print(count)"
   ]
  },
  {
   "cell_type": "code",
   "execution_count": 2,
   "id": "6a53262f",
   "metadata": {},
   "outputs": [
    {
     "name": "stdout",
     "output_type": "stream",
     "text": [
      "0 0\n",
      "1 1\n",
      "3 2\n",
      "6 0\n",
      "7 1\n",
      "9\n"
     ]
    }
   ],
   "source": [
    "from typing import List\n",
    "class Solution:\n",
    "    def zeroFilledSubarray(self, nums: List[int]) -> int:\n",
    "        count = 0       # total subarrays\n",
    "        streak = 0      # length of current zero streak\n",
    "\n",
    "        for num in nums:\n",
    "            if num == 0:\n",
    "                print(count , streak)\n",
    "                streak += 1\n",
    "                count += streak   # each new zero adds \"streak\" subarrays\n",
    "                \n",
    "            else:\n",
    "                streak = 0\n",
    "\n",
    "        return count\n",
    "s = Solution()\n",
    "print(s.zeroFilledSubarray([0,0,0,2,0,0]))"
   ]
  },
  {
   "cell_type": "code",
   "execution_count": 13,
   "id": "81f97ebf",
   "metadata": {},
   "outputs": [
    {
     "name": "stdout",
     "output_type": "stream",
     "text": [
      "Counter({'a': 4, 'b,b,b,c': 1, 'c': 1})\n",
      "b,b,b,c\n"
     ]
    }
   ],
   "source": [
    "from collections import Counter\n",
    "paragraph = \"a, a, a, a, b,b,b,c, c\"\n",
    "banned = [\"a\"]\n",
    "\n",
    "words = paragraph.lower().split()\n",
    "words = [word.strip('!.,?\\'\";') for word in words]\n",
    "word_count = Counter(words)\n",
    "print(word_count)\n",
    "for w in banned:\n",
    "    del word_count[w]\n",
    "\n",
    "print(word_count.most_common(1)[0][0])"
   ]
  },
  {
   "cell_type": "code",
   "execution_count": 14,
   "id": "8d265cd2",
   "metadata": {},
   "outputs": [
    {
     "data": {
      "text/plain": [
       "'b'"
      ]
     },
     "execution_count": 14,
     "metadata": {},
     "output_type": "execute_result"
    }
   ],
   "source": [
    "import re\n",
    "from collections import Counter\n",
    "\n",
    "class Solution:\n",
    "    def mostCommonWord(self, paragraph: str, banned: List[str]) -> str:\n",
    "        # extract words (only a-z, A-Z, 0-9)\n",
    "        words = re.findall(r'\\w+', paragraph.lower())\n",
    "        \n",
    "        banned_set = set(banned)  # faster lookup\n",
    "        word_count = Counter(w for w in words if w not in banned_set)\n",
    "        \n",
    "        return word_count.most_common(1)[0][0]\n",
    "s = Solution()\n",
    "s.mostCommonWord(paragraph, banned)"
   ]
  },
  {
   "cell_type": "markdown",
   "id": "dce4173e",
   "metadata": {},
   "source": []
  },
  {
   "cell_type": "code",
   "execution_count": null,
   "id": "e87b45da",
   "metadata": {},
   "outputs": [
    {
     "name": "stdout",
     "output_type": "stream",
     "text": [
      "[(1, 2, 3), (1, 3, 2), (2, 1, 3), (2, 3, 1), (3, 1, 2), (3, 2, 1)]\n",
      "0\n",
      "(1, 3, 2)\n",
      "[1, 3, 2]\n"
     ]
    }
   ],
   "source": [
    "from itertools import permutations\n",
    "\n",
    "def nextPermutation(nums):\n",
    "    # Generate all unique permutations sorted lexicographically\n",
    "    perms = sorted(set(permutations(nums)))\n",
    "    print(perms)\n",
    "    idx = perms.index(tuple(nums))\n",
    "    print(idx)\n",
    "    next_perm = perms[(idx + 1) % len(perms)]\n",
    "    print(next_perm)\n",
    "\n",
    "    return list(next_perm)\n",
    "\n",
    "# Example\n",
    "nums = [1, 2, 3]\n",
    "print(nextPermutation(nums)) \n"
   ]
  },
  {
   "cell_type": "code",
   "execution_count": null,
   "id": "0d182603",
   "metadata": {},
   "outputs": [
    {
     "name": "stdout",
     "output_type": "stream",
     "text": [
      "1 28\n",
      "8 27\n",
      "11 20\n",
      "17 17\n",
      "Pivot index found at: 3\n"
     ]
    },
    {
     "data": {
      "text/plain": [
       "3"
      ]
     },
     "execution_count": 4,
     "metadata": {},
     "output_type": "execute_result"
    }
   ],
   "source": [
    "from typing import List\n",
    "class Solution:\n",
    "    def pivotIndex(self, nums: List[int]) -> int:\n",
    "        for i in range(len(nums)):\n",
    "            leftSum = sum(nums[:i + 1])\n",
    "            rightSum = sum(nums[i:])\n",
    "            print(leftSum, rightSum)\n",
    "            if leftSum == rightSum:\n",
    "                print(\"Pivot index found at:\", i)\n",
    "                return i\n",
    "        return -1\n",
    "\n",
    "        \n",
    "s = Solution()\n",
    "s.pivotIndex([1, 7, 3, 6, 5, 6])    \n",
    "#1 8 11 17 23 29\n",
    "#28 27 20 17 11 6"
   ]
  },
  {
   "cell_type": "code",
   "execution_count": 1,
   "id": "d09490d0",
   "metadata": {},
   "outputs": [
    {
     "name": "stdout",
     "output_type": "stream",
     "text": [
      "[28, 27, 20, 17, 11, 6] [1, 8, 11, 17, 22, 28]\n",
      "Pivot index found at: 3\n",
      "3\n"
     ]
    }
   ],
   "source": [
    "nums = [1, 7, 3, 6, 5, 6]\n",
    "prefixSum = [0] * len(nums)\n",
    "postfixSum = [nums[len(nums)-1]] * len(nums)\n",
    "for i in range(len(nums)):\n",
    "    prefixSum[i] = prefixSum[i - 1] + nums[i] \n",
    "\n",
    "for i in range(len(nums) - 2, -1, -1):\n",
    "    postfixSum[i] = postfixSum[i + 1] + nums[i]\n",
    "\n",
    "print(postfixSum  , prefixSum)    \n",
    "\n",
    "for i in range(len(nums)):  \n",
    "    if prefixSum[i] == postfixSum[i]:\n",
    "        print(\"Pivot index found at:\", i)\n",
    "        print(i)"
   ]
  },
  {
   "cell_type": "code",
   "execution_count": 18,
   "id": "14785b0f",
   "metadata": {},
   "outputs": [
    {
     "name": "stdout",
     "output_type": "stream",
     "text": [
      "[[1, 1, 1, 1, 1, 1, 0], [1, 1, 1, 1, 1, 1, 0, 1], [1, 1, 1, 1, 1, 1, 0, 1, 1], [1, 1, 1, 1, 1, 1, 0, 1, 1, 1], [1, 1, 1, 1, 1, 1, 0, 1, 1, 1, 1], [1, 1, 1, 1, 1, 1, 0, 1, 1, 1, 1, 1], [1, 1, 1, 1, 1, 1, 0, 1, 1, 1, 1, 1, 1], [1, 1, 1, 1, 1, 1, 0, 1, 1, 1, 1, 1, 1, 1], [1, 1, 1, 1, 1, 1, 0, 1, 1, 1, 1, 1, 1, 1, 1], [1, 1, 1, 1, 1, 1, 0, 1, 1, 1, 1, 1, 1, 1, 1, 1], [1, 1, 1, 1, 1, 1, 0, 1, 1, 1, 1, 1, 1, 1, 1, 1, 1], [1, 1, 1, 1, 1, 1, 0, 1, 1, 1, 1, 1, 1, 1, 1, 1, 1, 1], [1, 1, 1, 1, 1, 1, 0, 1, 1, 1, 1, 1, 1, 1, 1, 1, 1, 1, 1], [1, 1, 1, 1, 1, 0], [1, 1, 1, 1, 1, 0, 1], [1, 1, 1, 1, 1, 0, 1, 1], [1, 1, 1, 1, 1, 0, 1, 1, 1], [1, 1, 1, 1, 1, 0, 1, 1, 1, 1], [1, 1, 1, 1, 1, 0, 1, 1, 1, 1, 1], [1, 1, 1, 1, 1, 0, 1, 1, 1, 1, 1, 1], [1, 1, 1, 1, 1, 0, 1, 1, 1, 1, 1, 1, 1], [1, 1, 1, 1, 1, 0, 1, 1, 1, 1, 1, 1, 1, 1], [1, 1, 1, 1, 1, 0, 1, 1, 1, 1, 1, 1, 1, 1, 1], [1, 1, 1, 1, 1, 0, 1, 1, 1, 1, 1, 1, 1, 1, 1, 1], [1, 1, 1, 1, 1, 0, 1, 1, 1, 1, 1, 1, 1, 1, 1, 1, 1], [1, 1, 1, 1, 1, 0, 1, 1, 1, 1, 1, 1, 1, 1, 1, 1, 1, 1], [1, 1, 1, 1, 0], [1, 1, 1, 1, 0, 1], [1, 1, 1, 1, 0, 1, 1], [1, 1, 1, 1, 0, 1, 1, 1], [1, 1, 1, 1, 0, 1, 1, 1, 1], [1, 1, 1, 1, 0, 1, 1, 1, 1, 1], [1, 1, 1, 1, 0, 1, 1, 1, 1, 1, 1], [1, 1, 1, 1, 0, 1, 1, 1, 1, 1, 1, 1], [1, 1, 1, 1, 0, 1, 1, 1, 1, 1, 1, 1, 1], [1, 1, 1, 1, 0, 1, 1, 1, 1, 1, 1, 1, 1, 1], [1, 1, 1, 1, 0, 1, 1, 1, 1, 1, 1, 1, 1, 1, 1], [1, 1, 1, 1, 0, 1, 1, 1, 1, 1, 1, 1, 1, 1, 1, 1], [1, 1, 1, 1, 0, 1, 1, 1, 1, 1, 1, 1, 1, 1, 1, 1, 1], [1, 1, 1, 0], [1, 1, 1, 0, 1], [1, 1, 1, 0, 1, 1], [1, 1, 1, 0, 1, 1, 1], [1, 1, 1, 0, 1, 1, 1, 1], [1, 1, 1, 0, 1, 1, 1, 1, 1], [1, 1, 1, 0, 1, 1, 1, 1, 1, 1], [1, 1, 1, 0, 1, 1, 1, 1, 1, 1, 1], [1, 1, 1, 0, 1, 1, 1, 1, 1, 1, 1, 1], [1, 1, 1, 0, 1, 1, 1, 1, 1, 1, 1, 1, 1], [1, 1, 1, 0, 1, 1, 1, 1, 1, 1, 1, 1, 1, 1], [1, 1, 1, 0, 1, 1, 1, 1, 1, 1, 1, 1, 1, 1, 1], [1, 1, 1, 0, 1, 1, 1, 1, 1, 1, 1, 1, 1, 1, 1, 1], [1, 1, 0], [1, 1, 0, 1], [1, 1, 0, 1, 1], [1, 1, 0, 1, 1, 1], [1, 1, 0, 1, 1, 1, 1], [1, 1, 0, 1, 1, 1, 1, 1], [1, 1, 0, 1, 1, 1, 1, 1, 1], [1, 1, 0, 1, 1, 1, 1, 1, 1, 1], [1, 1, 0, 1, 1, 1, 1, 1, 1, 1, 1], [1, 1, 0, 1, 1, 1, 1, 1, 1, 1, 1, 1], [1, 1, 0, 1, 1, 1, 1, 1, 1, 1, 1, 1, 1], [1, 1, 0, 1, 1, 1, 1, 1, 1, 1, 1, 1, 1, 1], [1, 1, 0, 1, 1, 1, 1, 1, 1, 1, 1, 1, 1, 1, 1], [1, 0], [1, 0, 1], [1, 0, 1, 1], [1, 0, 1, 1, 1], [1, 0, 1, 1, 1, 1], [1, 0, 1, 1, 1, 1, 1], [1, 0, 1, 1, 1, 1, 1, 1], [1, 0, 1, 1, 1, 1, 1, 1, 1], [1, 0, 1, 1, 1, 1, 1, 1, 1, 1], [1, 0, 1, 1, 1, 1, 1, 1, 1, 1, 1], [1, 0, 1, 1, 1, 1, 1, 1, 1, 1, 1, 1], [1, 0, 1, 1, 1, 1, 1, 1, 1, 1, 1, 1, 1], [1, 0, 1, 1, 1, 1, 1, 1, 1, 1, 1, 1, 1, 1], [0], [0, 1], [0, 1, 1], [0, 1, 1, 1], [0, 1, 1, 1, 1], [0, 1, 1, 1, 1, 1], [0, 1, 1, 1, 1, 1, 1], [0, 1, 1, 1, 1, 1, 1, 1], [0, 1, 1, 1, 1, 1, 1, 1, 1], [0, 1, 1, 1, 1, 1, 1, 1, 1, 1], [0, 1, 1, 1, 1, 1, 1, 1, 1, 1, 1], [0, 1, 1, 1, 1, 1, 1, 1, 1, 1, 1, 1], [0, 1, 1, 1, 1, 1, 1, 1, 1, 1, 1, 1, 1], [1, 1, 1, 1, 1, 1, 1, 1, 1, 1, 1, 1, 0], [1, 1, 1, 1, 1, 1, 1, 1, 1, 1, 1, 1, 0, 1], [1, 1, 1, 1, 1, 1, 1, 1, 1, 1, 1, 0], [1, 1, 1, 1, 1, 1, 1, 1, 1, 1, 1, 0, 1], [1, 1, 1, 1, 1, 1, 1, 1, 1, 1, 0], [1, 1, 1, 1, 1, 1, 1, 1, 1, 1, 0, 1], [1, 1, 1, 1, 1, 1, 1, 1, 1, 0], [1, 1, 1, 1, 1, 1, 1, 1, 1, 0, 1], [1, 1, 1, 1, 1, 1, 1, 1, 0], [1, 1, 1, 1, 1, 1, 1, 1, 0, 1], [1, 1, 1, 1, 1, 1, 1, 0], [1, 1, 1, 1, 1, 1, 1, 0, 1], [1, 1, 1, 1, 1, 1, 0], [1, 1, 1, 1, 1, 1, 0, 1], [1, 1, 1, 1, 1, 0], [1, 1, 1, 1, 1, 0, 1], [1, 1, 1, 1, 0], [1, 1, 1, 1, 0, 1], [1, 1, 1, 0], [1, 1, 1, 0, 1], [1, 1, 0], [1, 1, 0, 1], [1, 0], [1, 0, 1], [0], [0, 1], [1, 0], [1, 0, 1], [1, 0, 1, 1], [1, 0, 1, 1, 1], [1, 0, 1, 1, 1, 1], [1, 0, 1, 1, 1, 1, 1], [1, 0, 1, 1, 1, 1, 1, 1], [0], [0, 1], [0, 1, 1], [0, 1, 1, 1], [0, 1, 1, 1, 1], [0, 1, 1, 1, 1, 1], [0, 1, 1, 1, 1, 1, 1], [1, 1, 1, 1, 1, 1, 0], [1, 1, 1, 1, 1, 1, 0, 1], [1, 1, 1, 1, 1, 1, 0, 1, 1], [1, 1, 1, 1, 1, 1, 0, 1, 1, 1], [1, 1, 1, 1, 1, 1, 0, 1, 1, 1, 1], [1, 1, 1, 1, 1, 0], [1, 1, 1, 1, 1, 0, 1], [1, 1, 1, 1, 1, 0, 1, 1], [1, 1, 1, 1, 1, 0, 1, 1, 1], [1, 1, 1, 1, 1, 0, 1, 1, 1, 1], [1, 1, 1, 1, 0], [1, 1, 1, 1, 0, 1], [1, 1, 1, 1, 0, 1, 1], [1, 1, 1, 1, 0, 1, 1, 1], [1, 1, 1, 1, 0, 1, 1, 1, 1], [1, 1, 1, 0], [1, 1, 1, 0, 1], [1, 1, 1, 0, 1, 1], [1, 1, 1, 0, 1, 1, 1], [1, 1, 1, 0, 1, 1, 1, 1], [1, 1, 0], [1, 1, 0, 1], [1, 1, 0, 1, 1], [1, 1, 0, 1, 1, 1], [1, 1, 0, 1, 1, 1, 1], [1, 0], [1, 0, 1], [1, 0, 1, 1], [1, 0, 1, 1, 1], [1, 0, 1, 1, 1, 1], [0], [0, 1], [0, 1, 1], [0, 1, 1, 1], [0, 1, 1, 1, 1], [1, 1, 1, 1, 0], [1, 1, 1, 1, 0, 1], [1, 1, 1, 1, 0, 1, 1], [1, 1, 1, 1, 0, 1, 1, 1], [1, 1, 1, 1, 0, 1, 1, 1, 1], [1, 1, 1, 1, 0, 1, 1, 1, 1, 1], [1, 1, 1, 0], [1, 1, 1, 0, 1], [1, 1, 1, 0, 1, 1], [1, 1, 1, 0, 1, 1, 1], [1, 1, 1, 0, 1, 1, 1, 1], [1, 1, 1, 0, 1, 1, 1, 1, 1], [1, 1, 0], [1, 1, 0, 1], [1, 1, 0, 1, 1], [1, 1, 0, 1, 1, 1], [1, 1, 0, 1, 1, 1, 1], [1, 1, 0, 1, 1, 1, 1, 1], [1, 0], [1, 0, 1], [1, 0, 1, 1], [1, 0, 1, 1, 1], [1, 0, 1, 1, 1, 1], [1, 0, 1, 1, 1, 1, 1], [0], [0, 1], [0, 1, 1], [0, 1, 1, 1], [0, 1, 1, 1, 1], [0, 1, 1, 1, 1, 1]]\n",
      "13\n",
      "[1, 1, 1, 1, 1, 1, 1, 1, 1, 1, 1, 1, 0, 1]\n"
     ]
    }
   ],
   "source": [
    "nums = [1,1,1,1,1,1,0,1,1,1,1,1,1,1,1,1,1,1,1,0,1,0,1,1,1,1,1,1,0,1,1,1,1,0,1,1,1,1,1]   # try also with [0,1,1,1,0,1,1,0,1]\n",
    "\n",
    "result = []\n",
    "\n",
    "if 0 not in nums:\n",
    "    # case: no zeros, collect pairs of 1s\n",
    "    for i in range(len(nums)-1):\n",
    "        if nums[i] == 1 and nums[i+1] == 1:\n",
    "            result.append([1,1])\n",
    "else:\n",
    "    # case: find subarrays with exactly one zero\n",
    "    n = len(nums)\n",
    "    for i in range(n):\n",
    "        for j in range(i+1, n+1):\n",
    "            sub = nums[i:j]\n",
    "            if sub.count(0) == 1:\n",
    "                result.append(sub)\n",
    "\n",
    "\n",
    "print(result)\n",
    "res = [1 for sub in max(result) if sub == 1]\n",
    "print(len(res))\n",
    "print(max(result))\n"
   ]
  },
  {
   "cell_type": "code",
   "execution_count": null,
   "id": "893aedcb",
   "metadata": {},
   "outputs": [],
   "source": [
    "from typing import List\n",
    "\n",
    "class Solution:\n",
    "    def longestSubarray(self, nums: List[int]) -> int:\n",
    "        left = 0\n",
    "        zeros = 0\n",
    "        max_len = 0\n",
    "\n",
    "        for right in range(len(nums)):\n",
    "            if nums[right] == 0:\n",
    "                zeros += 1\n",
    "            while zeros > 1:\n",
    "                if nums[left] == 0:\n",
    "                    zeros -= 1\n",
    "                left += 1\n",
    "            max_len = max(max_len, right - left)\n",
    "\n",
    "        return max_len\n"
   ]
  }
 ],
 "metadata": {
  "kernelspec": {
   "display_name": "Python 3",
   "language": "python",
   "name": "python3"
  },
  "language_info": {
   "codemirror_mode": {
    "name": "ipython",
    "version": 3
   },
   "file_extension": ".py",
   "mimetype": "text/x-python",
   "name": "python",
   "nbconvert_exporter": "python",
   "pygments_lexer": "ipython3",
   "version": "3.11.5"
  }
 },
 "nbformat": 4,
 "nbformat_minor": 5
}
