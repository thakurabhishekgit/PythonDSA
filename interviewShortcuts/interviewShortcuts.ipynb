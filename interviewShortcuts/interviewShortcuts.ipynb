{
 "cells": [
  {
   "cell_type": "code",
   "execution_count": 10,
   "id": "c22f9a98",
   "metadata": {},
   "outputs": [],
   "source": [
    "class Solution:\n",
    "    def isPowerOfFour(self, n: int) -> bool:\n",
    "        return n > 0 and (n & (n - 1)) == 0 and n % 3 == 1\n"
   ]
  },
  {
   "cell_type": "code",
   "execution_count": 11,
   "id": "11e58636",
   "metadata": {},
   "outputs": [],
   "source": [
    "def is_power_of_k(n: int, k: int) -> bool:\n",
    "    if n < 1 or k < 2:\n",
    "        return False\n",
    "    while n % k == 0:\n",
    "        n //= k\n",
    "    return n == 1\n"
   ]
  },
  {
   "cell_type": "code",
   "execution_count": 12,
   "id": "139e2f0e",
   "metadata": {},
   "outputs": [],
   "source": [
    "import math\n",
    "\n",
    "def is_power_of_k_math(n: int, k: int) -> bool:\n",
    "    if n < 1 or k < 2:\n",
    "        return False\n",
    "    exp = math.log(n, k)\n",
    "    return abs(round(exp) - exp) < 1e-10\n"
   ]
  },
  {
   "cell_type": "code",
   "execution_count": 13,
   "id": "275235b4",
   "metadata": {},
   "outputs": [
    {
     "name": "stdout",
     "output_type": "stream",
     "text": [
      "['dog', 'cat', 'cat', 'dog']\n",
      "True\n"
     ]
    }
   ],
   "source": [
    "pattern = \"abba\"\n",
    "s = \"dog cat cat dog\"\n",
    "s = s.split()\n",
    "print(s)\n",
    "print(len(set(pattern)) == len(set(s)))"
   ]
  },
  {
   "cell_type": "code",
   "execution_count": 14,
   "id": "8e6f8ebf",
   "metadata": {},
   "outputs": [
    {
     "name": "stdout",
     "output_type": "stream",
     "text": [
      "True\n"
     ]
    }
   ],
   "source": [
    "from collections import defaultdict\n",
    "\n",
    "\n",
    "class Solution:\n",
    "    def wordPattern(self, pattern: str, s: str) -> bool:\n",
    "        mapping = defaultdict(list)\n",
    "\n",
    "        for p, w in zip(pattern, s.split()):\n",
    "            mapping[p].append(w)\n",
    "\n",
    "        for item, words in mapping.items():\n",
    "            if len(set(pattern)) > 1 and len(set(words)) > 1:\n",
    "                return (False)\n",
    "                break\n",
    "        return True        \n",
    "s = Solution()\n",
    "print(s.wordPattern(\"abba\" , \"dog cat cat dog\"))"
   ]
  },
  {
   "cell_type": "code",
   "execution_count": 15,
   "id": "50e98ac4",
   "metadata": {},
   "outputs": [],
   "source": [
    "class Solution:\n",
    "    def wordPattern(self, pattern: str, s: str) -> bool:\n",
    "        words = s.split()\n",
    "        if len(words) != len(pattern):\n",
    "            return False\n",
    "\n",
    "        char_to_word = {}\n",
    "        word_to_char = {}\n",
    "\n",
    "        for ch, word in zip(pattern, words):\n",
    "            if ch in char_to_word and char_to_word[ch] != word:\n",
    "                return False\n",
    "            if word in word_to_char and word_to_char[word] != ch:\n",
    "                return False\n",
    "            char_to_word[ch] = word\n",
    "            word_to_char[word] = ch\n",
    "        \n",
    "        return True\n"
   ]
  },
  {
   "cell_type": "code",
   "execution_count": 16,
   "id": "21b18359",
   "metadata": {},
   "outputs": [],
   "source": [
    "class Solution:\n",
    "    def maximum69Number (self, num: int) -> int:\n",
    "        num_str = list(str(num))\n",
    "        \n",
    "        for i in range(len(num_str)):\n",
    "            if num_str[i] == '6':\n",
    "                num_str[i] = '9'\n",
    "                break\n",
    "        return int(\"\".join(num_str))\n"
   ]
  },
  {
   "cell_type": "code",
   "execution_count": 17,
   "id": "5d2c6964",
   "metadata": {},
   "outputs": [
    {
     "name": "stdout",
     "output_type": "stream",
     "text": [
      "2\n",
      "6\n",
      "6\n"
     ]
    },
    {
     "data": {
      "text/plain": [
       "6"
      ]
     },
     "execution_count": 17,
     "metadata": {},
     "output_type": "execute_result"
    }
   ],
   "source": [
    "from typing import List\n",
    "\n",
    "class Solution:\n",
    "    def findSpecialInteger(self, arr: List[int]) -> int:\n",
    "        n = len(arr)\n",
    "        span = n // 4\n",
    "        print(span)\n",
    "        for i in range(n - span):\n",
    "            if arr[i] == arr[i + span]:\n",
    "                print(arr[i])\n",
    "                print(arr[i + span])\n",
    "                return arr[i]\n",
    "        return -1  \n",
    "\n",
    "s = Solution()\n",
    "s.findSpecialInteger([1,2,2,6,6,6,6,7,10])"
   ]
  },
  {
   "cell_type": "code",
   "execution_count": null,
   "id": "ccc66835",
   "metadata": {},
   "outputs": [
    {
     "data": {
      "text/plain": [
       "6"
      ]
     },
     "execution_count": 32,
     "metadata": {},
     "output_type": "execute_result"
    }
   ],
   "source": [
    "from typing import Optional\n",
    "\n",
    "# Definition for a binary tree node.\n",
    "class TreeNode:\n",
    "    def __init__(self, val=0, left=None, right=None):\n",
    "        self.val = val\n",
    "        self.left = left\n",
    "        self.right = right\n",
    "\n",
    "class Solution:\n",
    "    def maxPathSum(self, root: Optional[TreeNode]) -> int:\n",
    "        self.max_sum = float(\"-inf\")\n",
    "\n",
    "        def dfs(node):\n",
    "            if not node:\n",
    "                return 0\n",
    "            left_gain = max(dfs(node.left), 0)\n",
    "            right_gain = max(dfs(node.right), 0)\n",
    "            current_max = node.val + left_gain + right_gain\n",
    "            self.max_sum = max(self.max_sum, current_max)\n",
    "            return node.val + max(left_gain, right_gain)\n",
    "\n",
    "        dfs(root)\n",
    "        return self.max_sum\n",
    "\n",
    "s = Solution()\n",
    "s.maxPathSum(TreeNode(1, TreeNode(2), TreeNode(3)))"
   ]
  },
  {
   "cell_type": "code",
   "execution_count": 18,
   "id": "896173c3",
   "metadata": {},
   "outputs": [],
   "source": [
    "# You are given a string s representing an attendance record for a student where each character signifies whether the student was absent, late, or present on that day. The record only contains the following three characters:\n",
    "\n",
    "# 'A': Absent.\n",
    "# 'L': Late.\n",
    "# 'P': Present.\n",
    "# The student is eligible for an attendance award if they meet both of the following criteria:\n",
    "\n",
    "# The student was absent ('A') for strictly fewer than 2 days total.\n",
    "# The student was never late ('L') for 3 or more consecutive days.\n",
    "# Return true if the student is eligible for an attendance award, or false otherwise.\n",
    "\n",
    " \n",
    "\n",
    "# Example 1:\n",
    "\n",
    "# Input: s = \"PPALLP\"\n",
    "# Output: true\n",
    "# Explanation: The student has fewer than 2 absences and was never late 3 or more consecutive days.\n",
    "# Example 2:\n",
    "\n",
    "# Input: s = \"PPALLL\"\n",
    "# Output: false\n",
    "# Explanation: The student was late 3 consecutive days in the last 3 days, so is not eligible for the award.\n",
    " \n",
    "\n",
    "\n",
    "\n",
    "from collections import Counter\n",
    "\n",
    "\n",
    "class Solution:\n",
    "    def checkRecord(self, s: str) -> bool:\n",
    "        count = Counter(s)\n",
    "        print(count)\n",
    "        count_L = 0\n",
    "        if count['A'] >= 2:\n",
    "            return (False)\n",
    "        for i in range(len(s)):\n",
    "            if s[i] == 'L':\n",
    "                count_L += 1\n",
    "            else:\n",
    "                count_L = 0\n",
    "            if count_L >= 3:\n",
    "                print(count_L)\n",
    "                return (False)\n",
    "        return True\n",
    "        "
   ]
  },
  {
   "cell_type": "code",
   "execution_count": 19,
   "id": "6b40fc23",
   "metadata": {},
   "outputs": [],
   "source": [
    "import heapq\n",
    "from typing import List\n",
    "\n",
    "class Solution:\n",
    "    def networkDelayTime(self, times: List[List[int]], n: int, k: int) -> int:\n",
    "        # Step 1: Build adjacency list\n",
    "        graph = {i: [] for i in range(1, n+1)}\n",
    "        for u, v, w in times:\n",
    "            graph[u].append((v, w))\n",
    "\n",
    "        heap = [(0, k)]\n",
    "        dist = {}\n",
    "        \n",
    "        # Step 3: Dijkstra’s algorithm\n",
    "        while heap:\n",
    "            time, node = heapq.heappop(heap)\n",
    "            if node in dist:   # already processed shortest path\n",
    "                continue\n",
    "            dist[node] = time\n",
    "            for nei, w in graph[node]:\n",
    "                if nei not in dist:\n",
    "                    heapq.heappush(heap, (time + w, nei))\n",
    "        \n",
    "        # Step 4: Check if all nodes are reached\n",
    "        if len(dist) != n:\n",
    "            return -1\n",
    "        \n",
    "        return max(dist.values())\n"
   ]
  },
  {
   "cell_type": "code",
   "execution_count": 20,
   "id": "2263e483",
   "metadata": {},
   "outputs": [
    {
     "name": "stdout",
     "output_type": "stream",
     "text": [
      "[0]\n",
      "[0, 0]\n",
      "[0, 0, 0]\n",
      "[0, 0, 0, 2]\n",
      "[0, 0, 0, 2, 0]\n",
      "[0, 0, 0, 2, 0, 0]\n",
      "[0]\n",
      "[0, 0]\n",
      "[0, 0, 2]\n",
      "[0, 0, 2, 0]\n",
      "[0, 0, 2, 0, 0]\n",
      "[0]\n",
      "[0, 2]\n",
      "[0, 2, 0]\n",
      "[0, 2, 0, 0]\n",
      "[2]\n",
      "[2, 0]\n",
      "[2, 0, 0]\n",
      "[0]\n",
      "[0, 0]\n",
      "[0]\n",
      "9\n"
     ]
    }
   ],
   "source": [
    "nums = [0,0,0,2,0,0]\n",
    "count = 0\n",
    "for i in range(len(nums)):\n",
    "    for j in range(i + 1 , len(nums) + 1):\n",
    "        print(nums[i : j])\n",
    "        if set(nums[i : j]) == {0}:\n",
    "            count += 1\n",
    "print(count)"
   ]
  },
  {
   "cell_type": "code",
   "execution_count": 21,
   "id": "6a53262f",
   "metadata": {},
   "outputs": [
    {
     "name": "stdout",
     "output_type": "stream",
     "text": [
      "0 0\n",
      "1 1\n",
      "3 2\n",
      "6 0\n",
      "7 1\n",
      "9\n"
     ]
    }
   ],
   "source": [
    "from typing import List\n",
    "class Solution:\n",
    "    def zeroFilledSubarray(self, nums: List[int]) -> int:\n",
    "        count = 0       # total subarrays\n",
    "        streak = 0      # length of current zero streak\n",
    "\n",
    "        for num in nums:\n",
    "            if num == 0:\n",
    "                print(count , streak)\n",
    "                streak += 1\n",
    "                count += streak   # each new zero adds \"streak\" subarrays\n",
    "                \n",
    "            else:\n",
    "                streak = 0\n",
    "\n",
    "        return count\n",
    "s = Solution()\n",
    "print(s.zeroFilledSubarray([0,0,0,2,0,0]))"
   ]
  },
  {
   "cell_type": "code",
   "execution_count": 22,
   "id": "81f97ebf",
   "metadata": {},
   "outputs": [
    {
     "name": "stdout",
     "output_type": "stream",
     "text": [
      "Counter({'a': 4, 'b,b,b,c': 1, 'c': 1})\n",
      "b,b,b,c\n"
     ]
    }
   ],
   "source": [
    "from collections import Counter\n",
    "paragraph = \"a, a, a, a, b,b,b,c, c\"\n",
    "banned = [\"a\"]\n",
    "\n",
    "words = paragraph.lower().split()\n",
    "words = [word.strip('!.,?\\'\";') for word in words]\n",
    "word_count = Counter(words)\n",
    "print(word_count)\n",
    "for w in banned:\n",
    "    del word_count[w]\n",
    "\n",
    "print(word_count.most_common(1)[0][0])"
   ]
  },
  {
   "cell_type": "code",
   "execution_count": 23,
   "id": "8d265cd2",
   "metadata": {},
   "outputs": [
    {
     "data": {
      "text/plain": [
       "'b'"
      ]
     },
     "execution_count": 23,
     "metadata": {},
     "output_type": "execute_result"
    }
   ],
   "source": [
    "import re\n",
    "from collections import Counter\n",
    "\n",
    "class Solution:\n",
    "    def mostCommonWord(self, paragraph: str, banned: List[str]) -> str:\n",
    "        # extract words (only a-z, A-Z, 0-9)\n",
    "        words = re.findall(r'\\w+', paragraph.lower())\n",
    "        \n",
    "        banned_set = set(banned)  # faster lookup\n",
    "        word_count = Counter(w for w in words if w not in banned_set)\n",
    "        \n",
    "        return word_count.most_common(1)[0][0]\n",
    "s = Solution()\n",
    "s.mostCommonWord(paragraph, banned)"
   ]
  },
  {
   "cell_type": "markdown",
   "id": "dce4173e",
   "metadata": {},
   "source": []
  },
  {
   "cell_type": "code",
   "execution_count": 24,
   "id": "e87b45da",
   "metadata": {},
   "outputs": [
    {
     "name": "stdout",
     "output_type": "stream",
     "text": [
      "[(1, 2, 3), (1, 3, 2), (2, 1, 3), (2, 3, 1), (3, 1, 2), (3, 2, 1)]\n",
      "0\n",
      "(1, 3, 2)\n",
      "[1, 3, 2]\n"
     ]
    }
   ],
   "source": [
    "from itertools import permutations\n",
    "\n",
    "def nextPermutation(nums):\n",
    "    # Generate all unique permutations sorted lexicographically\n",
    "    perms = sorted(set(permutations(nums)))\n",
    "    print(perms)\n",
    "    idx = perms.index(tuple(nums))\n",
    "    print(idx)\n",
    "    next_perm = perms[(idx + 1) % len(perms)]\n",
    "    print(next_perm)\n",
    "\n",
    "    return list(next_perm)\n",
    "\n",
    "# Example\n",
    "nums = [1, 2, 3]\n",
    "print(nextPermutation(nums)) \n"
   ]
  },
  {
   "cell_type": "code",
   "execution_count": 25,
   "id": "0d182603",
   "metadata": {},
   "outputs": [
    {
     "name": "stdout",
     "output_type": "stream",
     "text": [
      "1 28\n",
      "8 27\n",
      "11 20\n",
      "17 17\n",
      "Pivot index found at: 3\n"
     ]
    },
    {
     "data": {
      "text/plain": [
       "3"
      ]
     },
     "execution_count": 25,
     "metadata": {},
     "output_type": "execute_result"
    }
   ],
   "source": [
    "from typing import List\n",
    "class Solution:\n",
    "    def pivotIndex(self, nums: List[int]) -> int:\n",
    "        for i in range(len(nums)):\n",
    "            leftSum = sum(nums[:i + 1])\n",
    "            rightSum = sum(nums[i:])\n",
    "            print(leftSum, rightSum)\n",
    "            if leftSum == rightSum:\n",
    "                print(\"Pivot index found at:\", i)\n",
    "                return i\n",
    "        return -1\n",
    "\n",
    "        \n",
    "s = Solution()\n",
    "s.pivotIndex([1, 7, 3, 6, 5, 6])    \n",
    "#1 8 11 17 23 29\n",
    "#28 27 20 17 11 6"
   ]
  },
  {
   "cell_type": "code",
   "execution_count": 26,
   "id": "d09490d0",
   "metadata": {},
   "outputs": [
    {
     "name": "stdout",
     "output_type": "stream",
     "text": [
      "[28, 27, 20, 17, 11, 6] [1, 8, 11, 17, 22, 28]\n",
      "Pivot index found at: 3\n",
      "3\n"
     ]
    }
   ],
   "source": [
    "nums = [1, 7, 3, 6, 5, 6]\n",
    "prefixSum = [0] * len(nums)\n",
    "postfixSum = [nums[len(nums)-1]] * len(nums)\n",
    "for i in range(len(nums)):\n",
    "    prefixSum[i] = prefixSum[i - 1] + nums[i] \n",
    "\n",
    "for i in range(len(nums) - 2, -1, -1):\n",
    "    postfixSum[i] = postfixSum[i + 1] + nums[i]\n",
    "\n",
    "print(postfixSum  , prefixSum)    \n",
    "\n",
    "for i in range(len(nums)):  \n",
    "    if prefixSum[i] == postfixSum[i]:\n",
    "        print(\"Pivot index found at:\", i)\n",
    "        print(i)"
   ]
  },
  {
   "cell_type": "code",
   "execution_count": 27,
   "id": "14785b0f",
   "metadata": {},
   "outputs": [
    {
     "name": "stdout",
     "output_type": "stream",
     "text": [
      "[[1, 1, 1, 1, 1, 1, 0], [1, 1, 1, 1, 1, 1, 0, 1], [1, 1, 1, 1, 1, 1, 0, 1, 1], [1, 1, 1, 1, 1, 1, 0, 1, 1, 1], [1, 1, 1, 1, 1, 1, 0, 1, 1, 1, 1], [1, 1, 1, 1, 1, 1, 0, 1, 1, 1, 1, 1], [1, 1, 1, 1, 1, 1, 0, 1, 1, 1, 1, 1, 1], [1, 1, 1, 1, 1, 1, 0, 1, 1, 1, 1, 1, 1, 1], [1, 1, 1, 1, 1, 1, 0, 1, 1, 1, 1, 1, 1, 1, 1], [1, 1, 1, 1, 1, 1, 0, 1, 1, 1, 1, 1, 1, 1, 1, 1], [1, 1, 1, 1, 1, 1, 0, 1, 1, 1, 1, 1, 1, 1, 1, 1, 1], [1, 1, 1, 1, 1, 1, 0, 1, 1, 1, 1, 1, 1, 1, 1, 1, 1, 1], [1, 1, 1, 1, 1, 1, 0, 1, 1, 1, 1, 1, 1, 1, 1, 1, 1, 1, 1], [1, 1, 1, 1, 1, 0], [1, 1, 1, 1, 1, 0, 1], [1, 1, 1, 1, 1, 0, 1, 1], [1, 1, 1, 1, 1, 0, 1, 1, 1], [1, 1, 1, 1, 1, 0, 1, 1, 1, 1], [1, 1, 1, 1, 1, 0, 1, 1, 1, 1, 1], [1, 1, 1, 1, 1, 0, 1, 1, 1, 1, 1, 1], [1, 1, 1, 1, 1, 0, 1, 1, 1, 1, 1, 1, 1], [1, 1, 1, 1, 1, 0, 1, 1, 1, 1, 1, 1, 1, 1], [1, 1, 1, 1, 1, 0, 1, 1, 1, 1, 1, 1, 1, 1, 1], [1, 1, 1, 1, 1, 0, 1, 1, 1, 1, 1, 1, 1, 1, 1, 1], [1, 1, 1, 1, 1, 0, 1, 1, 1, 1, 1, 1, 1, 1, 1, 1, 1], [1, 1, 1, 1, 1, 0, 1, 1, 1, 1, 1, 1, 1, 1, 1, 1, 1, 1], [1, 1, 1, 1, 0], [1, 1, 1, 1, 0, 1], [1, 1, 1, 1, 0, 1, 1], [1, 1, 1, 1, 0, 1, 1, 1], [1, 1, 1, 1, 0, 1, 1, 1, 1], [1, 1, 1, 1, 0, 1, 1, 1, 1, 1], [1, 1, 1, 1, 0, 1, 1, 1, 1, 1, 1], [1, 1, 1, 1, 0, 1, 1, 1, 1, 1, 1, 1], [1, 1, 1, 1, 0, 1, 1, 1, 1, 1, 1, 1, 1], [1, 1, 1, 1, 0, 1, 1, 1, 1, 1, 1, 1, 1, 1], [1, 1, 1, 1, 0, 1, 1, 1, 1, 1, 1, 1, 1, 1, 1], [1, 1, 1, 1, 0, 1, 1, 1, 1, 1, 1, 1, 1, 1, 1, 1], [1, 1, 1, 1, 0, 1, 1, 1, 1, 1, 1, 1, 1, 1, 1, 1, 1], [1, 1, 1, 0], [1, 1, 1, 0, 1], [1, 1, 1, 0, 1, 1], [1, 1, 1, 0, 1, 1, 1], [1, 1, 1, 0, 1, 1, 1, 1], [1, 1, 1, 0, 1, 1, 1, 1, 1], [1, 1, 1, 0, 1, 1, 1, 1, 1, 1], [1, 1, 1, 0, 1, 1, 1, 1, 1, 1, 1], [1, 1, 1, 0, 1, 1, 1, 1, 1, 1, 1, 1], [1, 1, 1, 0, 1, 1, 1, 1, 1, 1, 1, 1, 1], [1, 1, 1, 0, 1, 1, 1, 1, 1, 1, 1, 1, 1, 1], [1, 1, 1, 0, 1, 1, 1, 1, 1, 1, 1, 1, 1, 1, 1], [1, 1, 1, 0, 1, 1, 1, 1, 1, 1, 1, 1, 1, 1, 1, 1], [1, 1, 0], [1, 1, 0, 1], [1, 1, 0, 1, 1], [1, 1, 0, 1, 1, 1], [1, 1, 0, 1, 1, 1, 1], [1, 1, 0, 1, 1, 1, 1, 1], [1, 1, 0, 1, 1, 1, 1, 1, 1], [1, 1, 0, 1, 1, 1, 1, 1, 1, 1], [1, 1, 0, 1, 1, 1, 1, 1, 1, 1, 1], [1, 1, 0, 1, 1, 1, 1, 1, 1, 1, 1, 1], [1, 1, 0, 1, 1, 1, 1, 1, 1, 1, 1, 1, 1], [1, 1, 0, 1, 1, 1, 1, 1, 1, 1, 1, 1, 1, 1], [1, 1, 0, 1, 1, 1, 1, 1, 1, 1, 1, 1, 1, 1, 1], [1, 0], [1, 0, 1], [1, 0, 1, 1], [1, 0, 1, 1, 1], [1, 0, 1, 1, 1, 1], [1, 0, 1, 1, 1, 1, 1], [1, 0, 1, 1, 1, 1, 1, 1], [1, 0, 1, 1, 1, 1, 1, 1, 1], [1, 0, 1, 1, 1, 1, 1, 1, 1, 1], [1, 0, 1, 1, 1, 1, 1, 1, 1, 1, 1], [1, 0, 1, 1, 1, 1, 1, 1, 1, 1, 1, 1], [1, 0, 1, 1, 1, 1, 1, 1, 1, 1, 1, 1, 1], [1, 0, 1, 1, 1, 1, 1, 1, 1, 1, 1, 1, 1, 1], [0], [0, 1], [0, 1, 1], [0, 1, 1, 1], [0, 1, 1, 1, 1], [0, 1, 1, 1, 1, 1], [0, 1, 1, 1, 1, 1, 1], [0, 1, 1, 1, 1, 1, 1, 1], [0, 1, 1, 1, 1, 1, 1, 1, 1], [0, 1, 1, 1, 1, 1, 1, 1, 1, 1], [0, 1, 1, 1, 1, 1, 1, 1, 1, 1, 1], [0, 1, 1, 1, 1, 1, 1, 1, 1, 1, 1, 1], [0, 1, 1, 1, 1, 1, 1, 1, 1, 1, 1, 1, 1], [1, 1, 1, 1, 1, 1, 1, 1, 1, 1, 1, 1, 0], [1, 1, 1, 1, 1, 1, 1, 1, 1, 1, 1, 1, 0, 1], [1, 1, 1, 1, 1, 1, 1, 1, 1, 1, 1, 0], [1, 1, 1, 1, 1, 1, 1, 1, 1, 1, 1, 0, 1], [1, 1, 1, 1, 1, 1, 1, 1, 1, 1, 0], [1, 1, 1, 1, 1, 1, 1, 1, 1, 1, 0, 1], [1, 1, 1, 1, 1, 1, 1, 1, 1, 0], [1, 1, 1, 1, 1, 1, 1, 1, 1, 0, 1], [1, 1, 1, 1, 1, 1, 1, 1, 0], [1, 1, 1, 1, 1, 1, 1, 1, 0, 1], [1, 1, 1, 1, 1, 1, 1, 0], [1, 1, 1, 1, 1, 1, 1, 0, 1], [1, 1, 1, 1, 1, 1, 0], [1, 1, 1, 1, 1, 1, 0, 1], [1, 1, 1, 1, 1, 0], [1, 1, 1, 1, 1, 0, 1], [1, 1, 1, 1, 0], [1, 1, 1, 1, 0, 1], [1, 1, 1, 0], [1, 1, 1, 0, 1], [1, 1, 0], [1, 1, 0, 1], [1, 0], [1, 0, 1], [0], [0, 1], [1, 0], [1, 0, 1], [1, 0, 1, 1], [1, 0, 1, 1, 1], [1, 0, 1, 1, 1, 1], [1, 0, 1, 1, 1, 1, 1], [1, 0, 1, 1, 1, 1, 1, 1], [0], [0, 1], [0, 1, 1], [0, 1, 1, 1], [0, 1, 1, 1, 1], [0, 1, 1, 1, 1, 1], [0, 1, 1, 1, 1, 1, 1], [1, 1, 1, 1, 1, 1, 0], [1, 1, 1, 1, 1, 1, 0, 1], [1, 1, 1, 1, 1, 1, 0, 1, 1], [1, 1, 1, 1, 1, 1, 0, 1, 1, 1], [1, 1, 1, 1, 1, 1, 0, 1, 1, 1, 1], [1, 1, 1, 1, 1, 0], [1, 1, 1, 1, 1, 0, 1], [1, 1, 1, 1, 1, 0, 1, 1], [1, 1, 1, 1, 1, 0, 1, 1, 1], [1, 1, 1, 1, 1, 0, 1, 1, 1, 1], [1, 1, 1, 1, 0], [1, 1, 1, 1, 0, 1], [1, 1, 1, 1, 0, 1, 1], [1, 1, 1, 1, 0, 1, 1, 1], [1, 1, 1, 1, 0, 1, 1, 1, 1], [1, 1, 1, 0], [1, 1, 1, 0, 1], [1, 1, 1, 0, 1, 1], [1, 1, 1, 0, 1, 1, 1], [1, 1, 1, 0, 1, 1, 1, 1], [1, 1, 0], [1, 1, 0, 1], [1, 1, 0, 1, 1], [1, 1, 0, 1, 1, 1], [1, 1, 0, 1, 1, 1, 1], [1, 0], [1, 0, 1], [1, 0, 1, 1], [1, 0, 1, 1, 1], [1, 0, 1, 1, 1, 1], [0], [0, 1], [0, 1, 1], [0, 1, 1, 1], [0, 1, 1, 1, 1], [1, 1, 1, 1, 0], [1, 1, 1, 1, 0, 1], [1, 1, 1, 1, 0, 1, 1], [1, 1, 1, 1, 0, 1, 1, 1], [1, 1, 1, 1, 0, 1, 1, 1, 1], [1, 1, 1, 1, 0, 1, 1, 1, 1, 1], [1, 1, 1, 0], [1, 1, 1, 0, 1], [1, 1, 1, 0, 1, 1], [1, 1, 1, 0, 1, 1, 1], [1, 1, 1, 0, 1, 1, 1, 1], [1, 1, 1, 0, 1, 1, 1, 1, 1], [1, 1, 0], [1, 1, 0, 1], [1, 1, 0, 1, 1], [1, 1, 0, 1, 1, 1], [1, 1, 0, 1, 1, 1, 1], [1, 1, 0, 1, 1, 1, 1, 1], [1, 0], [1, 0, 1], [1, 0, 1, 1], [1, 0, 1, 1, 1], [1, 0, 1, 1, 1, 1], [1, 0, 1, 1, 1, 1, 1], [0], [0, 1], [0, 1, 1], [0, 1, 1, 1], [0, 1, 1, 1, 1], [0, 1, 1, 1, 1, 1]]\n",
      "13\n",
      "[1, 1, 1, 1, 1, 1, 1, 1, 1, 1, 1, 1, 0, 1]\n"
     ]
    }
   ],
   "source": [
    "nums = [1,1,1,1,1,1,0,1,1,1,1,1,1,1,1,1,1,1,1,0,1,0,1,1,1,1,1,1,0,1,1,1,1,0,1,1,1,1,1]   # try also with [0,1,1,1,0,1,1,0,1]\n",
    "\n",
    "result = []\n",
    "\n",
    "if 0 not in nums:\n",
    "    # case: no zeros, collect pairs of 1s\n",
    "    for i in range(len(nums)-1):\n",
    "        if nums[i] == 1 and nums[i+1] == 1:\n",
    "            result.append([1,1])\n",
    "else:\n",
    "    # case: find subarrays with exactly one zero\n",
    "    n = len(nums)\n",
    "    for i in range(n):\n",
    "        for j in range(i+1, n+1):\n",
    "            sub = nums[i:j]\n",
    "            if sub.count(0) == 1:\n",
    "                result.append(sub)\n",
    "\n",
    "\n",
    "print(result)\n",
    "res = [1 for sub in max(result) if sub == 1]\n",
    "print(len(res))\n",
    "print(max(result))\n"
   ]
  },
  {
   "cell_type": "code",
   "execution_count": 28,
   "id": "893aedcb",
   "metadata": {},
   "outputs": [],
   "source": [
    "from typing import List\n",
    "\n",
    "class Solution:\n",
    "    def longestSubarray(self, nums: List[int]) -> int:\n",
    "        left = 0\n",
    "        zeros = 0\n",
    "        max_len = 0\n",
    "\n",
    "        for right in range(len(nums)):\n",
    "            if nums[right] == 0:\n",
    "                zeros += 1\n",
    "            while zeros > 1:\n",
    "                if nums[left] == 0:\n",
    "                    zeros -= 1\n",
    "                left += 1\n",
    "            max_len = max(max_len, right - left)\n",
    "\n",
    "        return max_len\n"
   ]
  },
  {
   "cell_type": "code",
   "execution_count": 29,
   "id": "9b858a97",
   "metadata": {},
   "outputs": [
    {
     "name": "stdout",
     "output_type": "stream",
     "text": [
      "{'a': 8, 'b': 5, 'c': 7, 'd': 14, 'e': 15, 'f': 11, 'g': 13, 'h': 19, 'i': 22, 'j': 23, 'k': 20, 'l': 21}\n",
      "{'e': 8, 'c': 9, 'b': 6, 'd': 7}\n"
     ]
    },
    {
     "data": {
      "text/plain": [
       "[10]"
      ]
     },
     "execution_count": 29,
     "metadata": {},
     "output_type": "execute_result"
    }
   ],
   "source": [
    "from typing import List\n",
    "\n",
    "class Solution:\n",
    "    def partitionLabels(self, s: str) -> List[int]:\n",
    "       \n",
    "        last = {ch: i for i, ch in enumerate(s)}\n",
    "        print(last)\n",
    "        \n",
    "        res = []\n",
    "        start = end = 0\n",
    "\n",
    "\n",
    "        for i, ch in enumerate(s):\n",
    "            end = max(end, last[ch])   \n",
    "            if i == end:             \n",
    "                res.append(end - start + 1)\n",
    "                start = i + 1         \n",
    "        return res\n",
    "\n",
    "\n",
    "s = Solution()\n",
    "s.partitionLabels(\"ababcbacadefegdehijhklij\")\n",
    "s.partitionLabels(\"eccbbbbdec\")"
   ]
  },
  {
   "cell_type": "markdown",
   "id": "5afb277c",
   "metadata": {},
   "source": [
    "| i | ch | last\\[ch] | end = max(end, last\\[ch]) | Condition (i == end?) | Action        | res   |\n",
    "| - | -- | --------- | ------------------------- | --------------------- | ------------- | ----- |\n",
    "| 0 | e  | 9         | end = 9                   | 0 == 9? ❌             | nothing       | \\[]   |\n",
    "| 1 | c  | 8         | end = 9                   | 1 == 9? ❌             | nothing       | \\[]   |\n",
    "| 2 | c  | 8         | end = 9                   | 2 == 9? ❌             | nothing       | \\[]   |\n",
    "| 3 | b  | 6         | end = 9                   | 3 == 9? ❌             | nothing       | \\[]   |\n",
    "| 4 | b  | 6         | end = 9                   | 4 == 9? ❌             | nothing       | \\[]   |\n",
    "| 5 | b  | 6         | end = 9                   | 5 == 9? ❌             | nothing       | \\[]   |\n",
    "| 6 | b  | 6         | end = 9                   | 6 == 9? ❌             | nothing       | \\[]   |\n",
    "| 7 | d  | 7         | end = 9                   | 7 == 9? ❌             | nothing       | \\[]   |\n",
    "| 8 | e  | 9         | end = 9                   | 8 == 9? ❌             | nothing       | \\[]   |\n",
    "| 9 | c  | 8         | end = 9                   | 9 == 9? ✅             | cut partition | \\[10] |\n"
   ]
  },
  {
   "cell_type": "code",
   "execution_count": 30,
   "id": "2fb71cbe",
   "metadata": {},
   "outputs": [
    {
     "name": "stdout",
     "output_type": "stream",
     "text": [
      "amanaplanacanalpanama\n",
      "True\n"
     ]
    }
   ],
   "source": [
    "import re\n",
    "s = \"A man, a plan, a canal: Panama\"\n",
    "s = s.lower()\n",
    "# s = re.sub(r'[^a-z0-9]', '', s)\n",
    "newS = \"\"\n",
    "for c in s:\n",
    "    if c.isalnum():\n",
    "        newS += c\n",
    "print(newS)\n",
    "print(newS == newS[::-1])"
   ]
  },
  {
   "cell_type": "code",
   "execution_count": 31,
   "id": "eb4422aa",
   "metadata": {},
   "outputs": [
    {
     "ename": "AttributeError",
     "evalue": "'Solution' object has no attribute 'validPalindrome'",
     "output_type": "error",
     "traceback": [
      "\u001b[1;31m---------------------------------------------------------------------------\u001b[0m",
      "\u001b[1;31mAttributeError\u001b[0m                            Traceback (most recent call last)",
      "Cell \u001b[1;32mIn[31], line 36\u001b[0m\n\u001b[0;32m     33\u001b[0m         \u001b[38;5;28;01mreturn\u001b[39;00m res\n\u001b[0;32m     35\u001b[0m ss \u001b[38;5;241m=\u001b[39m Solution()\n\u001b[1;32m---> 36\u001b[0m \u001b[43mss\u001b[49m\u001b[38;5;241;43m.\u001b[39;49m\u001b[43mvalidPalindrome\u001b[49m(s)\n",
      "\u001b[1;31mAttributeError\u001b[0m: 'Solution' object has no attribute 'validPalindrome'"
     ]
    }
   ],
   "source": [
    "class Solution:\n",
    "    def addOperators(self, num: str, target: int):\n",
    "        res = []\n",
    "\n",
    "        def backtrack(index, expr, value, prev):\n",
    "            # If we've reached the end of string\n",
    "            if index == len(num):\n",
    "                if value == target:\n",
    "                    res.append(expr)\n",
    "                return\n",
    "\n",
    "            for i in range(index, len(num)):\n",
    "                # Prevent numbers with leading zeros\n",
    "                if i != index and num[index] == '0':\n",
    "                    break\n",
    "\n",
    "                curr_str = num[index:i+1]\n",
    "                curr_num = int(curr_str)\n",
    "\n",
    "                if index == 0:\n",
    "                    # First number, can't add operator before it\n",
    "                    backtrack(i + 1, curr_str, curr_num, curr_num)\n",
    "                else:\n",
    "                    # Addition\n",
    "                    backtrack(i + 1, expr + \"+\" + curr_str, value + curr_num, curr_num)\n",
    "                    # Subtraction\n",
    "                    backtrack(i + 1, expr + \"-\" + curr_str, value - curr_num, -curr_num)\n",
    "                    # Multiplication\n",
    "                    backtrack(i + 1, expr + \"*\" + curr_str,\n",
    "                              value - prev + prev * curr_num, prev * curr_num)\n",
    "\n",
    "        backtrack(0, \"\", 0, 0)\n",
    "        return res\n",
    "\n",
    "ss = Solution()\n",
    "ss.validPalindrome(s)"
   ]
  },
  {
   "cell_type": "code",
   "execution_count": null,
   "id": "d6ebd093",
   "metadata": {},
   "outputs": [],
   "source": [
    "class Solution:\n",
    "    def gcdOfOddEvenSums(self, n: int) -> int:\n",
    "        sumOdd = 0\n",
    "        sumEven = 0\n",
    "        i = 1\n",
    "        size = n * 2\n",
    "        while True:\n",
    "            if size == 0:\n",
    "                break\n",
    "            \n",
    "            if i % 2 == 0:\n",
    "                sumEven += i\n",
    "                size -= 1\n",
    "            else:\n",
    "                sumOdd += i\n",
    "                size -= 1\n",
    "            i += 1\n",
    "\n",
    "        print(sumOdd , sumEven)    \n",
    "            \n",
    "        def gcd(a, b):\n",
    "            while b:\n",
    "                a, b = b, a % b\n",
    "            return a\n",
    "        return gcd(sumOdd, sumEven)"
   ]
  },
  {
   "cell_type": "code",
   "execution_count": null,
   "id": "3381f259",
   "metadata": {},
   "outputs": [],
   "source": [
    "from math import gcd\n",
    "\n",
    "\n",
    "print(gcd(2,4))"
   ]
  },
  {
   "cell_type": "code",
   "execution_count": null,
   "id": "e428076f",
   "metadata": {},
   "outputs": [
    {
     "data": {
      "text/plain": [
       "False"
      ]
     },
     "execution_count": 8,
     "metadata": {},
     "output_type": "execute_result"
    }
   ],
   "source": [
    "from collections import Counter\n",
    "from typing import List\n",
    "\n",
    "class Solution:\n",
    "    def partitionArray(self, nums: List[int], k: int) -> bool:\n",
    "        n = len(nums)\n",
    "        if n % k != 0:\n",
    "            return False\n",
    "        \n",
    "        groups = n // k\n",
    "        freq = Counter(nums)\n",
    "\n",
    "        for count in freq.values():\n",
    "            if count > groups:\n",
    "                return False\n",
    "        \n",
    "        return True\n",
    "\n",
    "s = Solution()\n",
    "s.partitionArray([3,3,3,3,4,4,4,4] , 4)"
   ]
  },
  {
   "cell_type": "code",
   "execution_count": null,
   "id": "65d78b6b",
   "metadata": {},
   "outputs": [
    {
     "name": "stdout",
     "output_type": "stream",
     "text": [
      "[1, 2, 4, 7, 5, 3, 6, 8, 9]\n"
     ]
    }
   ],
   "source": [
    "mat = [[1,2,3],[4,5,6],[7,8,9]]\n",
    "# Output: [1,2,4,7,5,3,6,8,9]\n",
    "from typing import List\n",
    "class Solution:\n",
    "    def findDiagonalOrder(self, mat: List[List[int]]) -> List[int]:\n",
    "        result = []\n",
    "        if not mat or not mat[0]:\n",
    "            return result\n",
    "\n",
    "        rows, cols = len(mat), len(mat[0])\n",
    "        for d in range(rows + cols - 1):\n",
    "            if d % 2 == 0: \n",
    "                for i in range(min(d, rows - 1), -1, -1):\n",
    "                    j = d - i\n",
    "                    if j < cols:\n",
    "                        result.append(mat[i][j])\n",
    "            else:  \n",
    "                for j in range(min(d, cols - 1), -1, -1):\n",
    "                    i = d - j\n",
    "                    if i < rows:\n",
    "                        result.append(mat[i][j])\n",
    "        return result\n",
    "\n",
    "s = Solution()\n",
    "print(s.findDiagonalOrder(mat))"
   ]
  },
  {
   "cell_type": "code",
   "execution_count": null,
   "id": "1eb4ddb9",
   "metadata": {},
   "outputs": [
    {
     "name": "stdout",
     "output_type": "stream",
     "text": [
      "['abc', 'def']\n",
      "abc def\n",
      "['ad', 'ae', 'af', 'bd', 'be', 'bf', 'cd', 'ce', 'cf']\n"
     ]
    }
   ],
   "source": [
    "from itertools import product\n",
    "\n",
    "\n",
    "class Solution:\n",
    "    def letterCombinations(self, digits: str) -> List[str]:\n",
    "        res = []\n",
    "        if not digits:\n",
    "            return [] \n",
    "        mapping = {\n",
    "            2 : \"abc\",\n",
    "            3 : \"def\",\n",
    "            4 : \"ghi\",\n",
    "            5 : \"jkl\",\n",
    "            6 : \"mno\",\n",
    "            7 : \"pqrs\",\n",
    "            8 : \"tuv\",\n",
    "            9 : \"wxyz\"\n",
    "        }\n",
    "\n",
    " \n",
    "        strings = [mapping[int(d)] for d in digits]\n",
    "        print(strings)  \n",
    "        combinations = [''.join(p) for p in product(*strings)]\n",
    "        return (combinations)\n",
    "        \n",
    "s = Solution()\n",
    "print(s.letterCombinations(\"23\"))"
   ]
  },
  {
   "cell_type": "code",
   "execution_count": null,
   "id": "3940b35d",
   "metadata": {},
   "outputs": [
    {
     "name": "stdout",
     "output_type": "stream",
     "text": [
      "48\n"
     ]
    }
   ],
   "source": [
    "from math import sqrt\n",
    "\n",
    "\n",
    "dimensions = [[9,3],[8,6]]\n",
    "res  = []\n",
    "for i in range(len(dimensions)):\n",
    "    diag = sqrt(dimensions[i][0]**2 + dimensions[i][1]**2)\n",
    "    res.append(diag)\n",
    "index = res.index(max(res))\n",
    "print(dimensions[index][0] * dimensions[index][1])    "
   ]
  },
  {
   "cell_type": "code",
   "execution_count": null,
   "id": "b5fe550f",
   "metadata": {},
   "outputs": [
    {
     "name": "stdout",
     "output_type": "stream",
     "text": [
      "[39, 52]\n",
      "2028\n"
     ]
    }
   ],
   "source": [
    "dimensions = [[4,7],[8,9],[5,3],[6,10],[2,9],[3,10],[2,2],[5,8],[5,10],[5,6],[8,9],[10,7],[8,9],[3,7],[2,6],[5,1],[7,4],[1,10],[1,7],[6,9],[3,3],[4,6],[8,2],[10,6],[7,9],[9,2],[1,2],[3,8],[10,2],[4,1],[9,7],[10,3],[6,9],[9,8],[7,7],[5,7],[5,4],[6,5],[1,8],[2,3],[7,10],[3,9],[5,7],[2,4],[5,6],[9,5],[8,8],[8,10],[6,8],[5,1],[10,8],[7,4],[2,1],[2,7],[10,3],[2,5],[7,6],[10,5],[10,9],[5,7],[10,6],[4,3],[10,4],[1,5],[8,9],[3,1],[2,5],[9,10],[6,6],[5,10],[10,2],[6,10],[1,1],[8,6],[1,7],[6,3],[9,3],[1,4],[1,1],[10,4],[7,9],[4,5],[2,8],[7,9],[7,3],[4,9],[2,8],[4,6],[9,1],[8,4],[2,4],[7,8],[3,5],[7,6],[8,6],[4,7],[25,60],[39,52],[16,63],[33,56]]\n",
    "\n",
    "\n",
    "\n",
    "print(max(dimensions, key=lambda x: x[0] * x[1]))\n",
    "print(max(dimensions, key=lambda x: x[0] * x[1])[0] * max(dimensions, key=lambda x: x[0] * x[1])[1]) "
   ]
  },
  {
   "cell_type": "code",
   "execution_count": null,
   "id": "71c2799f",
   "metadata": {},
   "outputs": [],
   "source": [
    "from typing import List\n",
    "from math import sqrt\n",
    "\n",
    "class Solution:\n",
    "    def areaOfMaxDiagonal(self, dimensions: List[List[int]]) -> int:\n",
    "\n",
    "        best = max(dimensions, key=lambda x: (x[0]**2 + x[1]**2, x[0] * x[1]))\n",
    "        return best[0] * best[1]\n"
   ]
  },
  {
   "cell_type": "code",
   "execution_count": null,
   "id": "5f858a94",
   "metadata": {},
   "outputs": [
    {
     "name": "stdout",
     "output_type": "stream",
     "text": [
      "1[.]1[.]1[.]1\n"
     ]
    }
   ],
   "source": [
    "class Solution:\n",
    "    def defangIPaddr(self, address: str) -> str:\n",
    "        return (address.replace(\".\", \"[.]\"))\n",
    "\n",
    "s = Solution()\n",
    "print(s.defangIPaddr(\"1.1.1.1\"))"
   ]
  },
  {
   "cell_type": "code",
   "execution_count": null,
   "id": "f16aa61c",
   "metadata": {},
   "outputs": [],
   "source": [
    "class Solution:\n",
    "    def flowerGame(self, n: int, m: int) -> int:\n",
    "        # oddX = (n + 1) // 2\n",
    "        # evenX = n // 2\n",
    "        # oddY = (m + 1) // 2\n",
    "        # evenY = m // 2\n",
    "        # return oddX * evenY + evenX * oddY\n",
    "        s = m * n\n",
    "        return s // 2\n"
   ]
  },
  {
   "cell_type": "code",
   "execution_count": null,
   "id": "824e7205",
   "metadata": {},
   "outputs": [
    {
     "name": "stdout",
     "output_type": "stream",
     "text": [
      "5\n"
     ]
    }
   ],
   "source": [
    "import heapq\n",
    "\n",
    "def max_toys(T, N, A):\n",
    "    # A is 1-based per statement; convert to 0-based list if needed\n",
    "    # Here assume A is a 0-based Python list of length N.\n",
    "\n",
    "    # Initially, all shops are available at minute 1\n",
    "    avail = []  # (A[i], i)\n",
    "    for i in range(N):\n",
    "        heapq.heappush(avail, (A[i], i))\n",
    "\n",
    "    cool = []   # (next_time, A[i], i)\n",
    "    t = 1\n",
    "    bought = 0\n",
    "\n",
    "    while t <= T:\n",
    "        # Move shops whose cooldown ended into avail\n",
    "        while cool and cool[0][0] <= t:\n",
    "            _, a, i = heapq.heappop(cool)\n",
    "            heapq.heappush(avail, (a, i))\n",
    "\n",
    "        if avail:\n",
    "            # Buy from the shop with smallest cooldown\n",
    "            a, i = heapq.heappop(avail)\n",
    "            bought += 1\n",
    "            # Buying consumes this minute; next available time = t + a\n",
    "            heapq.heappush(cool, (t + a, a, i))\n",
    "            t += 1\n",
    "        else:\n",
    "            # No shop available now; jump time to earliest next availability\n",
    "            next_t = cool[0][0] if cool else float('inf')\n",
    "            if next_t > T:  # no time left to make an additional purchase\n",
    "                break\n",
    "            t = next_t\n",
    "\n",
    "    return bought"
   ]
  },
  {
   "cell_type": "code",
   "execution_count": null,
   "id": "8cc01b96",
   "metadata": {},
   "outputs": [],
   "source": [
    "import itertools\n",
    "\n",
    "lists = [\n",
    "    [1, 4],        # always pick from here first\n",
    "    [3, 4],\n",
    "    [5, 6, 7]\n",
    "]\n",
    "\n",
    "# product automatically respects \"first → last\" order\n",
    "for combo in itertools.product(*lists):\n",
    "    print(\" \".join(map(str, combo)))\n"
   ]
  },
  {
   "cell_type": "code",
   "execution_count": 7,
   "id": "8b5b4583",
   "metadata": {},
   "outputs": [
    {
     "name": "stdout",
     "output_type": "stream",
     "text": [
      "8\n"
     ]
    }
   ],
   "source": [
    "from typing import List\n",
    "class Solution:\n",
    "    def maximumUnits(self, boxTypes: List[List[int]], truckSize: int) -> int:\n",
    "        boxTypes.sort(key=lambda x: x[1], reverse=True)\n",
    "        total_units = 0\n",
    "        for numberOfBoxes, unitsPerBox in boxTypes:\n",
    "            if truckSize >= numberOfBoxes:\n",
    "                total_units += numberOfBoxes * unitsPerBox\n",
    "                truckSize -= numberOfBoxes\n",
    "            else:\n",
    "                total_units += truckSize * unitsPerBox\n",
    "                break\n",
    "        return total_units\n",
    "s = Solution()\n",
    "print(s.maximumUnits([[1,3],[2,2],[3,1]], 4))"
   ]
  },
  {
   "cell_type": "code",
   "execution_count": 9,
   "id": "1889efca",
   "metadata": {},
   "outputs": [
    {
     "data": {
      "text/plain": [
       "<__main__.ListNode at 0x290e4939550>"
      ]
     },
     "execution_count": 9,
     "metadata": {},
     "output_type": "execute_result"
    }
   ],
   "source": [
    "# Definition for singly-linked list.\n",
    "from typing import Optional\n",
    "class ListNode:\n",
    "    def __init__(self, val=0, next=None):\n",
    "        self.val = val\n",
    "        self.next = next\n",
    "class Solution:\n",
    "    def swapNodes(self, head: Optional[ListNode], k: int) -> Optional[ListNode]:\n",
    "        n = 0\n",
    "        curr = head\n",
    "        while curr:\n",
    "            n += 1\n",
    "            curr = curr.next\n",
    "        first = head\n",
    "        for _ in range(k - 1):\n",
    "            first = first.next\n",
    "        second = head\n",
    "        for _ in range(n - k):\n",
    "            second = second.next\n",
    "        first.val, second.val = second.val, first.val\n",
    "\n",
    "        return head\n",
    "s = Solution()\n",
    "\n",
    "head = ListNode(1, ListNode(2, ListNode(3, ListNode(4, ListNode(5)))))\n",
    "s.swapNodes(head, 2)\n",
    "\n"
   ]
  },
  {
   "cell_type": "code",
   "execution_count": 12,
   "id": "87041c98",
   "metadata": {},
   "outputs": [
    {
     "data": {
      "text/plain": [
       "1"
      ]
     },
     "execution_count": 12,
     "metadata": {},
     "output_type": "execute_result"
    }
   ],
   "source": [
    "class Solution:\n",
    "    def findClosest(self, x: int, y: int, z: int) -> int:\n",
    "        x_diff = abs(x - z)\n",
    "        y_dif = abs(y - z)\n",
    "        if x_diff == y_dif:\n",
    "            return (0)\n",
    "        if x_diff < y_dif:\n",
    "            return (1)\n",
    "        else:\n",
    "            return (2)  \n",
    "        \n",
    "s = Solution()\n",
    "s.findClosest(7,2,5)        "
   ]
  },
  {
   "cell_type": "code",
   "execution_count": null,
   "id": "797ff814",
   "metadata": {},
   "outputs": [
    {
     "name": "stdout",
     "output_type": "stream",
     "text": [
      "Counter({'a': 2}) Counter({'a': 2, 'b': 1})\n",
      "True\n"
     ]
    }
   ],
   "source": [
    "from collections import Counter\n",
    "\n",
    "class Solution:\n",
    "    def canConstruct(self, ransomNote: str, magazine: str) -> bool:\n",
    "        ranCount = Counter(ransomNote)\n",
    "        magCount = Counter(magazine)\n",
    "\n",
    "        for item, val in ranCount.items():\n",
    "            if magCount[item] < val:\n",
    "                return False\n",
    "        return True\n"
   ]
  },
  {
   "cell_type": "code",
   "execution_count": 8,
   "id": "1357a83b",
   "metadata": {},
   "outputs": [
    {
     "name": "stdout",
     "output_type": "stream",
     "text": [
      "5\n",
      "7\n",
      "9\n",
      "9 2 3\n"
     ]
    },
    {
     "data": {
      "text/plain": [
       "3"
      ]
     },
     "execution_count": 8,
     "metadata": {},
     "output_type": "execute_result"
    }
   ],
   "source": [
    "def makeTheIntegerZero(num1: int, num2: int) -> int:\n",
    "    for k in range(1, 61): \n",
    "        X = num1 - k * num2\n",
    "        print(X)\n",
    "        if X >= k and bin(X).count(\"1\") <= k:\n",
    "            print(X, bin(X).count(\"1\"), k)\n",
    "            return k\n",
    "    return -1\n",
    "makeTheIntegerZero(3, -2)"
   ]
  },
  {
   "cell_type": "code",
   "execution_count": null,
   "id": "af21e11f",
   "metadata": {},
   "outputs": [
    {
     "data": {
      "text/plain": [
       "'Imaa peaksmaaa oatGmaaaa atinLmaaaaa'"
      ]
     },
     "execution_count": 10,
     "metadata": {},
     "output_type": "execute_result"
    }
   ],
   "source": [
    "sentence = \"I speak Goat Latin\"\n",
    "class Solution:\n",
    "    def toGoatLatin(self, sentence: str) -> str:\n",
    "        words = sentence.split()\n",
    "        vowels = {'a', 'e', 'i', 'o', 'u', 'A', 'E', 'I', 'O', 'U'}\n",
    "        for i in range(len(words)):\n",
    "            if words[i][0] in vowels:\n",
    "                words[i] += \"ma\"\n",
    "            else:\n",
    "                words[i] = words[i][1:] + words[i][0] + \"ma\"\n",
    "            words[i] += \"a\" * (i + 1)\n",
    "        return \" \".join(words)\n",
    "s = Solution()\n",
    "s.toGoatLatin(sentence)\n"
   ]
  },
  {
   "cell_type": "code",
   "execution_count": 13,
   "id": "af31e394",
   "metadata": {},
   "outputs": [
    {
     "data": {
      "text/plain": [
       "'0.(012)'"
      ]
     },
     "execution_count": 13,
     "metadata": {},
     "output_type": "execute_result"
    }
   ],
   "source": [
    "class Solution:\n",
    "    def fractionToDecimal(self, numerator: int, denominator: int) -> str:\n",
    "        if numerator == 0:\n",
    "            return \"0\"\n",
    "        \n",
    "        res = []\n",
    "        if (numerator < 0) ^ (denominator < 0):\n",
    "            res.append(\"-\")\n",
    "        \n",
    "        numerator, denominator = abs(numerator), abs(denominator)\n",
    "        res.append(str(numerator // denominator))\n",
    "        remainder = numerator % denominator\n",
    "        if remainder == 0:\n",
    "            return \"\".join(res)\n",
    "        \n",
    "        res.append(\".\")\n",
    "        seen = {}\n",
    "        while remainder != 0:\n",
    "            if remainder in seen:\n",
    "                res.insert(seen[remainder], \"(\")\n",
    "                res.append(\")\")\n",
    "                break\n",
    "            \n",
    "            seen[remainder] = len(res)\n",
    "            remainder *= 10\n",
    "            res.append(str(remainder // denominator))\n",
    "            remainder %= denominator\n",
    "        \n",
    "        return \"\".join(res)\n",
    "\n",
    "s = Solution()\n",
    "s.fractionToDecimal(4,333)"
   ]
  },
  {
   "cell_type": "code",
   "execution_count": 15,
   "id": "265cb0f5",
   "metadata": {},
   "outputs": [
    {
     "data": {
      "text/plain": [
       "'leetcode'"
      ]
     },
     "execution_count": 15,
     "metadata": {},
     "output_type": "execute_result"
    }
   ],
   "source": [
    "s = \"leeetcode\"\n",
    "class Solution:\n",
    "    def makeFancyString(self, s: str) -> str:\n",
    "        res = []\n",
    "        for char in s:\n",
    "            if len(res) < 2 or not (res[-1] == res[-2] == char):\n",
    "                res.append(char)\n",
    "        return \"\".join(res)\n",
    "X = Solution()\n",
    "X.makeFancyString(s)"
   ]
  },
  {
   "cell_type": "code",
   "execution_count": 2,
   "id": "c93eddd6",
   "metadata": {},
   "outputs": [
    {
     "data": {
      "text/plain": [
       "16"
      ]
     },
     "execution_count": 2,
     "metadata": {},
     "output_type": "execute_result"
    }
   ],
   "source": [
    "from typing import List\n",
    "class Solution:\n",
    "    def minOperations(self, queries: List[List[int]]) -> int:\n",
    "        ranges = []\n",
    "        k = 1\n",
    "        start = 1\n",
    "        while start <= 10**9:\n",
    "            end = min(10**9, 4**k - 1)\n",
    "            ranges.append((start, end, k))\n",
    "            start = 4**k\n",
    "            k += 1\n",
    "\n",
    "        total_ans = 0\n",
    "        for l, r in queries:\n",
    "            S = 0\n",
    "            for start, end, k in ranges:\n",
    "                if r < start or l > end:\n",
    "                    continue\n",
    "                overlap = min(r, end) - max(l, start) + 1\n",
    "                if overlap > 0:\n",
    "                    S += overlap * k\n",
    "            total_ans += (S + 1) // 2\n",
    "        return total_ans\n",
    "s = Solution()\n",
    "s.minOperations([[1,4],[5,8],[1,10]])    \n",
    "            "
   ]
  },
  {
   "cell_type": "code",
   "execution_count": 5,
   "id": "3029872f",
   "metadata": {},
   "outputs": [
    {
     "data": {
      "text/plain": [
       "\"s'teL ekat edoCteeL tsetnoc\""
      ]
     },
     "execution_count": 5,
     "metadata": {},
     "output_type": "execute_result"
    }
   ],
   "source": [
    "class Solution:\n",
    "    def reverseWords(self, s: str) -> str:\n",
    "        res = []\n",
    "        for word in s.split(\" \"):\n",
    "            res.append(word[::-1])\n",
    "        return \" \".join(res)\n",
    "\n",
    "s = Solution()\n",
    "s.reverseWords(\"Let's take LeetCode contest\")        "
   ]
  },
  {
   "cell_type": "code",
   "execution_count": null,
   "id": "db22af0b",
   "metadata": {},
   "outputs": [
    {
     "data": {
      "text/plain": [
       "[0, 1, -1, 2, -2]"
      ]
     },
     "execution_count": 12,
     "metadata": {},
     "output_type": "execute_result"
    }
   ],
   "source": [
    "from typing import List\n",
    "class Solution:\n",
    "    def sumZero(self, n: int) -> List[int]:\n",
    "        res = []\n",
    "        if n % 2 != 0:\n",
    "            res.append(0)\n",
    "        for i in range(1, n//2 + 1):\n",
    "            res.append(i)\n",
    "            res.append(-i)\n",
    "        return res\n",
    "s = Solution()\n",
    "s.sumZero(5)"
   ]
  },
  {
   "cell_type": "code",
   "execution_count": 22,
   "id": "9e5a651e",
   "metadata": {},
   "outputs": [
    {
     "data": {
      "text/plain": [
       "['g1 act car', 'a8 act zoo', 'ab1 off key dog', 'a1 9 2 3 1', 'zo4 4 7']"
      ]
     },
     "execution_count": 22,
     "metadata": {},
     "output_type": "execute_result"
    }
   ],
   "source": [
    "class Solution:\n",
    "    def reorderLogFiles(self, logs: List[str]) -> List[str]:\n",
    "        letter_logs = []\n",
    "        digit_logs = []\n",
    "        \n",
    "        for log in logs:\n",
    "            if log.split()[1].isdigit():\n",
    "                digit_logs.append(log)\n",
    "            else:\n",
    "                letter_logs.append(log)\n",
    "        \n",
    "        letter_logs.sort(key=lambda x: (x.split()[1:], x.split()[0]))\n",
    "        \n",
    "        return letter_logs + digit_logs\n",
    "s = Solution()\n",
    "s.reorderLogFiles([\"a1 9 2 3 1\",\"g1 act car\",\"zo4 4 7\",\"ab1 off key dog\",\"a8 act zoo\"])"
   ]
  },
  {
   "cell_type": "code",
   "execution_count": null,
   "id": "d7caf4ec",
   "metadata": {},
   "outputs": [
    {
     "data": {
      "text/plain": [
       "[11, 999]"
      ]
     },
     "execution_count": 4,
     "metadata": {},
     "output_type": "execute_result"
    }
   ],
   "source": [
    "from typing import List\n",
    "class Solution:\n",
    "    def getNoZeroIntegers(self, n: int) -> List[int]:\n",
    "        def isNoZero(x: int) -> bool:\n",
    "            return '0' not in str(x)\n",
    "        \n",
    "        for a in range(1, n):\n",
    "            b = n - a\n",
    "            if isNoZero(a) and isNoZero(b):\n",
    "                return [a, b]\n",
    "        return []\n",
    "s = Solution()\n",
    "s.getNoZeroIntegers(1010)\n"
   ]
  },
  {
   "cell_type": "code",
   "execution_count": null,
   "id": "c0f23dfe",
   "metadata": {},
   "outputs": [],
   "source": [
    "class Solution:\n",
    "    def peopleAwareOfSecret(self, n: int, delay: int, forget: int) -> int:\n",
    "        MOD = 10**9 + 7\n",
    "\n",
    "        dp = [0] * (n + 1)\n",
    "        dp[1] = 1  # Day 1: one person knows\n",
    "\n",
    "        for day in range(2, n + 1):\n",
    "            # Sum up all people who share today\n",
    "            for j in range(delay, forget):\n",
    "                if day - j > 0:\n",
    "                    dp[day] = (dp[day] + dp[day - j]) % MOD\n",
    "\n",
    "        # Count people who still remember on day n\n",
    "        ans = 0\n",
    "        for day in range(n - forget + 1, n + 1):\n",
    "            if day > 0:\n",
    "                ans = (ans + dp[day]) % MOD\n",
    "\n",
    "        return ans\n",
    "\n",
    "s = Solution()\n",
    "s.peopleAwareOfSecret(\n",
    "    5,2,3\n",
    ")"
   ]
  },
  {
   "cell_type": "code",
   "execution_count": null,
   "id": "bfe44114",
   "metadata": {},
   "outputs": [],
   "source": [
    "from typing import List\n",
    "\n",
    "class Solution:\n",
    "    def minimumTeachings(self, n: int, languages: List[List[int]], friendships: List[List[int]]) -> int:\n",
    "        langs = [set(l) for l in languages]\n",
    "        problematic_users = set()\n",
    "        for u, v in friendships:\n",
    "            u -= 1\n",
    "            v -= 1\n",
    "            if langs[u].intersection(langs[v]):\n",
    "                continue  \n",
    "            problematic_users.add(u)\n",
    "            problematic_users.add(v)\n",
    "\n",
    "        if not problematic_users:\n",
    "            return 0\n",
    "        min_teach = float('inf')\n",
    "        for lang in range(1, n + 1):\n",
    "            count = 0\n",
    "            for user in problematic_users:\n",
    "                if lang not in langs[user]:\n",
    "                    count += 1\n",
    "            min_teach = min(min_teach, count)\n",
    "        \n",
    "        return min_teach\n"
   ]
  },
  {
   "cell_type": "code",
   "execution_count": 9,
   "id": "2589bab6",
   "metadata": {},
   "outputs": [
    {
     "data": {
      "text/plain": [
       "4"
      ]
     },
     "execution_count": 9,
     "metadata": {},
     "output_type": "execute_result"
    }
   ],
   "source": [
    "import itertools\n",
    "rating = [1,2,3,4]\n",
    "com = itertools.combinations(rating , 3)\n",
    "count = 0\n",
    "for comb in com:\n",
    "    if comb[0] > comb[1] > comb[2] or comb[0] < comb[1] < comb[2]:\n",
    "       count += 1\n",
    "count"
   ]
  },
  {
   "cell_type": "code",
   "execution_count": null,
   "id": "6ef0295f",
   "metadata": {},
   "outputs": [],
   "source": [
    "from typing import List\n",
    "\n",
    "class Solution:\n",
    "    def numTeams(self, rating: List[int]) -> int:\n",
    "        n = len(rating)\n",
    "        count = 0\n",
    "\n",
    "        for j in range(n):\n",
    "            left_smaller = left_greater = right_smaller = right_greater = 0\n",
    "\n",
    "            for i in range(j):\n",
    "                if rating[i] < rating[j]:\n",
    "                    left_smaller += 1\n",
    "                elif rating[i] > rating[j]:\n",
    "                    left_greater += 1\n",
    "\n",
    "            for k in range(j+1, n):\n",
    "                if rating[k] > rating[j]:\n",
    "                    right_greater += 1\n",
    "                elif rating[k] < rating[j]:\n",
    "                    right_smaller += 1\n",
    "\n",
    "            count += left_smaller * right_greater + left_greater * right_smaller\n",
    "\n",
    "        return count\n",
    "\n",
    "s = Solution()\n",
    "s.numTeams([2,5,3,4,1])"
   ]
  },
  {
   "cell_type": "code",
   "execution_count": 6,
   "id": "749fd5a3",
   "metadata": {},
   "outputs": [
    {
     "name": "stdout",
     "output_type": "stream",
     "text": [
      "[69, 79, 101, 101]\n"
     ]
    },
    {
     "data": {
      "text/plain": [
       "'lEOtcede'"
      ]
     },
     "execution_count": 6,
     "metadata": {},
     "output_type": "execute_result"
    }
   ],
   "source": [
    "s = \"lEetcOde\"\n",
    "vowels = \"aeiouAEIOU\"\n",
    "new = \"\"\n",
    "ascii = sorted(ord(c) for c in s if c in vowels)\n",
    "print(sorted(ascii))\n",
    "for c in s:\n",
    "    if c in vowels:\n",
    "        new += chr(ascii.pop(0))\n",
    "    else:\n",
    "        new += c\n",
    "new"
   ]
  },
  {
   "cell_type": "code",
   "execution_count": 7,
   "id": "2db95281",
   "metadata": {},
   "outputs": [
    {
     "data": {
      "text/plain": [
       "'lEOtcede'"
      ]
     },
     "execution_count": 7,
     "metadata": {},
     "output_type": "execute_result"
    }
   ],
   "source": [
    "class Solution:\n",
    "    def sortVowels(self, s: str) -> str:\n",
    "        vowels = {'a', 'e', 'i', 'o', 'u', 'A', 'E', 'I', 'O', 'U'}\n",
    "        new = \"\"\n",
    "        ascii_vals = sorted(ord(c) for c in s if c in vowels)\n",
    "        \n",
    "        for c in s:\n",
    "            if c in vowels:\n",
    "                new += chr(ascii_vals.pop(0))\n",
    "            else:\n",
    "                new += c\n",
    "        return new\n",
    "s = Solution()\n",
    "s.sortVowels(\"lEetcOde\")"
   ]
  },
  {
   "cell_type": "code",
   "execution_count": null,
   "id": "d68f50b9",
   "metadata": {},
   "outputs": [],
   "source": [
    "class Solution:\n",
    "    def sortVowels(self, s: str) -> str:\n",
    "        vowels=set('aeiouAEIOU')\n",
    "        arr=sorted([c for c in s if c in vowels])\n",
    "        res=[]\n",
    "        i=0\n",
    "\n",
    "        for c in s:\n",
    "            if c in vowels:\n",
    "                res.append(arr[i])\n",
    "                i+=1\n",
    "            else:\n",
    "                res.append(c)\n",
    "        return ''.join(res)"
   ]
  },
  {
   "cell_type": "code",
   "execution_count": null,
   "id": "4f251b80",
   "metadata": {},
   "outputs": [
    {
     "data": {
      "text/plain": [
       "True"
      ]
     },
     "execution_count": 1,
     "metadata": {},
     "output_type": "execute_result"
    }
   ],
   "source": [
    "from collections import Counter\n",
    "class Solution:\n",
    "    def doesAliceWin(self, s: str) -> bool:\n",
    "        vowels = set(\"aeiou\")\n",
    "        v = sum(1 for ch in s if ch in vowels)\n",
    "        return v > 0\n",
    "        \n",
    "\n",
    "S = Solution()\n",
    "S.doesAliceWin(\"leetcoder\")        "
   ]
  }
 ],
 "metadata": {
  "kernelspec": {
   "display_name": "Python 3",
   "language": "python",
   "name": "python3"
  },
  "language_info": {
   "codemirror_mode": {
    "name": "ipython",
    "version": 3
   },
   "file_extension": ".py",
   "mimetype": "text/x-python",
   "name": "python",
   "nbconvert_exporter": "python",
   "pygments_lexer": "ipython3",
   "version": "3.11.5"
  }
 },
 "nbformat": 4,
 "nbformat_minor": 5
}
