{
 "cells": [
  {
   "cell_type": "code",
   "execution_count": null,
   "id": "c22f9a98",
   "metadata": {},
   "outputs": [],
   "source": [
    "class Solution:\n",
    "    def isPowerOfFour(self, n: int) -> bool:\n",
    "        return n > 0 and (n & (n - 1)) == 0 and n % 3 == 1\n"
   ]
  },
  {
   "cell_type": "code",
   "execution_count": null,
   "id": "11e58636",
   "metadata": {},
   "outputs": [],
   "source": [
    "def is_power_of_k(n: int, k: int) -> bool:\n",
    "    if n < 1 or k < 2:\n",
    "        return False\n",
    "    while n % k == 0:\n",
    "        n //= k\n",
    "    return n == 1\n"
   ]
  },
  {
   "cell_type": "code",
   "execution_count": null,
   "id": "139e2f0e",
   "metadata": {},
   "outputs": [],
   "source": [
    "import math\n",
    "\n",
    "def is_power_of_k_math(n: int, k: int) -> bool:\n",
    "    if n < 1 or k < 2:\n",
    "        return False\n",
    "    exp = math.log(n, k)\n",
    "    return abs(round(exp) - exp) < 1e-10\n"
   ]
  }
 ],
 "metadata": {
  "language_info": {
   "name": "python"
  }
 },
 "nbformat": 4,
 "nbformat_minor": 5
}
