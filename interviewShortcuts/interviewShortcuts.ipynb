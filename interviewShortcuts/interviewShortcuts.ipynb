{
 "cells": [
  {
   "cell_type": "code",
   "execution_count": 4,
   "id": "c22f9a98",
   "metadata": {},
   "outputs": [],
   "source": [
    "class Solution:\n",
    "    def isPowerOfFour(self, n: int) -> bool:\n",
    "        return n > 0 and (n & (n - 1)) == 0 and n % 3 == 1\n"
   ]
  },
  {
   "cell_type": "code",
   "execution_count": 5,
   "id": "11e58636",
   "metadata": {},
   "outputs": [],
   "source": [
    "def is_power_of_k(n: int, k: int) -> bool:\n",
    "    if n < 1 or k < 2:\n",
    "        return False\n",
    "    while n % k == 0:\n",
    "        n //= k\n",
    "    return n == 1"
   ]
  },
  {
   "cell_type": "code",
   "execution_count": 6,
   "id": "139e2f0e",
   "metadata": {},
   "outputs": [],
   "source": [
    "import math\n",
    "\n",
    "def is_power_of_k_math(n: int, k: int) -> bool:\n",
    "    if n < 1 or k < 2:\n",
    "        return False\n",
    "    exp = math.log(n, k)\n",
    "    return abs(round(exp) - exp) < 1e-10\n"
   ]
  },
  {
   "cell_type": "code",
   "execution_count": 7,
   "id": "275235b4",
   "metadata": {},
   "outputs": [
    {
     "name": "stdout",
     "output_type": "stream",
     "text": [
      "['dog', 'cat', 'cat', 'dog']\n",
      "True\n"
     ]
    }
   ],
   "source": [
    "pattern = \"abba\"\n",
    "s = \"dog cat cat dog\"\n",
    "s = s.split()\n",
    "print(s)\n",
    "print(len(set(pattern)) == len(set(s)))"
   ]
  },
  {
   "cell_type": "code",
   "execution_count": 8,
   "id": "8e6f8ebf",
   "metadata": {},
   "outputs": [
    {
     "name": "stdout",
     "output_type": "stream",
     "text": [
      "True\n"
     ]
    }
   ],
   "source": [
    "from collections import defaultdict\n",
    "\n",
    "\n",
    "class Solution:\n",
    "    def wordPattern(self, pattern: str, s: str) -> bool:\n",
    "        mapping = defaultdict(list)\n",
    "\n",
    "        for p, w in zip(pattern, s.split()):\n",
    "            mapping[p].append(w)\n",
    "\n",
    "        for item, words in mapping.items():\n",
    "            if len(set(pattern)) > 1 and len(set(words)) > 1:\n",
    "                return (False)\n",
    "                break\n",
    "        return True        \n",
    "s = Solution()\n",
    "print(s.wordPattern(\"abba\" , \"dog cat cat dog\"))"
   ]
  },
  {
   "cell_type": "code",
   "execution_count": 9,
   "id": "50e98ac4",
   "metadata": {},
   "outputs": [],
   "source": [
    "class Solution:\n",
    "    def wordPattern(self, pattern: str, s: str) -> bool:\n",
    "        words = s.split()\n",
    "        if len(words) != len(pattern):\n",
    "            return False\n",
    "\n",
    "        char_to_word = {}\n",
    "        word_to_char = {}\n",
    "\n",
    "        for ch, word in zip(pattern, words):\n",
    "            if ch in char_to_word and char_to_word[ch] != word:\n",
    "                return False\n",
    "            if word in word_to_char and word_to_char[word] != ch:\n",
    "                return False\n",
    "            char_to_word[ch] = word\n",
    "            word_to_char[word] = ch\n",
    "        \n",
    "        return True\n"
   ]
  },
  {
   "cell_type": "code",
   "execution_count": 10,
   "id": "21b18359",
   "metadata": {},
   "outputs": [],
   "source": [
    "class Solution:\n",
    "    def maximum69Number (self, num: int) -> int:\n",
    "        num_str = list(str(num))\n",
    "        \n",
    "        for i in range(len(num_str)):\n",
    "            if num_str[i] == '6':\n",
    "                num_str[i] = '9'\n",
    "                break\n",
    "        return int(\"\".join(num_str))\n"
   ]
  },
  {
   "cell_type": "code",
   "execution_count": 11,
   "id": "5d2c6964",
   "metadata": {},
   "outputs": [
    {
     "name": "stdout",
     "output_type": "stream",
     "text": [
      "2\n",
      "6\n",
      "6\n"
     ]
    },
    {
     "data": {
      "text/plain": [
       "6"
      ]
     },
     "execution_count": 11,
     "metadata": {},
     "output_type": "execute_result"
    }
   ],
   "source": [
    "from typing import List\n",
    "\n",
    "class Solution:\n",
    "    def findSpecialInteger(self, arr: List[int]) -> int:\n",
    "        n = len(arr)\n",
    "        span = n // 4\n",
    "        print(span)\n",
    "        for i in range(n - span):\n",
    "            if arr[i] == arr[i + span]:\n",
    "                print(arr[i])\n",
    "                print(arr[i + span])\n",
    "                return arr[i]\n",
    "        return -1  \n",
    "\n",
    "s = Solution()\n",
    "s.findSpecialInteger([1,2,2,6,6,6,6,7,10])"
   ]
  },
  {
   "cell_type": "code",
   "execution_count": 12,
   "id": "ccc66835",
   "metadata": {},
   "outputs": [
    {
     "data": {
      "text/plain": [
       "6"
      ]
     },
     "execution_count": 12,
     "metadata": {},
     "output_type": "execute_result"
    }
   ],
   "source": [
    "from typing import Optional\n",
    "class TreeNode:\n",
    "    def __init__(self, val=0, left=None, right=None):\n",
    "        self.val = val\n",
    "        self.left = left\n",
    "        self.right = right\n",
    "class Solution:\n",
    "    def maxPathSum(self, root: Optional[TreeNode]) -> int:\n",
    "        self.max_sum = float(\"-inf\")\n",
    "        def dfs(node):\n",
    "            if not node:\n",
    "                return 0\n",
    "            left_gain = max(dfs(node.left), 0)\n",
    "            right_gain = max(dfs(node.right), 0)\n",
    "            current_max = node.val + left_gain + right_gain\n",
    "            self.max_sum = max(self.max_sum, current_max)\n",
    "            return node.val + max(left_gain, right_gain)\n",
    "        dfs(root)\n",
    "        return self.max_sum\n",
    "s = Solution()\n",
    "s.maxPathSum(TreeNode(1, TreeNode(2), TreeNode(3)))"
   ]
  },
  {
   "cell_type": "code",
   "execution_count": 13,
   "id": "896173c3",
   "metadata": {},
   "outputs": [],
   "source": [
    "# You are given a string s representing an attendance record for a student where each character signifies whether the student was absent, late, or present on that day. The record only contains the following three characters:\n",
    "\n",
    "# 'A': Absent.\n",
    "# 'L': Late.\n",
    "# 'P': Present.\n",
    "# The student is eligible for an attendance award if they meet both of the following criteria:\n",
    "\n",
    "# The student was absent ('A') for strictly fewer than 2 days total.\n",
    "# The student was never late ('L') for 3 or more consecutive days.\n",
    "# Return true if the student is eligible for an attendance award, or false otherwise.\n",
    "# Example 1:\n",
    "# Input: s = \"PPALLP\"\n",
    "# Output: true\n",
    "# Explanation: The student has fewer than 2 absences and was never late 3 or more consecutive days.\n",
    "# Example 2:\n",
    "# Input: s = \"PPALLL\"\n",
    "# Output: false\n",
    "# Explanation: The student was late 3 consecutive days in the last 3 days, so is not eligible for the award.\n",
    "from collections import Counter\n",
    "class Solution:\n",
    "    def checkRecord(self, s: str) -> bool:\n",
    "        count = Counter(s)\n",
    "        print(count)\n",
    "        count_L = 0\n",
    "        if count['A'] >= 2:\n",
    "            return (False)\n",
    "        for i in range(len(s)):\n",
    "            if s[i] == 'L':\n",
    "                count_L += 1\n",
    "            else:\n",
    "                count_L = 0\n",
    "            if count_L >= 3:\n",
    "                print(count_L)\n",
    "                return (False)\n",
    "        return True\n",
    "        "
   ]
  },
  {
   "cell_type": "code",
   "execution_count": 14,
   "id": "6b40fc23",
   "metadata": {},
   "outputs": [],
   "source": [
    "import heapq\n",
    "from typing import List\n",
    "\n",
    "class Solution:\n",
    "    def networkDelayTime(self, times: List[List[int]], n: int, k: int) -> int:\n",
    "        graph = {i: [] for i in range(1, n+1)}\n",
    "        for u, v, w in times:\n",
    "            graph[u].append((v, w))\n",
    "        heap = [(0, k)]\n",
    "        dist = {}\n",
    "        while heap:\n",
    "            time, node = heapq.heappop(heap)\n",
    "            if node in dist:  \n",
    "                continue\n",
    "            dist[node] = time\n",
    "            for nei, w in graph[node]:\n",
    "                if nei not in dist:\n",
    "                    heapq.heappush(heap, (time + w, nei))\n",
    "        if len(dist) != n:\n",
    "            return -1\n",
    "        return max(dist.values())\n"
   ]
  },
  {
   "cell_type": "code",
   "execution_count": 15,
   "id": "2263e483",
   "metadata": {},
   "outputs": [
    {
     "name": "stdout",
     "output_type": "stream",
     "text": [
      "[0]\n",
      "[0, 0]\n",
      "[0, 0, 0]\n",
      "[0, 0, 0, 2]\n",
      "[0, 0, 0, 2, 0]\n",
      "[0, 0, 0, 2, 0, 0]\n",
      "[0]\n",
      "[0, 0]\n",
      "[0, 0, 2]\n",
      "[0, 0, 2, 0]\n",
      "[0, 0, 2, 0, 0]\n",
      "[0]\n",
      "[0, 2]\n",
      "[0, 2, 0]\n",
      "[0, 2, 0, 0]\n",
      "[2]\n",
      "[2, 0]\n",
      "[2, 0, 0]\n",
      "[0]\n",
      "[0, 0]\n",
      "[0]\n",
      "9\n"
     ]
    }
   ],
   "source": [
    "nums = [0,0,0,2,0,0]\n",
    "count = 0\n",
    "for i in range(len(nums)):\n",
    "    for j in range(i + 1 , len(nums) + 1):\n",
    "        print(nums[i : j])\n",
    "        if set(nums[i : j]) == {0}:\n",
    "            count += 1\n",
    "print(count)"
   ]
  },
  {
   "cell_type": "code",
   "execution_count": 16,
   "id": "6a53262f",
   "metadata": {},
   "outputs": [
    {
     "name": "stdout",
     "output_type": "stream",
     "text": [
      "0 0\n",
      "1 1\n",
      "3 2\n",
      "6 0\n",
      "7 1\n",
      "9\n"
     ]
    }
   ],
   "source": [
    "from typing import List\n",
    "class Solution:\n",
    "    def zeroFilledSubarray(self, nums: List[int]) -> int:\n",
    "        count = 0      \n",
    "        streak = 0      \n",
    "\n",
    "        for num in nums:\n",
    "            if num == 0:\n",
    "                print(count , streak)\n",
    "                streak += 1\n",
    "                count += streak   \n",
    "            else:\n",
    "                streak = 0\n",
    "\n",
    "        return count\n",
    "s = Solution()\n",
    "print(s.zeroFilledSubarray([0,0,0,2,0,0]))"
   ]
  },
  {
   "cell_type": "code",
   "execution_count": 17,
   "id": "81f97ebf",
   "metadata": {},
   "outputs": [
    {
     "name": "stdout",
     "output_type": "stream",
     "text": [
      "Counter({'a': 4, 'b,b,b,c': 1, 'c': 1})\n",
      "b,b,b,c\n"
     ]
    }
   ],
   "source": [
    "from collections import Counter\n",
    "paragraph = \"a, a, a, a, b,b,b,c, c\"\n",
    "banned = [\"a\"]\n",
    "\n",
    "words = paragraph.lower().split()\n",
    "words = [word.strip('!.,?\\'\";') for word in words]\n",
    "word_count = Counter(words)\n",
    "print(word_count)\n",
    "for w in banned:\n",
    "    del word_count[w]\n",
    "\n",
    "print(word_count.most_common(1)[0][0])"
   ]
  },
  {
   "cell_type": "code",
   "execution_count": 18,
   "id": "8d265cd2",
   "metadata": {},
   "outputs": [
    {
     "data": {
      "text/plain": [
       "'b'"
      ]
     },
     "execution_count": 18,
     "metadata": {},
     "output_type": "execute_result"
    }
   ],
   "source": [
    "import re\n",
    "from collections import Counter\n",
    "\n",
    "class Solution:\n",
    "    def mostCommonWord(self, paragraph: str, banned: List[str]) -> str:\n",
    "        # extract words (only a-z, A-Z, 0-9)\n",
    "        words = re.findall(r'\\w+', paragraph.lower())\n",
    "        \n",
    "        banned_set = set(banned)  # faster lookup\n",
    "        word_count = Counter(w for w in words if w not in banned_set)\n",
    "        \n",
    "        return word_count.most_common(1)[0][0]\n",
    "s = Solution()\n",
    "s.mostCommonWord(paragraph, banned)"
   ]
  },
  {
   "cell_type": "markdown",
   "id": "dce4173e",
   "metadata": {},
   "source": []
  },
  {
   "cell_type": "code",
   "execution_count": 19,
   "id": "e87b45da",
   "metadata": {},
   "outputs": [
    {
     "name": "stdout",
     "output_type": "stream",
     "text": [
      "[(1, 2, 3), (1, 3, 2), (2, 1, 3), (2, 3, 1), (3, 1, 2), (3, 2, 1)]\n",
      "0\n",
      "(1, 3, 2)\n",
      "[1, 3, 2]\n"
     ]
    }
   ],
   "source": [
    "from itertools import permutations\n",
    "\n",
    "def nextPermutation(nums):\n",
    "    perms = sorted(set(permutations(nums)))\n",
    "    print(perms)\n",
    "    idx = perms.index(tuple(nums))\n",
    "    print(idx)\n",
    "    next_perm = perms[(idx + 1) % len(perms)]\n",
    "    print(next_perm)\n",
    "    return list(next_perm)\n",
    "nums = [1, 2, 3]\n",
    "print(nextPermutation(nums)) \n"
   ]
  },
  {
   "cell_type": "code",
   "execution_count": 20,
   "id": "0d182603",
   "metadata": {},
   "outputs": [
    {
     "name": "stdout",
     "output_type": "stream",
     "text": [
      "1 28\n",
      "8 27\n",
      "11 20\n",
      "17 17\n",
      "Pivot index found at: 3\n"
     ]
    },
    {
     "data": {
      "text/plain": [
       "3"
      ]
     },
     "execution_count": 20,
     "metadata": {},
     "output_type": "execute_result"
    }
   ],
   "source": [
    "from typing import List\n",
    "class Solution:\n",
    "    def pivotIndex(self, nums: List[int]) -> int:\n",
    "        for i in range(len(nums)):\n",
    "            leftSum = sum(nums[:i + 1])\n",
    "            rightSum = sum(nums[i:])\n",
    "            print(leftSum, rightSum)\n",
    "            if leftSum == rightSum:\n",
    "                print(\"Pivot index found at:\", i)\n",
    "                return i\n",
    "        return -1\n",
    "\n",
    "        \n",
    "s = Solution()\n",
    "s.pivotIndex([1, 7, 3, 6, 5, 6])    \n",
    "#1 8 11 17 23 29\n",
    "#28 27 20 17 11 6"
   ]
  },
  {
   "cell_type": "code",
   "execution_count": 21,
   "id": "d09490d0",
   "metadata": {},
   "outputs": [
    {
     "name": "stdout",
     "output_type": "stream",
     "text": [
      "[28, 27, 20, 17, 11, 6] [1, 8, 11, 17, 22, 28]\n",
      "Pivot index found at: 3\n",
      "3\n"
     ]
    }
   ],
   "source": [
    "nums = [1, 7, 3, 6, 5, 6]\n",
    "prefixSum = [0] * len(nums)\n",
    "postfixSum = [nums[len(nums)-1]] * len(nums)\n",
    "for i in range(len(nums)):\n",
    "    prefixSum[i] = prefixSum[i - 1] + nums[i] \n",
    "\n",
    "for i in range(len(nums) - 2, -1, -1):\n",
    "    postfixSum[i] = postfixSum[i + 1] + nums[i]\n",
    "\n",
    "print(postfixSum  , prefixSum)    \n",
    "\n",
    "for i in range(len(nums)):  \n",
    "    if prefixSum[i] == postfixSum[i]:\n",
    "        print(\"Pivot index found at:\", i)\n",
    "        print(i)"
   ]
  },
  {
   "cell_type": "code",
   "execution_count": 22,
   "id": "14785b0f",
   "metadata": {},
   "outputs": [
    {
     "name": "stdout",
     "output_type": "stream",
     "text": [
      "[[1, 1, 1, 1, 1, 1, 0], [1, 1, 1, 1, 1, 1, 0, 1], [1, 1, 1, 1, 1, 1, 0, 1, 1], [1, 1, 1, 1, 1, 1, 0, 1, 1, 1], [1, 1, 1, 1, 1, 1, 0, 1, 1, 1, 1], [1, 1, 1, 1, 1, 1, 0, 1, 1, 1, 1, 1], [1, 1, 1, 1, 1, 1, 0, 1, 1, 1, 1, 1, 1], [1, 1, 1, 1, 1, 1, 0, 1, 1, 1, 1, 1, 1, 1], [1, 1, 1, 1, 1, 1, 0, 1, 1, 1, 1, 1, 1, 1, 1], [1, 1, 1, 1, 1, 1, 0, 1, 1, 1, 1, 1, 1, 1, 1, 1], [1, 1, 1, 1, 1, 1, 0, 1, 1, 1, 1, 1, 1, 1, 1, 1, 1], [1, 1, 1, 1, 1, 1, 0, 1, 1, 1, 1, 1, 1, 1, 1, 1, 1, 1], [1, 1, 1, 1, 1, 1, 0, 1, 1, 1, 1, 1, 1, 1, 1, 1, 1, 1, 1], [1, 1, 1, 1, 1, 0], [1, 1, 1, 1, 1, 0, 1], [1, 1, 1, 1, 1, 0, 1, 1], [1, 1, 1, 1, 1, 0, 1, 1, 1], [1, 1, 1, 1, 1, 0, 1, 1, 1, 1], [1, 1, 1, 1, 1, 0, 1, 1, 1, 1, 1], [1, 1, 1, 1, 1, 0, 1, 1, 1, 1, 1, 1], [1, 1, 1, 1, 1, 0, 1, 1, 1, 1, 1, 1, 1], [1, 1, 1, 1, 1, 0, 1, 1, 1, 1, 1, 1, 1, 1], [1, 1, 1, 1, 1, 0, 1, 1, 1, 1, 1, 1, 1, 1, 1], [1, 1, 1, 1, 1, 0, 1, 1, 1, 1, 1, 1, 1, 1, 1, 1], [1, 1, 1, 1, 1, 0, 1, 1, 1, 1, 1, 1, 1, 1, 1, 1, 1], [1, 1, 1, 1, 1, 0, 1, 1, 1, 1, 1, 1, 1, 1, 1, 1, 1, 1], [1, 1, 1, 1, 0], [1, 1, 1, 1, 0, 1], [1, 1, 1, 1, 0, 1, 1], [1, 1, 1, 1, 0, 1, 1, 1], [1, 1, 1, 1, 0, 1, 1, 1, 1], [1, 1, 1, 1, 0, 1, 1, 1, 1, 1], [1, 1, 1, 1, 0, 1, 1, 1, 1, 1, 1], [1, 1, 1, 1, 0, 1, 1, 1, 1, 1, 1, 1], [1, 1, 1, 1, 0, 1, 1, 1, 1, 1, 1, 1, 1], [1, 1, 1, 1, 0, 1, 1, 1, 1, 1, 1, 1, 1, 1], [1, 1, 1, 1, 0, 1, 1, 1, 1, 1, 1, 1, 1, 1, 1], [1, 1, 1, 1, 0, 1, 1, 1, 1, 1, 1, 1, 1, 1, 1, 1], [1, 1, 1, 1, 0, 1, 1, 1, 1, 1, 1, 1, 1, 1, 1, 1, 1], [1, 1, 1, 0], [1, 1, 1, 0, 1], [1, 1, 1, 0, 1, 1], [1, 1, 1, 0, 1, 1, 1], [1, 1, 1, 0, 1, 1, 1, 1], [1, 1, 1, 0, 1, 1, 1, 1, 1], [1, 1, 1, 0, 1, 1, 1, 1, 1, 1], [1, 1, 1, 0, 1, 1, 1, 1, 1, 1, 1], [1, 1, 1, 0, 1, 1, 1, 1, 1, 1, 1, 1], [1, 1, 1, 0, 1, 1, 1, 1, 1, 1, 1, 1, 1], [1, 1, 1, 0, 1, 1, 1, 1, 1, 1, 1, 1, 1, 1], [1, 1, 1, 0, 1, 1, 1, 1, 1, 1, 1, 1, 1, 1, 1], [1, 1, 1, 0, 1, 1, 1, 1, 1, 1, 1, 1, 1, 1, 1, 1], [1, 1, 0], [1, 1, 0, 1], [1, 1, 0, 1, 1], [1, 1, 0, 1, 1, 1], [1, 1, 0, 1, 1, 1, 1], [1, 1, 0, 1, 1, 1, 1, 1], [1, 1, 0, 1, 1, 1, 1, 1, 1], [1, 1, 0, 1, 1, 1, 1, 1, 1, 1], [1, 1, 0, 1, 1, 1, 1, 1, 1, 1, 1], [1, 1, 0, 1, 1, 1, 1, 1, 1, 1, 1, 1], [1, 1, 0, 1, 1, 1, 1, 1, 1, 1, 1, 1, 1], [1, 1, 0, 1, 1, 1, 1, 1, 1, 1, 1, 1, 1, 1], [1, 1, 0, 1, 1, 1, 1, 1, 1, 1, 1, 1, 1, 1, 1], [1, 0], [1, 0, 1], [1, 0, 1, 1], [1, 0, 1, 1, 1], [1, 0, 1, 1, 1, 1], [1, 0, 1, 1, 1, 1, 1], [1, 0, 1, 1, 1, 1, 1, 1], [1, 0, 1, 1, 1, 1, 1, 1, 1], [1, 0, 1, 1, 1, 1, 1, 1, 1, 1], [1, 0, 1, 1, 1, 1, 1, 1, 1, 1, 1], [1, 0, 1, 1, 1, 1, 1, 1, 1, 1, 1, 1], [1, 0, 1, 1, 1, 1, 1, 1, 1, 1, 1, 1, 1], [1, 0, 1, 1, 1, 1, 1, 1, 1, 1, 1, 1, 1, 1], [0], [0, 1], [0, 1, 1], [0, 1, 1, 1], [0, 1, 1, 1, 1], [0, 1, 1, 1, 1, 1], [0, 1, 1, 1, 1, 1, 1], [0, 1, 1, 1, 1, 1, 1, 1], [0, 1, 1, 1, 1, 1, 1, 1, 1], [0, 1, 1, 1, 1, 1, 1, 1, 1, 1], [0, 1, 1, 1, 1, 1, 1, 1, 1, 1, 1], [0, 1, 1, 1, 1, 1, 1, 1, 1, 1, 1, 1], [0, 1, 1, 1, 1, 1, 1, 1, 1, 1, 1, 1, 1], [1, 1, 1, 1, 1, 1, 1, 1, 1, 1, 1, 1, 0], [1, 1, 1, 1, 1, 1, 1, 1, 1, 1, 1, 1, 0, 1], [1, 1, 1, 1, 1, 1, 1, 1, 1, 1, 1, 0], [1, 1, 1, 1, 1, 1, 1, 1, 1, 1, 1, 0, 1], [1, 1, 1, 1, 1, 1, 1, 1, 1, 1, 0], [1, 1, 1, 1, 1, 1, 1, 1, 1, 1, 0, 1], [1, 1, 1, 1, 1, 1, 1, 1, 1, 0], [1, 1, 1, 1, 1, 1, 1, 1, 1, 0, 1], [1, 1, 1, 1, 1, 1, 1, 1, 0], [1, 1, 1, 1, 1, 1, 1, 1, 0, 1], [1, 1, 1, 1, 1, 1, 1, 0], [1, 1, 1, 1, 1, 1, 1, 0, 1], [1, 1, 1, 1, 1, 1, 0], [1, 1, 1, 1, 1, 1, 0, 1], [1, 1, 1, 1, 1, 0], [1, 1, 1, 1, 1, 0, 1], [1, 1, 1, 1, 0], [1, 1, 1, 1, 0, 1], [1, 1, 1, 0], [1, 1, 1, 0, 1], [1, 1, 0], [1, 1, 0, 1], [1, 0], [1, 0, 1], [0], [0, 1], [1, 0], [1, 0, 1], [1, 0, 1, 1], [1, 0, 1, 1, 1], [1, 0, 1, 1, 1, 1], [1, 0, 1, 1, 1, 1, 1], [1, 0, 1, 1, 1, 1, 1, 1], [0], [0, 1], [0, 1, 1], [0, 1, 1, 1], [0, 1, 1, 1, 1], [0, 1, 1, 1, 1, 1], [0, 1, 1, 1, 1, 1, 1], [1, 1, 1, 1, 1, 1, 0], [1, 1, 1, 1, 1, 1, 0, 1], [1, 1, 1, 1, 1, 1, 0, 1, 1], [1, 1, 1, 1, 1, 1, 0, 1, 1, 1], [1, 1, 1, 1, 1, 1, 0, 1, 1, 1, 1], [1, 1, 1, 1, 1, 0], [1, 1, 1, 1, 1, 0, 1], [1, 1, 1, 1, 1, 0, 1, 1], [1, 1, 1, 1, 1, 0, 1, 1, 1], [1, 1, 1, 1, 1, 0, 1, 1, 1, 1], [1, 1, 1, 1, 0], [1, 1, 1, 1, 0, 1], [1, 1, 1, 1, 0, 1, 1], [1, 1, 1, 1, 0, 1, 1, 1], [1, 1, 1, 1, 0, 1, 1, 1, 1], [1, 1, 1, 0], [1, 1, 1, 0, 1], [1, 1, 1, 0, 1, 1], [1, 1, 1, 0, 1, 1, 1], [1, 1, 1, 0, 1, 1, 1, 1], [1, 1, 0], [1, 1, 0, 1], [1, 1, 0, 1, 1], [1, 1, 0, 1, 1, 1], [1, 1, 0, 1, 1, 1, 1], [1, 0], [1, 0, 1], [1, 0, 1, 1], [1, 0, 1, 1, 1], [1, 0, 1, 1, 1, 1], [0], [0, 1], [0, 1, 1], [0, 1, 1, 1], [0, 1, 1, 1, 1], [1, 1, 1, 1, 0], [1, 1, 1, 1, 0, 1], [1, 1, 1, 1, 0, 1, 1], [1, 1, 1, 1, 0, 1, 1, 1], [1, 1, 1, 1, 0, 1, 1, 1, 1], [1, 1, 1, 1, 0, 1, 1, 1, 1, 1], [1, 1, 1, 0], [1, 1, 1, 0, 1], [1, 1, 1, 0, 1, 1], [1, 1, 1, 0, 1, 1, 1], [1, 1, 1, 0, 1, 1, 1, 1], [1, 1, 1, 0, 1, 1, 1, 1, 1], [1, 1, 0], [1, 1, 0, 1], [1, 1, 0, 1, 1], [1, 1, 0, 1, 1, 1], [1, 1, 0, 1, 1, 1, 1], [1, 1, 0, 1, 1, 1, 1, 1], [1, 0], [1, 0, 1], [1, 0, 1, 1], [1, 0, 1, 1, 1], [1, 0, 1, 1, 1, 1], [1, 0, 1, 1, 1, 1, 1], [0], [0, 1], [0, 1, 1], [0, 1, 1, 1], [0, 1, 1, 1, 1], [0, 1, 1, 1, 1, 1]]\n",
      "13\n",
      "[1, 1, 1, 1, 1, 1, 1, 1, 1, 1, 1, 1, 0, 1]\n"
     ]
    }
   ],
   "source": [
    "nums = [1,1,1,1,1,1,0,1,1,1,1,1,1,1,1,1,1,1,1,0,1,0,1,1,1,1,1,1,0,1,1,1,1,0,1,1,1,1,1]   # try also with [0,1,1,1,0,1,1,0,1]\n",
    "\n",
    "result = []\n",
    "\n",
    "if 0 not in nums:\n",
    "    # case: no zeros, collect pairs of 1s\n",
    "    for i in range(len(nums)-1):\n",
    "        if nums[i] == 1 and nums[i+1] == 1:\n",
    "            result.append([1,1])\n",
    "else:\n",
    "    # case: find subarrays with exactly one zero\n",
    "    n = len(nums)\n",
    "    for i in range(n):\n",
    "        for j in range(i+1, n+1):\n",
    "            sub = nums[i:j]\n",
    "            if sub.count(0) == 1:\n",
    "                result.append(sub)\n",
    "\n",
    "\n",
    "print(result)\n",
    "res = [1 for sub in max(result) if sub == 1]\n",
    "print(len(res))\n",
    "print(max(result))\n"
   ]
  },
  {
   "cell_type": "code",
   "execution_count": 23,
   "id": "893aedcb",
   "metadata": {},
   "outputs": [],
   "source": [
    "from typing import List\n",
    "\n",
    "class Solution:\n",
    "    def longestSubarray(self, nums: List[int]) -> int:\n",
    "        left = 0\n",
    "        zeros = 0\n",
    "        max_len = 0\n",
    "\n",
    "        for right in range(len(nums)):\n",
    "            if nums[right] == 0:\n",
    "                zeros += 1\n",
    "            while zeros > 1:\n",
    "                if nums[left] == 0:\n",
    "                    zeros -= 1\n",
    "                left += 1\n",
    "            max_len = max(max_len, right - left)\n",
    "\n",
    "        return max_len\n"
   ]
  },
  {
   "cell_type": "code",
   "execution_count": 24,
   "id": "9b858a97",
   "metadata": {},
   "outputs": [
    {
     "name": "stdout",
     "output_type": "stream",
     "text": [
      "{'a': 8, 'b': 5, 'c': 7, 'd': 14, 'e': 15, 'f': 11, 'g': 13, 'h': 19, 'i': 22, 'j': 23, 'k': 20, 'l': 21}\n",
      "{'e': 8, 'c': 9, 'b': 6, 'd': 7}\n"
     ]
    },
    {
     "data": {
      "text/plain": [
       "[10]"
      ]
     },
     "execution_count": 24,
     "metadata": {},
     "output_type": "execute_result"
    }
   ],
   "source": [
    "from typing import List\n",
    "\n",
    "class Solution:\n",
    "    def partitionLabels(self, s: str) -> List[int]:\n",
    "       \n",
    "        last = {ch: i for i, ch in enumerate(s)}\n",
    "        print(last)\n",
    "        \n",
    "        res = []\n",
    "        start = end = 0\n",
    "\n",
    "\n",
    "        for i, ch in enumerate(s):\n",
    "            end = max(end, last[ch])   \n",
    "            if i == end:             \n",
    "                res.append(end - start + 1)\n",
    "                start = i + 1         \n",
    "        return res\n",
    "\n",
    "\n",
    "s = Solution()\n",
    "s.partitionLabels(\"ababcbacadefegdehijhklij\")\n",
    "s.partitionLabels(\"eccbbbbdec\")"
   ]
  },
  {
   "cell_type": "markdown",
   "id": "5afb277c",
   "metadata": {},
   "source": [
    "| i | ch | last\\[ch] | end = max(end, last\\[ch]) | Condition (i == end?) | Action        | res   |\n",
    "| - | -- | --------- | ------------------------- | --------------------- | ------------- | ----- |\n",
    "| 0 | e  | 9         | end = 9                   | 0 == 9? ❌             | nothing       | \\[]   |\n",
    "| 1 | c  | 8         | end = 9                   | 1 == 9? ❌             | nothing       | \\[]   |\n",
    "| 2 | c  | 8         | end = 9                   | 2 == 9? ❌             | nothing       | \\[]   |\n",
    "| 3 | b  | 6         | end = 9                   | 3 == 9? ❌             | nothing       | \\[]   |\n",
    "| 4 | b  | 6         | end = 9                   | 4 == 9? ❌             | nothing       | \\[]   |\n",
    "| 5 | b  | 6         | end = 9                   | 5 == 9? ❌             | nothing       | \\[]   |\n",
    "| 6 | b  | 6         | end = 9                   | 6 == 9? ❌             | nothing       | \\[]   |\n",
    "| 7 | d  | 7         | end = 9                   | 7 == 9? ❌             | nothing       | \\[]   |\n",
    "| 8 | e  | 9         | end = 9                   | 8 == 9? ❌             | nothing       | \\[]   |\n",
    "| 9 | c  | 8         | end = 9                   | 9 == 9? ✅             | cut partition | \\[10] |\n"
   ]
  },
  {
   "cell_type": "code",
   "execution_count": 25,
   "id": "2fb71cbe",
   "metadata": {},
   "outputs": [
    {
     "name": "stdout",
     "output_type": "stream",
     "text": [
      "amanaplanacanalpanama\n",
      "True\n"
     ]
    }
   ],
   "source": [
    "import re\n",
    "s = \"A man, a plan, a canal: Panama\"\n",
    "s = s.lower()\n",
    "# s = re.sub(r'[^a-z0-9]', '', s)\n",
    "newS = \"\"\n",
    "for c in s:\n",
    "    if c.isalnum():\n",
    "        newS += c\n",
    "print(newS)\n",
    "print(newS == newS[::-1])"
   ]
  },
  {
   "cell_type": "code",
   "execution_count": 26,
   "id": "eb4422aa",
   "metadata": {},
   "outputs": [
    {
     "name": "stdout",
     "output_type": "stream",
     "text": [
      "['1+2+3', '1*2*3']\n"
     ]
    }
   ],
   "source": [
    "class Solution:\n",
    "    def addOperators(self, num: str, target: int):\n",
    "        res = []\n",
    "\n",
    "        def backtrack(index, expr, value, prev):\n",
    "            # If we've reached the end of string\n",
    "            if index == len(num):\n",
    "                if value == target:\n",
    "                    res.append(expr)\n",
    "                return\n",
    "\n",
    "            for i in range(index, len(num)):\n",
    "                # Prevent numbers with leading zeros\n",
    "                if i != index and num[index] == '0':\n",
    "                    break\n",
    "\n",
    "                curr_str = num[index:i+1]\n",
    "                curr_num = int(curr_str)\n",
    "\n",
    "                if index == 0:\n",
    "                    # First number, can't add operator before it\n",
    "                    backtrack(i + 1, curr_str, curr_num, curr_num)\n",
    "                else:\n",
    "                    # Addition\n",
    "                    backtrack(i + 1, expr + \"+\" + curr_str, value + curr_num, curr_num)\n",
    "                    # Subtraction\n",
    "                    backtrack(i + 1, expr + \"-\" + curr_str, value - curr_num, -curr_num)\n",
    "                    # Multiplication\n",
    "                    backtrack(i + 1, expr + \"*\" + curr_str,\n",
    "                              value - prev + prev * curr_num, prev * curr_num)\n",
    "\n",
    "        backtrack(0, \"\", 0, 0)\n",
    "        return res\n",
    "\n",
    "ss = Solution()\n",
    "print(ss.addOperators(\"123\", 6))"
   ]
  },
  {
   "cell_type": "code",
   "execution_count": 27,
   "id": "d6ebd093",
   "metadata": {},
   "outputs": [],
   "source": [
    "class Solution:\n",
    "    def gcdOfOddEvenSums(self, n: int) -> int:\n",
    "        sumOdd = 0\n",
    "        sumEven = 0\n",
    "        i = 1\n",
    "        size = n * 2\n",
    "        while True:\n",
    "            if size == 0:\n",
    "                break\n",
    "            \n",
    "            if i % 2 == 0:\n",
    "                sumEven += i\n",
    "                size -= 1\n",
    "            else:\n",
    "                sumOdd += i\n",
    "                size -= 1\n",
    "            i += 1\n",
    "\n",
    "        print(sumOdd , sumEven)    \n",
    "            \n",
    "        def gcd(a, b):\n",
    "            while b:\n",
    "                a, b = b, a % b\n",
    "            return a\n",
    "        return gcd(sumOdd, sumEven)"
   ]
  },
  {
   "cell_type": "code",
   "execution_count": 28,
   "id": "3381f259",
   "metadata": {},
   "outputs": [
    {
     "name": "stdout",
     "output_type": "stream",
     "text": [
      "2\n"
     ]
    }
   ],
   "source": [
    "from math import gcd\n",
    "\n",
    "\n",
    "print(gcd(2,4))"
   ]
  },
  {
   "cell_type": "code",
   "execution_count": 29,
   "id": "e428076f",
   "metadata": {},
   "outputs": [
    {
     "data": {
      "text/plain": [
       "False"
      ]
     },
     "execution_count": 29,
     "metadata": {},
     "output_type": "execute_result"
    }
   ],
   "source": [
    "from collections import Counter\n",
    "from typing import List\n",
    "\n",
    "class Solution:\n",
    "    def partitionArray(self, nums: List[int], k: int) -> bool:\n",
    "        n = len(nums)\n",
    "        if n % k != 0:\n",
    "            return False\n",
    "        \n",
    "        groups = n // k\n",
    "        freq = Counter(nums)\n",
    "\n",
    "        for count in freq.values():\n",
    "            if count > groups:\n",
    "                return False\n",
    "        \n",
    "        return True\n",
    "\n",
    "s = Solution()\n",
    "s.partitionArray([3,3,3,3,4,4,4,4] , 4)"
   ]
  },
  {
   "cell_type": "code",
   "execution_count": 30,
   "id": "65d78b6b",
   "metadata": {},
   "outputs": [
    {
     "name": "stdout",
     "output_type": "stream",
     "text": [
      "[1, 2, 4, 7, 5, 3, 6, 8, 9]\n"
     ]
    }
   ],
   "source": [
    "mat = [[1,2,3],[4,5,6],[7,8,9]]\n",
    "# Output: [1,2,4,7,5,3,6,8,9]\n",
    "from typing import List\n",
    "class Solution:\n",
    "    def findDiagonalOrder(self, mat: List[List[int]]) -> List[int]:\n",
    "        result = []\n",
    "        if not mat or not mat[0]:\n",
    "            return result\n",
    "\n",
    "        rows, cols = len(mat), len(mat[0])\n",
    "        for d in range(rows + cols - 1):\n",
    "            if d % 2 == 0: \n",
    "                for i in range(min(d, rows - 1), -1, -1):\n",
    "                    j = d - i\n",
    "                    if j < cols:\n",
    "                        result.append(mat[i][j])\n",
    "            else:  \n",
    "                for j in range(min(d, cols - 1), -1, -1):\n",
    "                    i = d - j\n",
    "                    if i < rows:\n",
    "                        result.append(mat[i][j])\n",
    "        return result\n",
    "\n",
    "s = Solution()\n",
    "print(s.findDiagonalOrder(mat))"
   ]
  },
  {
   "cell_type": "code",
   "execution_count": 31,
   "id": "1eb4ddb9",
   "metadata": {},
   "outputs": [
    {
     "name": "stdout",
     "output_type": "stream",
     "text": [
      "['abc', 'def']\n",
      "['ad', 'ae', 'af', 'bd', 'be', 'bf', 'cd', 'ce', 'cf']\n"
     ]
    }
   ],
   "source": [
    "from itertools import product\n",
    "\n",
    "\n",
    "class Solution:\n",
    "    def letterCombinations(self, digits: str) -> List[str]:\n",
    "        res = []\n",
    "        if not digits:\n",
    "            return [] \n",
    "        mapping = {\n",
    "            2 : \"abc\",\n",
    "            3 : \"def\",\n",
    "            4 : \"ghi\",\n",
    "            5 : \"jkl\",\n",
    "            6 : \"mno\",\n",
    "            7 : \"pqrs\",\n",
    "            8 : \"tuv\",\n",
    "            9 : \"wxyz\"\n",
    "        }\n",
    "\n",
    " \n",
    "        strings = [mapping[int(d)] for d in digits]\n",
    "        print(strings)  \n",
    "        combinations = [''.join(p) for p in product(*strings)]\n",
    "        return (combinations)\n",
    "        \n",
    "s = Solution()\n",
    "print(s.letterCombinations(\"23\"))"
   ]
  },
  {
   "cell_type": "code",
   "execution_count": 32,
   "id": "3940b35d",
   "metadata": {},
   "outputs": [
    {
     "name": "stdout",
     "output_type": "stream",
     "text": [
      "48\n"
     ]
    }
   ],
   "source": [
    "from math import sqrt\n",
    "dimensions = [[9,3],[8,6]]\n",
    "res  = []\n",
    "for i in range(len(dimensions)):\n",
    "    diag = sqrt(dimensions[i][0]**2 + dimensions[i][1]**2)\n",
    "    res.append(diag)\n",
    "index = res.index(max(res))\n",
    "print(dimensions[index][0] * dimensions[index][1])    "
   ]
  },
  {
   "cell_type": "code",
   "execution_count": 33,
   "id": "b5fe550f",
   "metadata": {},
   "outputs": [
    {
     "name": "stdout",
     "output_type": "stream",
     "text": [
      "[39, 52]\n",
      "2028\n"
     ]
    }
   ],
   "source": [
    "dimensions = [[4,7],[8,9],[5,3],[6,10],[2,9],[3,10],[2,2],[5,8],[5,10],[5,6],[8,9],[10,7],[8,9],[3,7],[2,6],[5,1],[7,4],[1,10],[1,7],[6,9],[3,3],[4,6],[8,2],[10,6],[7,9],[9,2],[1,2],[3,8],[10,2],[4,1],[9,7],[10,3],[6,9],[9,8],[7,7],[5,7],[5,4],[6,5],[1,8],[2,3],[7,10],[3,9],[5,7],[2,4],[5,6],[9,5],[8,8],[8,10],[6,8],[5,1],[10,8],[7,4],[2,1],[2,7],[10,3],[2,5],[7,6],[10,5],[10,9],[5,7],[10,6],[4,3],[10,4],[1,5],[8,9],[3,1],[2,5],[9,10],[6,6],[5,10],[10,2],[6,10],[1,1],[8,6],[1,7],[6,3],[9,3],[1,4],[1,1],[10,4],[7,9],[4,5],[2,8],[7,9],[7,3],[4,9],[2,8],[4,6],[9,1],[8,4],[2,4],[7,8],[3,5],[7,6],[8,6],[4,7],[25,60],[39,52],[16,63],[33,56]]\n",
    "\n",
    "\n",
    "\n",
    "print(max(dimensions, key=lambda x: x[0] * x[1]))\n",
    "print(max(dimensions, key=lambda x: x[0] * x[1])[0] * max(dimensions, key=lambda x: x[0] * x[1])[1]) "
   ]
  },
  {
   "cell_type": "code",
   "execution_count": 34,
   "id": "71c2799f",
   "metadata": {},
   "outputs": [],
   "source": [
    "from typing import List\n",
    "from math import sqrt\n",
    "\n",
    "class Solution:\n",
    "    def areaOfMaxDiagonal(self, dimensions: List[List[int]]) -> int:\n",
    "        best = max(dimensions, key=lambda x: (x[0]**2 + x[1]**2, x[0] * x[1]))\n",
    "        return best[0] * best[1]\n"
   ]
  },
  {
   "cell_type": "code",
   "execution_count": 35,
   "id": "5f858a94",
   "metadata": {},
   "outputs": [
    {
     "name": "stdout",
     "output_type": "stream",
     "text": [
      "1[.]1[.]1[.]1\n"
     ]
    }
   ],
   "source": [
    "class Solution:\n",
    "    def defangIPaddr(self, address: str) -> str:\n",
    "        return (address.replace(\".\", \"[.]\"))\n",
    "s = Solution()\n",
    "print(s.defangIPaddr(\"1.1.1.1\"))"
   ]
  },
  {
   "cell_type": "code",
   "execution_count": 36,
   "id": "f16aa61c",
   "metadata": {},
   "outputs": [
    {
     "name": "stdout",
     "output_type": "stream",
     "text": [
      "3\n"
     ]
    }
   ],
   "source": [
    "class Solution:\n",
    "    def flowerGame(self, n: int, m: int) -> int:\n",
    "        s = m * n\n",
    "        return s // 2\n",
    "s = Solution()\n",
    "print(s.flowerGame(2,3))    "
   ]
  },
  {
   "cell_type": "code",
   "execution_count": 37,
   "id": "824e7205",
   "metadata": {},
   "outputs": [],
   "source": [
    "import heapq\n",
    "\n",
    "def max_toys(T, N, A):\n",
    "    # A is 1-based per statement; convert to 0-based list if needed\n",
    "    # Here assume A is a 0-based Python list of length N.\n",
    "\n",
    "    # Initially, all shops are available at minute 1\n",
    "    avail = []  # (A[i], i)\n",
    "    for i in range(N):\n",
    "        heapq.heappush(avail, (A[i], i))\n",
    "\n",
    "    cool = []   # (next_time, A[i], i)\n",
    "    t = 1\n",
    "    bought = 0\n",
    "\n",
    "    while t <= T:\n",
    "        # Move shops whose cooldown ended into avail\n",
    "        while cool and cool[0][0] <= t:\n",
    "            _, a, i = heapq.heappop(cool)\n",
    "            heapq.heappush(avail, (a, i))\n",
    "\n",
    "        if avail:\n",
    "            # Buy from the shop with smallest cooldown\n",
    "            a, i = heapq.heappop(avail)\n",
    "            bought += 1\n",
    "            # Buying consumes this minute; next available time = t + a\n",
    "            heapq.heappush(cool, (t + a, a, i))\n",
    "            t += 1\n",
    "        else:\n",
    "            # No shop available now; jump time to earliest next availability\n",
    "            next_t = cool[0][0] if cool else float('inf')\n",
    "            if next_t > T:  # no time left to make an additional purchase\n",
    "                break\n",
    "            t = next_t\n",
    "    return bought"
   ]
  },
  {
   "cell_type": "code",
   "execution_count": 38,
   "id": "8cc01b96",
   "metadata": {},
   "outputs": [
    {
     "name": "stdout",
     "output_type": "stream",
     "text": [
      "1 3 5\n",
      "1 3 6\n",
      "1 3 7\n",
      "1 4 5\n",
      "1 4 6\n",
      "1 4 7\n",
      "4 3 5\n",
      "4 3 6\n",
      "4 3 7\n",
      "4 4 5\n",
      "4 4 6\n",
      "4 4 7\n"
     ]
    }
   ],
   "source": [
    "import itertools\n",
    "\n",
    "lists = [\n",
    "    [1, 4],      \n",
    "    [3, 4],\n",
    "    [5, 6, 7]\n",
    "]\n",
    "for combo in itertools.product(*lists):\n",
    "    print(\" \".join(map(str, combo)))"
   ]
  },
  {
   "cell_type": "code",
   "execution_count": 39,
   "id": "8b5b4583",
   "metadata": {},
   "outputs": [
    {
     "name": "stdout",
     "output_type": "stream",
     "text": [
      "8\n"
     ]
    }
   ],
   "source": [
    "from typing import List\n",
    "class Solution:\n",
    "    def maximumUnits(self, boxTypes: List[List[int]], truckSize: int) -> int:\n",
    "        boxTypes.sort(key=lambda x: x[1], reverse=True)\n",
    "        total_units = 0\n",
    "        for numberOfBoxes, unitsPerBox in boxTypes:\n",
    "            if truckSize >= numberOfBoxes:\n",
    "                total_units += numberOfBoxes * unitsPerBox\n",
    "                truckSize -= numberOfBoxes\n",
    "            else:\n",
    "                total_units += truckSize * unitsPerBox\n",
    "                break\n",
    "        return total_units\n",
    "s = Solution()\n",
    "print(s.maximumUnits([[1,3],[2,2],[3,1]], 4))"
   ]
  },
  {
   "cell_type": "code",
   "execution_count": 40,
   "id": "1889efca",
   "metadata": {},
   "outputs": [
    {
     "data": {
      "text/plain": [
       "<__main__.ListNode at 0x17aedeab990>"
      ]
     },
     "execution_count": 40,
     "metadata": {},
     "output_type": "execute_result"
    }
   ],
   "source": [
    "from typing import Optional\n",
    "class ListNode:\n",
    "    def __init__(self, val=0, next=None):\n",
    "        self.val = val\n",
    "        self.next = next\n",
    "class Solution:\n",
    "    def swapNodes(self, head: Optional[ListNode], k: int) -> Optional[ListNode]:\n",
    "        n = 0\n",
    "        curr = head\n",
    "        while curr:\n",
    "            n += 1\n",
    "            curr = curr.next\n",
    "        first = head\n",
    "        for _ in range(k - 1):\n",
    "            first = first.next\n",
    "        second = head\n",
    "        for _ in range(n - k):\n",
    "            second = second.next\n",
    "        first.val, second.val = second.val, first.val\n",
    "        return head\n",
    "s = Solution()\n",
    "head = ListNode(1, ListNode(2, ListNode(3, ListNode(4, ListNode(5)))))\n",
    "s.swapNodes(head, 2)"
   ]
  },
  {
   "cell_type": "code",
   "execution_count": 41,
   "id": "87041c98",
   "metadata": {},
   "outputs": [
    {
     "data": {
      "text/plain": [
       "1"
      ]
     },
     "execution_count": 41,
     "metadata": {},
     "output_type": "execute_result"
    }
   ],
   "source": [
    "class Solution:\n",
    "    def findClosest(self, x: int, y: int, z: int) -> int:\n",
    "        x_diff = abs(x - z)\n",
    "        y_dif = abs(y - z)\n",
    "        if x_diff == y_dif:\n",
    "            return (0)\n",
    "        if x_diff < y_dif:\n",
    "            return (1)\n",
    "        else:\n",
    "            return (2)     \n",
    "s = Solution()\n",
    "s.findClosest(7,2,5)        "
   ]
  },
  {
   "cell_type": "code",
   "execution_count": 42,
   "id": "797ff814",
   "metadata": {},
   "outputs": [
    {
     "data": {
      "text/plain": [
       "False"
      ]
     },
     "execution_count": 42,
     "metadata": {},
     "output_type": "execute_result"
    }
   ],
   "source": [
    "from collections import Counter\n",
    "\n",
    "class Solution:\n",
    "    def canConstruct(self, ransomNote: str, magazine: str) -> bool:\n",
    "        ranCount = Counter(ransomNote)\n",
    "        magCount = Counter(magazine)\n",
    "        for item, val in ranCount.items():\n",
    "            if magCount[item] < val:\n",
    "                return False\n",
    "        return True\n",
    "s = Solution()\n",
    "s.canConstruct(\"aa\" , \"ab\")"
   ]
  },
  {
   "cell_type": "code",
   "execution_count": 43,
   "id": "1357a83b",
   "metadata": {},
   "outputs": [
    {
     "name": "stdout",
     "output_type": "stream",
     "text": [
      "5\n",
      "7\n",
      "9\n",
      "9 2 3\n"
     ]
    },
    {
     "data": {
      "text/plain": [
       "3"
      ]
     },
     "execution_count": 43,
     "metadata": {},
     "output_type": "execute_result"
    }
   ],
   "source": [
    "def makeTheIntegerZero(num1: int, num2: int) -> int:\n",
    "    for k in range(1, 61): \n",
    "        X = num1 - k * num2\n",
    "        print(X)\n",
    "        if X >= k and bin(X).count(\"1\") <= k:\n",
    "            print(X, bin(X).count(\"1\"), k)\n",
    "            return k\n",
    "    return -1\n",
    "makeTheIntegerZero(3, -2)"
   ]
  },
  {
   "cell_type": "code",
   "execution_count": 44,
   "id": "af21e11f",
   "metadata": {},
   "outputs": [
    {
     "data": {
      "text/plain": [
       "'Imaa peaksmaaa oatGmaaaa atinLmaaaaa'"
      ]
     },
     "execution_count": 44,
     "metadata": {},
     "output_type": "execute_result"
    }
   ],
   "source": [
    "sentence = \"I speak Goat Latin\"\n",
    "class Solution:\n",
    "    def toGoatLatin(self, sentence: str) -> str:\n",
    "        words = sentence.split()\n",
    "        vowels = {'a', 'e', 'i', 'o', 'u', 'A', 'E', 'I', 'O', 'U'}\n",
    "        for i in range(len(words)):\n",
    "            if words[i][0] in vowels:\n",
    "                words[i] += \"ma\"\n",
    "            else:\n",
    "                words[i] = words[i][1:] + words[i][0] + \"ma\"\n",
    "            words[i] += \"a\" * (i + 1)\n",
    "        return \" \".join(words)\n",
    "s = Solution()\n",
    "s.toGoatLatin(sentence)\n"
   ]
  },
  {
   "cell_type": "code",
   "execution_count": 45,
   "id": "af31e394",
   "metadata": {},
   "outputs": [
    {
     "data": {
      "text/plain": [
       "'0.(012)'"
      ]
     },
     "execution_count": 45,
     "metadata": {},
     "output_type": "execute_result"
    }
   ],
   "source": [
    "class Solution:\n",
    "    def fractionToDecimal(self, numerator: int, denominator: int) -> str:\n",
    "        if numerator == 0:\n",
    "            return \"0\"\n",
    "        \n",
    "        res = []\n",
    "        if (numerator < 0) ^ (denominator < 0):\n",
    "            res.append(\"-\")\n",
    "        \n",
    "        numerator, denominator = abs(numerator), abs(denominator)\n",
    "        res.append(str(numerator // denominator))\n",
    "        remainder = numerator % denominator\n",
    "        if remainder == 0:\n",
    "            return \"\".join(res)\n",
    "        \n",
    "        res.append(\".\")\n",
    "        seen = {}\n",
    "        while remainder != 0:\n",
    "            if remainder in seen:\n",
    "                res.insert(seen[remainder], \"(\")\n",
    "                res.append(\")\")\n",
    "                break\n",
    "            \n",
    "            seen[remainder] = len(res)\n",
    "            remainder *= 10\n",
    "            res.append(str(remainder // denominator))\n",
    "            remainder %= denominator\n",
    "        \n",
    "        return \"\".join(res)\n",
    "\n",
    "s = Solution()\n",
    "s.fractionToDecimal(4,333)"
   ]
  },
  {
   "cell_type": "code",
   "execution_count": 46,
   "id": "265cb0f5",
   "metadata": {},
   "outputs": [
    {
     "data": {
      "text/plain": [
       "'leetcode'"
      ]
     },
     "execution_count": 46,
     "metadata": {},
     "output_type": "execute_result"
    }
   ],
   "source": [
    "s = \"leeetcode\"\n",
    "class Solution:\n",
    "    def makeFancyString(self, s: str) -> str:\n",
    "        res = []\n",
    "        for char in s:\n",
    "            if len(res) < 2 or not (res[-1] == res[-2] == char):\n",
    "                res.append(char)\n",
    "        return \"\".join(res)\n",
    "X = Solution()\n",
    "X.makeFancyString(s)"
   ]
  },
  {
   "cell_type": "code",
   "execution_count": 47,
   "id": "c93eddd6",
   "metadata": {},
   "outputs": [
    {
     "data": {
      "text/plain": [
       "16"
      ]
     },
     "execution_count": 47,
     "metadata": {},
     "output_type": "execute_result"
    }
   ],
   "source": [
    "from typing import List\n",
    "class Solution:\n",
    "    def minOperations(self, queries: List[List[int]]) -> int:\n",
    "        ranges = []\n",
    "        k = 1\n",
    "        start = 1\n",
    "        while start <= 10**9:\n",
    "            end = min(10**9, 4**k - 1)\n",
    "            ranges.append((start, end, k))\n",
    "            start = 4**k\n",
    "            k += 1\n",
    "\n",
    "        total_ans = 0\n",
    "        for l, r in queries:\n",
    "            S = 0\n",
    "            for start, end, k in ranges:\n",
    "                if r < start or l > end:\n",
    "                    continue\n",
    "                overlap = min(r, end) - max(l, start) + 1\n",
    "                if overlap > 0:\n",
    "                    S += overlap * k\n",
    "            total_ans += (S + 1) // 2\n",
    "        return total_ans\n",
    "s = Solution()\n",
    "s.minOperations([[1,4],[5,8],[1,10]])    \n",
    "            "
   ]
  },
  {
   "cell_type": "code",
   "execution_count": 48,
   "id": "3029872f",
   "metadata": {},
   "outputs": [
    {
     "data": {
      "text/plain": [
       "\"s'teL ekat edoCteeL tsetnoc\""
      ]
     },
     "execution_count": 48,
     "metadata": {},
     "output_type": "execute_result"
    }
   ],
   "source": [
    "class Solution:\n",
    "    def reverseWords(self, s: str) -> str:\n",
    "        res = []\n",
    "        for word in s.split(\" \"):\n",
    "            res.append(word[::-1])\n",
    "        return \" \".join(res)\n",
    "\n",
    "s = Solution()\n",
    "s.reverseWords(\"Let's take LeetCode contest\")        "
   ]
  },
  {
   "cell_type": "code",
   "execution_count": 49,
   "id": "db22af0b",
   "metadata": {},
   "outputs": [
    {
     "data": {
      "text/plain": [
       "[0, 1, -1, 2, -2]"
      ]
     },
     "execution_count": 49,
     "metadata": {},
     "output_type": "execute_result"
    }
   ],
   "source": [
    "from typing import List\n",
    "class Solution:\n",
    "    def sumZero(self, n: int) -> List[int]:\n",
    "        res = []\n",
    "        if n % 2 != 0:\n",
    "            res.append(0)\n",
    "        for i in range(1, n//2 + 1):\n",
    "            res.append(i)\n",
    "            res.append(-i)\n",
    "        return res\n",
    "s = Solution()\n",
    "s.sumZero(5)"
   ]
  },
  {
   "cell_type": "code",
   "execution_count": 50,
   "id": "9e5a651e",
   "metadata": {},
   "outputs": [
    {
     "data": {
      "text/plain": [
       "['g1 act car', 'a8 act zoo', 'ab1 off key dog', 'a1 9 2 3 1', 'zo4 4 7']"
      ]
     },
     "execution_count": 50,
     "metadata": {},
     "output_type": "execute_result"
    }
   ],
   "source": [
    "class Solution:\n",
    "    def reorderLogFiles(self, logs: List[str]) -> List[str]:\n",
    "        letter_logs = []\n",
    "        digit_logs = []\n",
    "        \n",
    "        for log in logs:\n",
    "            if log.split()[1].isdigit():\n",
    "                digit_logs.append(log)\n",
    "            else:\n",
    "                letter_logs.append(log)\n",
    "        \n",
    "        letter_logs.sort(key=lambda x: (x.split()[1:], x.split()[0]))\n",
    "        \n",
    "        return letter_logs + digit_logs\n",
    "s = Solution()\n",
    "s.reorderLogFiles([\"a1 9 2 3 1\",\"g1 act car\",\"zo4 4 7\",\"ab1 off key dog\",\"a8 act zoo\"])"
   ]
  },
  {
   "cell_type": "code",
   "execution_count": 51,
   "id": "d7caf4ec",
   "metadata": {},
   "outputs": [
    {
     "data": {
      "text/plain": [
       "[11, 999]"
      ]
     },
     "execution_count": 51,
     "metadata": {},
     "output_type": "execute_result"
    }
   ],
   "source": [
    "from typing import List\n",
    "class Solution:\n",
    "    def getNoZeroIntegers(self, n: int) -> List[int]:\n",
    "        def isNoZero(x: int) -> bool:\n",
    "            return '0' not in str(x)\n",
    "        \n",
    "        for a in range(1, n):\n",
    "            b = n - a\n",
    "            if isNoZero(a) and isNoZero(b):\n",
    "                return [a, b]\n",
    "        return []\n",
    "s = Solution()\n",
    "s.getNoZeroIntegers(1010)\n"
   ]
  },
  {
   "cell_type": "code",
   "execution_count": 52,
   "id": "c0f23dfe",
   "metadata": {},
   "outputs": [
    {
     "data": {
      "text/plain": [
       "2"
      ]
     },
     "execution_count": 52,
     "metadata": {},
     "output_type": "execute_result"
    }
   ],
   "source": [
    "class Solution:\n",
    "    def peopleAwareOfSecret(self, n: int, delay: int, forget: int) -> int:\n",
    "        MOD = 10**9 + 7\n",
    "\n",
    "        dp = [0] * (n + 1)\n",
    "        dp[1] = 1  # Day 1: one person knows\n",
    "\n",
    "        for day in range(2, n + 1):\n",
    "            # Sum up all people who share today\n",
    "            for j in range(delay, forget):\n",
    "                if day - j > 0:\n",
    "                    dp[day] = (dp[day] + dp[day - j]) % MOD\n",
    "\n",
    "        # Count people who still remember on day n\n",
    "        ans = 0\n",
    "        for day in range(n - forget + 1, n + 1):\n",
    "            if day > 0:\n",
    "                ans = (ans + dp[day]) % MOD\n",
    "\n",
    "        return ans\n",
    "\n",
    "s = Solution()\n",
    "s.peopleAwareOfSecret(\n",
    "    5,2,3\n",
    ")"
   ]
  },
  {
   "cell_type": "code",
   "execution_count": 53,
   "id": "bfe44114",
   "metadata": {},
   "outputs": [],
   "source": [
    "from typing import List\n",
    "\n",
    "class Solution:\n",
    "    def minimumTeachings(self, n: int, languages: List[List[int]], friendships: List[List[int]]) -> int:\n",
    "        langs = [set(l) for l in languages]\n",
    "        problematic_users = set()\n",
    "        for u, v in friendships:\n",
    "            u -= 1\n",
    "            v -= 1\n",
    "            if langs[u].intersection(langs[v]):\n",
    "                continue  \n",
    "            problematic_users.add(u)\n",
    "            problematic_users.add(v)\n",
    "        if not problematic_users:\n",
    "            return 0\n",
    "        min_teach = float('inf')\n",
    "        for lang in range(1, n + 1):\n",
    "            count = 0\n",
    "            for user in problematic_users:\n",
    "                if lang not in langs[user]:\n",
    "                    count += 1\n",
    "            min_teach = min(min_teach, count)\n",
    "        \n",
    "        return min_teach\n"
   ]
  },
  {
   "cell_type": "code",
   "execution_count": 54,
   "id": "2589bab6",
   "metadata": {},
   "outputs": [
    {
     "data": {
      "text/plain": [
       "4"
      ]
     },
     "execution_count": 54,
     "metadata": {},
     "output_type": "execute_result"
    }
   ],
   "source": [
    "import itertools\n",
    "rating = [1,2,3,4]\n",
    "com = itertools.combinations(rating , 3)\n",
    "count = 0\n",
    "for comb in com:\n",
    "    if comb[0] > comb[1] > comb[2] or comb[0] < comb[1] < comb[2]:\n",
    "       count += 1\n",
    "count"
   ]
  },
  {
   "cell_type": "code",
   "execution_count": 55,
   "id": "6ef0295f",
   "metadata": {},
   "outputs": [
    {
     "data": {
      "text/plain": [
       "3"
      ]
     },
     "execution_count": 55,
     "metadata": {},
     "output_type": "execute_result"
    }
   ],
   "source": [
    "from typing import List\n",
    "\n",
    "class Solution:\n",
    "    def numTeams(self, rating: List[int]) -> int:\n",
    "        n = len(rating)\n",
    "        count = 0\n",
    "        for j in range(n):\n",
    "            left_smaller = left_greater = right_smaller = right_greater = 0\n",
    "            for i in range(j):\n",
    "                if rating[i] < rating[j]:\n",
    "                    left_smaller += 1\n",
    "                elif rating[i] > rating[j]:\n",
    "                    left_greater += 1\n",
    "            for k in range(j+1, n):\n",
    "                if rating[k] > rating[j]:\n",
    "                    right_greater += 1\n",
    "                elif rating[k] < rating[j]:\n",
    "                    right_smaller += 1\n",
    "            count += left_smaller * right_greater + left_greater * right_smaller\n",
    "        return count\n",
    "\n",
    "s = Solution()\n",
    "s.numTeams([2,5,3,4,1])"
   ]
  },
  {
   "cell_type": "code",
   "execution_count": 56,
   "id": "749fd5a3",
   "metadata": {},
   "outputs": [
    {
     "name": "stdout",
     "output_type": "stream",
     "text": [
      "[69, 79, 101, 101]\n"
     ]
    },
    {
     "data": {
      "text/plain": [
       "'lEOtcede'"
      ]
     },
     "execution_count": 56,
     "metadata": {},
     "output_type": "execute_result"
    }
   ],
   "source": [
    "s = \"lEetcOde\"\n",
    "vowels = \"aeiouAEIOU\"\n",
    "new = \"\"\n",
    "ascii = sorted(ord(c) for c in s if c in vowels)\n",
    "print(sorted(ascii))\n",
    "for c in s:\n",
    "    if c in vowels:\n",
    "        new += chr(ascii.pop(0))\n",
    "    else:\n",
    "        new += c\n",
    "new"
   ]
  },
  {
   "cell_type": "code",
   "execution_count": 57,
   "id": "2db95281",
   "metadata": {},
   "outputs": [
    {
     "data": {
      "text/plain": [
       "'lEOtcede'"
      ]
     },
     "execution_count": 57,
     "metadata": {},
     "output_type": "execute_result"
    }
   ],
   "source": [
    "class Solution:\n",
    "    def sortVowels(self, s: str) -> str:\n",
    "        vowels = {'a', 'e', 'i', 'o', 'u', 'A', 'E', 'I', 'O', 'U'}\n",
    "        new = \"\"\n",
    "        ascii_vals = sorted(ord(c) for c in s if c in vowels)\n",
    "        for c in s:\n",
    "            if c in vowels:\n",
    "                new += chr(ascii_vals.pop(0))\n",
    "            else:\n",
    "                new += c\n",
    "        return new\n",
    "s = Solution()\n",
    "s.sortVowels(\"lEetcOde\")"
   ]
  },
  {
   "cell_type": "code",
   "execution_count": 58,
   "id": "d68f50b9",
   "metadata": {},
   "outputs": [],
   "source": [
    "class Solution:\n",
    "    def sortVowels(self, s: str) -> str:\n",
    "        vowels=set('aeiouAEIOU')\n",
    "        arr=sorted([c for c in s if c in vowels])\n",
    "        res=[]\n",
    "        i=0\n",
    "        for c in s:\n",
    "            if c in vowels:\n",
    "                res.append(arr[i])\n",
    "                i+=1\n",
    "            else:\n",
    "                res.append(c)\n",
    "        return ''.join(res)"
   ]
  },
  {
   "cell_type": "code",
   "execution_count": 59,
   "id": "4f251b80",
   "metadata": {},
   "outputs": [
    {
     "data": {
      "text/plain": [
       "True"
      ]
     },
     "execution_count": 59,
     "metadata": {},
     "output_type": "execute_result"
    }
   ],
   "source": [
    "from collections import Counter\n",
    "class Solution:\n",
    "    def doesAliceWin(self, s: str) -> bool:\n",
    "        vowels = set(\"aeiou\")\n",
    "        v = sum(1 for ch in s if ch in vowels)\n",
    "        return v > 0\n",
    "S = Solution()\n",
    "S.doesAliceWin(\"leetcoder\")        "
   ]
  },
  {
   "cell_type": "code",
   "execution_count": 60,
   "id": "6efdf7a0",
   "metadata": {},
   "outputs": [
    {
     "data": {
      "text/plain": [
       "True"
      ]
     },
     "execution_count": 60,
     "metadata": {},
     "output_type": "execute_result"
    }
   ],
   "source": [
    "class Solution:\n",
    "    def doesAliceWin(self, s: str) -> bool:\n",
    "        count = s.count('a') + s.count('e') + s.count('i') + s.count('o') + s.count('u')\n",
    "        if count == 0: return False\n",
    "        else: return True\n",
    "S = Solution()\n",
    "S.doesAliceWin(\"leetcoder\")"
   ]
  },
  {
   "cell_type": "code",
   "execution_count": 61,
   "id": "54548eee",
   "metadata": {},
   "outputs": [
    {
     "data": {
      "text/plain": [
       "4"
      ]
     },
     "execution_count": 61,
     "metadata": {},
     "output_type": "execute_result"
    }
   ],
   "source": [
    "class Solution:\n",
    "    def maxFreqSum(self, s: str) -> int:\n",
    "        vowelCount = Counter(c for c in s if c in 'aeiou')\n",
    "        consonentCount = Counter(c for c in s if c not in 'aeiou')\n",
    "        n1 = max(vowelCount.values()) if vowelCount else 0\n",
    "        n2 = max(consonentCount.values()) if consonentCount else 0\n",
    "        return n1 + n2\n",
    "s = Solution()\n",
    "s.maxFreqSum(\"leetcode\")"
   ]
  },
  {
   "cell_type": "code",
   "execution_count": 62,
   "id": "4f1da445",
   "metadata": {},
   "outputs": [
    {
     "data": {
      "text/plain": [
       "['kite', 'KiTe', 'KiTe', 'Hare', 'hare', '', '', 'KiTe', '', 'KiTe']"
      ]
     },
     "execution_count": 62,
     "metadata": {},
     "output_type": "execute_result"
    }
   ],
   "source": [
    "from typing import List\n",
    "class Solution:\n",
    "    def spellchecker(self, wordlist: List[str], queries: List[str]) -> List[str]:\n",
    "        vowels = set(\"aeiou\")\n",
    "        def devowel(word):\n",
    "            return ''.join('*' if c in vowels else c for c in word)\n",
    "        exact_words = set(wordlist)\n",
    "        case_map = {}\n",
    "        vowel_map = {}\n",
    "        for word in wordlist:\n",
    "            lower = word.lower()\n",
    "            case_map.setdefault(lower, word)\n",
    "            vowel_map.setdefault(devowel(lower), word)\n",
    "        result = []\n",
    "        for q in queries:\n",
    "            if q in exact_words:\n",
    "                result.append(q)\n",
    "            elif q.lower() in case_map:\n",
    "                result.append(case_map[q.lower()])\n",
    "            elif devowel(q.lower()) in vowel_map:\n",
    "                result.append(vowel_map[devowel(q.lower())])\n",
    "            else:\n",
    "                result.append(\"\")\n",
    "        return result\n",
    "s = Solution()\n",
    "s.spellchecker([\"KiTe\",\"kite\",\"hare\",\"Hare\"], [\"kite\",\"Kite\",\"KiTe\",\"Hare\",\"HARE\",\"Hear\",\"hear\",\"keti\",\"keet\",\"keto\"])        "
   ]
  },
  {
   "cell_type": "code",
   "execution_count": 63,
   "id": "5b2a5ea1",
   "metadata": {},
   "outputs": [
    {
     "name": "stdout",
     "output_type": "stream",
     "text": [
      "0\n"
     ]
    }
   ],
   "source": [
    "text = \"hello world\" \n",
    "brokenLetters = \"ad\"\n",
    "count = 0\n",
    "for word in brokenLetters.split():\n",
    "    if not any(c in word for c in brokenLetters):\n",
    "        count += 1\n",
    "print(count)"
   ]
  },
  {
   "cell_type": "code",
   "execution_count": 64,
   "id": "2c61df8f",
   "metadata": {},
   "outputs": [
    {
     "data": {
      "text/plain": [
       "1"
      ]
     },
     "execution_count": 64,
     "metadata": {},
     "output_type": "execute_result"
    }
   ],
   "source": [
    "class Solution:\n",
    "    def canBeTypedWords(self, text: str, brokenLetters: str) -> int:\n",
    "        broken_set = set(brokenLetters)\n",
    "        count = 0\n",
    "        for word in text.split():\n",
    "            if not any(char in broken_set for char in word):\n",
    "                count += 1\n",
    "        return count\n",
    "s = Solution()\n",
    "s.canBeTypedWords(\"hello world\" , \"ad\")"
   ]
  },
  {
   "cell_type": "code",
   "execution_count": 65,
   "id": "6232e190",
   "metadata": {},
   "outputs": [],
   "source": [
    "from typing import List\n",
    "class FoodRatings:\n",
    "    def __init__(self, foods: List[str], cuisines: List[str], ratings: List[int]):\n",
    "        self.food_info = {} \n",
    "        self.cuisine_heaps = {} \n",
    "        for f, c, r in zip(foods, cuisines, ratings):\n",
    "            self.food_info[f] = [c, r]\n",
    "            if c not in self.cuisine_heaps:\n",
    "                self.cuisine_heaps[c] = []\n",
    "            heapq.heappush(self.cuisine_heaps[c], (-r, f))\n",
    "    def changeRating(self, food: str, newRating: int) -> None:\n",
    "        cuisine, _ = self.food_info[food]\n",
    "        self.food_info[food][1] = newRating\n",
    "        heapq.heappush(self.cuisine_heaps[cuisine], (-newRating, food))\n",
    "    def highestRated(self, cuisine: str) -> str:\n",
    "        heap = self.cuisine_heaps[cuisine]\n",
    "        while heap:\n",
    "            rating, food = heap[0]\n",
    "            if -rating == self.food_info[food][1]:\n",
    "                return food\n",
    "            heapq.heappop(heap)\n",
    "# s.hasGroupsSizeX([1,2,3,4,4,3,2,1])\n"
   ]
  },
  {
   "cell_type": "code",
   "execution_count": 66,
   "id": "e1ba62ba",
   "metadata": {},
   "outputs": [],
   "source": [
    "class TaskManager:\n",
    "    def __init__(self, tasks):\n",
    "        self.taskPri = {}  # Maps taskId to its priority\n",
    "        self.taskUser = {}  # Maps taskId to its userId\n",
    "        self.pq = []  # A priority queue implemented with heapq\n",
    "        \n",
    "        for task in tasks:\n",
    "            userId, taskId, priority = task\n",
    "            self.taskUser[taskId] = userId\n",
    "            self.taskPri[taskId] = priority\n",
    "            # Push the task into the priority queue\n",
    "            heapq.heappush(self.pq, (-priority, -taskId))  # Use negative to simulate max-heap\n",
    "        \n",
    "    def add(self, userId, taskId, priority):\n",
    "        self.taskUser[taskId] = userId\n",
    "        self.taskPri[taskId] = priority\n",
    "        heapq.heappush(self.pq, (-priority, -taskId))  # Insert into the heap with negated values for max-heap behavior\n",
    "    \n",
    "    def edit(self, taskId, newPriority):\n",
    "        self.taskPri[taskId] = newPriority\n",
    "        heapq.heappush(self.pq, (-newPriority, -taskId))  # Insert the updated task with new priority\n",
    "    \n",
    "    def rmv(self, taskId):\n",
    "        if taskId in self.taskUser:\n",
    "            del self.taskUser[taskId]\n",
    "            del self.taskPri[taskId]\n",
    "    \n",
    "    def execTop(self):\n",
    "        while self.pq:\n",
    "            priority, taskId = heapq.heappop(self.pq)\n",
    "            taskId = -taskId  # Convert back to positive taskId\n",
    "            if self.taskPri.get(taskId, -1) == -priority:  # Check if the task is still valid\n",
    "                userId = self.taskUser[taskId]\n",
    "                # Remove task from taskUser and taskPri after executing it\n",
    "                del self.taskUser[taskId]\n",
    "                del self.taskPri[taskId]\n",
    "                return userId\n",
    "        return -1  # If no valid task exists"
   ]
  },
  {
   "cell_type": "code",
   "execution_count": 67,
   "id": "3a5ed242",
   "metadata": {},
   "outputs": [],
   "source": [
    "class Spreadsheet:\n",
    "  def __init__(self, rows: int) -> None:\n",
    "    self.spreadsheet = {}\n",
    "\n",
    "  def setCell(self, cell: str, value: int) -> None:\n",
    "    self.spreadsheet[cell] = value\n",
    "\n",
    "  def resetCell(self, cell: str) -> None:\n",
    "    self.spreadsheet[cell] = 0\n",
    "\n",
    "  def getValue(self, formula: str) -> int:\n",
    "    i = formula.find('+')\n",
    "    return self._getToken(formula[1:i]) + self._getToken(formula[i+1:])\n",
    "\n",
    "  def _getToken(self, token: str) -> int:\n",
    "    return int(token) if token[0].isdigit() else self.spreadsheet.get(token, 0)"
   ]
  },
  {
   "cell_type": "code",
   "execution_count": 68,
   "id": "60b1c8bb",
   "metadata": {},
   "outputs": [
    {
     "name": "stdout",
     "output_type": "stream",
     "text": [
      "True\n",
      "True\n",
      "False\n"
     ]
    }
   ],
   "source": [
    "from collections import deque, defaultdict\n",
    "from bisect import bisect_left, bisect_right\n",
    "from typing import List\n",
    "\n",
    "class Router:\n",
    "    \n",
    "    def __init__(self, memoryLimit: int):\n",
    "        self.memoryLimit = memoryLimit\n",
    "        self.queue = deque() \n",
    "        self.seen = set()    \n",
    "        self.dest_map = defaultdict(list)  \n",
    "\n",
    "    def addPacket(self, source: int, destination: int, timestamp: int) -> bool:\n",
    "        packet = (source, destination, timestamp)\n",
    "        if packet in self.seen:\n",
    "            return False \n",
    "        if len(self.queue) == self.memoryLimit:\n",
    "            old_src, old_dest, old_ts = self.queue.popleft()\n",
    "            self.seen.remove((old_src, old_dest, old_ts))\n",
    "            self.dest_map[old_dest].pop(0)  \n",
    "            if not self.dest_map[old_dest]:\n",
    "                del self.dest_map[old_dest]\n",
    "        self.queue.append(packet)\n",
    "        self.seen.add(packet)\n",
    "        self.dest_map[destination].append(timestamp)\n",
    "        return True\n",
    "    \n",
    "    def forwardPacket(self) -> List[int]:\n",
    "        if not self.queue:\n",
    "            return []\n",
    "        source, destination, timestamp = self.queue.popleft()\n",
    "        self.seen.remove((source, destination, timestamp))\n",
    "        ts_list = self.dest_map[destination]\n",
    "        idx = bisect_left(ts_list, timestamp)\n",
    "        if 0 <= idx < len(ts_list) and ts_list[idx] == timestamp:\n",
    "            ts_list.pop(idx)\n",
    "        if not ts_list:\n",
    "            del self.dest_map[destination]\n",
    "        return [source, destination, timestamp]\n",
    "\n",
    "    def getCount(self, destination: int, startTime: int, endTime: int) -> int:\n",
    "        if destination not in self.dest_map:\n",
    "            return 0\n",
    "        ts_list = self.dest_map[destination]\n",
    "        left = bisect_left(ts_list, startTime)\n",
    "        right = bisect_right(ts_list, endTime)\n",
    "        return right - left\n",
    "    \n",
    "\n",
    "Router = Router(4)\n",
    "print(Router.addPacket(1, 2, 3))  \n",
    "print(Router.addPacket(4, 5, 6))  \n",
    "print(Router.addPacket(1, 2, 3))"
   ]
  },
  {
   "cell_type": "code",
   "execution_count": 69,
   "id": "60e45e37",
   "metadata": {},
   "outputs": [
    {
     "name": "stdout",
     "output_type": "stream",
     "text": [
      "True\n",
      "True\n",
      "True\n",
      "True\n",
      "[7, 8, 9]\n",
      "0\n",
      "0\n"
     ]
    }
   ],
   "source": [
    "print(Router.addPacket(7, 8, 9))                              \n",
    "print(Router.addPacket(10, 11, 12))                                   \n",
    "print(Router.addPacket(13, 14, 15))                       \n",
    "print(Router.addPacket(16, 17, 18))                         \n",
    "print(Router.forwardPacket())                                      \n",
    "print(Router.getCount(5, 1, 10))                                  \n",
    "print(Router.getCount(2, 1, 10))                               "
   ]
  },
  {
   "cell_type": "code",
   "execution_count": 70,
   "id": "31cbc411",
   "metadata": {},
   "outputs": [],
   "source": [
    "import collections\n",
    "\n",
    "from sortedcontainers import SortedList\n",
    "\n",
    "\n",
    "class MovieRentingSystem:\n",
    "  def __init__(self, n: int, entries: list[list[int]]):\n",
    "    self.unrented = collections.defaultdict(\n",
    "        SortedList\n",
    "        )  \n",
    "    self.shopAndMovieToPrice = {} \n",
    "    self.rented = SortedList() \n",
    "    for shop, movie, price in entries:\n",
    "      self.unrented[movie].add((price, shop))\n",
    "      self.shopAndMovieToPrice[(shop, movie)] = price\n",
    "\n",
    "  def search(self, movie: int) -> list[int]:\n",
    "    return [shop for _, shop in self.unrented[movie][:5]]\n",
    "\n",
    "  def rent(self, shop: int, movie: int) -> None:\n",
    "    price = self.shopAndMovieToPrice[(shop, movie)]\n",
    "    self.unrented[movie].remove((price, shop))\n",
    "    self.rented.add((price, shop, movie))\n",
    "\n",
    "  def drop(self, shop: int, movie: int) -> None:\n",
    "    price = self.shopAndMovieToPrice[(shop, movie)]\n",
    "    self.unrented[movie].add((price, shop))\n",
    "    self.rented.remove((price, shop, movie))\n",
    "\n",
    "  def report(self) -> list[list[int]]:\n",
    "    return [[shop, movie] for _, shop, movie in self.rented[:5]]"
   ]
  },
  {
   "cell_type": "code",
   "execution_count": 71,
   "id": "401dad1d",
   "metadata": {},
   "outputs": [
    {
     "name": "stdout",
     "output_type": "stream",
     "text": [
      "4\n"
     ]
    }
   ],
   "source": [
    "from collections import Counter\n",
    "from typing import List\n",
    "\n",
    "class Solution:\n",
    "    def maxFrequencyElements(self, nums: List[int]) -> int:\n",
    "        count = Counter(nums)\n",
    "        max_freq = max(count.values())\n",
    "        return sum(freq for freq in count.values() if freq == max_freq)\n",
    "s = Solution()\n",
    "print(s.maxFrequencyElements([1,2,2,3,1,4]))"
   ]
  },
  {
   "cell_type": "code",
   "execution_count": 72,
   "id": "c47ac473",
   "metadata": {},
   "outputs": [
    {
     "name": "stdout",
     "output_type": "stream",
     "text": [
      "-1\n"
     ]
    }
   ],
   "source": [
    "version1 = \"1.2\"\n",
    "version2 = \"1.10\"\n",
    "v1_parts = list(map(int, version1.split('.')))\n",
    "v2_parts = list(map(int, version2.split('.')))\n",
    "max_length = max(len(v1_parts), len(v2_parts))\n",
    "v1_parts.extend([0] * (max_length - len(v1_parts)))\n",
    "v2_parts.extend([0] * (max_length - len(v2_parts)))\n",
    "for i in range(max_length):\n",
    "    if v1_parts[i] < v2_parts[i]:\n",
    "        print(-1)\n",
    "        break\n",
    "    elif v1_parts[i] > v2_parts[i]:\n",
    "        print(1)\n",
    "        break\n",
    "else:\n",
    "    print(0)"
   ]
  },
  {
   "cell_type": "code",
   "execution_count": 73,
   "id": "8db21597",
   "metadata": {},
   "outputs": [
    {
     "data": {
      "text/plain": [
       "-1"
      ]
     },
     "execution_count": 73,
     "metadata": {},
     "output_type": "execute_result"
    }
   ],
   "source": [
    "class Solution:\n",
    "    def compareVersion(self, version1: str, version2: str) -> int:\n",
    "        v1_parts = list(map(int, version1.split('.')))\n",
    "        v2_parts = list(map(int, version2.split('.')))\n",
    "        max_length = max(len(v1_parts), len(v2_parts))\n",
    "        v1_parts.extend([0] * (max_length - len(v1_parts)))\n",
    "        v2_parts.extend([0] * (max_length - len(v2_parts)))\n",
    "        for i in range(max_length):\n",
    "            if v1_parts[i] < v2_parts[i]:\n",
    "                return (-1)\n",
    "                break\n",
    "            elif v1_parts[i] > v2_parts[i]:\n",
    "                return (1)\n",
    "                break\n",
    "        else:\n",
    "            return (0)\n",
    "s = Solution()\n",
    "s.compareVersion(\"1.2\" , \"1.10\")"
   ]
  },
  {
   "cell_type": "code",
   "execution_count": 74,
   "id": "97223df7",
   "metadata": {},
   "outputs": [
    {
     "name": "stdout",
     "output_type": "stream",
     "text": [
      "0\n",
      "11\n"
     ]
    }
   ],
   "source": [
    "from typing import List\n",
    "class Solution:\n",
    "    def findMin(self, nums: List[int]) -> int:\n",
    "        l = 0\n",
    "        r = len(nums) - 1\n",
    "        while l < r:\n",
    "            mid = (l + r) // 2\n",
    "            if nums[mid] > nums[r]:\n",
    "                l = mid + 1\n",
    "            else:\n",
    "                r = mid\n",
    "        return nums[l]\n",
    "s = Solution()\n",
    "print(s.findMin([4,5,6,7,0,1,2]))\n",
    "print(s.findMin([11,13,15,17]))"
   ]
  },
  {
   "cell_type": "code",
   "execution_count": 75,
   "id": "bc16a2f0",
   "metadata": {},
   "outputs": [
    {
     "data": {
      "text/plain": [
       "4"
      ]
     },
     "execution_count": 75,
     "metadata": {},
     "output_type": "execute_result"
    }
   ],
   "source": [
    "from typing import List\n",
    "class Solution:                                                                                             \n",
    "    def LongestSubarray(self , nums: List[int]) -> int:                                                         \n",
    "        left = 0                                                                            \n",
    "        zeros = 0                                                   \n",
    "        max_len = 0                                                                         \n",
    "        for right in range(len(nums)):                                  \n",
    "            if nums[right] == 0:                                \n",
    "                zeros += 1                                      \n",
    "            while zeros > 1:                                \n",
    "                if nums[left] == 0:                                         \n",
    "                    zeros -= 1\n",
    "                left += 1\n",
    "            max_len = max(max_len, right - left + 1)\n",
    "        return max_len\n",
    "s = Solution()\n",
    "s.LongestSubarray([1,1,0,1])"
   ]
  },
  {
   "cell_type": "code",
   "execution_count": 76,
   "id": "74f2fdb6",
   "metadata": {},
   "outputs": [
    {
     "data": {
      "text/plain": [
       "3"
      ]
     },
     "execution_count": 76,
     "metadata": {},
     "output_type": "execute_result"
    }
   ],
   "source": [
    "class Solution:\n",
    "    def triangleNumber(self, nums: List[int]) -> int:\n",
    "        nums.sort()\n",
    "        n = len(nums)\n",
    "        count = 0\n",
    "        for k in range(n - 1, 1, -1): \n",
    "            i, j = 0, k - 1\n",
    "            while i < j:\n",
    "                if nums[i] + nums[j] > nums[k]:\n",
    "                    count += (j - i)  \n",
    "                    j -= 1\n",
    "                else:\n",
    "                    i += 1           \n",
    "        return count\n",
    "a = Solution()\n",
    "a.triangleNumber([2,2,3,4])"
   ]
  },
  {
   "cell_type": "code",
   "execution_count": null,
   "id": "24e66783",
   "metadata": {},
   "outputs": [
    {
     "name": "stdout",
     "output_type": "stream",
     "text": [
      "(0, 0) (0, 1) (1, 0)\n",
      "area 0.5\n",
      "(0, 0) (0, 1) (0, 2)\n",
      "area 0.0\n",
      "(0, 0) (0, 1) (2, 0)\n",
      "area 1.0\n",
      "(0, 0) (1, 0) (0, 2)\n",
      "area 1.0\n",
      "(0, 0) (1, 0) (2, 0)\n",
      "area 0.0\n",
      "(0, 0) (0, 2) (2, 0)\n",
      "area 2.0\n",
      "(0, 1) (1, 0) (0, 2)\n",
      "area 0.5\n",
      "(0, 1) (1, 0) (2, 0)\n",
      "area 0.5\n",
      "(0, 1) (0, 2) (2, 0)\n",
      "area 1.0\n",
      "(1, 0) (0, 2) (2, 0)\n",
      "area 1.0\n"
     ]
    },
    {
     "data": {
      "text/plain": [
       "2.0"
      ]
     },
     "execution_count": 77,
     "metadata": {},
     "output_type": "execute_result"
    }
   ],
   "source": [
    "from itertools import combinations\n",
    "from typing import List\n",
    "class Solution:\n",
    "    def largestTriangleArea(self, points: List[List[int]]) -> float:                            \n",
    "        max_area = 0                                                                                    \n",
    "        for (x1, y1), (x2, y2), (x3, y3) in combinations(points, 3):                        \n",
    "            print((x1, y1), (x2, y2), (x3, y3))                                                     \n",
    "            area = abs(x1*(y2-y3) + x2*(y3-y1) + x3*(y1-y2)) / 2                            \n",
    "            print(\"area\" , area)                                                        \n",
    "            max_area = max(max_area, area)                                          \n",
    "        return max_area\n",
    "s = Solution()\n",
    "s.largestTriangleArea([[0,0],[0,1],[1,0],[0,2],[2,0]])"
   ]
  },
  {
   "cell_type": "code",
   "execution_count": null,
   "id": "ced72bd1",
   "metadata": {},
   "outputs": [
    {
     "name": "stdout",
     "output_type": "stream",
     "text": [
      "10 2 1\n",
      "False\n",
      "2 1 1\n",
      "False\n"
     ]
    },
    {
     "data": {
      "text/plain": [
       "0"
      ]
     },
     "execution_count": 78,
     "metadata": {},
     "output_type": "execute_result"
    }
   ],
   "source": [
    "from typing import List\n",
    "class Solution:\n",
    "    def largestPerimeter(self, nums: List[int]) -> int:\n",
    "        nums.sort(reverse=True) \n",
    "        for i in range(len(nums) - 2):\n",
    "            a, b, c = nums[i], nums[i+1], nums[i+2]\n",
    "            print(a, b, c)\n",
    "            print(b + c > a)\n",
    "            if b + c > a: \n",
    "                return a + b + c\n",
    "        return 0\n",
    "s = Solution()\n",
    "s.largestPerimeter([1,2,1,10])"
   ]
  },
  {
   "cell_type": "code",
   "execution_count": null,
   "id": "2b6f765a",
   "metadata": {},
   "outputs": [
    {
     "data": {
      "text/plain": [
       "5"
      ]
     },
     "execution_count": 79,
     "metadata": {},
     "output_type": "execute_result"
    }
   ],
   "source": [
    "from typing import List\n",
    "import heapq\n",
    "class Solution:\n",
    "    def largestPerimeter(self, nums: List[int]) -> int:\n",
    "        nums = [-num for num in nums]\n",
    "        heapq.heapify(nums)\n",
    "        while len(nums) >= 3:\n",
    "            a = -heapq.heappop(nums)\n",
    "            b = -heapq.heappop(nums)\n",
    "            c = -nums[0]\n",
    "            if b + c > a:\n",
    "                return a + b + c  \n",
    "            heapq.heappush(nums, -b)\n",
    "        return 0\n",
    "s = Solution()\n",
    "s.largestPerimeter([2,1,2])"
   ]
  },
  {
   "cell_type": "code",
   "execution_count": null,
   "id": "4b235f66",
   "metadata": {},
   "outputs": [
    {
     "data": {
      "text/plain": [
       "13"
      ]
     },
     "execution_count": 3,
     "metadata": {},
     "output_type": "execute_result"
    }
   ],
   "source": [
    "from typing import List\n",
    "class Solution:                                                                             \n",
    "    def minScoreTriangulation(self, values: List[int]) -> int:\n",
    "        n = len(values)\n",
    "        dp = [[0] * n for _ in range(n)]\n",
    "        for length in range(3, n + 1):  \n",
    "            for i in range(n - length + 1):\n",
    "                j = i + length - 1\n",
    "                dp[i][j] = float(\"inf\")\n",
    "                for k in range(i + 1, j):\n",
    "                    score = dp[i][k] + dp[k][j] + values[i] * values[k] * values[j]\n",
    "                    dp[i][j] = min(dp[i][j], score)\n",
    "        return dp[0][n - 1]                                 \n",
    "S = Solution()\n",
    "S.minScoreTriangulation([1,3,1,4,1,5])"
   ]
  },
  {
   "cell_type": "code",
   "execution_count": null,
   "id": "34379c3a",
   "metadata": {},
   "outputs": [
    {
     "data": {
      "text/plain": [
       "13"
      ]
     },
     "execution_count": 2,
     "metadata": {},
     "output_type": "execute_result"
    }
   ],
   "source": [
    "\n",
    "from functools import lru_cache\n",
    "from typing import List\n",
    "class Solution:\n",
    "    def minScoreTriangulation(self, values: List[int]) -> int:\n",
    "        @lru_cache(None)\n",
    "        def dp(i, j):\n",
    "            if i + 2 > j:\n",
    "                return 0\n",
    "            if i + 2 == j:\n",
    "                return values[i] * values[i + 1] * values[j]\n",
    "            return min(\n",
    "                (values[i] * values[k] * values[j] + dp(i, k) + dp(k, j))\n",
    "                for k in range(i + 1, j)\n",
    "            )\n",
    "        return dp(0, len(values) - 1)\n",
    "s = Solution()\n",
    "s.minScoreTriangulation([1,3,1,4,1,5])"
   ]
  },
  {
   "cell_type": "code",
   "execution_count": null,
   "id": "2c8ab528",
   "metadata": {},
   "outputs": [],
   "source": [
    "from typing import List\n",
    "\n",
    "class Solution:\n",
    "    def triangularSum(self, nums: List[int]) -> int:\n",
    "        while len(nums) > 1:\n",
    "            nums = [(nums[i] + nums[i+1]) % 10 for i in range(len(nums)-1)]\n",
    "        return nums[0]\n"
   ]
  },
  {
   "cell_type": "code",
   "execution_count": 2,
   "id": "755dd9c9",
   "metadata": {},
   "outputs": [
    {
     "data": {
      "text/plain": [
       "13"
      ]
     },
     "execution_count": 2,
     "metadata": {},
     "output_type": "execute_result"
    }
   ],
   "source": [
    "class Solution:\n",
    "    def numWaterBottles(self, numBottles: int, numExchange: int) -> int:\n",
    "        total_drinks = numBottles\n",
    "        while numBottles >= numExchange:\n",
    "            total_drinks += numBottles // numExchange\n",
    "            numBottles = numBottles // numExchange + numBottles % numExchange\n",
    "        return total_drinks         \n",
    "s = Solution()\n",
    "s.numWaterBottles(9, 3)"
   ]
  },
  {
   "cell_type": "code",
   "execution_count": 12,
   "id": "c2b5f282",
   "metadata": {},
   "outputs": [
    {
     "data": {
      "text/plain": [
       "4"
      ]
     },
     "execution_count": 12,
     "metadata": {},
     "output_type": "execute_result"
    }
   ],
   "source": [
    "from typing import List\n",
    "from collections import defaultdict\n",
    "class Solution:\n",
    "    def longestArithSeqLength(self, nums: List[int]) -> int:\n",
    "        n = len(nums)\n",
    "        dp = [defaultdict(int) for _ in range(n)]\n",
    "\n",
    "        max_len = 0\n",
    "\n",
    "        for i in range(n):\n",
    "            for j in range(i):\n",
    "                diff = nums[i] - nums[j]\n",
    "                if diff in dp[j]:\n",
    "                    dp[i][diff] = dp[j][diff] + 1\n",
    "                else:\n",
    "                    dp[i][diff] = 2\n",
    "                max_len = max(max_len, dp[i][diff])\n",
    "\n",
    "        return max_len\n",
    "s = Solution()  \n",
    "s.longestArithSeqLength([3,6,9,12])"
   ]
  },
  {
   "cell_type": "code",
   "execution_count": null,
   "id": "40c39ae9",
   "metadata": {},
   "outputs": [
    {
     "data": {
      "text/plain": [
       "[2, 100]"
      ]
     },
     "execution_count": 15,
     "metadata": {},
     "output_type": "execute_result"
    }
   ],
   "source": [
    "n = 102\n",
    "# Output: [500,30,7]\n",
    "class Solution:\n",
    "    def decimalRepresentation(self, n: int) -> List[int]:\n",
    "        res = []\n",
    "        place = 1\n",
    "        \n",
    "        while n > 0:\n",
    "            digit = n % 10\n",
    "            if digit > 0:\n",
    "                res.append(digit * place)\n",
    "            n //= 10\n",
    "            place *= 10\n",
    "        return sorted(res , reverse = True)  \n",
    "s = Solution()\n",
    "s.decimalRepresentation(n)    \n",
    "        "
   ]
  },
  {
   "cell_type": "code",
   "execution_count": 25,
   "id": "ed893aa9",
   "metadata": {},
   "outputs": [
    {
     "name": "stdout",
     "output_type": "stream",
     "text": [
      "5\n"
     ]
    }
   ],
   "source": [
    "from typing import List\n",
    "\n",
    "class Solution:\n",
    "    def splitArray(self, nums: List[int]) -> int:\n",
    "        minDiff = float('inf')\n",
    "        \n",
    "        for i in range(len(nums) - 1):\n",
    "            leftSeq = nums[:i+1]\n",
    "            rightSeq = nums[i+1:]\n",
    "            \n",
    "            if sorted(leftSeq) == leftSeq and sorted(rightSeq, reverse=True) == rightSeq:\n",
    "                diff = abs(sum(leftSeq) - sum(rightSeq))\n",
    "                minDiff = min(minDiff, diff)\n",
    "        \n",
    "        return minDiff if minDiff != float('inf') else -1\n",
    "\n",
    "# Example usage:\n",
    "nums = [1, 2, 3, 4, 5]\n",
    "solution = Solution()\n",
    "result = solution.splitArray(nums)\n",
    "print(result)"
   ]
  },
  {
   "cell_type": "code",
   "execution_count": 4,
   "id": "a9dcc2a4",
   "metadata": {},
   "outputs": [
    {
     "name": "stdout",
     "output_type": "stream",
     "text": [
      "empty 9 numExchange 3\n",
      "empty after 6\n",
      "drank 10 empty 7\n",
      "empty 7 numExchange 4\n",
      "empty after 3\n",
      "drank 11 empty 4\n"
     ]
    },
    {
     "data": {
      "text/plain": [
       "11"
      ]
     },
     "execution_count": 4,
     "metadata": {},
     "output_type": "execute_result"
    }
   ],
   "source": [
    "from typing import List\n",
    "class Solution:\n",
    "    def maxBottlesDrunk(self, numBottles: int, numExchange: int) -> int:\n",
    "        drank = numBottles\n",
    "        empty = numBottles\n",
    "        while empty >= numExchange:\n",
    "            print(\"empty\" , empty , \"numExchange\" , numExchange)\n",
    "            empty -= numExchange\n",
    "            print(\"empty after\" , empty)\n",
    "            numExchange += 1\n",
    "            drank += 1\n",
    "            empty += 1\n",
    "            print(\"drank\" , drank , \"empty\" , empty)\n",
    "        return drank\n",
    "s = Solution()\n",
    "s.maxBottlesDrunk(9, 3)"
   ]
  },
  {
   "cell_type": "code",
   "execution_count": 5,
   "id": "4eefa399",
   "metadata": {},
   "outputs": [
    {
     "data": {
      "text/plain": [
       "False"
      ]
     },
     "execution_count": 5,
     "metadata": {},
     "output_type": "execute_result"
    }
   ],
   "source": [
    "class Solution:\n",
    "    def canWinNim(self, n: int) -> bool:\n",
    "        return n % 4 != 0\n",
    "s = Solution()\n",
    "s.canWinNim(4)"
   ]
  },
  {
   "cell_type": "code",
   "execution_count": 8,
   "id": "c96a86c0",
   "metadata": {},
   "outputs": [
    {
     "data": {
      "text/plain": [
       "2"
      ]
     },
     "execution_count": 8,
     "metadata": {},
     "output_type": "execute_result"
    }
   ],
   "source": [
    "class Solution:\n",
    "    def hammingDistance(self, x: int, y: int) -> int:\n",
    "        return (bin(x ^ y).count(\"1\"))\n",
    "s = Solution()\n",
    "s.hammingDistance(1,4)"
   ]
  },
  {
   "cell_type": "code",
   "execution_count": null,
   "id": "5eb6aa42",
   "metadata": {},
   "outputs": [],
   "source": [
    "class Solution:\n",
    "    def maxArea(self, height: List[int]) -> int:\n",
    "        l , r = 0 , len(height) - 1\n",
    "        result = 0\n",
    "        while l < r:\n",
    "            area = min(height[l] , height[r]) * (r - l)\n",
    "            result = max(result , area)\n",
    "            if height[l] < height[r]:\n",
    "                l += 1\n",
    "            else:\n",
    "                r -= 1\n",
    "        return result    "
   ]
  },
  {
   "cell_type": "code",
   "execution_count": null,
   "id": "40ac9735",
   "metadata": {},
   "outputs": [],
   "source": [
    "from typing import List\n",
    "\n",
    "class Solution:\n",
    "    def pacificAtlantic(self, heights: List[List[int]]) -> List[List[int]]:\n",
    "        if not heights or not heights[0]:\n",
    "            return []\n",
    "        \n",
    "        m, n = len(heights), len(heights[0])\n",
    "        \n",
    "        pacific = [[False] * n for _ in range(m)]\n",
    "        atlantic = [[False] * n for _ in range(m)]\n",
    "        \n",
    "        def dfs(r, c, visited, prev_height):\n",
    "            # Check bounds\n",
    "            if (r < 0 or c < 0 or r >= m or c >= n or\n",
    "                visited[r][c] or heights[r][c] < prev_height):\n",
    "                return\n",
    "            visited[r][c] = True\n",
    "            # Explore in 4 directions\n",
    "            dfs(r + 1, c, visited, heights[r][c])\n",
    "            dfs(r - 1, c, visited, heights[r][c])\n",
    "            dfs(r, c + 1, visited, heights[r][c])\n",
    "            dfs(r, c - 1, visited, heights[r][c])\n",
    "        \n",
    "        # Start from Pacific (top row + left column)\n",
    "        for i in range(m):\n",
    "            dfs(i, 0, pacific, -1)        # Left edge\n",
    "            dfs(i, n - 1, atlantic, -1)   # Right edge\n",
    "        for j in range(n):\n",
    "            dfs(0, j, pacific, -1)        # Top edge\n",
    "            dfs(m - 1, j, atlantic, -1)   # Bottom edge\n",
    "        \n",
    "        # Collect cells reachable by both oceans\n",
    "        result = []\n",
    "        for i in range(m):\n",
    "            for j in range(n):\n",
    "                if pacific[i][j] and atlantic[i][j]:\n",
    "                    result.append([i, j])\n",
    "        \n",
    "        return result\n"
   ]
  },
  {
   "cell_type": "code",
   "execution_count": null,
   "id": "d299d54e",
   "metadata": {},
   "outputs": [],
   "source": [
    "class Solution:\n",
    "    def swimInWater(self, grid: List[List[int]]) -> int:\n",
    "        \"\"\"\n",
    "        Find minimum time to swim from top-left to bottom-right.\n",
    "        Uses Union-Find to connect cells as water level rises.\n",
    "      \n",
    "        Args:\n",
    "            grid: 2D grid where grid[i][j] represents elevation at (i, j)\n",
    "      \n",
    "        Returns:\n",
    "            Minimum time required to reach destination\n",
    "        \"\"\"\n",
    "      \n",
    "        def find(node: int) -> int:\n",
    "            \"\"\"Find root of the set containing node with path compression\"\"\"\n",
    "            if parent[node] != node:\n",
    "                parent[node] = find(parent[node])  # Path compression\n",
    "            return parent[node]\n",
    "      \n",
    "        n = len(grid)\n",
    "      \n",
    "        # Initialize Union-Find structure\n",
    "        # Each cell (i, j) is mapped to index i * n + j\n",
    "        parent = list(range(n * n))\n",
    "      \n",
    "        # Create mapping from elevation to cell position\n",
    "        # elevation_to_position[h] stores the flattened index of cell with elevation h\n",
    "        elevation_to_position = [0] * (n * n)\n",
    "        for row_idx, row in enumerate(grid):\n",
    "            for col_idx, elevation in enumerate(row):\n",
    "                elevation_to_position[elevation] = row_idx * n + col_idx\n",
    "      \n",
    "        # Process cells in order of increasing elevation (time)\n",
    "        for time in range(n * n):\n",
    "            # Get coordinates of cell with current elevation\n",
    "            current_cell_idx = elevation_to_position[time]\n",
    "            current_row = current_cell_idx // n\n",
    "            current_col = current_cell_idx % n\n",
    "          \n",
    "            # Check all four adjacent cells\n",
    "            directions = [(0, -1), (0, 1), (1, 0), (-1, 0)]  # left, right, down, up\n",
    "            for delta_row, delta_col in directions:\n",
    "                neighbor_row = current_row + delta_row\n",
    "                neighbor_col = current_col + delta_col\n",
    "              \n",
    "                # If neighbor is valid and has elevation <= current time, union them\n",
    "                if (0 <= neighbor_row < n and \n",
    "                    0 <= neighbor_col < n and \n",
    "                    grid[neighbor_row][neighbor_col] <= time):\n",
    "                  \n",
    "                    neighbor_idx = neighbor_row * n + neighbor_col\n",
    "                    # Union the two cells\n",
    "                    parent[find(neighbor_idx)] = find(current_cell_idx)\n",
    "              \n",
    "                # Check if start and end are connected\n",
    "                start_idx = 0  # Top-left corner (0, 0)\n",
    "                end_idx = n * n - 1  # Bottom-right corner (n-1, n-1)\n",
    "                if find(start_idx) == find(end_idx):\n",
    "                    return time\n",
    "      \n",
    "        return -1  # Should never reach here for valid input"
   ]
  },
  {
   "cell_type": "code",
   "execution_count": null,
   "id": "b5f89f0a",
   "metadata": {},
   "outputs": [
    {
     "data": {
      "text/plain": [
       "[-1, -1, 2, 1, -1, -1]"
      ]
     },
     "execution_count": 1,
     "metadata": {},
     "output_type": "execute_result"
    }
   ],
   "source": [
    "from bisect import bisect_right\n",
    "from typing import List\n",
    "\n",
    "class Solution:\n",
    "    def avoidFlood(self, rains: List[int]) -> List[int]:\n",
    "        n = len(rains)\n",
    "        res = [-1] * n\n",
    "        full = {}          \n",
    "        dry_days = []         \n",
    "        for i, lake in enumerate(rains):\n",
    "            if lake == 0:\n",
    "                dry_days.append(i)\n",
    "                res[i] = 1  \n",
    "            else:\n",
    "                if lake in full:\n",
    "                    last_filled = full[lake]\n",
    "                    idx = bisect_right(dry_days, last_filled)\n",
    "                    if idx == len(dry_days):\n",
    "                        return [] \n",
    "                    dry_day = dry_days[idx]\n",
    "                    res[dry_day] = lake\n",
    "                    dry_days.pop(idx)\n",
    "                full[lake] = i\n",
    "                res[i] = -1\n",
    "        return res\n",
    "s = Solution()\n",
    "s.avoidFlood([1,2,0,0,2,1])"
   ]
  },
  {
   "cell_type": "code",
   "execution_count": null,
   "id": "76ec921f",
   "metadata": {},
   "outputs": [
    {
     "data": {
      "text/plain": [
       "[4, 0, 3]"
      ]
     },
     "execution_count": 1,
     "metadata": {},
     "output_type": "execute_result"
    }
   ],
   "source": [
    "class Solution:\n",
    "  def successfulPairs(\n",
    "      self,\n",
    "      spells: list[int],\n",
    "      potions: list[int],\n",
    "      success: int,\n",
    "  ) -> list[int]:\n",
    "    potions.sort()\n",
    "    def firstIndexSuccess(spell: int):\n",
    "      l = 0\n",
    "      r = len(potions)\n",
    "      while l < r:\n",
    "        m = (l + r) // 2\n",
    "        if spell * potions[m] >= success:\n",
    "          r = m\n",
    "        else:\n",
    "          l = m + 1\n",
    "      return l\n",
    "    return [len(potions) - firstIndexSuccess(spell) for spell in spells]\n",
    "s = Solution()\n",
    "s.successfulPairs([5,1,3],[1,2,3,4,5],7)\n",
    "  "
   ]
  },
  {
   "cell_type": "code",
   "execution_count": null,
   "id": "e46152cd",
   "metadata": {},
   "outputs": [],
   "source": []
  }
 ],
 "metadata": {
  "kernelspec": {
   "display_name": "Python 3",
   "language": "python",
   "name": "python3"
  },
  "language_info": {
   "codemirror_mode": {
    "name": "ipython",
    "version": 3
   },
   "file_extension": ".py",
   "mimetype": "text/x-python",
   "name": "python",
   "nbconvert_exporter": "python",
   "pygments_lexer": "ipython3",
   "version": "3.11.5"
  }
 },
 "nbformat": 4,
 "nbformat_minor": 5
}
