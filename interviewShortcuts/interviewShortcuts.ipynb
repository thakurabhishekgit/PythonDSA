{
 "cells": [
  {
   "cell_type": "code",
   "execution_count": null,
   "id": "c22f9a98",
   "metadata": {},
   "outputs": [],
   "source": [
    "class Solution:\n",
    "    def isPowerOfFour(self, n: int) -> bool:\n",
    "        return n > 0 and (n & (n - 1)) == 0 and n % 3 == 1\n"
   ]
  }
 ],
 "metadata": {
  "language_info": {
   "name": "python"
  }
 },
 "nbformat": 4,
 "nbformat_minor": 5
}
