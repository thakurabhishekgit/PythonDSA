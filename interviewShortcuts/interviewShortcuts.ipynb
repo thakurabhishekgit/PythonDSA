{
 "cells": [
  {
   "cell_type": "code",
   "execution_count": null,
   "id": "c22f9a98",
   "metadata": {},
   "outputs": [],
   "source": [
    "class Solution:\n",
    "    def isPowerOfFour(self, n: int) -> bool:\n",
    "        return n > 0 and (n & (n - 1)) == 0 and n % 3 == 1\n"
   ]
  },
  {
   "cell_type": "code",
   "execution_count": null,
   "id": "11e58636",
   "metadata": {},
   "outputs": [],
   "source": [
    "def is_power_of_k(n: int, k: int) -> bool:\n",
    "    if n < 1 or k < 2:\n",
    "        return False\n",
    "    while n % k == 0:\n",
    "        n //= k\n",
    "    return n == 1\n"
   ]
  },
  {
   "cell_type": "code",
   "execution_count": null,
   "id": "139e2f0e",
   "metadata": {},
   "outputs": [],
   "source": [
    "import math\n",
    "\n",
    "def is_power_of_k_math(n: int, k: int) -> bool:\n",
    "    if n < 1 or k < 2:\n",
    "        return False\n",
    "    exp = math.log(n, k)\n",
    "    return abs(round(exp) - exp) < 1e-10\n"
   ]
  },
  {
   "cell_type": "code",
   "execution_count": null,
   "id": "275235b4",
   "metadata": {},
   "outputs": [
    {
     "name": "stdout",
     "output_type": "stream",
     "text": [
      "['dog', 'cat', 'cat', 'dog']\n",
      "2 2\n"
     ]
    }
   ],
   "source": [
    "pattern = \"abba\"\n",
    "s = \"dog cat cat dog\"\n",
    "s = s.split()\n",
    "print(s)\n",
    "print(len(set(pattern)) == len(set(s)))"
   ]
  },
  {
   "cell_type": "code",
   "execution_count": 1,
   "id": "8e6f8ebf",
   "metadata": {},
   "outputs": [
    {
     "name": "stdout",
     "output_type": "stream",
     "text": [
      "True\n"
     ]
    }
   ],
   "source": [
    "from collections import defaultdict\n",
    "\n",
    "\n",
    "class Solution:\n",
    "    def wordPattern(self, pattern: str, s: str) -> bool:\n",
    "        mapping = defaultdict(list)\n",
    "\n",
    "        for p, w in zip(pattern, s.split()):\n",
    "            mapping[p].append(w)\n",
    "\n",
    "        for item, words in mapping.items():\n",
    "            if len(set(pattern)) > 1 and len(set(words)) > 1:\n",
    "                return (False)\n",
    "                break\n",
    "        return True        \n",
    "s = Solution()\n",
    "print(s.wordPattern(\"abba\" , \"dog cat cat dog\"))"
   ]
  },
  {
   "cell_type": "code",
   "execution_count": null,
   "id": "50e98ac4",
   "metadata": {},
   "outputs": [],
   "source": [
    "class Solution:\n",
    "    def wordPattern(self, pattern: str, s: str) -> bool:\n",
    "        words = s.split()\n",
    "        if len(words) != len(pattern):\n",
    "            return False\n",
    "\n",
    "        char_to_word = {}\n",
    "        word_to_char = {}\n",
    "\n",
    "        for ch, word in zip(pattern, words):\n",
    "            if ch in char_to_word and char_to_word[ch] != word:\n",
    "                return False\n",
    "            if word in word_to_char and word_to_char[word] != ch:\n",
    "                return False\n",
    "            char_to_word[ch] = word\n",
    "            word_to_char[word] = ch\n",
    "        \n",
    "        return True\n"
   ]
  },
  {
   "cell_type": "code",
   "execution_count": null,
   "id": "21b18359",
   "metadata": {},
   "outputs": [
    {
     "name": "stdout",
     "output_type": "stream",
     "text": [
      "bef 9669\n",
      "aft 6669\n",
      "bef 9669\n",
      "aft 9669\n",
      "bef 9969\n",
      "aft 9969\n",
      "bef 9969\n",
      "aft 6969\n"
     ]
    }
   ],
   "source": [
    "class Solution:\n",
    "    def maximum69Number (self, num: int) -> int:\n",
    "        num_str = list(str(num))\n",
    "        \n",
    "        for i in range(len(num_str)):\n",
    "            if num_str[i] == '6':\n",
    "                num_str[i] = '9'\n",
    "                break\n",
    "        return int(\"\".join(num_str))\n"
   ]
  },
  {
   "cell_type": "code",
   "execution_count": 17,
   "id": "5d2c6964",
   "metadata": {},
   "outputs": [
    {
     "name": "stdout",
     "output_type": "stream",
     "text": [
      "2\n",
      "6\n",
      "6\n"
     ]
    },
    {
     "data": {
      "text/plain": [
       "6"
      ]
     },
     "execution_count": 17,
     "metadata": {},
     "output_type": "execute_result"
    }
   ],
   "source": [
    "from typing import List\n",
    "\n",
    "class Solution:\n",
    "    def findSpecialInteger(self, arr: List[int]) -> int:\n",
    "        n = len(arr)\n",
    "        span = n // 4\n",
    "        print(span)\n",
    "        for i in range(n - span):\n",
    "            if arr[i] == arr[i + span]:\n",
    "                print(arr[i])\n",
    "                print(arr[i + span])\n",
    "                return arr[i]\n",
    "        return -1  \n",
    "\n",
    "s = Solution()\n",
    "s.findSpecialInteger([1,2,2,6,6,6,6,7,10])"
   ]
  },
  {
   "cell_type": "code",
   "execution_count": null,
   "id": "ccc66835",
   "metadata": {},
   "outputs": [
    {
     "name": "stdout",
     "output_type": "stream",
     "text": [
      "Course 1 has prerequisite: 0\n",
      "0 1\n",
      "2\n",
      "False\n"
     ]
    }
   ],
   "source": [
    "from typing import Optional\n",
    "\n",
    "# Definition for a binary tree node.\n",
    "# class TreeNode:\n",
    "#     def __init__(self, val=0, left=None, right=None):\n",
    "#         self.val = val\n",
    "#         self.left = left\n",
    "#         self.right = right\n",
    "\n",
    "class Solution:\n",
    "    def maxPathSum(self, root: Optional[TreeNode]) -> int:\n",
    "        self.max_sum = float(\"-inf\")\n",
    "\n",
    "        def dfs(node):\n",
    "            if not node:\n",
    "                return 0\n",
    "\n",
    "            # Only take positive contributions\n",
    "            left_gain = max(dfs(node.left), 0)\n",
    "            right_gain = max(dfs(node.right), 0)\n",
    "\n",
    "            # Path passing through this node\n",
    "            current_max = node.val + left_gain + right_gain\n",
    "\n",
    "            # Update global max\n",
    "            self.max_sum = max(self.max_sum, current_max)\n",
    "\n",
    "            # Return max path sum that can extend to parent\n",
    "            return node.val + max(left_gain, right_gain)\n",
    "\n",
    "        dfs(root)\n",
    "        return self.max_sum\n"
   ]
  },
  {
   "cell_type": "code",
   "execution_count": 3,
   "id": "896173c3",
   "metadata": {},
   "outputs": [],
   "source": [
    "# You are given a string s representing an attendance record for a student where each character signifies whether the student was absent, late, or present on that day. The record only contains the following three characters:\n",
    "\n",
    "# 'A': Absent.\n",
    "# 'L': Late.\n",
    "# 'P': Present.\n",
    "# The student is eligible for an attendance award if they meet both of the following criteria:\n",
    "\n",
    "# The student was absent ('A') for strictly fewer than 2 days total.\n",
    "# The student was never late ('L') for 3 or more consecutive days.\n",
    "# Return true if the student is eligible for an attendance award, or false otherwise.\n",
    "\n",
    " \n",
    "\n",
    "# Example 1:\n",
    "\n",
    "# Input: s = \"PPALLP\"\n",
    "# Output: true\n",
    "# Explanation: The student has fewer than 2 absences and was never late 3 or more consecutive days.\n",
    "# Example 2:\n",
    "\n",
    "# Input: s = \"PPALLL\"\n",
    "# Output: false\n",
    "# Explanation: The student was late 3 consecutive days in the last 3 days, so is not eligible for the award.\n",
    " \n",
    "\n",
    "\n",
    "\n",
    "from collections import Counter\n",
    "\n",
    "\n",
    "class Solution:\n",
    "    def checkRecord(self, s: str) -> bool:\n",
    "        count = Counter(s)\n",
    "        print(count)\n",
    "        count_L = 0\n",
    "        if count['A'] >= 2:\n",
    "            return (False)\n",
    "        for i in range(len(s)):\n",
    "            if s[i] == 'L':\n",
    "                count_L += 1\n",
    "            else:\n",
    "                count_L = 0\n",
    "            if count_L >= 3:\n",
    "                print(count_L)\n",
    "                return (False)\n",
    "        return True\n",
    "        "
   ]
  },
  {
   "cell_type": "code",
   "execution_count": null,
   "id": "6b40fc23",
   "metadata": {},
   "outputs": [],
   "source": [
    "import heapq\n",
    "from typing import List\n",
    "\n",
    "class Solution:\n",
    "    def networkDelayTime(self, times: List[List[int]], n: int, k: int) -> int:\n",
    "        # Step 1: Build adjacency list\n",
    "        graph = {i: [] for i in range(1, n+1)}\n",
    "        for u, v, w in times:\n",
    "            graph[u].append((v, w))\n",
    "\n",
    "        heap = [(0, k)]\n",
    "        dist = {}\n",
    "        \n",
    "        # Step 3: Dijkstra’s algorithm\n",
    "        while heap:\n",
    "            time, node = heapq.heappop(heap)\n",
    "            if node in dist:   # already processed shortest path\n",
    "                continue\n",
    "            dist[node] = time\n",
    "            for nei, w in graph[node]:\n",
    "                if nei not in dist:\n",
    "                    heapq.heappush(heap, (time + w, nei))\n",
    "        \n",
    "        # Step 4: Check if all nodes are reached\n",
    "        if len(dist) != n:\n",
    "            return -1\n",
    "        \n",
    "        return max(dist.values())\n"
   ]
  },
  {
   "cell_type": "code",
   "execution_count": 5,
   "id": "2263e483",
   "metadata": {},
   "outputs": [
    {
     "name": "stdout",
     "output_type": "stream",
     "text": [
      "[0]\n",
      "[0, 0]\n",
      "[0, 0, 0]\n",
      "[0, 0, 0, 2]\n",
      "[0, 0, 0, 2, 0]\n",
      "[0, 0, 0, 2, 0, 0]\n",
      "[0]\n",
      "[0, 0]\n",
      "[0, 0, 2]\n",
      "[0, 0, 2, 0]\n",
      "[0, 0, 2, 0, 0]\n",
      "[0]\n",
      "[0, 2]\n",
      "[0, 2, 0]\n",
      "[0, 2, 0, 0]\n",
      "[2]\n",
      "[2, 0]\n",
      "[2, 0, 0]\n",
      "[0]\n",
      "[0, 0]\n",
      "[0]\n",
      "9\n"
     ]
    }
   ],
   "source": [
    "nums = [0,0,0,2,0,0]\n",
    "count = 0\n",
    "for i in range(len(nums)):\n",
    "    for j in range(i + 1 , len(nums) + 1):\n",
    "        print(nums[i : j])\n",
    "        if set(nums[i : j]) == {0}:\n",
    "            count += 1\n",
    "print(count)"
   ]
  },
  {
   "cell_type": "code",
   "execution_count": 2,
   "id": "6a53262f",
   "metadata": {},
   "outputs": [
    {
     "name": "stdout",
     "output_type": "stream",
     "text": [
      "0 0\n",
      "1 1\n",
      "3 2\n",
      "6 0\n",
      "7 1\n",
      "9\n"
     ]
    }
   ],
   "source": [
    "from typing import List\n",
    "class Solution:\n",
    "    def zeroFilledSubarray(self, nums: List[int]) -> int:\n",
    "        count = 0       # total subarrays\n",
    "        streak = 0      # length of current zero streak\n",
    "\n",
    "        for num in nums:\n",
    "            if num == 0:\n",
    "                print(count , streak)\n",
    "                streak += 1\n",
    "                count += streak   # each new zero adds \"streak\" subarrays\n",
    "                \n",
    "            else:\n",
    "                streak = 0\n",
    "\n",
    "        return count\n",
    "s = Solution()\n",
    "print(s.zeroFilledSubarray([0,0,0,2,0,0]))"
   ]
  },
  {
   "cell_type": "code",
   "execution_count": 13,
   "id": "81f97ebf",
   "metadata": {},
   "outputs": [
    {
     "name": "stdout",
     "output_type": "stream",
     "text": [
      "Counter({'a': 4, 'b,b,b,c': 1, 'c': 1})\n",
      "b,b,b,c\n"
     ]
    }
   ],
   "source": [
    "from collections import Counter\n",
    "paragraph = \"a, a, a, a, b,b,b,c, c\"\n",
    "banned = [\"a\"]\n",
    "\n",
    "words = paragraph.lower().split()\n",
    "words = [word.strip('!.,?\\'\";') for word in words]\n",
    "word_count = Counter(words)\n",
    "print(word_count)\n",
    "for w in banned:\n",
    "    del word_count[w]\n",
    "\n",
    "print(word_count.most_common(1)[0][0])"
   ]
  },
  {
   "cell_type": "code",
   "execution_count": 14,
   "id": "8d265cd2",
   "metadata": {},
   "outputs": [
    {
     "data": {
      "text/plain": [
       "'b'"
      ]
     },
     "execution_count": 14,
     "metadata": {},
     "output_type": "execute_result"
    }
   ],
   "source": [
    "import re\n",
    "from collections import Counter\n",
    "\n",
    "class Solution:\n",
    "    def mostCommonWord(self, paragraph: str, banned: List[str]) -> str:\n",
    "        # extract words (only a-z, A-Z, 0-9)\n",
    "        words = re.findall(r'\\w+', paragraph.lower())\n",
    "        \n",
    "        banned_set = set(banned)  # faster lookup\n",
    "        word_count = Counter(w for w in words if w not in banned_set)\n",
    "        \n",
    "        return word_count.most_common(1)[0][0]\n",
    "s = Solution()\n",
    "s.mostCommonWord(paragraph, banned)"
   ]
  },
  {
   "cell_type": "markdown",
   "id": "dce4173e",
   "metadata": {},
   "source": []
  },
  {
   "cell_type": "code",
   "execution_count": null,
   "id": "e87b45da",
   "metadata": {},
   "outputs": [
    {
     "name": "stdout",
     "output_type": "stream",
     "text": [
      "[(1, 2, 3), (1, 3, 2), (2, 1, 3), (2, 3, 1), (3, 1, 2), (3, 2, 1)]\n",
      "0\n",
      "(1, 3, 2)\n",
      "[1, 3, 2]\n"
     ]
    }
   ],
   "source": [
    "from itertools import permutations\n",
    "\n",
    "def nextPermutation(nums):\n",
    "    # Generate all unique permutations sorted lexicographically\n",
    "    perms = sorted(set(permutations(nums)))\n",
    "    print(perms)\n",
    "    idx = perms.index(tuple(nums))\n",
    "    print(idx)\n",
    "    next_perm = perms[(idx + 1) % len(perms)]\n",
    "    print(next_perm)\n",
    "\n",
    "    return list(next_perm)\n",
    "\n",
    "# Example\n",
    "nums = [1, 2, 3]\n",
    "print(nextPermutation(nums)) \n"
   ]
  },
  {
   "cell_type": "code",
   "execution_count": null,
   "id": "0d182603",
   "metadata": {},
   "outputs": [
    {
     "name": "stdout",
     "output_type": "stream",
     "text": [
      "1 28\n",
      "8 27\n",
      "11 20\n",
      "17 17\n",
      "Pivot index found at: 3\n"
     ]
    },
    {
     "data": {
      "text/plain": [
       "3"
      ]
     },
     "execution_count": 4,
     "metadata": {},
     "output_type": "execute_result"
    }
   ],
   "source": [
    "from typing import List\n",
    "class Solution:\n",
    "    def pivotIndex(self, nums: List[int]) -> int:\n",
    "        for i in range(len(nums)):\n",
    "            leftSum = sum(nums[:i + 1])\n",
    "            rightSum = sum(nums[i:])\n",
    "            print(leftSum, rightSum)\n",
    "            if leftSum == rightSum:\n",
    "                print(\"Pivot index found at:\", i)\n",
    "                return i\n",
    "        return -1\n",
    "\n",
    "        \n",
    "s = Solution()\n",
    "s.pivotIndex([1, 7, 3, 6, 5, 6])    \n",
    "#1 8 11 17 23 29\n",
    "#28 27 20 17 11 6"
   ]
  },
  {
   "cell_type": "code",
   "execution_count": 1,
   "id": "d09490d0",
   "metadata": {},
   "outputs": [
    {
     "name": "stdout",
     "output_type": "stream",
     "text": [
      "[28, 27, 20, 17, 11, 6] [1, 8, 11, 17, 22, 28]\n",
      "Pivot index found at: 3\n",
      "3\n"
     ]
    }
   ],
   "source": [
    "nums = [1, 7, 3, 6, 5, 6]\n",
    "prefixSum = [0] * len(nums)\n",
    "postfixSum = [nums[len(nums)-1]] * len(nums)\n",
    "for i in range(len(nums)):\n",
    "    prefixSum[i] = prefixSum[i - 1] + nums[i] \n",
    "\n",
    "for i in range(len(nums) - 2, -1, -1):\n",
    "    postfixSum[i] = postfixSum[i + 1] + nums[i]\n",
    "\n",
    "print(postfixSum  , prefixSum)    \n",
    "\n",
    "for i in range(len(nums)):  \n",
    "    if prefixSum[i] == postfixSum[i]:\n",
    "        print(\"Pivot index found at:\", i)\n",
    "        print(i)"
   ]
  },
  {
   "cell_type": "code",
   "execution_count": 21,
   "id": "14785b0f",
   "metadata": {},
   "outputs": [
    {
     "name": "stdout",
     "output_type": "stream",
     "text": [
      "[[1, 1, 1, 1, 1, 1, 0], [1, 1, 1, 1, 1, 1, 0, 1], [1, 1, 1, 1, 1, 1, 0, 1, 1], [1, 1, 1, 1, 1, 1, 0, 1, 1, 1], [1, 1, 1, 1, 1, 1, 0, 1, 1, 1, 1], [1, 1, 1, 1, 1, 1, 0, 1, 1, 1, 1, 1], [1, 1, 1, 1, 1, 1, 0, 1, 1, 1, 1, 1, 1], [1, 1, 1, 1, 1, 1, 0, 1, 1, 1, 1, 1, 1, 1], [1, 1, 1, 1, 1, 1, 0, 1, 1, 1, 1, 1, 1, 1, 1], [1, 1, 1, 1, 1, 1, 0, 1, 1, 1, 1, 1, 1, 1, 1, 1], [1, 1, 1, 1, 1, 1, 0, 1, 1, 1, 1, 1, 1, 1, 1, 1, 1], [1, 1, 1, 1, 1, 1, 0, 1, 1, 1, 1, 1, 1, 1, 1, 1, 1, 1], [1, 1, 1, 1, 1, 1, 0, 1, 1, 1, 1, 1, 1, 1, 1, 1, 1, 1, 1], [1, 1, 1, 1, 1, 0], [1, 1, 1, 1, 1, 0, 1], [1, 1, 1, 1, 1, 0, 1, 1], [1, 1, 1, 1, 1, 0, 1, 1, 1], [1, 1, 1, 1, 1, 0, 1, 1, 1, 1], [1, 1, 1, 1, 1, 0, 1, 1, 1, 1, 1], [1, 1, 1, 1, 1, 0, 1, 1, 1, 1, 1, 1], [1, 1, 1, 1, 1, 0, 1, 1, 1, 1, 1, 1, 1], [1, 1, 1, 1, 1, 0, 1, 1, 1, 1, 1, 1, 1, 1], [1, 1, 1, 1, 1, 0, 1, 1, 1, 1, 1, 1, 1, 1, 1], [1, 1, 1, 1, 1, 0, 1, 1, 1, 1, 1, 1, 1, 1, 1, 1], [1, 1, 1, 1, 1, 0, 1, 1, 1, 1, 1, 1, 1, 1, 1, 1, 1], [1, 1, 1, 1, 1, 0, 1, 1, 1, 1, 1, 1, 1, 1, 1, 1, 1, 1], [1, 1, 1, 1, 0], [1, 1, 1, 1, 0, 1], [1, 1, 1, 1, 0, 1, 1], [1, 1, 1, 1, 0, 1, 1, 1], [1, 1, 1, 1, 0, 1, 1, 1, 1], [1, 1, 1, 1, 0, 1, 1, 1, 1, 1], [1, 1, 1, 1, 0, 1, 1, 1, 1, 1, 1], [1, 1, 1, 1, 0, 1, 1, 1, 1, 1, 1, 1], [1, 1, 1, 1, 0, 1, 1, 1, 1, 1, 1, 1, 1], [1, 1, 1, 1, 0, 1, 1, 1, 1, 1, 1, 1, 1, 1], [1, 1, 1, 1, 0, 1, 1, 1, 1, 1, 1, 1, 1, 1, 1], [1, 1, 1, 1, 0, 1, 1, 1, 1, 1, 1, 1, 1, 1, 1, 1], [1, 1, 1, 1, 0, 1, 1, 1, 1, 1, 1, 1, 1, 1, 1, 1, 1], [1, 1, 1, 0], [1, 1, 1, 0, 1], [1, 1, 1, 0, 1, 1], [1, 1, 1, 0, 1, 1, 1], [1, 1, 1, 0, 1, 1, 1, 1], [1, 1, 1, 0, 1, 1, 1, 1, 1], [1, 1, 1, 0, 1, 1, 1, 1, 1, 1], [1, 1, 1, 0, 1, 1, 1, 1, 1, 1, 1], [1, 1, 1, 0, 1, 1, 1, 1, 1, 1, 1, 1], [1, 1, 1, 0, 1, 1, 1, 1, 1, 1, 1, 1, 1], [1, 1, 1, 0, 1, 1, 1, 1, 1, 1, 1, 1, 1, 1], [1, 1, 1, 0, 1, 1, 1, 1, 1, 1, 1, 1, 1, 1, 1], [1, 1, 1, 0, 1, 1, 1, 1, 1, 1, 1, 1, 1, 1, 1, 1], [1, 1, 0], [1, 1, 0, 1], [1, 1, 0, 1, 1], [1, 1, 0, 1, 1, 1], [1, 1, 0, 1, 1, 1, 1], [1, 1, 0, 1, 1, 1, 1, 1], [1, 1, 0, 1, 1, 1, 1, 1, 1], [1, 1, 0, 1, 1, 1, 1, 1, 1, 1], [1, 1, 0, 1, 1, 1, 1, 1, 1, 1, 1], [1, 1, 0, 1, 1, 1, 1, 1, 1, 1, 1, 1], [1, 1, 0, 1, 1, 1, 1, 1, 1, 1, 1, 1, 1], [1, 1, 0, 1, 1, 1, 1, 1, 1, 1, 1, 1, 1, 1], [1, 1, 0, 1, 1, 1, 1, 1, 1, 1, 1, 1, 1, 1, 1], [1, 0], [1, 0, 1], [1, 0, 1, 1], [1, 0, 1, 1, 1], [1, 0, 1, 1, 1, 1], [1, 0, 1, 1, 1, 1, 1], [1, 0, 1, 1, 1, 1, 1, 1], [1, 0, 1, 1, 1, 1, 1, 1, 1], [1, 0, 1, 1, 1, 1, 1, 1, 1, 1], [1, 0, 1, 1, 1, 1, 1, 1, 1, 1, 1], [1, 0, 1, 1, 1, 1, 1, 1, 1, 1, 1, 1], [1, 0, 1, 1, 1, 1, 1, 1, 1, 1, 1, 1, 1], [1, 0, 1, 1, 1, 1, 1, 1, 1, 1, 1, 1, 1, 1], [0], [0, 1], [0, 1, 1], [0, 1, 1, 1], [0, 1, 1, 1, 1], [0, 1, 1, 1, 1, 1], [0, 1, 1, 1, 1, 1, 1], [0, 1, 1, 1, 1, 1, 1, 1], [0, 1, 1, 1, 1, 1, 1, 1, 1], [0, 1, 1, 1, 1, 1, 1, 1, 1, 1], [0, 1, 1, 1, 1, 1, 1, 1, 1, 1, 1], [0, 1, 1, 1, 1, 1, 1, 1, 1, 1, 1, 1], [0, 1, 1, 1, 1, 1, 1, 1, 1, 1, 1, 1, 1], [1, 1, 1, 1, 1, 1, 1, 1, 1, 1, 1, 1, 0], [1, 1, 1, 1, 1, 1, 1, 1, 1, 1, 1, 1, 0, 1], [1, 1, 1, 1, 1, 1, 1, 1, 1, 1, 1, 0], [1, 1, 1, 1, 1, 1, 1, 1, 1, 1, 1, 0, 1], [1, 1, 1, 1, 1, 1, 1, 1, 1, 1, 0], [1, 1, 1, 1, 1, 1, 1, 1, 1, 1, 0, 1], [1, 1, 1, 1, 1, 1, 1, 1, 1, 0], [1, 1, 1, 1, 1, 1, 1, 1, 1, 0, 1], [1, 1, 1, 1, 1, 1, 1, 1, 0], [1, 1, 1, 1, 1, 1, 1, 1, 0, 1], [1, 1, 1, 1, 1, 1, 1, 0], [1, 1, 1, 1, 1, 1, 1, 0, 1], [1, 1, 1, 1, 1, 1, 0], [1, 1, 1, 1, 1, 1, 0, 1], [1, 1, 1, 1, 1, 0], [1, 1, 1, 1, 1, 0, 1], [1, 1, 1, 1, 0], [1, 1, 1, 1, 0, 1], [1, 1, 1, 0], [1, 1, 1, 0, 1], [1, 1, 0], [1, 1, 0, 1], [1, 0], [1, 0, 1], [0], [0, 1], [1, 0], [1, 0, 1], [1, 0, 1, 1], [1, 0, 1, 1, 1], [1, 0, 1, 1, 1, 1], [1, 0, 1, 1, 1, 1, 1], [1, 0, 1, 1, 1, 1, 1, 1], [0], [0, 1], [0, 1, 1], [0, 1, 1, 1], [0, 1, 1, 1, 1], [0, 1, 1, 1, 1, 1], [0, 1, 1, 1, 1, 1, 1], [1, 1, 1, 1, 1, 1, 0], [1, 1, 1, 1, 1, 1, 0, 1], [1, 1, 1, 1, 1, 1, 0, 1, 1], [1, 1, 1, 1, 1, 1, 0, 1, 1, 1], [1, 1, 1, 1, 1, 1, 0, 1, 1, 1, 1], [1, 1, 1, 1, 1, 0], [1, 1, 1, 1, 1, 0, 1], [1, 1, 1, 1, 1, 0, 1, 1], [1, 1, 1, 1, 1, 0, 1, 1, 1], [1, 1, 1, 1, 1, 0, 1, 1, 1, 1], [1, 1, 1, 1, 0], [1, 1, 1, 1, 0, 1], [1, 1, 1, 1, 0, 1, 1], [1, 1, 1, 1, 0, 1, 1, 1], [1, 1, 1, 1, 0, 1, 1, 1, 1], [1, 1, 1, 0], [1, 1, 1, 0, 1], [1, 1, 1, 0, 1, 1], [1, 1, 1, 0, 1, 1, 1], [1, 1, 1, 0, 1, 1, 1, 1], [1, 1, 0], [1, 1, 0, 1], [1, 1, 0, 1, 1], [1, 1, 0, 1, 1, 1], [1, 1, 0, 1, 1, 1, 1], [1, 0], [1, 0, 1], [1, 0, 1, 1], [1, 0, 1, 1, 1], [1, 0, 1, 1, 1, 1], [0], [0, 1], [0, 1, 1], [0, 1, 1, 1], [0, 1, 1, 1, 1], [1, 1, 1, 1, 0], [1, 1, 1, 1, 0, 1], [1, 1, 1, 1, 0, 1, 1], [1, 1, 1, 1, 0, 1, 1, 1], [1, 1, 1, 1, 0, 1, 1, 1, 1], [1, 1, 1, 1, 0, 1, 1, 1, 1, 1], [1, 1, 1, 0], [1, 1, 1, 0, 1], [1, 1, 1, 0, 1, 1], [1, 1, 1, 0, 1, 1, 1], [1, 1, 1, 0, 1, 1, 1, 1], [1, 1, 1, 0, 1, 1, 1, 1, 1], [1, 1, 0], [1, 1, 0, 1], [1, 1, 0, 1, 1], [1, 1, 0, 1, 1, 1], [1, 1, 0, 1, 1, 1, 1], [1, 1, 0, 1, 1, 1, 1, 1], [1, 0], [1, 0, 1], [1, 0, 1, 1], [1, 0, 1, 1, 1], [1, 0, 1, 1, 1, 1], [1, 0, 1, 1, 1, 1, 1], [0], [0, 1], [0, 1, 1], [0, 1, 1, 1], [0, 1, 1, 1, 1], [0, 1, 1, 1, 1, 1]]\n",
      "13\n",
      "[1, 1, 1, 1, 1, 1, 1, 1, 1, 1, 1, 1, 0, 1]\n"
     ]
    }
   ],
   "source": [
    "nums = [1,1,1,1,1,1,0,1,1,1,1,1,1,1,1,1,1,1,1,0,1,0,1,1,1,1,1,1,0,1,1,1,1,0,1,1,1,1,1]   # try also with [0,1,1,1,0,1,1,0,1]\n",
    "\n",
    "result = []\n",
    "\n",
    "if 0 not in nums:\n",
    "    # case: no zeros, collect pairs of 1s\n",
    "    for i in range(len(nums)-1):\n",
    "        if nums[i] == 1 and nums[i+1] == 1:\n",
    "            result.append([1,1])\n",
    "else:\n",
    "    # case: find subarrays with exactly one zero\n",
    "    n = len(nums)\n",
    "    for i in range(n):\n",
    "        for j in range(i+1, n+1):\n",
    "            sub = nums[i:j]\n",
    "            if sub.count(0) == 1:\n",
    "                result.append(sub)\n",
    "\n",
    "\n",
    "print(result)\n",
    "res = [1 for sub in max(result) if sub == 1]\n",
    "print(len(res))\n",
    "print(max(result))\n"
   ]
  },
  {
   "cell_type": "code",
   "execution_count": null,
   "id": "893aedcb",
   "metadata": {},
   "outputs": [],
   "source": [
    "from typing import List\n",
    "\n",
    "class Solution:\n",
    "    def longestSubarray(self, nums: List[int]) -> int:\n",
    "        left = 0\n",
    "        zeros = 0\n",
    "        max_len = 0\n",
    "\n",
    "        for right in range(len(nums)):\n",
    "            if nums[right] == 0:\n",
    "                zeros += 1\n",
    "            while zeros > 1:\n",
    "                if nums[left] == 0:\n",
    "                    zeros -= 1\n",
    "                left += 1\n",
    "            max_len = max(max_len, right - left)\n",
    "\n",
    "        return max_len\n"
   ]
  },
  {
   "cell_type": "code",
   "execution_count": null,
   "id": "9b858a97",
   "metadata": {},
   "outputs": [
    {
     "name": "stdout",
     "output_type": "stream",
     "text": [
      "{'a': 8, 'b': 5, 'c': 7, 'd': 14, 'e': 15, 'f': 11, 'g': 13, 'h': 19, 'i': 22, 'j': 23, 'k': 20, 'l': 21}\n"
     ]
    },
    {
     "data": {
      "text/plain": [
       "[9, 7, 8]"
      ]
     },
     "execution_count": 19,
     "metadata": {},
     "output_type": "execute_result"
    }
   ],
   "source": [
    "from typing import List\n",
    "\n",
    "class Solution:\n",
    "    def partitionLabels(self, s: str) -> List[int]:\n",
    "       \n",
    "        last = {ch: i for i, ch in enumerate(s)}\n",
    "        print(last)\n",
    "        \n",
    "        res = []\n",
    "        start = end = 0\n",
    "\n",
    "\n",
    "        for i, ch in enumerate(s):\n",
    "            end = max(end, last[ch])   \n",
    "            if i == end:             \n",
    "                res.append(end - start + 1)\n",
    "                start = i + 1         \n",
    "        return res\n",
    "\n",
    "\n",
    "s = Solution()\n",
    "s.partitionLabels(\"ababcbacadefegdehijhklij\")\n",
    "s.partitionLabels(\"eccbbbbdec\")"
   ]
  },
  {
   "cell_type": "markdown",
   "id": "5afb277c",
   "metadata": {},
   "source": [
    "| i | ch | last\\[ch] | end = max(end, last\\[ch]) | Condition (i == end?) | Action        | res   |\n",
    "| - | -- | --------- | ------------------------- | --------------------- | ------------- | ----- |\n",
    "| 0 | e  | 9         | end = 9                   | 0 == 9? ❌             | nothing       | \\[]   |\n",
    "| 1 | c  | 8         | end = 9                   | 1 == 9? ❌             | nothing       | \\[]   |\n",
    "| 2 | c  | 8         | end = 9                   | 2 == 9? ❌             | nothing       | \\[]   |\n",
    "| 3 | b  | 6         | end = 9                   | 3 == 9? ❌             | nothing       | \\[]   |\n",
    "| 4 | b  | 6         | end = 9                   | 4 == 9? ❌             | nothing       | \\[]   |\n",
    "| 5 | b  | 6         | end = 9                   | 5 == 9? ❌             | nothing       | \\[]   |\n",
    "| 6 | b  | 6         | end = 9                   | 6 == 9? ❌             | nothing       | \\[]   |\n",
    "| 7 | d  | 7         | end = 9                   | 7 == 9? ❌             | nothing       | \\[]   |\n",
    "| 8 | e  | 9         | end = 9                   | 8 == 9? ❌             | nothing       | \\[]   |\n",
    "| 9 | c  | 8         | end = 9                   | 9 == 9? ✅             | cut partition | \\[10] |\n"
   ]
  },
  {
   "cell_type": "code",
   "execution_count": null,
   "id": "2fb71cbe",
   "metadata": {},
   "outputs": [
    {
     "name": "stdout",
     "output_type": "stream",
     "text": [
      "amanaplanacanalpanama\n",
      "True\n"
     ]
    }
   ],
   "source": [
    "import re\n",
    "s = \"A man, a plan, a canal: Panama\"\n",
    "s = s.lower()\n",
    "# s = re.sub(r'[^a-z0-9]', '', s)\n",
    "newS = \"\"\n",
    "for c in s:\n",
    "    if c.isalnum():\n",
    "        newS += c\n",
    "print(newS)\n",
    "print(newS == newS[::-1])"
   ]
  },
  {
   "cell_type": "code",
   "execution_count": null,
   "id": "eb4422aa",
   "metadata": {},
   "outputs": [
    {
     "data": {
      "text/plain": [
       "'abca'"
      ]
     },
     "execution_count": 2,
     "metadata": {},
     "output_type": "execute_result"
    }
   ],
   "source": [
    "class Solution:\n",
    "    def addOperators(self, num: str, target: int):\n",
    "        res = []\n",
    "\n",
    "        def backtrack(index, expr, value, prev):\n",
    "            # If we've reached the end of string\n",
    "            if index == len(num):\n",
    "                if value == target:\n",
    "                    res.append(expr)\n",
    "                return\n",
    "\n",
    "            for i in range(index, len(num)):\n",
    "                # Prevent numbers with leading zeros\n",
    "                if i != index and num[index] == '0':\n",
    "                    break\n",
    "\n",
    "                curr_str = num[index:i+1]\n",
    "                curr_num = int(curr_str)\n",
    "\n",
    "                if index == 0:\n",
    "                    # First number, can't add operator before it\n",
    "                    backtrack(i + 1, curr_str, curr_num, curr_num)\n",
    "                else:\n",
    "                    # Addition\n",
    "                    backtrack(i + 1, expr + \"+\" + curr_str, value + curr_num, curr_num)\n",
    "                    # Subtraction\n",
    "                    backtrack(i + 1, expr + \"-\" + curr_str, value - curr_num, -curr_num)\n",
    "                    # Multiplication\n",
    "                    backtrack(i + 1, expr + \"*\" + curr_str,\n",
    "                              value - prev + prev * curr_num, prev * curr_num)\n",
    "\n",
    "        backtrack(0, \"\", 0, 0)\n",
    "        return res\n",
    "\n",
    "ss = Solution()\n",
    "ss.validPalindrome(s)"
   ]
  },
  {
   "cell_type": "code",
   "execution_count": null,
   "id": "d6ebd093",
   "metadata": {},
   "outputs": [],
   "source": [
    "class Solution:\n",
    "    def gcdOfOddEvenSums(self, n: int) -> int:\n",
    "        sumOdd = 0\n",
    "        sumEven = 0\n",
    "        i = 1\n",
    "        size = n * 2\n",
    "        while True:\n",
    "            if size == 0:\n",
    "                break\n",
    "            \n",
    "            if i % 2 == 0:\n",
    "                sumEven += i\n",
    "                size -= 1\n",
    "            else:\n",
    "                sumOdd += i\n",
    "                size -= 1\n",
    "            i += 1\n",
    "\n",
    "        print(sumOdd , sumEven)    \n",
    "            \n",
    "        def gcd(a, b):\n",
    "            while b:\n",
    "                a, b = b, a % b\n",
    "            return a\n",
    "        return gcd(sumOdd, sumEven)"
   ]
  },
  {
   "cell_type": "code",
   "execution_count": null,
   "id": "3381f259",
   "metadata": {},
   "outputs": [],
   "source": [
    "from math import gcd\n",
    "\n",
    "\n",
    "print(gcd(2,4))"
   ]
  },
  {
   "cell_type": "code",
   "execution_count": null,
   "id": "e428076f",
   "metadata": {},
   "outputs": [
    {
     "data": {
      "text/plain": [
       "False"
      ]
     },
     "execution_count": 8,
     "metadata": {},
     "output_type": "execute_result"
    }
   ],
   "source": [
    "from collections import Counter\n",
    "from typing import List\n",
    "\n",
    "class Solution:\n",
    "    def partitionArray(self, nums: List[int], k: int) -> bool:\n",
    "        n = len(nums)\n",
    "        if n % k != 0:\n",
    "            return False\n",
    "        \n",
    "        groups = n // k\n",
    "        freq = Counter(nums)\n",
    "\n",
    "        for count in freq.values():\n",
    "            if count > groups:\n",
    "                return False\n",
    "        \n",
    "        return True\n",
    "\n",
    "s = Solution()\n",
    "s.partitionArray([3,3,3,3,4,4,4,4] , 4)"
   ]
  },
  {
   "cell_type": "code",
   "execution_count": null,
   "id": "65d78b6b",
   "metadata": {},
   "outputs": [
    {
     "name": "stdout",
     "output_type": "stream",
     "text": [
      "[1, 2, 4, 7, 5, 3, 6, 8, 9]\n"
     ]
    }
   ],
   "source": [
    "mat = [[1,2,3],[4,5,6],[7,8,9]]\n",
    "# Output: [1,2,4,7,5,3,6,8,9]\n",
    "from typing import List\n",
    "class Solution:\n",
    "    def findDiagonalOrder(self, mat: List[List[int]]) -> List[int]:\n",
    "        result = []\n",
    "        if not mat or not mat[0]:\n",
    "            return result\n",
    "\n",
    "        rows, cols = len(mat), len(mat[0])\n",
    "        for d in range(rows + cols - 1):\n",
    "            if d % 2 == 0: \n",
    "                for i in range(min(d, rows - 1), -1, -1):\n",
    "                    j = d - i\n",
    "                    if j < cols:\n",
    "                        result.append(mat[i][j])\n",
    "            else:  \n",
    "                for j in range(min(d, cols - 1), -1, -1):\n",
    "                    i = d - j\n",
    "                    if i < rows:\n",
    "                        result.append(mat[i][j])\n",
    "        return result\n",
    "\n",
    "s = Solution()\n",
    "print(s.findDiagonalOrder(mat))"
   ]
  },
  {
   "cell_type": "code",
   "execution_count": null,
   "id": "1eb4ddb9",
   "metadata": {},
   "outputs": [
    {
     "name": "stdout",
     "output_type": "stream",
     "text": [
      "['abc', 'def']\n",
      "abc def\n",
      "['ad', 'ae', 'af', 'bd', 'be', 'bf', 'cd', 'ce', 'cf']\n"
     ]
    }
   ],
   "source": [
    "from itertools import product\n",
    "\n",
    "\n",
    "class Solution:\n",
    "    def letterCombinations(self, digits: str) -> List[str]:\n",
    "        res = []\n",
    "        if not digits:\n",
    "            return [] \n",
    "        mapping = {\n",
    "            2 : \"abc\",\n",
    "            3 : \"def\",\n",
    "            4 : \"ghi\",\n",
    "            5 : \"jkl\",\n",
    "            6 : \"mno\",\n",
    "            7 : \"pqrs\",\n",
    "            8 : \"tuv\",\n",
    "            9 : \"wxyz\"\n",
    "        }\n",
    "\n",
    " \n",
    "        strings = [mapping[int(d)] for d in digits]\n",
    "        print(strings)  \n",
    "        combinations = [''.join(p) for p in product(*strings)]\n",
    "        return (combinations)\n",
    "        \n",
    "s = Solution()\n",
    "print(s.letterCombinations(\"23\"))"
   ]
  },
  {
   "cell_type": "code",
   "execution_count": 6,
   "id": "3940b35d",
   "metadata": {},
   "outputs": [
    {
     "name": "stdout",
     "output_type": "stream",
     "text": [
      "48\n"
     ]
    }
   ],
   "source": [
    "from math import sqrt\n",
    "\n",
    "\n",
    "dimensions = [[9,3],[8,6]]\n",
    "res  = []\n",
    "for i in range(len(dimensions)):\n",
    "    diag = sqrt(dimensions[i][0]**2 + dimensions[i][1]**2)\n",
    "    res.append(diag)\n",
    "index = res.index(max(res))\n",
    "print(dimensions[index][0] * dimensions[index][1])    "
   ]
  },
  {
   "cell_type": "code",
   "execution_count": 10,
   "id": "b5fe550f",
   "metadata": {},
   "outputs": [
    {
     "name": "stdout",
     "output_type": "stream",
     "text": [
      "[39, 52]\n",
      "2028\n"
     ]
    }
   ],
   "source": [
    "dimensions = [[4,7],[8,9],[5,3],[6,10],[2,9],[3,10],[2,2],[5,8],[5,10],[5,6],[8,9],[10,7],[8,9],[3,7],[2,6],[5,1],[7,4],[1,10],[1,7],[6,9],[3,3],[4,6],[8,2],[10,6],[7,9],[9,2],[1,2],[3,8],[10,2],[4,1],[9,7],[10,3],[6,9],[9,8],[7,7],[5,7],[5,4],[6,5],[1,8],[2,3],[7,10],[3,9],[5,7],[2,4],[5,6],[9,5],[8,8],[8,10],[6,8],[5,1],[10,8],[7,4],[2,1],[2,7],[10,3],[2,5],[7,6],[10,5],[10,9],[5,7],[10,6],[4,3],[10,4],[1,5],[8,9],[3,1],[2,5],[9,10],[6,6],[5,10],[10,2],[6,10],[1,1],[8,6],[1,7],[6,3],[9,3],[1,4],[1,1],[10,4],[7,9],[4,5],[2,8],[7,9],[7,3],[4,9],[2,8],[4,6],[9,1],[8,4],[2,4],[7,8],[3,5],[7,6],[8,6],[4,7],[25,60],[39,52],[16,63],[33,56]]\n",
    "\n",
    "\n",
    "\n",
    "print(max(dimensions, key=lambda x: x[0] * x[1]))\n",
    "print(max(dimensions, key=lambda x: x[0] * x[1])[0] * max(dimensions, key=lambda x: x[0] * x[1])[1]) "
   ]
  },
  {
   "cell_type": "code",
   "execution_count": null,
   "id": "71c2799f",
   "metadata": {},
   "outputs": [],
   "source": [
    "from typing import List\n",
    "from math import sqrt\n",
    "\n",
    "class Solution:\n",
    "    def areaOfMaxDiagonal(self, dimensions: List[List[int]]) -> int:\n",
    "\n",
    "        best = max(dimensions, key=lambda x: (x[0]**2 + x[1]**2, x[0] * x[1]))\n",
    "        return best[0] * best[1]\n"
   ]
  },
  {
   "cell_type": "code",
   "execution_count": 2,
   "id": "5f858a94",
   "metadata": {},
   "outputs": [
    {
     "name": "stdout",
     "output_type": "stream",
     "text": [
      "1[.]1[.]1[.]1\n"
     ]
    }
   ],
   "source": [
    "class Solution:\n",
    "    def defangIPaddr(self, address: str) -> str:\n",
    "        return (address.replace(\".\", \"[.]\"))\n",
    "\n",
    "s = Solution()\n",
    "print(s.defangIPaddr(\"1.1.1.1\"))"
   ]
  }
 ],
 "metadata": {
  "kernelspec": {
   "display_name": "Python 3",
   "language": "python",
   "name": "python3"
  },
  "language_info": {
   "codemirror_mode": {
    "name": "ipython",
    "version": 3
   },
   "file_extension": ".py",
   "mimetype": "text/x-python",
   "name": "python",
   "nbconvert_exporter": "python",
   "pygments_lexer": "ipython3",
   "version": "3.11.5"
  }
 },
 "nbformat": 4,
 "nbformat_minor": 5
}
