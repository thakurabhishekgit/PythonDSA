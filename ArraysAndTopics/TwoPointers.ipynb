{
 "cells": [
  {
   "cell_type": "code",
   "execution_count": null,
   "id": "4064b2c0",
   "metadata": {},
   "outputs": [
    {
     "name": "stdout",
     "output_type": "stream",
     "text": [
      "2 8 index :  1 5\n",
      "4 6 index :  3 4\n"
     ]
    }
   ],
   "source": [
    "arr = [1, 2, 3, 4, 6, 8, 10]\n",
    "target = 10\n",
    "left , right = 0 , len(arr) - 1\n",
    "while left < right:\n",
    "    if arr[left] + arr[right] == target:\n",
    "        print(arr[left] , arr[right] , \"index : \" , left , right)\n",
    "        left += 1\n",
    "        right -= 1\n",
    "    elif arr[left] + arr[right] < target:\n",
    "        left += 1\n",
    "    else:\n",
    "        right -= 1"
   ]
  },
  {
   "cell_type": "code",
   "execution_count": null,
   "id": "6e2591cb",
   "metadata": {},
   "outputs": [
    {
     "name": "stdout",
     "output_type": "stream",
     "text": [
      "Reversed array: [5, 4, 3, 2, 1]\n"
     ]
    }
   ],
   "source": [
    "arr = [1, 2, 3, 4, 5]\n",
    "left, right = 0, len(arr) - 1\n",
    "while left < right:\n",
    "    arr[left], arr[right] = arr[right], arr[left]\n",
    "    left += 1\n",
    "    right -= 1\n",
    "print(\"Reversed array:\", arr)"
   ]
  },
  {
   "cell_type": "code",
   "execution_count": null,
   "id": "73d22c8e",
   "metadata": {},
   "outputs": [
    {
     "name": "stdout",
     "output_type": "stream",
     "text": [
      "Merged array: [1, 2, 3, 4, 5, 6, 7, 8]\n"
     ]
    }
   ],
   "source": [
    "arr1 = [1, 3, 5, 7]\n",
    "arr2 = [2, 4, 6, 8]\n",
    "i, j = 0, 0\n",
    "merged_arr = []\n",
    "while i < len(arr1) and j < len(arr2):\n",
    "    if arr1[i] < arr2[j]:\n",
    "        merged_arr.append(arr1[i])\n",
    "        i += 1\n",
    "    else:\n",
    "        merged_arr.append(arr2[j])\n",
    "        j += 1\n",
    "merged_arr.extend(arr1[i:])\n",
    "merged_arr.extend(arr2[j:])\n",
    "print(\"Merged array:\", merged_arr)"
   ]
  },
  {
   "cell_type": "code",
   "execution_count": 4,
   "id": "8848f01c",
   "metadata": {},
   "outputs": [
    {
     "name": "stdout",
     "output_type": "stream",
     "text": [
      "False\n"
     ]
    }
   ],
   "source": [
    "n = 5\n",
    "i = 1\n",
    "while n:\n",
    "    if pow(4 , i) == n:\n",
    "        print(True)\n",
    "    if i > n:\n",
    "        break\n",
    "    i += 1\n",
    "print(False)        "
   ]
  },
  {
   "cell_type": "code",
   "execution_count": 1,
   "id": "357171c1",
   "metadata": {},
   "outputs": [
    {
     "name": "stdout",
     "output_type": "stream",
     "text": [
      "False\n",
      "0\n",
      "False\n"
     ]
    }
   ],
   "source": [
    "n = 16\n",
    "print(n & (n - 1) == 0 and n % 3 == 0)  \n",
    "print(n & (n - 1))\n",
    "print(n % 3 == 0)"
   ]
  }
 ],
 "metadata": {
  "kernelspec": {
   "display_name": "Python 3",
   "language": "python",
   "name": "python3"
  },
  "language_info": {
   "codemirror_mode": {
    "name": "ipython",
    "version": 3
   },
   "file_extension": ".py",
   "mimetype": "text/x-python",
   "name": "python",
   "nbconvert_exporter": "python",
   "pygments_lexer": "ipython3",
   "version": "3.11.5"
  }
 },
 "nbformat": 4,
 "nbformat_minor": 5
}
